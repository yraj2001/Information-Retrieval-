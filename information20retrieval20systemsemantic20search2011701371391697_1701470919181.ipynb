{
 "cells": [
  {
   "cell_type": "markdown",
   "metadata": {
    "_uuid": "e0217f96dfc7045acc8854238f5fb013230a4930"
   },
   "source": [
    "## Reading data\n",
    "At this step, we will open a dataset and select two text columns from it."
   ]
  },
  {
   "cell_type": "code",
   "execution_count": 1,
   "metadata": {
    "ExecuteTime": {
     "end_time": "2023-11-30T18:34:59.829953Z",
     "start_time": "2023-11-30T18:34:59.231675Z"
    },
    "_cell_guid": "b1076dfc-b9ad-4769-8c92-a6c4dae69d19",
    "_uuid": "8f2839f25d086af736a60e9eeb907d3b93b6e0e5",
    "tags": []
   },
   "outputs": [],
   "source": [
    "import pandas as pd"
   ]
  },
  {
   "cell_type": "code",
   "execution_count": 3,
   "metadata": {
    "ExecuteTime": {
     "end_time": "2023-11-30T18:35:59.065963Z",
     "start_time": "2023-11-30T18:35:58.902184Z"
    },
    "_cell_guid": "79c7e3d0-c299-4dcb-8224-4455121ee9b0",
    "_uuid": "d629ff2d2480ee46fbb7e2d37f6b5fab8052498a",
    "tags": []
   },
   "outputs": [],
   "source": [
    "data_path = \"ted_main.csv\"\n",
    "data = pd.read_csv(data_path)"
   ]
  },
  {
   "cell_type": "code",
   "execution_count": 4,
   "metadata": {
    "ExecuteTime": {
     "end_time": "2023-11-30T18:35:59.831927Z",
     "start_time": "2023-11-30T18:35:59.787491Z"
    },
    "_uuid": "7ddcd8f132c66bf8e06f768b0046f8b6fc4d5d3e",
    "tags": []
   },
   "outputs": [
    {
     "data": {
      "text/html": [
       "<div>\n",
       "<style scoped>\n",
       "    .dataframe tbody tr th:only-of-type {\n",
       "        vertical-align: middle;\n",
       "    }\n",
       "\n",
       "    .dataframe tbody tr th {\n",
       "        vertical-align: top;\n",
       "    }\n",
       "\n",
       "    .dataframe thead th {\n",
       "        text-align: right;\n",
       "    }\n",
       "</style>\n",
       "<table border=\"1\" class=\"dataframe\">\n",
       "  <thead>\n",
       "    <tr style=\"text-align: right;\">\n",
       "      <th></th>\n",
       "      <th>comments</th>\n",
       "      <th>description</th>\n",
       "      <th>duration</th>\n",
       "      <th>event</th>\n",
       "      <th>film_date</th>\n",
       "      <th>languages</th>\n",
       "      <th>main_speaker</th>\n",
       "      <th>name</th>\n",
       "      <th>num_speaker</th>\n",
       "      <th>published_date</th>\n",
       "      <th>ratings</th>\n",
       "      <th>related_talks</th>\n",
       "      <th>speaker_occupation</th>\n",
       "      <th>tags</th>\n",
       "      <th>title</th>\n",
       "      <th>url</th>\n",
       "      <th>views</th>\n",
       "    </tr>\n",
       "  </thead>\n",
       "  <tbody>\n",
       "    <tr>\n",
       "      <th>0</th>\n",
       "      <td>4553</td>\n",
       "      <td>Sir Ken Robinson makes an entertaining and pro...</td>\n",
       "      <td>1164</td>\n",
       "      <td>TED2006</td>\n",
       "      <td>1140825600</td>\n",
       "      <td>60</td>\n",
       "      <td>Ken Robinson</td>\n",
       "      <td>Ken Robinson: Do schools kill creativity?</td>\n",
       "      <td>1</td>\n",
       "      <td>1151367060</td>\n",
       "      <td>[{'id': 7, 'name': 'Funny', 'count': 19645}, {...</td>\n",
       "      <td>[{'id': 865, 'hero': 'https://pe.tedcdn.com/im...</td>\n",
       "      <td>Author/educator</td>\n",
       "      <td>['children', 'creativity', 'culture', 'dance',...</td>\n",
       "      <td>Do schools kill creativity?</td>\n",
       "      <td>https://www.ted.com/talks/ken_robinson_says_sc...</td>\n",
       "      <td>47227110</td>\n",
       "    </tr>\n",
       "    <tr>\n",
       "      <th>1</th>\n",
       "      <td>265</td>\n",
       "      <td>With the same humor and humanity he exuded in ...</td>\n",
       "      <td>977</td>\n",
       "      <td>TED2006</td>\n",
       "      <td>1140825600</td>\n",
       "      <td>43</td>\n",
       "      <td>Al Gore</td>\n",
       "      <td>Al Gore: Averting the climate crisis</td>\n",
       "      <td>1</td>\n",
       "      <td>1151367060</td>\n",
       "      <td>[{'id': 7, 'name': 'Funny', 'count': 544}, {'i...</td>\n",
       "      <td>[{'id': 243, 'hero': 'https://pe.tedcdn.com/im...</td>\n",
       "      <td>Climate advocate</td>\n",
       "      <td>['alternative energy', 'cars', 'climate change...</td>\n",
       "      <td>Averting the climate crisis</td>\n",
       "      <td>https://www.ted.com/talks/al_gore_on_averting_...</td>\n",
       "      <td>3200520</td>\n",
       "    </tr>\n",
       "    <tr>\n",
       "      <th>2</th>\n",
       "      <td>124</td>\n",
       "      <td>New York Times columnist David Pogue takes aim...</td>\n",
       "      <td>1286</td>\n",
       "      <td>TED2006</td>\n",
       "      <td>1140739200</td>\n",
       "      <td>26</td>\n",
       "      <td>David Pogue</td>\n",
       "      <td>David Pogue: Simplicity sells</td>\n",
       "      <td>1</td>\n",
       "      <td>1151367060</td>\n",
       "      <td>[{'id': 7, 'name': 'Funny', 'count': 964}, {'i...</td>\n",
       "      <td>[{'id': 1725, 'hero': 'https://pe.tedcdn.com/i...</td>\n",
       "      <td>Technology columnist</td>\n",
       "      <td>['computers', 'entertainment', 'interface desi...</td>\n",
       "      <td>Simplicity sells</td>\n",
       "      <td>https://www.ted.com/talks/david_pogue_says_sim...</td>\n",
       "      <td>1636292</td>\n",
       "    </tr>\n",
       "    <tr>\n",
       "      <th>3</th>\n",
       "      <td>200</td>\n",
       "      <td>In an emotionally charged talk, MacArthur-winn...</td>\n",
       "      <td>1116</td>\n",
       "      <td>TED2006</td>\n",
       "      <td>1140912000</td>\n",
       "      <td>35</td>\n",
       "      <td>Majora Carter</td>\n",
       "      <td>Majora Carter: Greening the ghetto</td>\n",
       "      <td>1</td>\n",
       "      <td>1151367060</td>\n",
       "      <td>[{'id': 3, 'name': 'Courageous', 'count': 760}...</td>\n",
       "      <td>[{'id': 1041, 'hero': 'https://pe.tedcdn.com/i...</td>\n",
       "      <td>Activist for environmental justice</td>\n",
       "      <td>['MacArthur grant', 'activism', 'business', 'c...</td>\n",
       "      <td>Greening the ghetto</td>\n",
       "      <td>https://www.ted.com/talks/majora_carter_s_tale...</td>\n",
       "      <td>1697550</td>\n",
       "    </tr>\n",
       "    <tr>\n",
       "      <th>4</th>\n",
       "      <td>593</td>\n",
       "      <td>You've never seen data presented like this. Wi...</td>\n",
       "      <td>1190</td>\n",
       "      <td>TED2006</td>\n",
       "      <td>1140566400</td>\n",
       "      <td>48</td>\n",
       "      <td>Hans Rosling</td>\n",
       "      <td>Hans Rosling: The best stats you've ever seen</td>\n",
       "      <td>1</td>\n",
       "      <td>1151440680</td>\n",
       "      <td>[{'id': 9, 'name': 'Ingenious', 'count': 3202}...</td>\n",
       "      <td>[{'id': 2056, 'hero': 'https://pe.tedcdn.com/i...</td>\n",
       "      <td>Global health expert; data visionary</td>\n",
       "      <td>['Africa', 'Asia', 'Google', 'demo', 'economic...</td>\n",
       "      <td>The best stats you've ever seen</td>\n",
       "      <td>https://www.ted.com/talks/hans_rosling_shows_t...</td>\n",
       "      <td>12005869</td>\n",
       "    </tr>\n",
       "  </tbody>\n",
       "</table>\n",
       "</div>"
      ],
      "text/plain": [
       "   comments                                        description  duration  \\\n",
       "0      4553  Sir Ken Robinson makes an entertaining and pro...      1164   \n",
       "1       265  With the same humor and humanity he exuded in ...       977   \n",
       "2       124  New York Times columnist David Pogue takes aim...      1286   \n",
       "3       200  In an emotionally charged talk, MacArthur-winn...      1116   \n",
       "4       593  You've never seen data presented like this. Wi...      1190   \n",
       "\n",
       "     event   film_date  languages   main_speaker  \\\n",
       "0  TED2006  1140825600         60   Ken Robinson   \n",
       "1  TED2006  1140825600         43        Al Gore   \n",
       "2  TED2006  1140739200         26    David Pogue   \n",
       "3  TED2006  1140912000         35  Majora Carter   \n",
       "4  TED2006  1140566400         48   Hans Rosling   \n",
       "\n",
       "                                            name  num_speaker  published_date  \\\n",
       "0      Ken Robinson: Do schools kill creativity?            1      1151367060   \n",
       "1           Al Gore: Averting the climate crisis            1      1151367060   \n",
       "2                  David Pogue: Simplicity sells            1      1151367060   \n",
       "3             Majora Carter: Greening the ghetto            1      1151367060   \n",
       "4  Hans Rosling: The best stats you've ever seen            1      1151440680   \n",
       "\n",
       "                                             ratings  \\\n",
       "0  [{'id': 7, 'name': 'Funny', 'count': 19645}, {...   \n",
       "1  [{'id': 7, 'name': 'Funny', 'count': 544}, {'i...   \n",
       "2  [{'id': 7, 'name': 'Funny', 'count': 964}, {'i...   \n",
       "3  [{'id': 3, 'name': 'Courageous', 'count': 760}...   \n",
       "4  [{'id': 9, 'name': 'Ingenious', 'count': 3202}...   \n",
       "\n",
       "                                       related_talks  \\\n",
       "0  [{'id': 865, 'hero': 'https://pe.tedcdn.com/im...   \n",
       "1  [{'id': 243, 'hero': 'https://pe.tedcdn.com/im...   \n",
       "2  [{'id': 1725, 'hero': 'https://pe.tedcdn.com/i...   \n",
       "3  [{'id': 1041, 'hero': 'https://pe.tedcdn.com/i...   \n",
       "4  [{'id': 2056, 'hero': 'https://pe.tedcdn.com/i...   \n",
       "\n",
       "                     speaker_occupation  \\\n",
       "0                       Author/educator   \n",
       "1                      Climate advocate   \n",
       "2                  Technology columnist   \n",
       "3    Activist for environmental justice   \n",
       "4  Global health expert; data visionary   \n",
       "\n",
       "                                                tags  \\\n",
       "0  ['children', 'creativity', 'culture', 'dance',...   \n",
       "1  ['alternative energy', 'cars', 'climate change...   \n",
       "2  ['computers', 'entertainment', 'interface desi...   \n",
       "3  ['MacArthur grant', 'activism', 'business', 'c...   \n",
       "4  ['Africa', 'Asia', 'Google', 'demo', 'economic...   \n",
       "\n",
       "                             title  \\\n",
       "0      Do schools kill creativity?   \n",
       "1      Averting the climate crisis   \n",
       "2                 Simplicity sells   \n",
       "3              Greening the ghetto   \n",
       "4  The best stats you've ever seen   \n",
       "\n",
       "                                                 url     views  \n",
       "0  https://www.ted.com/talks/ken_robinson_says_sc...  47227110  \n",
       "1  https://www.ted.com/talks/al_gore_on_averting_...   3200520  \n",
       "2  https://www.ted.com/talks/david_pogue_says_sim...   1636292  \n",
       "3  https://www.ted.com/talks/majora_carter_s_tale...   1697550  \n",
       "4  https://www.ted.com/talks/hans_rosling_shows_t...  12005869  "
      ]
     },
     "execution_count": 4,
     "metadata": {},
     "output_type": "execute_result"
    }
   ],
   "source": [
    "data.head()"
   ]
  },
  {
   "cell_type": "code",
   "execution_count": 5,
   "metadata": {
    "ExecuteTime": {
     "end_time": "2023-11-30T18:36:03.325187Z",
     "start_time": "2023-11-30T18:36:03.301219Z"
    },
    "_uuid": "4b7ef0c14790af72ce1d2e432b64e5d5259ea1fa",
    "tags": []
   },
   "outputs": [],
   "source": [
    "data = data[['description', 'main_speaker', 'name']]"
   ]
  },
  {
   "cell_type": "code",
   "execution_count": 6,
   "metadata": {
    "ExecuteTime": {
     "end_time": "2023-11-30T18:36:03.997637Z",
     "start_time": "2023-11-30T18:36:03.980280Z"
    },
    "_uuid": "4d77a6a32fbd4dff0f823cbc2bd347fbe6f7356c",
    "tags": []
   },
   "outputs": [
    {
     "data": {
      "text/html": [
       "<div>\n",
       "<style scoped>\n",
       "    .dataframe tbody tr th:only-of-type {\n",
       "        vertical-align: middle;\n",
       "    }\n",
       "\n",
       "    .dataframe tbody tr th {\n",
       "        vertical-align: top;\n",
       "    }\n",
       "\n",
       "    .dataframe thead th {\n",
       "        text-align: right;\n",
       "    }\n",
       "</style>\n",
       "<table border=\"1\" class=\"dataframe\">\n",
       "  <thead>\n",
       "    <tr style=\"text-align: right;\">\n",
       "      <th></th>\n",
       "      <th>description</th>\n",
       "      <th>main_speaker</th>\n",
       "      <th>name</th>\n",
       "    </tr>\n",
       "  </thead>\n",
       "  <tbody>\n",
       "    <tr>\n",
       "      <th>0</th>\n",
       "      <td>Sir Ken Robinson makes an entertaining and pro...</td>\n",
       "      <td>Ken Robinson</td>\n",
       "      <td>Ken Robinson: Do schools kill creativity?</td>\n",
       "    </tr>\n",
       "    <tr>\n",
       "      <th>1</th>\n",
       "      <td>With the same humor and humanity he exuded in ...</td>\n",
       "      <td>Al Gore</td>\n",
       "      <td>Al Gore: Averting the climate crisis</td>\n",
       "    </tr>\n",
       "    <tr>\n",
       "      <th>2</th>\n",
       "      <td>New York Times columnist David Pogue takes aim...</td>\n",
       "      <td>David Pogue</td>\n",
       "      <td>David Pogue: Simplicity sells</td>\n",
       "    </tr>\n",
       "    <tr>\n",
       "      <th>3</th>\n",
       "      <td>In an emotionally charged talk, MacArthur-winn...</td>\n",
       "      <td>Majora Carter</td>\n",
       "      <td>Majora Carter: Greening the ghetto</td>\n",
       "    </tr>\n",
       "    <tr>\n",
       "      <th>4</th>\n",
       "      <td>You've never seen data presented like this. Wi...</td>\n",
       "      <td>Hans Rosling</td>\n",
       "      <td>Hans Rosling: The best stats you've ever seen</td>\n",
       "    </tr>\n",
       "  </tbody>\n",
       "</table>\n",
       "</div>"
      ],
      "text/plain": [
       "                                         description   main_speaker  \\\n",
       "0  Sir Ken Robinson makes an entertaining and pro...   Ken Robinson   \n",
       "1  With the same humor and humanity he exuded in ...        Al Gore   \n",
       "2  New York Times columnist David Pogue takes aim...    David Pogue   \n",
       "3  In an emotionally charged talk, MacArthur-winn...  Majora Carter   \n",
       "4  You've never seen data presented like this. Wi...   Hans Rosling   \n",
       "\n",
       "                                            name  \n",
       "0      Ken Robinson: Do schools kill creativity?  \n",
       "1           Al Gore: Averting the climate crisis  \n",
       "2                  David Pogue: Simplicity sells  \n",
       "3             Majora Carter: Greening the ghetto  \n",
       "4  Hans Rosling: The best stats you've ever seen  "
      ]
     },
     "execution_count": 6,
     "metadata": {},
     "output_type": "execute_result"
    }
   ],
   "source": [
    "data.head()"
   ]
  },
  {
   "cell_type": "markdown",
   "metadata": {
    "_uuid": "a8f5a56f917d68050af3c2763311c79fa6484bb7"
   },
   "source": [
    "## Preparing data for processing"
   ]
  },
  {
   "cell_type": "markdown",
   "metadata": {
    "_uuid": "6d80ff40d54d15fb01772418b8c91b7c02b07648"
   },
   "source": [
    "To make a tokenization, we can simply use tokenizers from nltk."
   ]
  },
  {
   "cell_type": "code",
   "execution_count": 7,
   "metadata": {
    "ExecuteTime": {
     "end_time": "2023-11-30T18:37:50.704359Z",
     "start_time": "2023-11-30T18:37:49.467936Z"
    },
    "_uuid": "61e3878eac648c36c572a2cc7a149584df870043",
    "tags": []
   },
   "outputs": [],
   "source": [
    "from nltk import WordPunctTokenizer"
   ]
  },
  {
   "cell_type": "code",
   "execution_count": 8,
   "metadata": {
    "ExecuteTime": {
     "end_time": "2023-11-30T18:37:52.319226Z",
     "start_time": "2023-11-30T18:37:52.311248Z"
    },
    "_uuid": "88b1ce48b522e869fa24f633cf919e9f24e704d8",
    "tags": []
   },
   "outputs": [],
   "source": [
    "tokenizer = WordPunctTokenizer()"
   ]
  },
  {
   "cell_type": "code",
   "execution_count": 9,
   "metadata": {
    "ExecuteTime": {
     "end_time": "2023-11-30T18:37:53.197292Z",
     "start_time": "2023-11-30T18:37:53.115493Z"
    },
    "_uuid": "a047e20fa53eee2933c1440b8bb46cce0902a2b2",
    "tags": []
   },
   "outputs": [],
   "source": [
    "descriptions = [tokenizer.tokenize(description.lower()) for description in data[\"description\"]]"
   ]
  },
  {
   "cell_type": "code",
   "execution_count": 10,
   "metadata": {
    "ExecuteTime": {
     "end_time": "2023-11-30T18:37:53.903325Z",
     "start_time": "2023-11-30T18:37:53.891986Z"
    },
    "_uuid": "d13700708f8f197fd573ede38a14795a0fd2207f",
    "tags": []
   },
   "outputs": [
    {
     "name": "stdout",
     "output_type": "stream",
     "text": [
      "['sir', 'ken', 'robinson', 'makes', 'an', 'entertaining', 'and', 'profoundly', 'moving', 'case', 'for', 'creating', 'an', 'education', 'system', 'that', 'nurtures', '(', 'rather', 'than', 'undermines', ')', 'creativity', '.']\n"
     ]
    }
   ],
   "source": [
    "print(descriptions[0])"
   ]
  },
  {
   "cell_type": "markdown",
   "metadata": {
    "_uuid": "8ac1bbfbe3082545386a801c84f1680c5a2508f8"
   },
   "source": [
    "## Converting texts to a Bag-of-Words format"
   ]
  },
  {
   "cell_type": "code",
   "execution_count": 11,
   "metadata": {
    "ExecuteTime": {
     "end_time": "2023-11-30T18:38:00.557024Z",
     "start_time": "2023-11-30T18:38:00.238026Z"
    },
    "_uuid": "c61657fd46770f6bcdfdea92867f858ac3b336fd",
    "tags": []
   },
   "outputs": [],
   "source": [
    "from gensim import corpora"
   ]
  },
  {
   "cell_type": "code",
   "execution_count": 12,
   "metadata": {
    "ExecuteTime": {
     "end_time": "2023-11-30T18:38:04.526194Z",
     "start_time": "2023-11-30T18:38:04.291538Z"
    },
    "_uuid": "c2eaa5cb91b83242f6e75d211ebceb59e0cf2150",
    "tags": []
   },
   "outputs": [],
   "source": [
    "corpora_dict = corpora.Dictionary(descriptions)"
   ]
  },
  {
   "cell_type": "code",
   "execution_count": null,
   "metadata": {
    "ExecuteTime": {
     "end_time": "2023-11-30T18:38:05.402099Z",
     "start_time": "2023-11-30T18:38:05.354106Z"
    },
    "_uuid": "26260ee5674123579d22a9a976c9d23b1f8a7ad2",
    "tags": []
   },
   "outputs": [],
   "source": [
    "print(corpora_dict.token2id)"
   ]
  },
  {
   "cell_type": "code",
   "execution_count": 18,
   "metadata": {
    "ExecuteTime": {
     "end_time": "2023-11-30T18:38:09.914212Z",
     "start_time": "2023-11-30T18:38:09.894234Z"
    },
    "_uuid": "c9a5a59f88d78449c3a3509c90aede50950a3b38",
    "tags": []
   },
   "outputs": [],
   "source": [
    "for token, token_id in corpora_dict.token2id.items():\n",
    "    corpora_dict.id2token[token_id] = token"
   ]
  },
  {
   "cell_type": "code",
   "execution_count": 19,
   "metadata": {
    "ExecuteTime": {
     "end_time": "2023-11-30T18:38:10.619537Z",
     "start_time": "2023-11-30T18:38:10.601585Z"
    },
    "_uuid": "b3f289cc7f250cf11d0f1cfde47c989848c80238",
    "tags": []
   },
   "outputs": [
    {
     "name": "stdout",
     "output_type": "stream",
     "text": [
      "{0: '(', 1: ')', 2: '.', 3: 'an', 4: 'and', 5: 'case', 6: 'creating', 7: 'creativity', 8: 'education', 9: 'entertaining', 10: 'for', 11: 'ken', 12: 'makes', 13: 'moving', 14: 'nurtures', 15: 'profoundly', 16: 'rather', 17: 'robinson', 18: 'sir', 19: 'system', 20: 'than', 21: 'that', 22: 'undermines', 23: '\"', 24: ',', 25: ',\"', 26: '15', 27: 'a', 28: 'address', 29: 'al', 30: 'brand', 31: 'buying', 32: 'can', 33: 'change', 34: 'climate', 35: 'exuded', 36: 'from', 37: 'global', 38: 'gore', 39: 'he', 40: 'hotter', 41: 'humanity', 42: 'humor', 43: 'hybrid', 44: 'immediately', 45: 'in', 46: 'inconvenient', 47: 'individuals', 48: 'inventing', 49: 'name', 50: 'new', 51: 'out', 52: 'same', 53: 'spells', 54: 'the', 55: 'to', 56: 'truth', 57: 'warming', 58: 'ways', 59: 'with', 60: '-', 61: 'aim', 62: 'at', 63: 'bursts', 64: 'columnist', 65: 'david', 66: 'design', 67: 'encouraging', 68: 'examples', 69: 'funny', 70: 'get', 71: 'interface', 72: 'into', 73: 'it', 74: 'of', 75: 'offenders', 76: 'pogue', 77: 'products', 78: 'provides', 79: 'right', 80: 's', 81: 'song', 82: 'takes', 83: 'technology', 84: 'things', 85: 'times', 86: 'up', 87: 'worst', 88: 'york', 89: '’', 90: '--', 91: 'activist', 92: 'bronx', 93: 'carter', 94: 'charged', 95: 'details', 96: 'emotionally', 97: 'environmental', 98: 'fight', 99: 'flawed', 100: 'her', 101: 'how', 102: 'justice', 103: 'macarthur', 104: 'majora', 105: 'minority', 106: 'most', 107: 'neighborhoods', 108: 'policy', 109: 'shows', 110: 'south', 111: 'suffer', 112: 'talk', 113: 'urban', 114: 'winning', 115: \"'\", 116: '.\"', 117: 'about', 118: 'called', 119: 'data', 120: 'debunks', 121: 'developing', 122: 'drama', 123: 'guru', 124: 'hans', 125: 'like', 126: 'myths', 127: 'never', 128: 'presented', 129: 'rosling', 130: 'seen', 131: 'so', 132: 'sportscaster', 133: 'statistics', 134: 'this', 135: 'urgency', 136: 've', 137: 'world', 138: 'you', 139: 'actions', 140: 'discusses', 141: 'everyone', 142: 'fives', 143: 'forces', 144: 'front', 145: 'high', 146: 'invisible', 147: 'motivate', 148: 'robbins', 149: 'row', 150: 'tony', 151: 'beliefs', 152: 'completely', 153: 'day', 154: 'door', 155: 'excerpt', 156: 'go', 157: 'god', 158: 'julia', 159: 'knock', 160: 'letting', 161: 'missionaries', 162: 'mormon', 163: 'off', 164: 'on', 165: 'one', 166: 'own', 167: 'quest', 168: 'rethink', 169: 'show', 170: 'solo', 171: 'sweeney', 172: 'touches', 173: 'two', 174: 'when', 175: 'young', 176: ':', 177: 'architect', 178: 'audience', 179: 'central', 180: 'charles', 181: 'dallas', 182: 'dazzling', 183: 'dizzying', 184: 'joshua', 185: 'library', 186: 'louisville', 187: 'museum', 188: 'plaza', 189: 'prince', 190: 'projects', 191: 'ramus', 192: 'recent', 193: 'seattle', 194: 'theater', 195: 'three', 196: 'tours', 197: 'virtual', 198: 'wyly', 199: 'all', 200: 'as', 201: 'be', 202: 'calls', 203: 'claim', 204: 'dan', 205: 'dennett', 206: 'deny', 207: 'disputing', 208: 'driven', 209: 'evolution', 210: 'its', 211: 'life', 212: 'moral', 213: 'must', 214: 'natural', 215: 'nature', 216: 'phenomenon', 217: 'philosopher', 218: 'purpose', 219: 'religion', 220: 'schools', 221: 'taught', 222: 'then', 223: 'understand', 224: 'we', 225: 'author', 226: 'belief', 227: 'book', 228: 'crisis', 229: 'do', 230: 'each', 231: 'explains', 232: 'good', 233: 'his', 234: 'influence', 235: 'intention', 236: 'is', 237: 'our', 238: 'pastor', 239: 'reflects', 240: 'rick', 241: 'success', 242: 'talents', 243: 'us', 244: 'use', 245: 'wake', 246: 'warren', 247: 'wild', 248: '2006', 249: 'accepting', 250: 'architects', 251: 'cameron', 252: 'collaborative', 253: 'crises', 254: 'demonstrates', 255: 'designers', 256: 'housing', 257: 'improve', 258: 'living', 259: 'network', 260: 'passionate', 261: 'prize', 262: 'respond', 263: 'sinclair', 264: 'standards', 265: 'ted', 266: 'through', 267: 'unveils', 268: 'wish', 269: 'bring', 270: 'film', 271: 'jehane', 272: 'noujaim', 273: 'power', 274: 'together', 275: 'year', 276: 'before', 277: 'brilliant', 278: 'contain', 279: 'dr', 280: 'eradicated', 281: 'identify', 282: 'larry', 283: 'pandemics', 284: 'planet', 285: 'smallpox', 286: 'spread', 287: 'talks', 288: 'they', 289: 'was', 290: 'cheap', 291: 'click', 292: 'computer', 293: 'end', 294: 'han', 295: 'jeff', 296: 'may', 297: 'multi', 298: 'point', 299: 'pressure', 300: 'scalable', 301: 'screen', 302: 'sensitive', 303: 'spell', 304: 'touch', 305: '\"$', 306: '100', 307: 'build', 308: 'child', 309: 'describes', 310: 'distribute', 311: 'founder', 312: 'laboratory', 313: 'laptop', 314: 'media', 315: 'mit', 316: 'negroponte', 317: 'nicholas', 318: 'per', 319: 'project', 320: 'will', 321: '11', 322: 'charming', 323: 'gives', 324: 'huang', 325: 'instrument', 326: 'interlude', 327: 'nuanced', 328: 'old', 329: 'performance', 330: 'praises', 331: 'sirena', 332: 'technically', 333: 'timeless', 334: 'violinist', 335: 'based', 336: 'composer', 337: 'improvises', 338: 'jennifer', 339: 'lin', 340: 'magical', 341: 'notes', 342: 'pianist', 343: 'piece', 344: 'process', 345: 'random', 346: 'sequence', 347: '2', 348: 'amy', 349: 'burning', 350: 'but', 351: 'charcoal', 352: 'children', 353: 'clean', 354: 'cooking', 355: 'engineer', 356: 'exciting', 357: 'farm', 358: 'fires', 359: 'fumes', 360: 'indoor', 361: 'kill', 362: 'million', 363: 'more', 364: 'simple', 365: 'smith', 366: 'solution', 367: 'tool', 368: 'turning', 369: 'waste', 370: 'bottle', 371: 'chair', 372: 'designer', 373: 'expounds', 374: 'extraordinary', 375: 'fat', 376: 'free', 377: 'including', 378: 'insight', 379: 'lovegrove', 380: 'nant', 381: 'offers', 382: 'philosophy', 383: 'ross', 384: 'several', 385: 'ty', 386: 'water', 387: 'assembled', 388: 'band', 389: 'collaborating', 390: 'correcting', 391: 'created', 392: 'encyclopedia', 393: 'finished', 394: 'gave', 395: 'jimmy', 396: 'online', 397: 'organizing', 398: 'ragtag', 399: 'recalls', 400: 'self', 401: 'them', 402: 'tools', 403: 'volunteers', 404: 'wales', 405: 'wikipedia', 406: '),', 407: 'allowing', 408: 'anywhere', 409: 'baraniuk', 410: 'behind', 411: 'connexions', 412: 'course', 413: 'cuts', 414: 'freely', 415: 'learning', 416: 'materials', 417: 'modify', 418: 'now', 419: 'open', 420: 'openstax', 421: 'richard', 422: 'share', 423: 'source', 424: 'teachers', 425: 'textbook', 426: 'vision', 427: 'visionary', 428: 'addictive', 429: 'create', 430: 'delivers', 431: 'frank', 432: 'helping', 433: 'hilarious', 434: 'interact', 435: 'nerdcore', 436: 'people', 437: 'performer', 438: 'routine', 439: 'seriously', 440: 'standup', 441: 'tells', 442: 'toymaker', 443: 'using', 444: 'web', 445: 'what', 446: 'ze', 447: 'blog', 448: 'blogging', 449: 'building', 450: 'connected', 451: 'days', 452: 'early', 453: 'founding', 454: 'friendlier', 455: 'giving', 456: 'key', 457: 'lives', 458: 'mena', 459: 'mother', 460: 'movable', 461: 'realized', 462: 'regular', 463: 'revolution', 464: 'she', 465: 'trott', 466: 'type', 467: 'abuse', 468: 'anthropologist', 469: 'antidepressant', 470: 'biochemical', 471: 'closes', 472: 'disaster', 473: 'fisher', 474: 'foundations', 475: 'helen', 476: 'importance', 477: 'inherent', 478: 'love', 479: 'potential', 480: 'social', 481: 'topic', 482: 'tricky', 483: 'warning', 484: '–', 485: 'acts', 486: 'campaign', 487: 'creator', 488: 'discussion', 489: 'ensler', 490: 'eve', 491: 'finding', 492: 'friends', 493: 'happiness', 494: 'led', 495: 'menopause', 496: 'monologues', 497: 'onstage', 498: 'sexual', 499: 'shares', 500: 'sorts', 501: 'talking', 502: 'toward', 503: 'vagina', 504: 'violence', 505: 'waging', 506: 'women', 507: 'admit', 508: 'back', 509: 'burner', 510: 'deutsch', 511: 'discuss', 512: 'first', 513: 'have', 514: 'legendary', 515: 'matter', 516: 'physics', 517: 'problem', 518: 'puts', 519: 'says', 520: 'scientist', 521: 'solving', 522: 'species', 523: 'step', 524: 'survival', 525: 'theoretical', 526: 'urgent', 527: 'biologist', 528: 'by', 529: 'dawkins', 530: 'frame', 531: 'human', 532: 'improbable', 533: 'limits', 534: 'looking', 535: 'reference', 536: 'thinking', 537: 'understanding', 538: 'universe', 539: 'being', 540: 'below', 541: 'boss', 542: 'contrary', 543: 'corner', 544: 'crack', 545: 'dealer', 546: 'dealing', 547: 'drug', 548: 'finances', 549: 'freakonomics', 550: 'isn', 551: 'levitt', 552: 'lucrative', 553: 'minimum', 554: 'myth', 555: 'pays', 556: 'popular', 557: 'presents', 558: 'steven', 559: 'street', 560: 't', 561: 'wage', 562: 'your', 563: 'argument', 564: 'choice', 565: 'food', 566: 'gets', 567: 'gladwell', 568: 'industry', 569: 'inside', 570: 'larger', 571: 'malcolm', 572: 'perfect', 573: 'pursuit', 574: 'sauce', 575: 'spaghetti', 576: 'tipping', 577: 'challenges', 578: 'don', 579: 'even', 580: 'feel', 581: 'gilbert', 582: 'happy', 583: 'idea', 584: 'if', 585: 'immune', 586: 'lets', 587: 'll', 588: 'miserable', 589: 'planned', 590: 'psychological', 591: 'stumbling', 592: 'truly', 593: 'want', 594: 'barry', 595: 'dissatisfied', 596: 'estimation', 597: 'freedom', 598: 'freer', 599: 'happier', 600: 'has', 601: 'made', 602: 'not', 603: 'paralyzed', 604: 'psychologist', 605: 'schwartz', 606: 'societies', 607: 'tenet', 608: 'western', 609: '19', 610: 'alzheimer', 611: 'cancer', 612: 'drive', 613: 'eva', 614: 'journey', 615: 'medicine', 616: 'only', 617: 'roots', 618: 'studying', 619: 'vertes', 620: 'age', 621: 'aging', 622: 'argues', 623: 'aubrey', 624: 'averted', 625: 'basic', 626: 'cambridge', 627: 'curable', 628: 'de', 629: 'disease', 630: 'grey', 631: 'humans', 632: 'merely', 633: 'researcher', 634: 'seven', 635: 'which', 636: '80', 637: 'bangladesh', 638: 'bangladeshi', 639: 'banker', 640: 'become', 641: 'bottom', 642: 'champion', 643: 'connecting', 644: 'development', 645: 'experiences', 646: 'him', 647: 'iqbal', 648: 'kid', 649: 'later', 650: 'mobile', 651: 'operator', 652: 'phone', 653: 'poor', 654: 'quadir', 655: 'rural', 656: 'start', 657: 'africa', 658: 'applauds', 659: 'approach', 660: 'heightened', 661: 'interest', 662: 'jacqueline', 663: 'novogratz', 664: 'persuasively', 665: 'poverty', 666: ').', 667: 'any', 668: 'backbone', 669: 'belgrade', 670: 'blogs', 671: 'bonds', 672: 'business', 673: 'democracy', 674: 'fund', 675: 'journalist', 676: 'magazines', 677: 'papers', 678: 'press', 679: 'radio', 680: 'sasa', 681: 'selling', 682: 'supports', 683: 'true', 684: 'tv', 685: 'vital', 686: 'vucinic', 687: 'watchdog', 688: '10', 689: 'afghanistan', 690: 'anderson', 691: 'ashraf', 692: 'both', 693: 'broken', 694: 'chris', 695: 'conversation', 696: 'curator', 697: 'economic', 698: 'emphasizing', 699: 'followed', 700: 'future', 701: 'ghani', 702: 'ingenuity', 703: 'investment', 704: 'minute', 705: 'necessity', 706: 'powerful', 707: 'rebuild', 708: 'states', 709: 'asks', 710: 'burt', 711: 'entrepreneurs', 712: 'funded', 713: 'government', 714: 'lambasts', 715: 'left', 716: 'nasa', 717: 'pick', 718: 'program', 719: 'rutan', 720: 'space', 721: 'spacecraft', 722: 'stagnating', 723: 'where', 724: 'anecdotes', 725: 'arctic', 726: 'ben', 727: 'complete', 728: 'engaging', 729: 'explorer', 730: 'gorgeous', 731: 'harrowing', 732: 'north', 733: 'photos', 734: 'pole', 735: 'recounts', 736: 'saunders', 737: 'ski', 738: 'trek', 739: 'video', 740: '2005', 741: ';', 742: 'accepts', 743: 'aid', 744: 'another', 745: 'arguing', 746: 'bono', 747: 'cause', 748: 'celebrity', 749: 'emergency', 750: 'just', 751: 'musician', 752: 'riveting', 753: 'burtynsky', 754: 'document', 755: 'edward', 756: 'help', 757: 'images', 758: 'impact', 759: 'join', 760: 'landscapes', 761: 'millions', 762: 'persuade', 763: 'photographer', 764: 'stunning', 765: 'sustainability', 766: 'clinical', 767: 'cures', 768: 'depression', 769: 'device', 770: 'fischell', 771: 'inventor', 772: 'malpractice', 773: 'medical', 774: 'migraines', 775: 'portable', 776: 'redesigning', 777: 'reforming', 778: 'robert', 779: 'treats', 780: 'wishes', 781: 'common', 782: 'criminal', 783: 'devastating', 784: 'donnelly', 785: 'errors', 786: 'interpreting', 787: 'make', 788: 'mathematician', 789: 'mistakes', 790: 'outcome', 791: 'oxford', 792: 'peter', 793: 'reveals', 794: 'these', 795: 'trials', 796: '\"?', 797: 'believe', 798: 'cheese', 799: 'convince', 800: 'demonic', 801: 'facts', 802: 'hear', 803: 'heaven', 804: 'lyrics', 805: 'mary', 806: 'michael', 807: 'music', 808: 'or', 809: 'ourselves', 810: 'overlook', 811: 'sandwich', 812: 'see', 813: 'shermer', 814: 'skeptic', 815: 'stairway', 816: 'virgin', 817: 'why', 818: '2020s', 819: 'abundant', 820: 'brain', 821: 'consciousness', 822: 'detail', 823: 'engineered', 824: 'entrepreneur', 825: 'grounded', 826: 'kurzweil', 827: 'nanobots', 828: 'operating', 829: 'ray', 830: 'reverse', 831: '?\"', 832: 'complexity', 833: 'discovers', 834: 'does', 835: 'enthusiast', 836: 'kelly', 837: 'kevin', 838: 'movement', 839: 'much', 840: 'tech', 841: 'ubiquity', 842: 'action', 843: 'citizen', 844: 'gabriel', 845: 'group', 846: 'journalists', 847: 'motivation', 848: 'personal', 849: 'rights', 850: 'standing', 851: 'stories', 852: 'very', 853: 'witness', 854: '3', 855: '?', 856: 'analyst', 857: 'are', 858: 'because', 859: 'condenses', 860: 'interviews', 861: 'john', 862: 'lucky', 863: 'neither', 864: 're', 865: 'real', 866: 'secrets', 867: 'slideshow', 868: 'smart', 869: 'st', 870: 'succeed', 871: 'unmissable', 872: 'years', 873: 'com', 874: 'could', 875: 'cram', 876: 'ebay', 877: 'enjoy', 878: 'friendster', 879: 'many', 880: 'monster', 881: 'ovation', 882: 'poem', 883: 'poets', 884: 'rives', 885: 'talent', 886: 'unique', 887: 'worthy', 888: 'cardiovascular', 889: 'changing', 890: 'combined', 891: 'dean', 892: 'eating', 893: 'else', 894: 'everything', 895: 'forget', 896: 'habits', 897: 'kills', 898: 'latest', 899: 'mostly', 900: 'news', 901: 'ornish', 902: 'preventable', 903: 'save', 904: 'billion', 905: 'centers', 906: 'cities', 907: 'finds', 908: 'homes', 909: 'innovation', 910: 'neuwirth', 911: 'shadow', 912: 'sites', 913: 'squatter', 914: 'their', 915: 'thriving', 916: 'tour', 917: '$', 918: '50', 919: 'aids', 920: 'answers', 921: 'bjorn', 922: 'comes', 923: 'danish', 924: 'given', 925: 'lomborg', 926: 'political', 927: 'solve', 928: 'spend', 929: 'surprising', 930: 'would', 931: 'alarming', 932: 'celebrates', 933: 'cultures', 934: 'davis', 935: 'disappearing', 936: 'diversity', 937: 'geographic', 938: 'indigenous', 939: 'national', 940: 'rate', 941: 'wade', 942: 'amazon', 943: 'borges', 944: 'dharamsala', 945: 'documenting', 946: 'ecuadorean', 947: 'endangered', 948: 'india', 949: 'intends', 950: 'jungles', 951: 'mountains', 952: 'phil', 953: 'preserve', 954: 'rarely', 955: 'astronomer', 956: 'concerned', 957: 'consequences', 958: 'cosmic', 959: 'dark', 960: 'examines', 961: 'martin', 962: 'member', 963: 'perspective', 964: 'prevent', 965: 'race', 966: 'rees', 967: 'scientific', 968: 'speaking', 969: 'technological', 970: 'urges', 971: 'cooperation', 972: 'fortunes', 973: 'guided', 974: 'linked', 975: 'non', 976: 'sumness', 977: 'today', 978: 'wright', 979: 'zero', 980: '1854', 981: '<', 982: '</', 983: '>', 984: '>,', 985: 'cholera', 986: 'ghost', 987: 'had', 988: 'i', 989: 'johnson', 990: 'london', 991: 'map', 992: 'modern', 993: 'outbreak', 994: 'science', 995: 'society', 996: 'amateurs', 997: 'anymore', 998: 'casual', 999: 'companies', 1000: 'deceptively', 1001: 'leadbeater', 1002: 'paradigms', 1003: 'professionals', 1004: 'tight', 1005: 'weaves', 1006: '...', 1007: 'almost', 1008: 'arvo', 1009: 'birth', 1010: 'co', 1011: 'crumb', 1012: 'dancers', 1013: 'fratres', 1014: 'george', 1015: 'lee', 1016: 'morango', 1017: 'oboe', 1018: 'part', 1019: 'perform', 1020: 'pilobolus', 1021: 'relationship', 1022: 'symbiosis', 1023: 'symbiotic', 1024: 'tango', 1025: 'thomas', 1026: 'trace', 1027: 'actor', 1028: 'american', 1029: 'anna', 1030: 'bull', 1031: 'character', 1032: 'convict', 1033: 'deavere', 1034: 'excerpts', 1035: 'jenkins', 1036: 'korean', 1037: 'paulette', 1038: 'rider', 1039: 'road', 1040: 'search', 1041: 'shopkeeper', 1042: 'studs', 1043: 'terkel', 1044: 'writer', 1045: 'fellow', 1046: 'griffith', 1047: 'house', 1048: 'ideas', 1049: 'innovative', 1050: 'kite', 1051: 'lab', 1052: 'large', 1053: 'loads', 1054: 'rope', 1055: 'saul', 1056: 'sized', 1057: 'some', 1058: 'towing', 1059: 'analog', 1060: 'cost', 1061: 'digital', 1062: 'fab', 1063: 'gershenfeld', 1064: 'low', 1065: 'need', 1066: 'neil', 1067: 'professor', 1068: 'results', 1069: 'backlash', 1070: 'believes', 1071: 'brakes', 1072: 'brewing', 1073: 'carl', 1074: 'emphasis', 1075: 'erodes', 1076: 'everyday', 1077: 'health', 1078: 'honore', 1079: 'productivity', 1080: 'putting', 1081: 'quality', 1082: 'speed', 1083: 'there', 1084: 'too', 1085: '2007', 1086: 'bill', 1087: 'bringing', 1088: 'care', 1089: 'clinton', 1090: 'rest', 1091: 'rwanda', 1092: 'behalf', 1093: 'biosphere', 1094: 'creatures', 1095: 'e', 1096: 'knowledge', 1097: 'learn', 1098: 'networked', 1099: 'o', 1100: 'plea', 1101: 'wilson', 1102: 'continue', 1103: 'era', 1104: 'james', 1105: 'nachtwey', 1106: 'photography', 1107: 'story', 1108: 'telling', 1109: 'uses', 1110: 'war', 1111: 'work', 1112: 'anyone', 1113: 'between', 1114: 'chimps', 1115: 'closer', 1116: 'come', 1117: 'difference', 1118: 'found', 1119: 'goodall', 1120: 'hasn', 1121: 'jane', 1122: 'language', 1123: 'link', 1124: 'missing', 1125: 'nearly', 1126: 'primatologist', 1127: 'sophisticated', 1128: 'attention', 1129: 'bad', 1130: 'bizarre', 1131: 'boring', 1132: 'getting', 1133: 'godin', 1134: 'ignore', 1135: 'little', 1136: 'marketing', 1137: 'obvious', 1138: 'ones', 1139: 'options', 1140: 'ordinary', 1141: 'seth', 1142: 'stuff', 1143: 'successful', 1144: 'time', 1145: 'crick', 1146: 'discovered', 1147: 'dna', 1148: 'francis', 1149: 'laureate', 1150: 'nobel', 1151: 'opens', 1152: 'partner', 1153: 'research', 1154: 'structure', 1155: 'ted2005', 1156: 'watson', 1157: 'brains', 1158: 'cognitive', 1159: 'easily', 1160: 'explores', 1161: 'eye', 1162: 'fool', 1163: 'fooled', 1164: 'illusions', 1165: 'kind', 1166: 'neuroscientist', 1167: 'perceptual', 1168: 'prove', 1169: 'seckel', 1170: 'tricks', 1171: 'big', 1172: 'countries', 1173: 'energy', 1174: 'kamen', 1175: 'lays', 1176: 'next', 1177: 'peek', 1178: 'purification', 1179: 'segway', 1180: 'ability', 1181: 'applies', 1182: 'code', 1183: 'demand', 1184: 'depends', 1185: 'discoveries', 1186: 'enriquez', 1187: 'field', 1188: 'futurist', 1189: 'genomics', 1190: 'here', 1191: 'juan', 1192: 'mastery', 1193: 'notion', 1194: 'shift', 1195: 'thrive', 1196: 'graphic', 1197: 'moments', 1198: 'sagmeister', 1199: 'stefan', 1200: 'whimsical', 1201: 'alex', 1202: 'consumer', 1203: 'ecological', 1204: 'footprint', 1205: 'incredibly', 1206: 'lifestyle', 1207: 'reducing', 1208: 'spreads', 1209: 'steffen', 1210: 'worldchanging', 1211: 'been', 1212: 'buildings', 1213: 'cast', 1214: 'easy', 1215: 'form', 1216: 'glad', 1217: 'material', 1218: 'mayne', 1219: 'option', 1220: 'stop', 1221: 'take', 1222: 'thom', 1223: 'whistle', 1224: 'account', 1225: 'art', 1226: 'bangle', 1227: 'blue', 1228: 'bmw', 1229: 'car', 1230: 'deep', 1231: 'intended', 1232: 'suv', 1233: 'ultimately', 1234: 'arthur', 1235: 'bass', 1236: 'guitar', 1237: 'jamie', 1238: 'kell', 1239: 'keyboards', 1240: 'lawrence', 1241: 'nora', 1242: 'steve', 1243: 'tarshis', 1244: 'bennett', 1245: 'branding', 1246: 'british', 1247: 'doesn', 1248: 'gestures', 1249: 'grand', 1250: 'inspiring', 1251: 'overlooked', 1252: 'paul', 1253: 'playful', 1254: 'problems', 1255: 'series', 1256: 'showing', 1257: 'small', 1258: 'universal', 1259: 'unusual', 1260: 'anything', 1261: 'clouds', 1262: 'diamonds', 1263: 'incredible', 1264: 'muniz', 1265: 'paper', 1266: 'pretty', 1267: 'shredded', 1268: 'vik', 1269: 'wire', 1270: 'alter', 1271: 'bostrom', 1272: 'fundamental', 1273: 'humankind', 1274: 'intrinsic', 1275: 'might', 1276: 'nick', 1277: 'transhumanist', 1278: 'whether', 1279: 'already', 1280: 'benyus', 1281: 'biomimicry', 1282: 'developments', 1283: 'heartening', 1284: 'influencing', 1285: 'janine', 1286: 'systems', 1287: 'biodiversity', 1288: 'break', 1289: 'craig', 1290: 'epic', 1291: 'expedition', 1292: 'far', 1293: 'genes', 1294: 'ocean', 1295: 'pioneer', 1296: 'round', 1297: 'team', 1298: 'venter', 1299: 'amazing', 1300: 'artist', 1301: 'audiovisuals', 1302: 'boundaries', 1303: 'compositions', 1304: 'display', 1305: 'golan', 1306: 'levin', 1307: 'original', 1308: 'possible', 1309: 'programs', 1310: 'pushes', 1311: 'wrote', 1312: 'apes', 1313: 'biology', 1314: 'bonobo', 1315: 'cultural', 1316: 'determined', 1317: 'exposure', 1318: 'rumbaugh', 1319: 'savage', 1320: 'spoken', 1321: 'tasks', 1322: 'watching', 1323: 'beginnings', 1324: 'celebrated', 1325: 'collection', 1326: 'eruptive', 1327: 'frans', 1328: 'glass', 1329: 'lanting', 1330: 'philip', 1331: 'photographs', 1332: 'poetic', 1333: 'present', 1334: 'soundtrack', 1335: 'tell', 1336: '000', 1337: '20', 1338: 'animal', 1339: 'cameras', 1340: 'fastest', 1341: 'feeding', 1342: 'frames', 1343: 'mantis', 1344: 'measuring', 1345: 'movements', 1346: 'patek', 1347: 'recording', 1348: 'second', 1349: 'sheila', 1350: 'shrimp', 1351: 'strike', 1352: 'jill', 1353: 'sobule', 1354: 'backed', 1355: 'blond', 1356: 'caroline', 1357: 'casting', 1358: 'cello', 1359: 'dolby', 1360: 'farther', 1361: 'hair', 1362: 'hiding', 1363: 'lavelle', 1364: 'mane', 1365: 'occasionally', 1366: 'pastoral', 1367: 'performs', 1368: 'plays', 1369: 'sings', 1370: 'sorceress', 1371: 'sun', 1372: 'themes', 1373: 'actively', 1374: 'compelling', 1375: 'fooling', 1376: 'half', 1377: 'deaf', 1378: 'demonstration', 1379: 'eardrums', 1380: 'evelyn', 1381: 'glennie', 1382: 'hit', 1383: 'illustrates', 1384: 'involves', 1385: 'listening', 1386: 'percussionist', 1387: 'simply', 1388: 'soaring', 1389: 'sound', 1390: 'waves', 1391: 'green', 1392: 'look', 1393: 'mcdonough', 1394: 'minded', 1395: 'took', 1396: 'william', 1397: 'bezos', 1398: 'boom', 1399: 'bust', 1400: 'compared', 1401: 'dot', 1402: 'electric', 1403: 'gold', 1404: 'often', 1405: 'rush', 1406: 'fantastical', 1407: 'lullaby', 1408: 'memorable', 1409: 'mockingbird', 1410: 'recaps', 1411: 'rhyming', 1412: 'spirited', 1413: 'ted2006', 1414: 'verse', 1415: '/', 1416: 'eddi', 1417: 'hill', 1418: 'kiteflyer', 1419: 'lost', 1420: 'piano', 1421: 'reader', 1422: 'singer', 1423: 'songwriter', 1424: 'tender', 1425: 'gifts', 1426: 'got', 1427: 'meditation', 1428: 'theme', 1429: '2004', 1430: 'answer', 1431: 'asian', 1432: 'done', 1433: 'following', 1434: 'honey', 1435: 'loving', 1436: 'pondered', 1437: 'question', 1438: 'rev', 1439: 'tom', 1440: 'tragic', 1441: 'tsunami', 1442: 'atheists', 1443: 'church', 1444: 'fiery', 1445: 'incursion', 1446: 'openly', 1447: 'politics', 1448: 'position', 1449: 'state', 1450: 'bear', 1451: 'conference', 1452: 'down', 1453: 'harvard', 1454: 'mention', 1455: 'moment', 1456: 'parody', 1457: 'plight', 1458: 'polar', 1459: 'rielly', 1460: 'satirist', 1461: 'special', 1462: 'taking', 1463: 'watch', 1464: 'who', 1465: 'wicked', 1466: 'accordionist', 1467: 'bell', 1468: 'delightful', 1469: 'edith', 1470: 'en', 1471: 'featuring', 1472: 'garniez', 1473: 'keyboard', 1474: 'la', 1475: 'mischievous', 1476: 'piaf', 1477: 'playing', 1478: 'rachelle', 1479: 'rendition', 1480: 'rose', 1481: 'standard', 1482: 'vie', 1483: 'vocals', 1484: 'becoming', 1485: 'displacing', 1486: 'editor', 1487: 'established', 1488: 'finally', 1489: 'four', 1490: 'gaining', 1491: 'market', 1492: 'price', 1493: 'setting', 1494: 'stages', 1495: 'ubiquitous', 1496: 'viable', 1497: 'wired', 1498: 'dancing', 1499: 'director', 1500: 'duet', 1501: 'ethereal', 1502: 'macmaster', 1503: 'musical', 1504: 'natalie', 1505: 'play', 1506: 'river', 1507: 'brin', 1508: 'company', 1509: 'dedication', 1510: 'employee', 1511: 'foundation', 1512: 'founders', 1513: 'google', 1514: 'international', 1515: 'machine', 1516: 'offer', 1517: 'page', 1518: 'patterns', 1519: 'philanthropic', 1520: 'sergey', 1521: 'sharing', 1522: 'tidbits', 1523: 'aspen', 1524: 'black', 1525: 'happens', 1526: 'know', 1527: 'let', 1528: 'man', 1529: 'stew', 1530: 'visits', 1531: 'america', 1532: 'caring', 1533: 'civic', 1534: 'howard', 1535: 'inspired', 1536: 'instead', 1537: 'kunstler', 1538: 'manifestation', 1539: 'nation', 1540: 'physical', 1541: 'places', 1542: 'public', 1543: 'should', 1544: 'spaces', 1545: 'view', 1546: 'worth', 1547: 'broader', 1548: 'experience', 1549: 'footage', 1550: 'hardware', 1551: 'ideo', 1552: 'kelley', 1553: 'less', 1554: 'prada', 1555: 'product', 1556: 'store', 1557: 'user', 1558: 'billions', 1559: 'camps', 1560: 'deserted', 1561: 'find', 1562: 'flock', 1563: 'live', 1564: 'minutes', 1565: 'slums', 1566: 'stewart', 1567: 'teeming', 1568: 'thing', 1569: 'villages', 1570: 'worldwide', 1571: 'fast', 1572: 'happen', 1573: 'hawkins', 1574: 'intelligently', 1575: 'memory', 1576: 'predict', 1577: 'processor', 1578: 'stores', 1579: 'treo', 1580: 'basking', 1581: 'behemoth', 1582: 'clues', 1583: 'giant', 1584: 'jellyfish', 1585: 'marine', 1586: 'massages', 1587: 'mola', 1588: 'sea', 1589: 'sunfish', 1590: 'thys', 1591: 'tierney', 1592: 'visit', 1593: 'aguera', 1594: 'arcas', 1595: 'blaise', 1596: 'breathtaking', 1597: 'builds', 1598: 'culled', 1599: 'demo', 1600: 'dreamscapes', 1601: 'leads', 1602: 'navigate', 1603: 'photosynth', 1604: 'software', 1605: 'still', 1606: 'transform', 1607: 'way', 1608: 'y', 1609: 'daughter', 1610: 'doerr', 1611: 'emotional', 1612: 'fit', 1613: 'going', 1614: 'invest', 1615: 'think', 1616: 'african', 1617: 'conflict', 1618: 'corruption', 1619: 'famine', 1620: 'growth', 1621: 'happening', 1622: 'iweala', 1623: 'nations', 1624: 'negative', 1625: 'ngozi', 1626: 'okonjo', 1627: 'opportunity', 1628: 'reform', 1629: 'told', 1630: 'agarawala', 1631: 'anand', 1632: 'bumptop', 1633: 'clipping', 1634: 'covered', 1635: 'crumpled', 1636: 'd', 1637: 'desktop', 1638: 'documents', 1639: 'extreme', 1640: 'file', 1641: 'freewheeling', 1642: 'glorious', 1643: 'metaphor', 1644: 'navigation', 1645: 'playground', 1646: 'transforming', 1647: 'usual', 1648: 'walls', 1649: 'anytime', 1650: 'bob', 1651: 'buddha', 1652: 'buddhist', 1653: 'enlightenment', 1654: 'hyperlinked', 1655: 'mass', 1656: 'scholar', 1657: 'thurman', 1658: '9', 1659: 'after', 1660: 'andersen', 1661: 'ground', 1662: 'kurt', 1663: 'platform', 1664: 'rockwell', 1665: 'shortly', 1666: 'viewing', 1667: 'barnett', 1668: 'bracingly', 1669: 'cold', 1670: 'foundering', 1671: 'honest', 1672: 'military', 1673: 'outlines', 1674: 'post', 1675: 'security', 1676: 'sensible', 1677: 'simplicity', 1678: 'strategist', 1679: 'u', 1680: 'avant', 1681: 'ethel', 1682: 'garde', 1683: 'kline', 1684: 'lines', 1685: 'melodic', 1686: 'musicality', 1687: 'other', 1688: 'players', 1689: 'quartet', 1690: 'room', 1691: 'searching', 1692: 'string', 1693: 'suite', 1694: 'third', 1695: 'amounts', 1696: 'cityscapes', 1697: 'dazzlingly', 1698: 'earth', 1699: 'feat', 1700: 'fluidity', 1701: 'focus', 1702: 'hyper', 1703: 'lawler', 1704: 'microsoft', 1705: 'remarkable', 1706: 'requires', 1707: 'staggering', 1708: 'stephen', 1709: 'whirlwind', 1710: 'comparing', 1711: 'cool', 1712: 'demos', 1713: 'dollar', 1714: 'households', 1715: 'income', 1716: 'levels', 1717: 'pulling', 1718: 'really', 1719: 'something', 1720: 'themselves', 1721: 'varying', 1722: 'abysses', 1723: 'autonomous', 1724: 'cave', 1725: 'deepest', 1726: 'efforts', 1727: 'europa', 1728: 'fuel', 1729: 'ice', 1730: 'jupiter', 1731: 'lunar', 1732: 'maverick', 1733: 'mine', 1734: 'moon', 1735: 'plumbed', 1736: 'robot', 1737: 'stone', 1738: 'alive', 1739: 'ant', 1740: 'concepts', 1741: 'existence', 1742: 'literally', 1743: 'making', 1744: 'memes', 1745: 'salvo', 1746: 'starting', 1747: 'tale', 1748: 'unleashes', 1749: 'alan', 1750: 'body', 1751: 'breakthrough', 1752: 'injury', 1753: 'itself', 1754: 'regenerative', 1755: 'russell', 1756: 'signal', 1757: 'studies', 1758: 'compassion', 1759: 'condition', 1760: 'feeling', 1761: 'harris', 1762: 'internet', 1763: 'jonathan', 1764: 'sense', 1765: 'troll', 1766: 'wants', 1767: 'conclusion', 1768: 'continent', 1769: 'emily', 1770: 'hiv', 1771: 'oster', 1772: 'reaches', 1773: 'stats', 1774: 'wrong', 1775: 'dazzle', 1776: 'friendly', 1777: 'game', 1778: 'masterpieces', 1779: 'newest', 1780: 'presentation', 1781: 'previous', 1782: 'promises', 1783: 'spore', 1784: 'users', 1785: '4', 1786: '8', 1787: 'clock', 1788: 'coincidences', 1789: 'folding', 1790: 'history', 1791: 'hours', 1792: 'lyrical', 1793: 'morning', 1794: 'origami', 1795: 'poet', 1796: 'surreal', 1797: 'surrounding', 1798: 'animation', 1799: 'animator', 1800: 'bolinsky', 1801: 'bustling', 1802: 'cell', 1803: 'allison', 1804: 'canada', 1805: 'hands', 1806: 'hip', 1807: 'hunt', 1808: 'list', 1809: 'matters', 1810: 'needed', 1811: 'pain', 1812: 'require', 1813: 'waiting', 1814: 'anger', 1815: 'ayittey', 1816: 'cheetah', 1817: 'controlled', 1818: 'corrupt', 1819: 'economist', 1820: 'generation', 1821: 'ghanaian', 1822: 'leaders', 1823: 'torrent', 1824: 'closing', 1825: 'commitment', 1826: 'explaining', 1827: 'finance', 1828: 'former', 1829: 'intense', 1830: 'minister', 1831: 'nigeria', 1832: 'sums', 1833: 'tedglobal', 1834: 'trade', 1835: 'versus', 1836: '14', 1837: 'built', 1838: 'electricity', 1839: 'family', 1840: 'generating', 1841: 'kamkwamba', 1842: 'malawian', 1843: 'parts', 1844: 'plans', 1845: 'rough', 1846: 'spare', 1847: 'windmill', 1848: 'working', 1849: 'euvin', 1850: 'great', 1851: 'investing', 1852: 'naidoo', 1853: 'arts', 1854: 'ashesi', 1855: 'awuah', 1856: 'broad', 1857: 'career', 1858: 'critical', 1859: 'decision', 1860: 'doing', 1861: 'dreaming', 1862: 'ethical', 1863: 'forming', 1864: 'framework', 1865: 'ghana', 1866: 'head', 1867: 'himself', 1868: 'home', 1869: 'leading', 1870: 'liberal', 1871: 'patrick', 1872: 'school', 1873: 'skills', 1874: 'university', 1875: 'abani', 1876: 'deeply', 1877: 'heart', 1878: 'narrative', 1879: 'nigerian', 1880: 'poems', 1881: 'searches', 1882: 'capital', 1883: 'dignity', 1884: 'goods', 1885: 'jobs', 1886: 'patient', 1887: 'poorest', 1888: 'services', 1889: 'sustainable', 1890: 'dedicates', 1891: 'especially', 1892: 'grandmother', 1893: 'mahlasela', 1894: 'mama', 1895: 'thula', 1896: 'vusi', 1897: 'encore', 1898: 'multilingual', 1899: 'set', 1900: 'showcases', 1901: 'wouldn', 1902: 'woza', 1903: 'participant', 1904: 'producer', 1905: 'productions', 1906: 'skoll', 1907: 'arm', 1908: 'clear', 1909: 'defense', 1910: 'department', 1911: 'honoring', 1912: 'previews', 1913: 'prosthetic', 1914: 'quiet', 1915: 'request', 1916: 'spirit', 1917: 'while', 1918: 'beloved', 1919: 'dictionary', 1920: 'doomed', 1921: 'erin', 1922: 'extinction', 1923: 'exuberant', 1924: 'infectiously', 1925: 'lexicographer', 1926: 'looks', 1927: 'mckean', 1928: 'poised', 1929: 'print', 1930: 'transformation', 1931: 'andrew', 1932: 'beyond', 1933: 'civil', 1934: 'helplessness', 1935: 'mwenda', 1936: 'opportunities', 1937: 'provocative', 1938: 'reframe', 1939: 'throughout', 1940: 'wealth', 1941: 'amazingly', 1942: 'bottles', 1943: 'designed', 1944: 'jansen', 1945: 'kinetic', 1946: 'lemonade', 1947: 'lifelike', 1948: 'move', 1949: 'plastic', 1950: 'sculptures', 1951: 'survive', 1952: 'theo', 1953: 'tubes', 1954: 'choose', 1955: 'communicate', 1956: 'exclusive', 1957: 'expresses', 1958: 'goes', 1959: 'minds', 1960: 'pinker', 1961: 'preview', 1962: 'realize', 1963: 'thought', 1964: 'words', 1965: 'biblical', 1966: 'charts', 1967: 'darfur', 1968: 'decline', 1969: 'illogical', 1970: 'iraq', 1971: 'obscene', 1972: 'peaceful', 1973: 'seem', 1974: 'though', 1975: 'clips', 1976: 'deborah', 1977: 'documentary', 1978: 'fighting', 1979: 'filmmaker', 1980: 'scranton', 1981: 'soldiers', 1982: 'tapes', 1983: 'alemseged', 1984: 'badlands', 1985: 'ethiopia', 1986: 'holds', 1987: 'humanoid', 1988: 'oldest', 1989: 'paleoanthropologist', 1990: 'skeleton', 1991: 'zeresenay', 1992: 'basics', 1993: 'complicated', 1994: 'intersection', 1995: 'maeda', 1996: 'paring', 1997: 'place', 1998: 'asteroid', 1999: 'collapse', 2000: 'collider', 2001: 'eco', 2002: 'gone', 2003: 'particle', 2004: 'petranek', 2005: 'terrible', 2006: 'wiped', 2007: 'aircraft', 2008: 'environmentalist', 2009: 'flight', 2010: 'lifelong', 2011: 'long', 2012: 'lover', 2013: 'maccready', 2014: 'carolyn', 2015: 'cassini', 2016: 'enceladus', 2017: 'focusing', 2018: 'frozen', 2019: 'jets', 2020: 'largest', 2021: 'planetary', 2022: 'porco', 2023: 'saturn', 2024: 'seems', 2025: 'shoot', 2026: 'titan', 2027: 'voyage', 2028: 'appears', 2029: 'breakdancing', 2030: 'combines', 2031: 'defy', 2032: 'ebina', 2033: 'fluid', 2034: 'hop', 2035: 'imposed', 2036: 'kenichi', 2037: 'manner', 2038: 'mime', 2039: 'moves', 2040: 'precise', 2041: 'simultaneously', 2042: 'branson', 2043: 'death', 2044: 'downs', 2045: 'motivations', 2046: 'multibillionaire', 2047: 'multiple', 2048: 'near', 2049: 'ups', 2050: 'few', 2051: 'hod', 2052: 'lipson', 2053: 'replicate', 2054: 'robots', 2055: 'books', 2056: 'covers', 2057: 'deliciously', 2058: 'grown', 2059: 'illustrator', 2060: 'kalman', 2061: 'kilter', 2062: 'maira', 2063: 'person', 2064: 'wise', 2065: 'wonderful', 2066: 'yorker', 2067: 'along', 2068: 'chipchase', 2069: 'insides', 2070: 'investigation', 2071: 'jan', 2072: 'nokia', 2073: 'pockets', 2074: 'uganda', 2075: 'unexpected', 2076: 'celebral', 2077: 'connection', 2078: 'damage', 2079: 'delusions', 2080: 'mind', 2081: 'ramachandran', 2082: 'reveal', 2083: 'startling', 2084: 'tissue', 2085: 'vilayanur', 2086: 'ambitious', 2087: 'basket', 2088: 'commodities', 2089: 'eleni', 2090: 'farmers', 2091: 'gabre', 2092: 'madhin', 2093: 'minimize', 2094: 'plan', 2095: 'recipient', 2096: 'regional', 2097: 'risk', 2098: 'turn', 2099: 'chances', 2100: 'cure', 2101: 'electroshock', 2102: 'heartfelt', 2103: 'nuland', 2104: 'redemption', 2105: 'relief', 2106: 'severe', 2107: 'sherwin', 2108: 'surgeon', 2109: 'therapy', 2110: 'threatening', 2111: 'biochemist', 2112: 'fulfillment', 2113: 'generate', 2114: 'matthieu', 2115: 'monk', 2116: 'ricard', 2117: 'serenity', 2118: 'train', 2119: 'turned', 2120: 'well', 2121: 'ascap', 2122: 'cartel', 2123: 'celestial', 2124: 'cites', 2125: 'copyrights', 2126: 'creative', 2127: 'culture', 2128: 'lawyer', 2129: 'lessig', 2130: 'net', 2131: 'reviving', 2132: 'sousa', 2133: 'also', 2134: 'arrange', 2135: 'assembly', 2136: 'causes', 2137: 'face', 2138: 'implications', 2139: 'rothemund', 2140: 'scales', 2141: 'smallest', 2142: 'smiley', 2143: 'star', 2144: 'stunt', 2145: 'sure', 2146: 'vast', 2147: 'writes', 2148: 'ash', 2149: 'atmosphere', 2150: 'cloud', 2151: 'deflect', 2152: 'effective', 2153: 'heat', 2154: 'huge', 2155: 'injected', 2156: 'keith', 2157: 'means', 2158: 'proposes', 2159: 'shocking', 2160: 'sunlight', 2161: 'bioenergy', 2162: 'biological', 2163: 'chemical', 2164: 'coal', 2165: 'definition', 2166: 'gas', 2167: 'growable', 2168: 'hydrocarbons', 2169: 'needs', 2170: 'oil', 2171: 'plant', 2172: 'thus', 2173: 'whole', 2174: 'depressing', 2175: 'forum', 2176: 'known', 2177: 'optimistic', 2178: 'org', 2179: 'skollfoundation', 2180: 'spite', 2181: 'trends', 2182: 'uk', 2183: 'www', 2184: 'across', 2185: 'allow', 2186: 'captivating', 2187: 'cockroaches', 2188: 'critters', 2189: 'feet', 2190: 'full', 2191: 'geckos', 2192: 'legs', 2193: 'mesh', 2194: 'mo', 2195: 'nanobristle', 2196: 'packed', 2197: 'run', 2198: 'scuttle', 2199: 'slo', 2200: 'spiny', 2201: 'straight', 2202: \".'\", 2203: 'am', 2204: 'eglash', 2205: 'families', 2206: 'fractal', 2207: 'greeted', 2208: 'met', 2209: 'noticed', 2210: 'researching', 2211: 'ron', 2212: 'roof', 2213: 'stand', 2214: '18', 2215: 'carefully', 2216: 'genius', 2217: 'listen', 2218: 'mantra', 2219: 'no', 2220: 'philippe', 2221: 'reaching', 2222: 'slides', 2223: 'spends', 2224: 'starck', 2225: 'armed', 2226: 'asking', 2227: 'drops', 2228: 'elegant', 2229: 'equations', 2230: 'gell', 2231: 'inelegant', 2232: 'laypeople', 2233: 'likely', 2234: 'mann', 2235: 'murray', 2236: 'questions', 2237: 'tedsters', 2238: 'terms', 2239: 'winner', 2240: 'amory', 2241: 'economy', 2242: 'energizing', 2243: 'lovins', 2244: 'revitalizing', 2245: 'weaning', 2246: 'benjamin', 2247: 'birthdays', 2248: 'calculators', 2249: 'digit', 2250: 'equation', 2251: 'figure', 2252: 'guesses', 2253: 'lively', 2254: 'massive', 2255: 'mathemagician', 2256: 'mental', 2257: 'races', 2258: 'solves', 2259: 'squares', 2260: 'aren', 2261: 'compassionate', 2262: 'daniel', 2263: 'goleman', 2264: 'intelligence', 2265: 'died', 2266: 'father', 2267: 'inspire', 2268: 'lakshmi', 2269: 'letter', 2270: 'pen', 2271: 'pratury', 2272: 'remembers', 2273: 'short', 2274: 'writing', 2275: '5', 2276: 'danger', 2277: 'dangerous', 2278: 'gever', 2279: 'grownups', 2280: 'kids', 2281: 'tinkering', 2282: 'tulley', 2283: 'allende', 2284: 'feminism', 2285: 'isabel', 2286: 'passion', 2287: 'ballsy', 2288: 'dangers', 2289: 'investor', 2290: 'lecture', 2291: 'men', 2292: 'prankster', 2293: 'specifically', 2294: 'vardi', 2295: 'yossi', 2296: 'ants', 2297: 'arizona', 2298: 'better', 2299: 'chitinous', 2300: 'colonies', 2301: 'complex', 2302: 'desert', 2303: 'gordon', 2304: 'lead', 2305: 'leadership', 2306: 'multitask', 2307: 'thanks', 2308: 'visible', 2309: 'abrams', 2310: 'evident', 2311: 'films', 2312: 'j', 2313: 'mystery', 2314: 'traces', 2315: 'unseen', 2316: 'upcoming', 2317: 'vii', 2318: 'wars', 2319: '–-', 2320: 'blackest', 2321: 'camouflaged', 2322: 'color', 2323: 'cuttlefish', 2324: 'depths', 2325: 'displays', 2326: 'dropping', 2327: 'explorers', 2328: 'fish', 2329: 'gallo', 2330: 'hanlon', 2331: 'jaw', 2332: 'light', 2333: 'neon', 2334: 'octopus', 2335: 'perfectly', 2336: 'pioneering', 2337: 'roger', 2338: 'shifting', 2339: 'square', 2340: 'widder', 2341: 'antonelli', 2342: 'appreciation', 2343: 'around', 2344: 'forms', 2345: 'paola', 2346: 'shapes', 2347: 'factor', 2348: 'failure', 2349: 'gehry', 2350: 'important', 2351: 'wildly', 2352: 'wurman', 2353: 'guitarist', 2354: 'midón', 2355: 'premiere', 2356: 'raúl', 2357: 'sprightly', 2358: 'ted2007', 2359: 'tembererana', 2360: 'astonishing', 2361: 'partnerships', 2362: 'strickland', 2363: 'unlikely', 2364: 'bernie', 2365: 'college', 2366: 'dunlap', 2367: 'holocaust', 2368: 'hungarian', 2369: 'president', 2370: 'sandor', 2371: 'survivor', 2372: 'teszler', 2373: 'wofford', 2374: 'borrowing', 2375: 'cher', 2376: 'downloading', 2377: 'itunes', 2378: 'medley', 2379: 'mini', 2380: 'satirical', 2381: 'sonny', 2382: 'village', 2383: 'alison', 2384: 'celebs', 2385: 'contains', 2386: 'desire', 2387: 'diana', 2388: 'elton', 2389: 'favorite', 2390: 'jackson', 2391: 'secretly', 2392: '2002', 2393: 'balance', 2394: 'endeavor', 2395: 'leaving', 2396: 'nonprofit', 2397: 'over', 2398: 'prior', 2399: 'profit', 2400: 'secure', 2401: 'seeks', 2402: 'biggest', 2403: 'chase', 2404: 'contemplating', 2405: 'driving', 2406: 'founded', 2407: 'interstate', 2408: 'pricing', 2409: 'robin', 2410: 'schemes', 2411: 'shake', 2412: 'smaller', 2413: 'travels', 2414: 'zipcar', 2415: 'brazil', 2416: 'changed', 2417: 'city', 2418: 'curitiba', 2419: 'jaime', 2420: 'landscape', 2421: 'lerner', 2422: 'metropolitan', 2423: 'native', 2424: 'planners', 2425: 'reinvented', 2426: 'antics', 2427: 'completion', 2428: 'historic', 2429: 'homage', 2430: 'illustrated', 2431: 'macaulay', 2432: 'relives', 2433: 'rome', 2434: 'sometimes', 2435: 'winding', 2436: 'clever', 2437: 'corn', 2438: 'darwinism', 2439: 'pawns', 2440: 'pollan', 2441: 'rule', 2442: 'strategy', 2443: 'collaboration', 2444: 'collective', 2445: 'coming', 2446: 'instinct', 2447: 'outgrowth', 2448: 'participatory', 2449: 'rheingold', 2450: 'autumn', 2451: 'electronic', 2452: 'fi', 2453: 'include', 2454: 'kurstin', 2455: 'leaves', 2456: 'lush', 2457: 'mash', 2458: 'pamelia', 2459: 'played', 2460: 'sci', 2461: 'songs', 2462: 'theremin', 2463: 'touched', 2464: 'virtuoso', 2465: 'without', 2466: 'atomic', 2467: 'cache', 2468: 'dream', 2469: 'dyson', 2470: 'five', 2471: 'insider', 2472: 'nuclear', 2473: 'orion', 2474: 'powered', 2475: 'secret', 2476: 'spins', 2477: 'taken', 2478: 'delves', 2479: 'labored', 2480: 'moshe', 2481: 'safdie', 2482: 'site', 2483: 'bit', 2484: 'commentary', 2485: 'favorites', 2486: 'mixes', 2487: 'songwriting', 2488: 'witty', 2489: 'agility', 2490: 'brothers', 2491: 'coordination', 2492: 'illustrious', 2493: 'jugglers', 2494: 'others', 2495: 'raspyni', 2496: 'sacrifice', 2497: 'uncanny', 2498: 'willingness', 2499: 'grow', 2500: 'hope', 2501: 'joseph', 2502: 'kenya', 2503: 'lekuton', 2504: 'message', 2505: 'parable', 2506: 'parliament', 2507: 'relevant', 2508: 'starts', 2509: 'awesome', 2510: 'glee', 2511: 'hobby', 2512: 'infectious', 2513: 'jurvetson', 2514: 'launching', 2515: 'model', 2516: 'moneyman', 2517: 'rockets', 2518: 'whiff', 2519: 'compiles', 2520: 'comprehensive', 2521: 'curtis', 2522: 'educator', 2523: 'gould', 2524: 'interactive', 2525: 'roy', 2526: 'satellites', 2527: 'sneak', 2528: 'telescope', 2529: 'telescopes', 2530: 'wong', 2531: '-–', 2532: 'brilliance', 2533: 'computers', 2534: 'envisions', 2535: 'illustrate', 2536: 'intensity', 2537: 'kay', 2538: 'mathematically', 2539: 'scientifically', 2540: 'teaching', 2541: 'techniques', 2542: '&', 2543: '2008', 2544: 'able', 2545: 'boot', 2546: 'chromosome', 2547: 'criticisms', 2548: 'developed', 2549: 'note', 2550: 'quickly', 2551: 'read', 2552: 'since', 2553: 'soon', 2554: 'synthetic', 2555: 'updates', 2556: 'walks', 2557: 'yes', 2558: 'accuracy', 2559: 'cd', 2560: 'interfaces', 2561: 'iphone', 2562: 'kiosks', 2563: 'predicts', 2564: 'roms', 2565: 'service', 2566: 'touchscreen', 2567: 'awareness', 2568: 'bolte', 2569: 'functions', 2570: 'motion', 2571: 'scientists', 2572: 'shut', 2573: 'speech', 2574: 'stroke', 2575: 'taylor', 2576: 'watched', 2577: 'beach', 2578: 'center', 2579: 'construction', 2580: 'legend', 2581: 'paris', 2582: 'under', 2583: 'venice', 2584: 'whistlestop', 2585: '826', 2586: 'community', 2587: 'creatively', 2588: 'dave', 2589: 'eagerness', 2590: 'eggers', 2591: 'engage', 2592: 'local', 2593: 'personally', 2594: 'spellbinding', 2595: 'tutoring', 2596: 'valencia', 2597: 'armstrong', 2598: 'charter', 2599: 'doctrine', 2600: 'force', 2601: 'golden', 2602: 'harmony', 2603: 'karen', 2604: 'religious', 2605: 'restore', 2606: 'africans', 2607: 'nurturing', 2608: 'physicist', 2609: 'speaks', 2610: 'starved', 2611: 'talented', 2612: 'turok', 2613: 'unlocking', 2614: 'basically', 2615: 'beautiful', 2616: 'dld', 2617: 'foster', 2618: 'munich', 2619: 'norman', 2620: 'pollution', 2621: 'activity', 2622: 'actually', 2623: 'christopher', 2624: 'decharms', 2625: 'emotions', 2626: 'fmri', 2627: 'thoughts', 2628: 'asides', 2629: 'captivates', 2630: 'clifford', 2631: 'energetic', 2632: 'experiment', 2633: 'observations', 2634: 'once', 2635: 'sprinkling', 2636: 'stoll', 2637: 'accompanied', 2638: 'bifo', 2639: 'goni', 2640: 'lute', 2641: 'm', 2642: 'malian', 2643: 'mesmerizing', 2644: 'n', 2645: 'quietly', 2646: 'rokia', 2647: 'soulful', 2648: 'stringed', 2649: 'timbre', 2650: 'traore', 2651: 'analysis', 2652: 'best', 2653: 'da', 2654: 'faces', 2655: 'image', 2656: 'leonardo', 2657: 'lisa', 2658: 'mona', 2659: 'recognize', 2660: 'siegfried', 2661: 'thoughtful', 2662: 'vinci', 2663: 'woldhek', 2664: '1957', 2665: 'arms', 2666: 'feature', 2667: 'hoffman', 2668: 'jump', 2669: 'launch', 2670: 'length', 2671: 'mania', 2672: 'math', 2673: 'soviet', 2674: 'sputnik', 2675: 'started', 2676: 'union', 2677: 'concept', 2678: 'directed', 2679: 'expression', 2680: 'jakob', 2681: 'purely', 2682: 'trollback', 2683: 'were', 2684: 'alone', 2685: 'answering', 2686: 'begin', 2687: 'did', 2688: 'hawking', 2689: 'keeping', 2690: 'ted2008', 2691: 'act', 2692: 'evidence', 2693: 'pace', 2694: 'predicted', 2695: 'premiering', 2696: 'recently', 2697: 'worse', 2698: '40', 2699: 'controller', 2700: 'educational', 2701: 'hacks', 2702: 'johnny', 2703: 'mounted', 2704: 'remote', 2705: 'viewer', 2706: 'whiteboard', 2707: 'wii', 2708: 'devoted', 2709: 'diverse', 2710: 'ellsey', 2711: 'extending', 2712: 'games', 2713: 'machover', 2714: 'opera', 2715: 'shed', 2716: 'tod', 2717: 'virtuosos', 2718: 'benkler', 2719: 'linux', 2720: 'organization', 2721: 'represent', 2722: 'stage', 2723: 'yochai', 2724: 'careful', 2725: 'caribbean', 2726: 'choices', 2727: 'class', 2728: 'ernest', 2729: 'healthcare', 2730: 'institute', 2731: 'jamaica', 2732: 'kingston', 2733: 'madu', 2734: 'proves', 2735: 'runs', 2736: 'serve', 2737: 'technical', 2738: 'digs', 2739: 'evolved', 2740: 'hers', 2741: 'hints', 2742: 'novelist', 2743: 'tan', 2744: 'brian', 2745: 'dimensions', 2746: 'every', 2747: 'greene', 2748: 'minscule', 2749: 'strands', 2750: 'superstring', 2751: 'theory', 2752: 'vibrating', 2753: 'accessible', 2754: 'brings', 2755: 'cern', 2756: 'cox', 2757: 'discussing', 2758: 'hadron', 2759: 'rock', 2760: 'alphabet', 2761: 'asbury', 2762: 'bee', 2763: 'bird', 2764: 'dead', 2765: 'fingertips', 2766: 'giants', 2767: 'moth', 2768: 'older', 2769: 'park', 2770: 'plus', 2771: '2015', 2772: '50x15', 2773: 'access', 2774: 'amd', 2775: 'executive', 2776: 'give', 2777: 'hector', 2778: 'initiative', 2779: 'percent', 2780: 'ruiz', 2781: '6', 2782: 'cleaning', 2783: 'flu', 2784: 'fungus', 2785: 'insecticides', 2786: 'lists', 2787: 'mycelium', 2788: 'mycologist', 2789: 'polluted', 2790: 'soil', 2791: 'stamets', 2792: 'treating', 2793: 'viruses', 2794: 'benign', 2795: 'diarrhea', 2796: 'disgusting', 2797: 'drags', 2798: 'evolutionary', 2799: 'ewald', 2800: 'fascinating', 2801: 'germs', 2802: 'harmful', 2803: 'sewer', 2804: 'juggling', 2805: 'moschen', 2806: '?)', 2807: 'amateur', 2808: 'behavior', 2809: 'bond', 2810: 'corvid', 2811: 'crows', 2812: 'eyes', 2813: 'fascinated', 2814: 'gleam', 2815: 'hacker', 2816: 'klein', 2817: 'notice', 2818: 'study', 2819: 'alisa', 2820: 'ever', 2821: 'graphs', 2822: 'miller', 2823: 'opening', 2824: 'bittman', 2825: 'eat', 2826: 'entire', 2827: 'mark', 2828: 'meat', 2829: 'plants', 2830: 'weighs', 2831: 'ballard', 2832: 'exploration', 2833: 'hidden', 2834: 'mapping', 2835: 'mindbending', 2836: 'researchers', 2837: 'resources', 2838: 'serious', 2839: 'trip', 2840: 'underwater', 2841: 'worlds', 2842: 'behar', 2843: 'headset', 2844: 'iconic', 2845: 'jawbone', 2846: 'lamp', 2847: 'leaf', 2848: 'objects', 2849: 'turns', 2850: 'yves', 2851: 'fun', 2852: 'ganson', 2853: 'gee', 2854: 'philosophical', 2855: 'sculptor', 2856: 'whiz', 2857: 'challenge', 2858: 'donated', 2859: 'drives', 2860: 'hospital', 2861: 'oyesola', 2862: 'photo', 2863: 'searing', 2864: 'seyi', 2865: 'supplies', 2866: 'underdeveloped', 2867: 'bold', 2868: 'collier', 2869: 'failing', 2870: 'gap', 2871: 'rich', 2872: 'trapped', 2873: 'blackmore', 2874: 'invents', 2875: 'keep', 2876: 'meme', 2877: 'spawned', 2878: 'susan', 2879: 'teme', 2880: 'via', 2881: 'virus', 2882: 'archeology', 2883: 'bbq', 2884: 'eccentric', 2885: 'edge', 2886: 'fascinations', 2887: 'generally', 2888: 'multimillionaire', 2889: 'myhrvold', 2890: 'nathan', 2891: 'raunchy', 2892: 'somewhat', 2893: 'available', 2894: 'blends', 2895: 'download', 2896: 'instruments', 2897: 'kounandi', 2898: 'vocal', 2899: 'elder', 2900: 'indians', 2901: 'muses', 2902: 'nevada', 2903: 'practice', 2904: 'ritual', 2905: 'sierra', 2906: 'spiritual', 2907: 'whose', 2908: 'ancestry', 2909: 'elegance', 2910: 'languages', 2911: 'overview', 2912: 'quick', 2913: '17th', 2914: 'century', 2915: 'engineers', 2916: 'historian', 2917: 'notebooks', 2918: 'origins', 2919: 'arresting', 2920: 'cups', 2921: 'jordan', 2922: 'number', 2923: 'picture', 2924: 'single', 2925: 'supersized', 2926: 'unimaginable', 2927: 'adopting', 2928: 'affect', 2929: 'cells', 2930: 'exercise', 2931: 'genetic', 2932: 'healthier', 2933: 'healthy', 2934: 'increase', 2935: 'instance', 2936: 'level', 2937: 'animals', 2938: 'copy', 2939: 'insects', 2940: 'necessary', 2941: 'trick', 2942: 'adam', 2943: 'clinics', 2944: 'grosser', 2945: 'refrigerator', 2946: 'tweaking', 2947: 'works', 2948: 'cars', 2949: 'caveat', 2950: 'crucial', 2951: 'during', 2952: 'dying', 2953: 'however', 2954: 'protecting', 2955: 'seatbelts', 2956: 'seats', 2957: 'session', 2958: 'classical', 2959: 'connections', 2960: 'extension', 2961: 'passions', 2962: 'possibilities', 2963: 'untapped', 2964: 'zander', 2965: 'controversies', 2966: 'eg', 2967: 'goals', 2968: 'laptops', 2969: 'line', 2970: 'production', 2971: 'recommits', 2972: 'roll', 2973: 'xo', 2974: 'clonie', 2975: 'companion', 2976: 'mckay', 2977: 'nellie', 2978: 'semi', 2979: 'ultimate', 2980: 'breathing', 2981: 'dramatic', 2982: 'ears', 2983: 'shirey', 2984: 'sxip', 2985: 'diamandis', 2986: 'experiencing', 2987: 'flying', 2988: 'fulfill', 2989: 'g', 2990: 'helped', 2991: 'upper', 2992: 'weightlessness', 2993: 'x', 2994: 'adoption', 2995: 'amerasian', 2996: 'fateful', 2997: 'girl', 2998: 'photograph', 2999: 'saga', 3000: 'smolan', 3001: 'twist', 3002: 'unforgettable', 3003: 'everybody', 3004: 'midon', 3005: 'peace', 3006: 'raul', 3007: 'basin', 3008: 'botanist', 3009: 'congo', 3010: 'corneille', 3011: 'ewango', 3012: 'faunal', 3013: 'heroic', 3014: 'miners', 3015: 'okapi', 3016: 'poachers', 3017: 'raging', 3018: 'reserve', 3019: '2003', 3020: 'animated', 3021: 'bones', 3022: 'gta4', 3023: 'muscles', 3024: 'nervous', 3025: 'reil', 3026: 'spoke', 3027: 'torsten', 3028: '30', 3029: 'collecting', 3030: 'destroyed', 3031: 'fire', 3032: 'forward', 3033: 'instant', 3034: 'nine', 3035: 'office', 3036: 'owned', 3037: 'clay', 3038: 'closed', 3039: 'contributors', 3040: 'groups', 3041: 'looser', 3042: 'networks', 3043: 'planning', 3044: 'prescient', 3045: 'replaces', 3046: 'rigid', 3047: 'roles', 3048: 'shirky', 3049: '\")', 3050: 'feminists', 3051: 'immortal', 3052: 'pearl', 3053: 'sparkling', 3054: 'belt', 3055: 'freeman', 3056: 'kuiper', 3057: 'moons', 3058: 'neptune', 3059: 'oort', 3060: 'past', 3061: 'such', 3062: 'suggests', 3063: 'crave', 3064: 'die', 3065: 'dumped', 3066: 'mris', 3067: 'romantic', 3068: '1998', 3069: 'archives', 3070: 'billy', 3071: 'christ', 3072: 'evil', 3073: 'graham', 3074: 'marvels', 3075: 'suffering', 3076: 'aj', 3077: 'bible', 3078: 'biblically', 3079: 'jacobs', 3080: 'rules', 3081: 'spent', 3082: 'bodies', 3083: 'feats', 3084: 'magic', 3085: 'podcast', 3086: 'practitioner', 3087: 'psychology', 3088: 'seligman', 3089: 'fick', 3090: 'marisa', 3091: 'traditional', 3092: 'weavers', 3093: 'zulu', 3094: 'me', 3095: 'my', 3096: 'reclaiming', 3097: 'reflect', 3098: 'ubuntu', 3099: 'ancestors', 3100: 'competing', 3101: 'eastern', 3102: 'leakey', 3103: 'louise', 3104: 'rift', 3105: 'valley', 3106: \"',\", 3107: 'collected', 3108: 'december', 3109: 'fine', 3110: 'involve', 3111: 'strangers', 3112: 'architecture', 3113: 'blistering', 3114: 'critique', 3115: 'judging', 3116: 'kroloff', 3117: 'lens', 3118: 'practices', 3119: 'reed', 3120: 'stat', 3121: 'wide', 3122: 'boahen', 3123: 'heads', 3124: 'kwabena', 3125: 'messy', 3126: 'mimic', 3127: 'powers', 3128: 'processes', 3129: 'redundant', 3130: 'silicon', 3131: 'supercomputing', 3132: 'superfast', 3133: 'blowingly', 3134: 'designs', 3135: 'engineering', 3136: 'fold', 3137: 'intricate', 3138: 'lang', 3139: 'principles', 3140: 'useful', 3141: 'astonishingly', 3142: 'blindfolded', 3143: 'bowden', 3144: 'bruno', 3145: 'cappadocia', 3146: 'cellist', 3147: 'figures', 3148: 'rufus', 3149: 'stepped', 3150: '%', 3151: '96', 3152: 'burchat', 3153: 'comprising', 3154: 'directly', 3155: 'immense', 3156: 'ingredients', 3157: 'measured', 3158: 'patricia', 3159: 'sheds', 3160: 'bits', 3161: 'geneticist', 3162: 'genographic', 3163: 'passed', 3164: 'shared', 3165: 'spencer', 3166: 'wells', 3167: 'connect', 3168: 'filled', 3169: 'griffin', 3170: 'knows', 3171: 'card', 3172: 'cards', 3173: 'doctor', 3174: 'flabbergasting', 3175: 'lennart', 3176: 'lightning', 3177: 'party', 3178: 'pure', 3179: 'rumpled', 3180: 'swedish', 3181: 'those', 3182: 'uncle', 3183: 'dogs', 3184: 'dunbar', 3185: 'ian', 3186: 'knowing', 3187: 'pets', 3188: 'resonates', 3189: 'trainer', 3190: 'trust', 3191: 'dear', 3192: 'dog', 3193: 'doggie', 3194: 'fan', 3195: 'hound', 3196: 'pound', 3197: 'proud', 3198: 'tribute', 3199: 'yourself', 3200: 'again', 3201: 'analyzed', 3202: 'departed', 3203: 'hearing', 3204: 'imagine', 3205: 'keystrokes', 3206: 'motions', 3207: 'pedal', 3208: 'pianists', 3209: 'pianos', 3210: 'q', 3211: 'recordings', 3212: 'walker', 3213: 'figured', 3214: 'hole', 3215: 'lift', 3216: 'mitra', 3217: 'pc', 3218: 'sugata', 3219: 'teach', 3220: 'wall', 3221: 'came', 3222: 'doings', 3223: 'okolloh', 3224: 'ory', 3225: 'reporting', 3226: 'einstein', 3227: 'parrot', 3228: 'stephanie', 3229: 'tickles', 3230: 'white', 3231: 'wrap', 3232: 'assemble', 3233: 'machines', 3234: 'promise', 3235: 'specialty', 3236: 'summary', 3237: 'tiny', 3238: 'exploring', 3239: 'imperative', 3240: 'incentives', 3241: 'absorbing', 3242: 'emerging', 3243: 'hirshberg', 3244: 'lessons', 3245: 'drori', 3246: 'gaps', 3247: 'surprised', 3248: 'booming', 3249: 'chimpanzee', 3250: 'side', 3251: 'tacare', 3252: 'threatened', 3253: 'towns', 3254: 'advice', 3255: 'attack', 3256: 'countermeasures', 3257: 'expert', 3258: 'farcical', 3259: 'irwin', 3260: 'practical', 3261: 'redlener', 3262: 'reminds', 3263: 'terror', 3264: 'threat', 3265: 'brewster', 3266: 'kahle', 3267: 'movie', 3268: 'published', 3269: 'released', 3270: 'someone', 3271: 'strata', 3272: 'unless', 3273: 'captured', 3274: 'darkest', 3275: 'habitats', 3276: 'oceans', 3277: 'resilient', 3278: 'ridges', 3279: 'shockingly', 3280: 'submarines', 3281: 'toxic', 3282: 'valleys', 3283: 'vibrant', 3284: 'violent', 3285: 'volcanic', 3286: '!', 3287: 'agra', 3288: 'carmen', 3289: 'cuban', 3290: 'deedy', 3291: 'luminous', 3292: 'parents', 3293: 'ride', 3294: 'settle', 3295: 'starring', 3296: 'storyteller', 3297: 'beast', 3298: 'bellows', 3299: 'camel', 3300: 'camera', 3301: 'close', 3302: 'couldn', 3303: 'creature', 3304: 'crew', 3305: 'gleefully', 3306: 'humanly', 3307: 'rut', 3308: 'ton', 3309: 'ann', 3310: 'cooper', 3311: 'lady', 3312: 'lunch', 3313: 'renegade', 3314: 'seasonal', 3315: 'basis', 3316: 'conservatives', 3317: 'haidt', 3318: 'honor', 3319: 'liberals', 3320: 'pinpoints', 3321: 'tend', 3322: 'values', 3323: 'craving', 3324: 'heartbreaking', 3325: 'playwright', 3326: 'capitalist', 3327: 'pitching', 3328: 'rapid', 3329: 'startup', 3330: 'vc', 3331: 'venture', 3332: 'arch', 3333: 'charmingly', 3334: 'closely', 3335: 'eclectic', 3336: 'joking', 3337: 'marvin', 3338: 'minsky', 3339: 'offhand', 3340: 'ounce', 3341: 'overpopulation', 3342: 'subtlety', 3343: 'wily', 3344: 'wisdom', 3345: 'wit', 3346: 'abu', 3347: 'flip', 3348: 'ghraib', 3349: 'hero', 3350: 'insights', 3351: 'nice', 3352: 'rise', 3353: 'zimbardo', 3354: 'deepen', 3355: 'friendship', 3356: 'laura', 3357: 'mean', 3358: 'repair', 3359: 'thank', 3360: 'trice', 3361: 'try', 3362: 'caleb', 3363: 'chung', 3364: 'cuddling', 3365: 'dinosaur', 3366: 'eg07', 3367: 'pet', 3368: 'pleo', 3369: 'reacting', 3370: 'shipped', 3371: 'toy', 3372: 'week', 3373: 'blank', 3374: 'born', 3375: 'innate', 3376: 'slate', 3377: 'thesis', 3378: 'traits', 3379: 'upsetting', 3380: 'brooks', 3381: 'chores', 3382: 'household', 3383: 'prophetic', 3384: 'roboticist', 3385: 'rodney', 3386: 'toys', 3387: '?).', 3388: 'expressed', 3389: 'inflatable', 3390: 'modes', 3391: 'monkeys', 3392: 'rockstar', 3393: 'differences', 3394: 'efficiently', 3395: 'feldman', 3396: 'manage', 3397: 'noah', 3398: 'similar', 3399: 'technologies', 3400: 'whatever', 3401: '+', 3402: 'alice', 3403: 'blur', 3404: 'diller', 3405: 'ds', 3406: 'engrossing', 3407: 'firm', 3408: 'fog', 3409: 'glowing', 3410: 'hall', 3411: 'liz', 3412: 'r', 3413: 'revamped', 3414: 'skin', 3415: 'tully', 3416: 'wooden', 3417: 'wrapped', 3418: 'ancient', 3419: 'deadly', 3420: 'due', 3421: 'inadequate', 3422: 'misused', 3423: 'newly', 3424: 'resistant', 3425: 'strain', 3426: 'tb', 3427: 'touching', 3428: 'treatments', 3429: 'tuberculosis', 3430: 'xdr', 3431: 'gamers', 3432: 'highland', 3433: 'involving', 3434: 'meaningful', 3435: 'mere', 3436: 'perry', 3437: 'tomorrow', 3438: 'videogames', 3439: 'abraham', 3440: 'baseball', 3441: 'doris', 3442: 'goodwin', 3443: 'kearns', 3444: 'lincoln', 3445: 'lyndon', 3446: 'presidents', 3447: 'elsewhere', 3448: 'functioning', 3449: 'independent', 3450: 'interconnected', 3451: 'intricately', 3452: 'outside', 3453: 'strikes', 3454: 'yet', 3455: 'audiopoet', 3456: 'beatbox', 3457: 'breakdown', 3458: 'burchfield', 3459: 'propulsive', 3460: 'rhythms', 3461: 'sexy', 3462: 'textures', 3463: 'turntable', 3464: 'voice', 3465: 'controversial', 3466: 'dimensional', 3467: 'elementary', 3468: 'garrett', 3469: 'lisi', 3470: 'maybe', 3471: 'nothing', 3472: 'particles', 3473: 'surfer', 3474: 'elastic', 3475: 'groundbreaking', 3476: 'moma', 3477: 'calculated', 3478: 'critic', 3479: 'defines', 3480: 'glamour', 3481: 'impress', 3482: 'meaning', 3483: 'polished', 3484: 'postrel', 3485: 'timely', 3486: 'virginia', 3487: 'advantage', 3488: 'heal', 3489: 'aliens', 3490: 'contribute', 3491: 'falling', 3492: 'hodgman', 3493: 'humorist', 3494: 'rambles', 3495: 'somehow', 3496: 'sweet', 3497: 'contribution', 3498: 'dominated', 3499: 'gliders', 3500: 'planes', 3501: 'solar', 3502: 'superefficient', 3503: 'utterly', 3504: 'activities', 3505: 'cannot', 3506: 'csikszentmihalyi', 3507: 'flow', 3508: 'lasting', 3509: 'mihaly', 3510: 'money', 3511: 'noting', 3512: 'pleasure', 3513: 'satisfaction', 3514: 'ashburn', 3515: 'kristen', 3516: 'deforested', 3517: 'diamond', 3518: 'easter', 3519: 'fail', 3520: 'greenland', 3521: 'iron', 3522: 'island', 3523: 'jared', 3524: 'montana', 3525: 'norse', 3526: 'signs', 3527: ';)', 3528: 'bittersweet', 3529: 'fairy', 3530: 'typographical', 3531: 'detecting', 3532: 'dry', 3533: 'foot', 3534: 'guys', 3535: 'ink', 3536: 'inventables', 3537: 'kaplan', 3538: 'liquid', 3539: 'magnets', 3540: 'odor', 3541: 'schacht', 3542: 'squishy', 3543: 'zach', 3544: 'aduaka', 3545: 'ezra', 3546: 'leone', 3547: 'newton', 3548: 'soldier', 3549: 'acknowledges', 3550: 'agree', 3551: 'allows', 3552: 'deeds', 3553: 'execution', 3554: 'rabbi', 3555: 'sanity', 3556: 'tabick', 3557: 'attaining', 3558: 'dayananda', 3559: 'fearless', 3560: 'helpless', 3561: 'infancy', 3562: 'parallel', 3563: 'paths', 3564: 'realization', 3565: 'saraswati', 3566: 'swami', 3567: 'unravels', 3568: 'childhood', 3569: 'dinner', 3570: 'forbes', 3571: 'southern', 3572: 'table', 3573: 'abdul', 3574: 'absolute', 3575: 'demonstrate', 3576: 'faisal', 3577: 'imam', 3578: 'jesus', 3579: 'muhammad', 3580: 'obstacle', 3581: 'qur', 3582: 'rauf', 3583: 'rumi', 3584: 'stands', 3585: 'teachings', 3586: 'always', 3587: 'circle', 3588: 'develop', 3589: 'enemies', 3590: 'extend', 3591: 'hard', 3592: 'inner', 3593: 'prescribes', 3594: '(\"', 3595: '...\"),', 3596: 'appreciate', 3597: 'explain', 3598: 'follow', 3599: 'unto', 3600: '\").', 3601: '3d', 3602: 'aboard', 3603: 'graceful', 3604: 'hawkes', 3605: 'k', 3606: 'landlubbers', 3607: 'winged', 3608: 'became', 3609: 'carried', 3610: 'equal', 3611: 'gathering', 3612: 'ims', 3613: 'player', 3614: 'preserved', 3615: 'surowiecki', 3616: 'tragedy', 3617: 'txts', 3618: 'youtube', 3619: '17', 3620: 'banjo', 3621: 'decades', 3622: 'globe', 3623: 'occasional', 3624: 'planetwalker', 3625: 'respect', 3626: 'responsibility', 3627: 'sail', 3628: 'traveling', 3629: 'brown', 3630: 'shouldn', 3631: 'tim', 3632: 'biophysicist', 3633: 'charm', 3634: 'luca', 3635: 'makeup', 3636: 'molecular', 3637: 'perfume', 3638: 'precision', 3639: 'scent', 3640: 'sublime', 3641: 'turin', 3642: 'argue', 3643: 'decide', 3644: 'smolin', 3645: 'dictators', 3646: 'diplomat', 3647: 'knew', 3648: 'mello', 3649: 'negotiate', 3650: 'negotiating', 3651: 'samantha', 3652: 'sergio', 3653: 'thin', 3654: 'un', 3655: 'vieira', 3656: 'walked', 3657: 'elachi', 3658: 'jet', 3659: 'mars', 3660: 'propulsion', 3661: 'rover', 3662: 'tales', 3663: 'cleaner', 3664: 'component', 3665: 'deconstructing', 3666: 'masters', 3667: 'organized', 3668: 'paintings', 3669: 'pieces', 3670: 'size', 3671: 'sorted', 3672: 'tidier', 3673: 'ursus', 3674: 'wehrli', 3675: 'counts', 3676: 'put', 3677: 'timepiece', 3678: '!\"', 3679: '50s', 3680: 'array', 3681: 'cab', 3682: 'fashion', 3683: 'fleeting', 3684: 'glimpse', 3685: 'inspirations', 3686: 'isaac', 3687: 'mizrahi', 3688: 'pinups', 3689: 'rambling', 3690: 'shout', 3691: 'woman', 3692: '3rd', 3693: 'crews', 3694: 'filmmaking', 3695: 'franco', 3696: 'guerrilla', 3697: 'nollywood', 3698: 'sacchi', 3699: 'zambia', 3700: 'astrophysicist', 3701: 'cosmos', 3702: 'gaping', 3703: 'mysterious', 3704: 'ponder', 3705: 'prods', 3706: 'smoot', 3707: 'surveys', 3708: 'voids', 3709: 'webs', 3710: 'fields', 3711: 'hopes', 3712: 'joy', 3713: 'technologist', 3714: 'worries', 3715: 'barber', 3716: 'chef', 3717: 'eduardo', 3718: 'embodies', 3719: 'environment', 3720: 'farmer', 3721: 'foie', 3722: 'geese', 3723: 'gras', 3724: 'humane', 3725: 'produce', 3726: 'raising', 3727: 'spain', 3728: 'taste3', 3729: 'ad', 3730: 'andy', 3731: 'benefits', 3732: 'fresh', 3733: 'fringe', 3734: 'hobsbawm', 3735: 'ages', 3736: 'convincing', 3737: 'diseases', 3738: 'epidemic', 3739: 'gregory', 3740: 'neurological', 3741: 'petsko', 3742: 'population', 3743: 'beings', 3744: 'ecosystems', 3745: 'enormous', 3746: 'growing', 3747: 'largely', 3748: 'northwest', 3749: 'pacific', 3750: 'preston', 3751: 'seed', 3752: 'support', 3753: 'trees', 3754: 'different', 3755: 'rosedale', 3756: 'underpinnings', 3757: 'burns', 3758: 'customizable', 3759: 'electrical', 3760: 'enhanced', 3761: 'gen', 3762: 'general', 3763: 'grid', 3764: 'hydrogen', 3765: 'idle', 3766: 'motors', 3767: 'pump', 3768: 'sleek', 3769: 'veep', 3770: 'vehicles', 3771: 'creates', 3772: 'invention', 3773: 'orb', 3774: 'persistence', 3775: 'rotating', 3776: 'sears', 3777: 'appalachian', 3778: 'bow', 3779: 'drum', 3780: 'folk', 3781: 'holt', 3782: 'kit', 3783: 'mouth', 3784: 'thunderwear', 3785: '1926', 3786: '75', 3787: 'adventure', 3788: 'beauty', 3789: 'ceramics', 3790: 'colorful', 3791: 'debuted', 3792: 'keeps', 3793: 'zeisel', 3794: 'apiarist', 3795: 'bees', 3796: 'dennis', 3797: 'disappearance', 3798: 'droves', 3799: 'gentle', 3800: 'misunderstood', 3801: 'vanengelsdorp', 3802: 'artifacts', 3803: 'backdropped', 3804: 'conducts', 3805: 'highlighting', 3806: 'imagination', 3807: 'intriguing', 3808: 'jay', 3809: 'experiments', 3810: 'familiar', 3811: 'tests', 3812: '1947', 3813: 'beef', 3814: 'blanc', 3815: 'bought', 3816: 'chateau', 3817: 'cheval', 3818: 'coffee', 3819: 'expensive', 3820: 'fabled', 3821: 'kobe', 3822: 'kopi', 3823: 'luwak', 3824: 'notorious', 3825: 'ounces', 3826: 'sampled', 3827: 'surprise', 3828: 'wallace', 3829: '25', 3830: 'alien', 3831: 'boston', 3832: 'caves', 3833: 'chance', 3834: 'didn', 3835: 'exist', 3836: 'fact', 3837: 'lifeforms', 3838: 'penelope', 3839: 'rovers', 3840: 'scoop', 3841: 'thinks', 3842: 'birds', 3843: 'extends', 3844: 'fireflies', 3845: 'flocks', 3846: 'orders', 3847: 'realm', 3848: 'strogatz', 3849: 'synchronize', 3850: 'tendency', 3851: 'unit', 3852: '.)', 3853: 'colombia', 3854: 'follows', 3855: 'guerrillas', 3856: 'involved', 3857: 'region', 3858: 'territory', 3859: 'chinese', 3860: 'cuisine', 3861: 'dishes', 3862: 'reporter', 3863: 'spots', 3864: 'tastily', 3865: 'backyard', 3866: 'curiosity', 3867: 'inspiration', 3868: 'kary', 3869: 'mullis', 3870: 'rigor', 3871: 'rocketry', 3872: 'experimenter', 3873: 'factory', 3874: 'observer', 3875: 'path', 3876: 'rhode', 3877: 'tireless', 3878: 'tofu', 3879: 'await', 3880: 'crocodiles', 3881: 'encounters', 3882: 'mad', 3883: 'paleontologist', 3884: 'prehistory', 3885: 'scorching', 3886: 'seeking', 3887: 'sereno', 3888: 'strange', 3889: 'students', 3890: 'air', 3891: 'autos', 3892: 'disc', 3893: 'hovering', 3894: 'marriage', 3895: 'moller', 3896: 'passenger', 3897: 'skycar', 3898: 'travel', 3899: 'calculus', 3900: 'greg', 3901: 'lynn', 3902: 'mathematical', 3903: 'queens', 3904: 'tea', 3905: 'titanium', 3906: 'gallery', 3907: 'inform', 3908: 'juxtapositions', 3909: 'reach', 3910: 'rob', 3911: 'seeing', 3912: 'snapshots', 3913: 'within', 3914: 'bends', 3915: 'cartoon', 3916: 'comics', 3917: 'diversions', 3918: 'format', 3919: 'futures', 3920: 'imagined', 3921: 'mccloud', 3922: 'scott', 3923: 'baking', 3924: 'batch', 3925: 'bread', 3926: 'cordial', 3927: 'couplings', 3928: 'crust', 3929: 'daily', 3930: 'master', 3931: 'reinhart', 3932: 'slice', 3933: 'staple', 3934: 'starch', 3935: 'wheat', 3936: 'yeast', 3937: 'anyway', 3938: 'artificial', 3939: 'authentic', 3940: 'authenticity', 3941: 'buy', 3942: 'customers', 3943: 'customization', 3944: 'pine', 3945: 'tough', 3946: '...)', 3947: 'album', 3948: 'citibank', 3949: 'having', 3950: 'logo', 3951: 'paula', 3952: 'scher', 3953: 'carson', 3954: 'deck', 3955: 'discovery', 3956: 'ending', 3957: 'helps', 3958: 'pack', 3959: 'quite', 3960: 'slide', 3961: 'sociologist', 3962: 'cascio', 3963: 'jamais', 3964: 'specific', 3965: 'expect', 3966: 'grape', 3967: 'least', 3968: 'noir', 3969: 'pinot', 3970: 'primer', 3971: 'schuler', 3972: 'tastier', 3973: 'wines', 3974: '12', 3975: 'ahead', 3976: 'meditates', 3977: 'selves', 3978: 'acoustic', 3979: 'invented', 3980: 'inventions', 3981: 'lrad', 3982: 'norris', 3983: 'range', 3984: 'untraditional', 3985: 'woody', 3986: 'application', 3987: 'bacteria', 3988: 'caused', 3989: 'coverage', 3990: 'culprit', 3991: 'extinctions', 3992: 'hypothesis', 3993: 'interesting', 3994: 'lowly', 3995: 'medea', 3996: 'poison', 3997: 'sulfide', 3998: 'ward', 3999: 'aimee', 4000: 'archive', 4001: 'carbon', 4002: 'cross', 4003: 'fiber', 4004: 'finish', 4005: 'mullins', 4006: 'paralympic', 4007: 'prototype', 4008: 'record', 4009: 'runner', 4010: 'sprinter', 4011: '60', 4012: 'avian', 4013: 'derisi', 4014: 'diagnose', 4015: 'illnesses', 4016: 'infections', 4017: 'joe', 4018: 'malaria', 4019: 'sars', 4020: 'treat', 4021: 'undiagnosed', 4022: 'viral', 4023: 'breton', 4024: 'cape', 4025: 'clapping', 4026: 'donnell', 4027: 'fiddling', 4028: 'leahy', 4029: 'style', 4030: 'tradition', 4031: 'tunes', 4032: 'gross', 4033: 'haven', 4034: 'idealab', 4035: 'kits', 4036: 'solved', 4037: 'consider', 4038: 'gates', 4039: 'philanthropy', 4040: 'artists', 4041: 'elizabeth', 4042: 'geniuses', 4043: 'impossible', 4044: 'radical', 4045: 'rare', 4046: 'surprisingly', 4047: 'breaking', 4048: 'della', 4049: 'dives', 4050: 'francesca', 4051: 'glaser', 4052: 'milton', 4053: 'painting', 4054: 'piero', 4055: 'poster', 4056: 'computerized', 4057: 'cookie', 4058: 'grad', 4059: 'merrill', 4060: 'shuffle', 4061: 'siftables', 4062: 'stack', 4063: 'student', 4064: 'tiles', 4065: 'antidote', 4066: 'backfire', 4067: 'bureaucracy', 4068: 'call', 4069: 'powerfully', 4070: '2009', 4071: 'ballot', 4072: 'banks', 4073: 'exchange', 4074: 'keener', 4075: 'labs', 4076: 'mega', 4077: 'reboot', 4078: 'say', 4079: 'stock', 4080: 'toppling', 4081: 'abreu', 4082: 'antonio', 4083: 'charismatic', 4084: 'josé', 4085: 'orchestra', 4086: 'thousands', 4087: 'transformed', 4088: 'venezuela', 4089: 'youth', 4090: '2nd', 4091: 'arturo', 4092: 'carreño', 4093: 'danzón', 4094: 'dudamel', 4095: 'el', 4096: 'gustavo', 4097: 'musicians', 4098: 'márquez', 4099: 'shostakovich', 4100: 'sistema', 4101: 'symphony', 4102: 'teresa', 4103: 'earle', 4104: 'sylvia', 4105: 'accelerate', 4106: 'seti', 4107: 'sign', 4108: 'tarter', 4109: 'allowed', 4110: 'brad', 4111: 'button', 4112: 'curious', 4113: 'digitally', 4114: 'domain', 4115: 'ed', 4116: 'effects', 4117: 'oscar', 4118: 'pitt', 4119: 'ulbrich', 4120: 'versions', 4121: 'algalita', 4122: 'capt', 4123: 'choking', 4124: 'debris', 4125: 'drawing', 4126: 'endless', 4127: 'floating', 4128: 'garbage', 4129: 'moore', 4130: 'patch', 4131: 'seas', 4132: 'trash', 4133: 'cliffs', 4134: 'coral', 4135: 'diving', 4136: 'explore', 4137: 'illuminating', 4138: 'pioneered', 4139: 'pyle', 4140: 'reefs', 4141: 'undiscovered', 4142: 'herself', 4143: 'industrial', 4144: 'kim', 4145: 'miru', 4146: 'nude', 4147: 'ruins', 4148: 'sharp', 4149: 'underneath', 4150: '10x', 4151: 'evan', 4152: 'exploded', 4153: 'twitter', 4154: 'williams', 4155: 'aimed', 4156: 'boys', 4157: 'brenda', 4158: 'girls', 4159: 'laurel', 4160: 'top', 4161: 'blueprint', 4162: 'borneo', 4163: 'challenged', 4164: 'clearcut', 4165: 'content', 4166: 'core', 4167: 'fragile', 4168: 'grounds', 4169: 'orangutans', 4170: 'piecing', 4171: 'please', 4172: 'puzzle', 4173: 'rainforest', 4174: 'response', 4175: 'restoring', 4176: 'saving', 4177: 'smits', 4178: 'thrilling', 4179: 'willie', 4180: '—', 4181: 'canopy', 4182: 'dance', 4183: 'ecosystem', 4184: 'findings', 4185: 'nadkarni', 4186: 'nalini', 4187: 'thrives', 4188: 'treetops', 4189: 'degraded', 4190: 'dirty', 4191: 'horrifying', 4192: 'host', 4193: 'job', 4194: 'mike', 4195: 'rowe', 4196: 'unjustifiably', 4197: 'chart', 4198: 'crossover', 4199: 'eric', 4200: 'evanescence', 4201: 'jazz', 4202: 'keys', 4203: 'lewis', 4204: 'sets', 4205: 'shattering', 4206: 'ted2009', 4207: 'topper', 4208: 'cues', 4209: 'emotion', 4210: 'incisive', 4211: 'names', 4212: 'buzz', 4213: 'interaction', 4214: 'maes', 4215: 'mistry', 4216: 'pattie', 4217: 'paves', 4218: 'pranav', 4219: 'profound', 4220: 'projector', 4221: 'report', 4222: 'spearheaded', 4223: 'wearable', 4224: 'athlete', 4225: 'dozen', 4226: 'extra', 4227: 'grant', 4228: 'height', 4229: 'inches', 4230: 'pairs', 4231: 'redefines', 4232: 'superpowers', 4233: 'adults', 4234: 'fantasy', 4235: 'flirtation', 4236: 'plenty', 4237: 'roughhousing', 4238: 'smarter', 4239: 'stuart', 4240: 'ago', 4241: 'berners', 4242: 'numbers', 4243: 'pictures', 4244: 'unlock', 4245: 'babies', 4246: 'cake', 4247: 'counterintuitive', 4248: 'cute', 4249: 'hurley', 4250: 'jokes', 4251: 'matthew', 4252: 'reasoning', 4253: 'ariely', 4254: 'behavioral', 4255: 'bugs', 4256: 'cheat', 4257: 'grasp', 4258: 'influenced', 4259: 'irrational', 4260: 'ok', 4261: 'predictably', 4262: 'reasons', 4263: 'steal', 4264: 'dodo', 4265: 'double', 4266: 'fascination', 4267: 'obsessive', 4268: '08', 4269: 'brisk', 4270: 'bruce', 4271: 'faux', 4272: 'happened', 4273: 'mccall', 4274: 'narrates', 4275: 'nostalgic', 4276: 'paints', 4277: 'polo', 4278: 'retro', 4279: 'rms', 4280: 'tanks', 4281: 'tyrannic', 4282: 'arrangement', 4283: 'houseplants', 4284: 'kamal', 4285: 'measurably', 4286: 'meattle', 4287: 'result', 4288: 'used', 4289: 'brief', 4290: 'makani', 4291: 'renewable', 4292: 'turbines', 4293: 'dreams', 4294: 'encounter', 4295: 'escaping', 4296: 'fulfilled', 4297: 'married', 4298: 'nairobi', 4299: 'prostitute', 4300: 'slum', 4301: 'bills', 4302: 'blood', 4303: 'boost', 4304: 'handy', 4305: 'lower', 4306: 'rounds', 4307: 'coach', 4308: 'poetry', 4309: 'pursue', 4310: 'quotes', 4311: 'ucla', 4312: 'among', 4313: 'discovering', 4314: 'emerge', 4315: 'hunter', 4316: 'hunters', 4317: 'outwitting', 4318: 'pandemic', 4319: 'passing', 4320: 'staying', 4321: 'steps', 4322: 'subsistence', 4323: 'wolfe', 4324: 'c', 4325: 'colors', 4326: 'literal', 4327: 'loves', 4328: 'neighbors', 4329: 'odd', 4330: 'reads', 4331: 'resentments', 4332: 'scenes', 4333: 'ted2001', 4334: '%.', 4335: 'awards', 4336: 'circulation', 4337: 'europe', 4338: 'jacek', 4339: 'newspaper', 4340: 'polish', 4341: 'redesigns', 4342: 'utko', 4343: 'win', 4344: '100mph', 4345: 'canyons', 4346: 'daring', 4347: 'exhilarating', 4348: 'gegenschatz', 4349: 'jawdropping', 4350: 'jumping', 4351: 'skydivers', 4352: 'soar', 4353: 'sports', 4354: 'ueli', 4355: 'unbelievable', 4356: 'wingsuit', 4357: 'airstream', 4358: 'classic', 4359: 'deam', 4360: 'makeover', 4361: 'trailer', 4362: 'combat', 4363: 'fiction', 4364: 'fictitious', 4365: 'p', 4366: 'realities', 4367: 'scenarios', 4368: 'w', 4369: 'widespread', 4370: 'kahn', 4371: 'louis', 4372: 'nathaniel', 4373: 'bueno', 4374: 'correctly', 4375: 'crisp', 4376: 'events', 4377: 'explanation', 4378: 'intifada', 4379: 'iran', 4380: 'mesquita', 4381: 'predictions', 4382: 'shifts', 4383: 'attacks', 4384: 'bassler', 4385: 'bonnie', 4386: 'coordinate', 4387: 'mount', 4388: 'comedian', 4389: 'connects', 4390: 'fixed', 4391: 'hilariously', 4392: 'holes', 4393: 'levine', 4394: 'ping', 4395: 'poking', 4396: 'trickster', 4397: 'truths', 4398: 'breaks', 4399: 'gleeson', 4400: 'poignant', 4401: 'renny', 4402: 'tweet', 4403: '2020', 4404: 'agassi', 4405: 'auto', 4406: 'emissions', 4407: 'shai', 4408: 'biotech', 4409: 'dolly', 4410: 'ethicist', 4411: 'looked', 4412: 'sheep', 4413: 'stuffed', 4414: 'allosphere', 4415: 'detect', 4416: 'dive', 4417: 'electron', 4418: 'elements', 4419: 'interpret', 4420: 'joann', 4421: 'kuchera', 4422: 'morin', 4423: 'previously', 4424: 'spin', 4425: 'ferriss', 4426: 'childs', 4427: 'climber', 4428: 'climbing', 4429: 'pointers', 4430: 'tips', 4431: 'veteran', 4432: 'amazements', 4433: 'celebrating', 4434: 'creation', 4435: 'crochet', 4436: 'geometry', 4437: 'hyperbolic', 4438: 'margaret', 4439: 'reef', 4440: 'technique', 4441: 'underlying', 4442: 'wertheim', 4443: 'diffrient', 4444: 'niels', 4445: 'pilot', 4446: 'reason', 4447: 'elections', 4448: 'erik', 4449: 'googlemap', 4450: 'hersman', 4451: 'kenyans', 4452: 'mashup', 4453: 'tedu', 4454: 'texts', 4455: 'track', 4456: 'ushahidi', 4457: 'collide', 4458: 'country', 4459: 'ends', 4460: 'nate', 4461: 'obama', 4462: 'presidential', 4463: 'silver', 4464: 'votes', 4465: 'cartoonist', 4466: 'comic', 4467: 'foibles', 4468: 'katchor', 4469: 'perceptive', 4470: 'strips', 4471: 'switches', 4472: 'dismal', 4473: 'divided', 4474: 'globalization', 4475: 'prosperous', 4476: 'shaping', 4477: 'shines', 4478: 'tabarrok', 4479: 'enhance', 4480: 'function', 4481: 'harness', 4482: 'merzenich', 4483: 'plasticity', 4484: 'recover', 4485: 'actress', 4486: 'channels', 4487: 'dominican', 4488: 'elderly', 4489: 'jewish', 4490: 'jones', 4491: 'opinionated', 4492: 'sample', 4493: 'sarah', 4494: 'spectacular', 4495: 'laurie', 4496: 'plague', 4497: 'suddenly', 4498: 'worried', 4499: 'attempted', 4500: 'repairs', 4501: 'supercollider', 4502: 'underway', 4503: 'analyzing', 4504: 'fatality', 4505: 'frequency', 4506: 'gourley', 4507: 'incidents', 4508: 'linking', 4509: 'raw', 4510: 'sean', 4511: 'strong', 4512: 'astronaut', 4513: 'collector', 4514: 'dancer', 4515: 'educators', 4516: 'intuition', 4517: 'jemison', 4518: 'logic', 4519: 'mae', 4520: 'sciences', 4521: 'thinkers', 4522: 'defying', 4523: 'earthly', 4524: 'floats', 4525: 'gravity', 4526: 'heavenly', 4527: 'otherworldly', 4528: 'planets', 4529: 'sculpture', 4530: 'shannon', 4531: 'suspension', 4532: 'stance', 4533: 'updated', 4534: 'worrying', 4535: 'bakeries', 4536: 'celebrate', 4537: 'environmentally', 4538: 'feed', 4539: 'fresco', 4540: 'leave', 4541: 'methods', 4542: 'produced', 4543: 'role', 4544: 'supermarket', 4545: 'distant', 4546: 'ended', 4547: 'revived', 4548: 'tribes', 4549: 'caresses', 4550: 'expressive', 4551: 'pounds', 4552: 'sky', 4553: 'strings', 4554: 'winners', 4555: 'deadliest', 4556: 'factors', 4557: 'untangle', 4558: 'visuals', 4559: 'brands', 4560: 'breakneck', 4561: 'determine', 4562: 'infosys', 4563: 'nandan', 4564: 'nilekani', 4565: 'outsourcing', 4566: 'progress', 4567: '7', 4568: 'b', 4569: 'baby', 4570: 'beatboxes', 4571: 'fly', 4572: 'groove', 4573: 'naturally', 4574: 'smooth', 4575: 'carpet', 4576: 'commerce', 4577: 'doubled', 4578: 'increased', 4579: 'profits', 4580: 'sales', 4581: 'understated', 4582: 'decisions', 4583: 'rational', 4584: 'visual', 4585: 'advised', 4586: 'bonk', 4587: 'centuries', 4588: 'claims', 4589: 'climax', 4590: 'discretion', 4591: 'obscure', 4592: 'ranging', 4593: 'roach', 4594: 'gathered', 4595: 'geysers', 4596: 'harbor', 4597: 'hint', 4598: 'icy', 4599: 'samples', 4600: 'surface', 4601: 'sweep', 4602: 'childhoods', 4603: 'forrest', 4604: 'kick', 4605: 'mission', 4606: 'motorcycle', 4607: 'unveil', 4608: 'delayed', 4609: 'gratification', 4610: 'hardest', 4611: 'joachim', 4612: 'landmark', 4613: 'marshmallow', 4614: 'posada', 4615: 'priceless', 4616: 'trying', 4617: 'audio', 4618: 'english', 4619: 'rehearsing', 4620: 'spine', 4621: 'tingling', 4622: 'granted', 4623: 'michelle', 4624: 'bank', 4625: 'date', 4626: 'dwindling', 4627: 'encourages', 4628: 'essential', 4629: 'millennium', 4630: 'reminding', 4631: 'seeds', 4632: 'stored', 4633: 'breakout', 4634: 'female', 4635: 'kaki', 4636: 'king', 4637: 'meets', 4638: 'noise', 4639: 'pink', 4640: 'rocks', 4641: 'rolling', 4642: 'virtuosity', 4643: 'areas', 4644: 'bennington', 4645: 'bucking', 4646: 'coleman', 4647: 'disciplinary', 4648: 'dynamically', 4649: 'higher', 4650: 'increasingly', 4651: 'narrow', 4652: 'push', 4653: 'trend', 4654: 'advances', 4655: 'benefit', 4656: 'guide', 4657: 'oncoming', 4658: 'recession', 4659: 'singularity', 4660: 'above', 4661: 'aerial', 4662: 'arthus', 4663: 'bertrand', 4664: 'featured', 4665: 'habitat', 4666: 'yann', 4667: 'battle', 4668: 'enjoyed', 4669: 'felix', 4670: 'haunting', 4671: 'madcap', 4672: 'memories', 4673: 'racy', 4674: 'repentant', 4675: 'revisiting', 4676: 'roars', 4677: 'scars', 4678: 'shot', 4679: 'wine', 4680: 'won', 4681: 'alcorn', 4682: 'declining', 4683: 'malthus', 4684: 'pete', 4685: 'populations', 4686: 'accidents', 4687: 'conserve', 4688: 'grou', 4689: 'ingenious', 4690: 'microprocessors', 4691: 'outlets', 4692: 'rfid', 4693: 'safeplug', 4694: 'smarten', 4695: 'tags', 4696: 'drywall', 4697: 'ecorock', 4698: 'efficient', 4699: 'generated', 4700: 'introduces', 4701: 'manufacturing', 4702: 'recyclable', 4703: 'reduce', 4704: 'surace', 4705: 'wallboard', 4706: 'achieve', 4707: 'circumstances', 4708: 'effect', 4709: 'etcoff', 4710: 'nancy', 4711: 'untethered', 4712: 'gecko', 4713: 'harbors', 4714: 'perhaps', 4715: 'skill', 4716: 'supersticky', 4717: 'tail', 4718: 'tenacious', 4719: 'candid', 4720: 'constant', 4721: 'fall', 4722: 'lesson', 4723: 'typically', 4724: 'valuable', 4725: 'environments', 4726: 'harshest', 4727: 'poynter', 4728: 'provoked', 4729: 'sustain', 4730: 'briefly', 4731: 'bypassing', 4732: 'censors', 4733: 'citizens', 4734: 'control', 4735: 'facebook', 4736: 'regimes', 4737: 'repressive', 4738: 'streams', 4739: 'benscoter', 4740: 'conflicts', 4741: 'cult', 4742: 'diane', 4743: 'extremist', 4744: 'moonie', 4745: 'troubling', 4746: 'antiseptic', 4747: 'catherine', 4748: 'incisions', 4749: 'mohr', 4750: 'nimble', 4751: 'painkiller', 4752: 'performed', 4753: 'pre', 4754: 'squeamish', 4755: 'surgery', 4756: 'electone', 4757: 'features', 4758: 'fellows', 4759: 'oranges', 4760: 'orchestral', 4761: 'organ', 4762: 'programmed', 4763: 'prokofiev', 4764: 'qi', 4765: 'rendering', 4766: 'ridiculous', 4767: 'specially', 4768: 'stagea', 4769: 'yamaha', 4770: 'zhang', 4771: 'calibrate', 4772: 'disregard', 4773: 'improving', 4774: 'orient', 4775: 'outlook', 4776: 'rooted', 4777: 'trait', 4778: '@', 4779: 'chaos', 4780: 'current', 4781: 'torn', 4782: 'wreck', 4783: 'crowd', 4784: 'fulton', 4785: 'katherine', 4786: 'scarce', 4787: 'sketches', 4788: 'uplifting', 4789: '33', 4790: 'enthusiastic', 4791: 'snow', 4792: 'sprint', 4793: 'zahab', 4794: 'proposal', 4795: 'teacher', 4796: 'boats', 4797: 'bridges', 4798: 'coaster', 4799: 'guidance', 4800: 'imaginations', 4801: 'roller', 4802: 'libeskind', 4803: 'risky', 4804: 'underlie', 4805: 'archival', 4806: 'demetrios', 4807: 'eames', 4808: 'furniture', 4809: 'grandson', 4810: 'houses', 4811: 'midcentury', 4812: 'feelings', 4813: 'information', 4814: 'wujec', 4815: 'cambodia', 4816: 'cunning', 4817: 'determination', 4818: 'ear', 4819: 'escape', 4820: 'khmer', 4821: 'rouge', 4822: 'sophal', 4823: 'anthrax', 4824: 'antibiotics', 4825: 'chemist', 4826: 'failed', 4827: 'friend', 4828: 'hospitals', 4829: 'staph', 4830: '1960s', 4831: '70s', 4832: 'debate', 4833: 'foretaste', 4834: 'geo', 4835: 'major', 4836: 'modification', 4837: 'positions', 4838: 'provoke', 4839: 'rethinking', 4840: 'usher', 4841: 'begins', 4842: 'distance', 4843: 'eliasson', 4844: 'famous', 4845: 'olafur', 4846: 'palette', 4847: 'perception', 4848: 'scale', 4849: 'waterfalls', 4850: 'adult', 4851: 'bone', 4852: 'conditions', 4853: 'donor', 4854: 'emphasizes', 4855: 'harvests', 4856: 'kraft', 4857: 'marrow', 4858: 'miner', 4859: 'minimal', 4860: 'parkinson', 4861: 'stem', 4862: 'terminal', 4863: 'chillingly', 4864: 'fallon', 4865: 'jim', 4866: 'killers', 4867: 'murderers', 4868: 'nurture', 4869: 'psychopathic', 4870: 'rotten', 4871: 'scans', 4872: 'tick', 4873: 'uncover', 4874: 'wiring', 4875: 'adaptation', 4876: 'climates', 4877: 'darwin', 4878: 'differing', 4879: 'disagreed', 4880: 'jablonski', 4881: 'nina', 4882: 'uv', 4883: 'varied', 4884: 'confront', 4885: 'ethic', 4886: 'interconnectedness', 4887: 'prime', 4888: 'alain', 4889: 'assumptions', 4890: 'botton', 4891: 'earned', 4892: 'eloquent', 4893: 'judgments', 4894: 'snobbery', 4895: 'artworks', 4896: 'delight', 4897: 'robotics', 4898: 'sounds', 4899: 'accepted', 4900: 'ape', 4901: 'aquatic', 4902: 'dwelt', 4903: 'elaine', 4904: 'morgan', 4905: 'primate', 4906: 'proponent', 4907: 'statements', 4908: 'watery', 4909: 'widely', 4910: 'boggling', 4911: 'described', 4912: 'difficult', 4913: 'discover', 4914: 'drove', 4915: 'lonely', 4916: 'microscope', 4917: 'naked', 4918: 'wigan', 4919: 'willard', 4920: 'drinkable', 4921: 'drinking', 4922: 'filter', 4923: 'lacks', 4924: 'lifesaver', 4925: 'pritchard', 4926: 'revolting', 4927: 'seconds', 4928: 'administrative', 4929: 'bay', 4930: 'coalition', 4931: 'governed', 4932: 'guantánamo', 4933: 'hong', 4934: 'kong', 4935: 'romer', 4936: 'struggling', 4937: 'zones', 4938: 'aerodynamic', 4939: 'cue', 4940: 'dozens', 4941: 'inventors', 4942: 'waterproof', 4943: 'emmanuel', 4944: 'fought', 4945: 'jal', 4946: 'rescued', 4947: 'sudan', 4948: 'worker', 4949: 'managers', 4950: 'rewards', 4951: 'cable', 4952: 'giler', 4953: 'pacemaker', 4954: 'recharge', 4955: 'version', 4956: 'witricity', 4957: 'bailout', 4958: 'bubble', 4959: 'burst', 4960: 'china', 4961: 'mixed', 4962: 'summer', 4963: 'inventive', 4964: 'multimedia', 4965: 'natasha', 4966: 'projected', 4967: 'reality', 4968: 'tsakos', 4969: 'upwake', 4970: 'buried', 4971: 'cary', 4972: 'crop', 4973: 'fowler', 4974: 'mountain', 4975: 'norway', 4976: 'rice', 4977: 'svalbard', 4978: 'treasury', 4979: 'vault', 4980: 'adjustable', 4981: 'affordable', 4982: 'brilliantly', 4983: 'eyeglasses', 4984: 'josh', 4985: 'lenses', 4986: 'lowest', 4987: 'bootstrap', 4988: 'funds', 4989: 'geoff', 4990: 'industries', 4991: 'mulgan', 4992: 'poses', 4993: 'responsible', 4994: 'sending', 4995: 'socially', 4996: 'stimulus', 4997: 'cymatics', 4998: 'dolphin', 4999: 'soundwaves', 5000: 'bigger', 5001: 'falls', 5002: 'flips', 5003: 'highest', 5004: 'pushing', 5005: 'safer', 5006: 'stunts', 5007: 'truglia', 5008: 'balog', 5009: 'glaciers', 5010: 'lapse', 5011: 'receding', 5012: 'sequences', 5013: 'survey', 5014: 'vivid', 5015: 'blunt', 5016: 'braved', 5017: 'highlight', 5018: 'icecap', 5019: 'melting', 5020: 'pugh', 5021: 'speedo', 5022: 'supercold', 5023: 'swim', 5024: 'swims', 5025: 'waters', 5026: 'judges', 5027: 'motives', 5028: 'peoples', 5029: 'rebecca', 5030: 'saxe', 5031: 'sensing', 5032: 'uncovers', 5033: 'improv', 5034: 'sit', 5035: 'transport', 5036: 'vaid', 5037: 'vishal', 5038: 'cartels', 5039: 'courageous', 5040: 'crime', 5041: 'enforcement', 5042: 'estimated', 5043: 'glenny', 5044: 'insiders', 5045: 'law', 5046: 'mafia', 5047: 'misha', 5048: 'officials', 5049: 'russian', 5050: 'sources', 5051: 'bjarke', 5052: 'blocking', 5053: 'flashy', 5054: 'ingels', 5055: 'mingled', 5056: 'views', 5057: 'wind', 5058: 'lloyd', 5059: 'meet', 5060: 'mix', 5061: 'mysteries', 5062: 'plucks', 5063: 'quips', 5064: 'substance', 5065: 'tack', 5066: 'bonnet', 5067: 'hallucinations', 5068: 'heartwarming', 5069: 'impaired', 5070: 'lucid', 5071: 'neurologist', 5072: 'oliver', 5073: 'patients', 5074: 'reported', 5075: 'sacks', 5076: 'syndrome', 5077: 'visually', 5078: 'ellipse', 5079: 'heap', 5080: 'imogen', 5081: 'stripped', 5082: 'wait', 5083: 'begs', 5084: 'differ', 5085: 'disinterested', 5086: 'kindness', 5087: 'theorist', 5088: 'zittrain', 5089: 'assumption', 5090: 'chilling', 5091: 'dissent', 5092: 'evgeny', 5093: 'ipod', 5094: 'liberalism', 5095: 'morozov', 5096: 'oppressive', 5097: 'promotes', 5098: 'punctures', 5099: 'stifle', 5100: '22', 5101: 'boy', 5102: 'commit', 5103: 'convicted', 5104: 'crimes', 5105: 'exhibits', 5106: 'kept', 5107: 'locations', 5108: 'otherwise', 5109: 'portraits', 5110: 'simon', 5111: 'taryn', 5112: 'against', 5113: 'charity', 5114: 'entrepreneurial', 5115: 'foreign', 5116: 'markets', 5117: 'middle', 5118: 'mistrust', 5119: 'pits', 5120: 'promising', 5121: 'reliance', 5122: 'border', 5123: 'khanna', 5124: 'longer', 5125: 'maps', 5126: 'parag', 5127: 'root', 5128: 'solutions', 5129: '19th', 5130: 'brunel', 5131: 'example', 5132: 'fashionable', 5133: 'isambard', 5134: 'kingdom', 5135: 'nifty', 5136: 'profession', 5137: 'thinker', 5138: '21st', 5139: 'catalysts', 5140: 'divide', 5141: 'dogmas', 5142: 'faiths', 5143: 'rediscover', 5144: 'reviews', 5145: 'unite', 5146: 'weeks', 5147: 'behave', 5148: 'discipline', 5149: 'emitted', 5150: 'garik', 5151: 'israelian', 5152: 'spectroscopist', 5153: 'spectrum', 5154: 'bali', 5155: 'refresh', 5156: 'rejuvenate', 5157: 'sabbatical', 5158: 'studio', 5159: 'value', 5160: 'yearlong', 5161: 'meals', 5162: 'miracle', 5163: 'routes', 5164: 'served', 5165: 'shaped', 5166: 'steel', 5167: 'bureau', 5168: 'driver', 5169: 'kinds', 5170: 'license', 5171: 'logan', 5172: 'tendencies', 5173: 'tribal', 5174: 'workplaces', 5175: 'adichie', 5176: 'chimamanda', 5177: 'composed', 5178: 'misunderstanding', 5179: 'overlapping', 5180: 'warns', 5181: 'beau', 5182: 'hand', 5183: 'lotto', 5184: 'normally', 5185: 'sight', 5186: 'spotlight', 5187: 'tints', 5188: 'versatile', 5189: 'custom', 5190: 'grab', 5191: 'hangouts', 5192: 'manspaces', 5193: 'quirky', 5194: 'relax', 5195: 'sam', 5196: 'trending', 5197: 'xy', 5198: '400', 5199: 'accurate', 5200: 'block', 5201: 'delivery', 5202: 'ecology', 5203: 'hills', 5204: 'hudson', 5205: 'mannahatta', 5206: 'rivers', 5207: 'sanderson', 5208: 'wetland', 5209: 'wildlife', 5210: 'expressions', 5211: 'hanson', 5212: 'yours', 5213: 'adds', 5214: 'advertising', 5215: 'assertion', 5216: 'perceived', 5217: 'rory', 5218: 'satisfying', 5219: 'sutherland', 5220: '“', 5221: '”', 5222: 'henry', 5223: 'illness', 5224: 'markram', 5225: 'models', 5226: 'neurons', 5227: 'signals', 5228: 'supercomputer', 5229: 'synapses', 5230: 'affects', 5231: 'awful', 5232: 'julian', 5233: 'noisy', 5234: 'offices', 5235: 'pleasant', 5236: 'significant', 5237: 'treasure', 5238: 'businesses', 5239: 'evolving', 5240: 'financial', 5241: 'gerzema', 5242: 'identifies', 5243: 'positive', 5244: 'spending', 5245: 'upside', 5246: 'constructed', 5247: 'debevec', 5248: 'graphics', 5249: 'realistic', 5250: 'scene', 5251: 'stealing', 5252: 'trailblazer', 5253: '20th', 5254: 'conductor', 5255: 'conductors', 5256: 'illustrating', 5257: 'itay', 5258: 'saying', 5259: 'six', 5260: 'styles', 5261: 'talgam', 5262: 'word', 5263: '1', 5264: 'koska', 5265: 'marc', 5266: 'reuse', 5267: 'syringe', 5268: 'syringes', 5269: 'twice', 5270: 'equally', 5271: 'goldin', 5272: 'hurtling', 5273: 'improved', 5274: 'integrated', 5275: 'possibility', 5276: 'towards', 5277: 'glacial', 5278: 'subtle', 5279: 'tens', 5280: 'understood', 5281: 'grows', 5282: 'inert', 5283: 'outgrow', 5284: 'rachel', 5285: 'sequesters', 5286: 'sinking', 5287: 'becky', 5288: 'blanton', 5289: 'camping', 5290: 'freelance', 5291: 'homeless', 5292: 'homelessness', 5293: 'intimate', 5294: 'van', 5295: 'arabesque', 5296: 'du', 5297: 'marcus', 5298: 'marry', 5299: 'sautoy', 5300: 'subatomic', 5301: 'symmetrical', 5302: 'symmetry', 5303: 'bands', 5304: 'brass', 5305: 'cutting', 5306: 'euph', 5307: 'euphonium', 5308: 'heard', 5309: 'inflected', 5310: 'loose', 5311: 'mcintosh', 5312: 'nat', 5313: 'prodigy', 5314: 'warrior', 5315: 'barriers', 5316: 'broadbent', 5317: 'capable', 5318: 'communication', 5319: 'cultivating', 5320: 'deeper', 5321: 'im', 5322: 'intimacy', 5323: 'relationships', 5324: 'spoiling', 5325: 'stefana', 5326: 'texting', 5327: 'workplace', 5328: 'worry', 5329: 'estate', 5330: 'laborers', 5331: 'megaprojects', 5332: 'migrant', 5333: 'penniless', 5334: 'stranded', 5335: 'unreported', 5336: 'atmospheric', 5337: 'contributed', 5338: 'effort', 5339: 'headlines', 5340: 'molecule', 5341: 'pike', 5342: 'endgame', 5343: 'engine', 5344: 'peak', 5345: 'pipeline', 5346: 'wellhead', 5347: '\"-', 5348: 'arab', 5349: 'competitions', 5350: 'cynthia', 5351: 'emirates', 5352: 'idol', 5353: 'schneider', 5354: 'united', 5355: 'paradigm', 5356: 'sixthsense', 5357: 'tedindia', 5358: 'antibiotic', 5359: 'asthma', 5360: 'ball', 5361: 'chief', 5362: 'layered', 5363: 'lehanneur', 5364: 'mathieu', 5365: 'naming', 5366: 'neutralizing', 5367: 'pill', 5368: 'selection', 5369: 'treatment', 5370: 'manual', 5371: 'miurin', 5372: 'salon', 5373: 'wicker', 5374: 'consistently', 5375: 'devdutt', 5376: 'fundamentally', 5377: 'misunderstand', 5378: 'pattanaik', 5379: 'west', 5380: 'astrolabe', 5381: 'devices', 5382: 'earliest', 5383: 'night', 5384: '1858', 5385: 'asia', 5386: 'capacities', 5387: 'dominant', 5388: 'exact', 5389: 'guest', 5390: 'outstrip', 5391: 'reclaim', 5392: 'communities', 5393: 'fossil', 5394: 'fuels', 5395: 'hopkins', 5396: 'luxuries', 5397: 'prepare', 5398: 'running', 5399: 'steadily', 5400: 'transition', 5401: 'harsh', 5402: 'larsson', 5403: 'magnus', 5404: 'sahara', 5405: 'sand', 5406: 'mallika', 5407: 'politician', 5408: 'sarabhai', 5409: 'transformative', 5410: 'army', 5411: 'bollywood', 5412: 'hearts', 5413: 'shashi', 5414: 'soft', 5415: 'superpower', 5416: 'tharoor', 5417: 'calling', 5418: 'consideration', 5419: 'elected', 5420: 'greater', 5421: 'individual', 5422: 'interests', 5423: 'nationally', 5424: 'patriotic', 5425: 'reconciled', 5426: 'tedtalk', 5427: 'adaptive', 5428: 'andrea', 5429: 'astronomers', 5430: 'ghez', 5431: 'keck', 5432: 'lurking', 5433: 'milky', 5434: 'optics', 5435: 'supermassive', 5436: 'anupam', 5437: 'aqueducts', 5438: 'harvest', 5439: 'mishra', 5440: 'stepwells', 5441: 'superior', 5442: 'famed', 5443: 'maker', 5444: 'sampling', 5445: 'types', 5446: 'dedicated', 5447: 'krishnan', 5448: 'multimilion', 5449: 'rescuing', 5450: 'sex', 5451: 'slavery', 5452: 'sunitha', 5453: 'victims', 5454: 'barack', 5455: 'biting', 5456: 'bremner', 5457: 'bush', 5458: 'catch', 5459: 'convenes', 5460: 'council', 5461: 'funnyman', 5462: 'impressions', 5463: 'lampoons', 5464: 'scottish', 5465: 'booth', 5466: 'characters', 5467: 'clare', 5468: 'conducted', 5469: 'interview', 5470: 'luce', 5471: 'pachter', 5472: 'portrait', 5473: 'smithsonian', 5474: 'aravind', 5475: 'costs', 5476: 'ravilla', 5477: 'revolutionary', 5478: 'thulasiraj', 5479: 'trigger', 5480: 'adding', 5481: 'appropriate', 5482: 'barbie', 5483: 'civilizations', 5484: 'culturally', 5485: 'dividing', 5486: 'dovetail', 5487: 'feki', 5488: 'hybridized', 5489: 'pop', 5490: 'shereen', 5491: 'trademarks', 5492: 'videos', 5493: 'brigades', 5494: 'economics', 5495: 'italian', 5496: 'laundering', 5497: 'loretta', 5498: 'napoleoni', 5499: 'patriot', 5500: 'red', 5501: 'revealing', 5502: 'secretive', 5503: 'sparked', 5504: 'terrorism', 5505: 'delhi', 5506: 'empathy', 5507: 'firefighters', 5508: 'liberian', 5509: 'lobo', 5510: 'peacekeepers', 5511: 'perseverance', 5512: 'reframes', 5513: 'ryan', 5514: 'strength', 5515: 'subjects', 5516: 'traveled', 5517: 'underappreciated', 5518: 'alexis', 5519: 'fable', 5520: 'humpback', 5521: 'makers', 5522: 'marketers', 5523: 'mister', 5524: 'ohanian', 5525: 'pants', 5526: 'reddit', 5527: 'shoo', 5528: 'splashy', 5529: 'stardom', 5530: 'whale', 5531: 'certain', 5532: 'dragonflies', 5533: 'dragonfly', 5534: 'explosions', 5535: 'insect', 5536: 'longest', 5537: 'maldives', 5538: 'migratory', 5539: 'plain', 5540: 'skimmer', 5541: 'sudden', 5542: 'tracked', 5543: 'aphorism', 5544: 'aristotle', 5545: 'elvis', 5546: 'fixture', 5547: 'geary', 5548: 'scribes', 5549: 'subtly', 5550: 'waxes', 5551: '1298', 5552: 'ambulance', 5553: 'bribe', 5554: 'eliminating', 5555: 'mather', 5556: 'providing', 5557: 'shaffi', 5558: 'transportation', 5559: 'cowley', 5560: 'fusion', 5561: 'asher', 5562: 'despite', 5563: 'disputes', 5564: 'entering', 5565: 'hasan', 5566: 'hassles', 5567: 'pakistanis', 5568: 'bears', 5569: 'justified', 5570: 'probes', 5571: 'sandel', 5572: 'torture', 5573: 'bif', 5574: 'cat', 5575: 'cleverly', 5576: 'draws', 5577: 'frustration', 5578: 'greek', 5579: 'infrastructure', 5580: 'laine', 5581: 'summit', 5582: 'tantalus', 5583: 'adventurer', 5584: 'dawn', 5585: 'decade', 5586: 'piccard', 5587: 'behaviors', 5588: 'civilization', 5589: 'formed', 5590: 'mirror', 5591: '747', 5592: 'anatomy', 5593: 'boeing', 5594: 'outsized', 5595: 'painstaking', 5596: 'producing', 5597: 'reward', 5598: 'veasey', 5599: 'wildflower', 5600: 'workings', 5601: 'buettner', 5602: 'diet', 5603: 'elders', 5604: 'spry', 5605: 'vigor', 5606: 'vim', 5607: 'cobra', 5608: 'conservationist', 5609: 'gharial', 5610: 'magnificent', 5611: 'reptiles', 5612: 'romulus', 5613: 'waterways', 5614: 'whitaker', 5615: 'alongside', 5616: 'bassist', 5617: 'drummer', 5618: 'hancock', 5619: 'harvey', 5620: 'headhunters', 5621: 'herbie', 5622: 'mason', 5623: 'sweeten', 5624: 'watermelon', 5625: 'carnegie', 5626: 'delivered', 5627: 'last', 5628: 'mellon', 5629: 'pancreatic', 5630: 'pausch', 5631: 'pay', 5632: 'randy', 5633: 'sapolsky', 5634: 'stanford', 5635: 'hopeful', 5636: 'madoff', 5637: 'matt', 5638: 'savings', 5639: 'scam', 5640: 'unexpectedly', 5641: 'weinstein', 5642: 'capturing', 5643: 'cruelty', 5644: 'cubs', 5645: 'kalandar', 5646: 'kartick', 5647: 'practitioners', 5648: 'satyanarayan', 5649: 'significance', 5650: 'sloth', 5651: 'survived', 5652: 'traditionally', 5653: 'training', 5654: 'wider', 5655: 'bir', 5656: 'educate', 5657: 'issues', 5658: 'kiran', 5659: 'riverside', 5660: 'sethi', 5661: 'teaches', 5662: 'hides', 5663: 'katragadda', 5664: 'lalitesh', 5665: 'lands', 5666: 'mapped', 5667: 'roads', 5668: 'slows', 5669: 'unknown', 5670: 'unused', 5671: 'aftermath', 5672: 'contributions', 5673: 'danticat', 5674: 'earlier', 5675: 'earthquake', 5676: 'edwidge', 5677: 'haiti', 5678: 'haitian', 5679: 'midst', 5680: 'reading', 5681: 'struggles', 5682: 'fleischer', 5683: 'honored', 5684: 'hysterical', 5685: 'moleeds', 5686: 'send', 5687: 'stamp', 5688: '!)', 5689: 'blaine', 5690: 'breath', 5691: 'highly', 5692: 'hold', 5693: 'magician', 5694: 'shorter', 5695: 'stuntman', 5696: 'tedmed', 5697: 'agrawal', 5698: 'contemporary', 5699: 'introduction', 5700: 'ravin', 5701: 'variety', 5702: '98', 5703: 'anthony', 5704: 'atala', 5705: 'bio', 5706: 'bioreactor', 5707: 'bladders', 5708: 'f', 5709: 'gizmos', 5710: 'organs', 5711: 'oven', 5712: 'preheat', 5713: 'prints', 5714: 'vessels', 5715: 'corrugated', 5716: 'liveliest', 5717: 'luggage', 5718: 'metal', 5719: 'participation', 5720: 'performances', 5721: 'props', 5722: 'rhythmic', 5723: 'sivamani', 5724: 'spoons', 5725: 'tub', 5726: '1991', 5727: 'institution', 5728: 'magnifies', 5729: 'royal', 5730: 'splendor', 5731: 'bowery', 5732: 'club', 5733: 'everywhere', 5734: 'mali', 5735: 'phrase', 5736: 'slam', 5737: 'apps', 5738: 'davenhall', 5739: 'doctors', 5740: 'dumpsite', 5741: 'gps', 5742: 'impacts', 5743: 'info', 5744: 'loop', 5745: 'rates', 5746: 'records', 5747: 'fantastic', 5748: 'reconfigures', 5749: 'theatrical', 5750: 'adversity', 5751: 'declares', 5752: 'overcome', 5753: 'suppress', 5754: 'chen', 5755: 'incubators', 5756: 'infants', 5757: 'limited', 5758: 'premature', 5759: 'safe', 5760: 'warm', 5761: 'derek', 5762: 'sivers', 5763: 'commencement', 5764: 'deems', 5765: 'dreamers', 5766: 'harry', 5767: 'jk', 5768: 'overachievers', 5769: 'potter', 5770: 'qualification', 5771: 'rowling', 5772: 'blindness', 5773: 'deaths', 5774: 'diabetes', 5775: 'implement', 5776: 'mullainathan', 5777: 'related', 5778: 'sendhil', 5779: 'als', 5780: 'brother', 5781: 'comfort', 5782: 'diagnosed', 5783: 'heywood', 5784: 'website', 5785: 'cumbersome', 5786: 'diagnosis', 5787: 'foolproof', 5788: 'manufactured', 5789: 'regions', 5790: 'virtually', 5791: 'whitesides', 5792: 'agus', 5793: 'atypical', 5794: 'drugs', 5795: 'modeling', 5796: 'protein', 5797: 'sighted', 5798: 'craft', 5799: 'hockenberry', 5800: 'manhattan', 5801: 'onset', 5802: 'tremors', 5803: 'baffling', 5804: 'counter', 5805: 'eigen', 5806: 'glove', 5807: 'pervasive', 5808: 'systematic', 5809: 'traced', 5810: 'transparency', 5811: 'anti', 5812: 'assault', 5813: 'huntington', 5814: 'ignorance', 5815: 'obesity', 5816: 'sugar', 5817: 'augmented', 5818: 'drew', 5819: 'gasps', 5820: 'ted2010', 5821: 'britain', 5822: 'conservative', 5823: 'empowered', 5824: 'governments', 5825: 'leader', 5826: 'tapping', 5827: 'associations', 5828: 'disabled', 5829: 'equate', 5830: 'mutilated', 5831: 'redefine', 5832: 'shinbones', 5833: 'synonyms', 5834: 'thesaurus', 5835: 'useless', 5836: '2050', 5837: 'avoid', 5838: 'backing', 5839: 'catastrophe', 5840: 'describing', 5841: 'dramatically', 5842: 'globally', 5843: 'goal', 5844: 'miracles', 5845: 'reactor', 5846: 'provoking', 5847: 'fear', 5848: 'land', 5849: 'legal', 5850: 'minefield', 5851: 'propositions', 5852: 'simplifying', 5853: 'suits', 5854: 'beds', 5855: 'chronic', 5856: 'highlights', 5857: 'monitor', 5858: 'smartphones', 5859: 'topol', 5860: 'wireless', 5861: 'autism', 5862: 'geeky', 5863: 'grandin', 5864: 'miss', 5865: 'neurotypical', 5866: 'pattern', 5867: 'temple', 5868: 'verbal', 5869: 'blind', 5870: 'develops', 5871: 'neuroscience', 5872: 'pawan', 5873: 'provide', 5874: 'sinha', 5875: 'darling', 5876: 'endearing', 5877: 'honesty', 5878: 'kk', 5879: 'outcast', 5880: 'painter', 5881: 'raghava', 5882: 'reincarnations', 5883: 'son', 5884: 'vulnerability', 5885: 'bobby', 5886: 'festival', 5887: 'mcferrin', 5888: 'min', 5889: 'pentatonic', 5890: 'colonoscopies', 5891: 'differently', 5892: 'kahneman', 5893: 'perceive', 5894: 'remembering', 5895: 'vacations', 5896: 'arrival', 5897: 'bhogle', 5898: 'commentator', 5899: 'contracts', 5900: 'cricket', 5901: 'harsha', 5902: 'owners', 5903: 'paced', 5904: 'parallels', 5905: 'sleepy', 5906: 'browse', 5907: 'browsing', 5908: 'databases', 5909: 'enables', 5910: 'flake', 5911: 'gary', 5912: 'links', 5913: 'pivot', 5914: 'seadragon', 5915: 'zooms', 5916: 'atoms', 5917: 'bbc', 5918: 'enchanting', 5919: 'feynman', 5920: 'jiggling', 5921: 'nano', 5922: 'rubber', 5923: 'avatar', 5924: 'blockbuster', 5925: 'budget', 5926: 'grossing', 5927: 'hits', 5928: 'terminator', 5929: 'titanic', 5930: 'unreal', 5931: 'chu', 5932: 'electrify', 5933: 'jon', 5934: 'legion', 5935: 'lxd', 5936: 'revved', 5937: 'troupe', 5938: '...\"', 5939: 'embrace', 5940: 'rao', 5941: 'srikumar', 5942: 'strive', 5943: 'unhappy', 5944: '2010', 5945: 'institutions', 5946: 'drivers', 5947: 'fifty', 5948: 'intersections', 5949: 'lauder', 5950: 'properties', 5951: 'smoothly', 5952: 'traffic', 5953: 'yield', 5954: 'chefs', 5955: 'chronicles', 5956: 'deadpan', 5957: 'delicious', 5958: 'dilemma', 5959: 'facing', 5960: 'farming', 5961: 'foodie', 5962: 'honeymoon', 5963: 'impeccable', 5964: 'menu', 5965: 'method', 5966: 'outrageously', 5967: 'raised', 5968: 'disturbed', 5969: 'injections', 5970: 'mead', 5971: 'needles', 5972: 'pills', 5973: 'placebos', 5974: 'react', 5975: 'suitable', 5976: 'viewers', 5977: '0', 5978: 'comers', 5979: 'doubt', 5980: 'excuse', 5981: 'expo', 5982: 'formula', 5983: 'simpler', 5984: 'vaynerchuk', 5985: 'enough', 5986: 'induced', 5987: 'potentially', 5988: 'roth', 5989: 'shutting', 5990: 'suspended', 5991: 'trauma', 5992: 'treated', 5993: '1959', 5994: 'booms', 5995: 'circa', 5996: 'computing', 5997: 'dishman', 5998: 'nursing', 5999: 'tethered', 6000: 'unwieldy', 6001: 'adams', 6002: 'california', 6003: 'dolphins', 6004: 'douglas', 6005: 'fickle', 6006: 'lemurs', 6007: 'lovelorn', 6008: 'reclusive', 6009: 'satiric', 6010: 'sparkles', 6011: 'trademark', 6012: 'gamer', 6013: 'heroes', 6014: 'incentive', 6015: 'mcgonigal', 6016: 'warcraft', 6017: '1996', 6018: '36', 6019: 'climbers', 6020: 'climbs', 6021: 'everest', 6022: 'imaging', 6023: 'kamler', 6024: 'roughly', 6025: 'hollywood', 6026: 'kapur', 6027: 'mr', 6028: 'panic', 6029: 'sheer', 6030: 'shekhar', 6031: 'spring', 6032: 'unleash', 6033: 'utter', 6034: 'authority', 6035: 'commonly', 6036: 'constitutes', 6037: 'unanswerable', 6038: 'ferreira', 6039: 'juliana', 6040: 'machado', 6041: 'seized', 6042: 'senior', 6043: 'smugglers', 6044: 'stolen', 6045: 'agreements', 6046: 'crammed', 6047: 'credit', 6048: 'gobbledygook', 6049: 'incomprehensibly', 6050: 'intelligible', 6051: 'legislation', 6052: 'paperwork', 6053: 'redesign', 6054: 'siegel', 6055: 'tax', 6056: 'craters', 6057: 'joel', 6058: 'presence', 6059: 'puzzling', 6060: 'sometime', 6061: 'bach', 6062: 'gupta', 6063: 'learned', 6064: 'philharmonic', 6065: 'prelude', 6066: 'schizophrenic', 6067: 'transcription', 6068: 'violin', 6069: 'actors', 6070: 'patsy', 6071: 'rodenburg', 6072: 'studios', 6073: 'bales', 6074: 'freeing', 6075: 'multibillion', 6076: 'pragmatic', 6077: 'slave', 6078: 'underpins', 6079: 'bose', 6080: 'daunting', 6081: 'educating', 6082: 'parikrma', 6083: 'shukla', 6084: '1000', 6085: 'citron', 6086: 'collects', 6087: 'kirk', 6088: 'resonate', 6089: 'shape', 6090: 'adora', 6091: 'childish', 6092: 'deserve', 6093: 'expectations', 6094: 'optimism', 6095: 'svitak', 6096: 'beginning', 6097: 'box', 6098: 'dice', 6099: 'farmville', 6100: 'invading', 6101: 'jesse', 6102: 'points', 6103: 'popularity', 6104: 'prediction', 6105: 'runaway', 6106: 'schell', 6107: 'bracing', 6108: 'dollars', 6109: 'effectively', 6110: 'glasses', 6111: 'inconsistencies', 6112: 'intuitive', 6113: 'junkies', 6114: 'measures', 6115: 'myriad', 6116: 'nerd', 6117: 'pisani', 6118: 'prison', 6119: 'stall', 6120: 'workers', 6121: 'limbs', 6122: 'motivated', 6123: 'struggle', 6124: 'cliff', 6125: 'gripping', 6126: 'romela', 6127: 'soccer', 6128: 'terrain', 6129: 'courtship', 6130: 'except', 6131: 'fever', 6132: 'flecks', 6133: 'hay', 6134: 'microscopes', 6135: 'pollen', 6136: 'remarkably', 6137: 'unnoticed', 6138: 'brought', 6139: 'forgotten', 6140: 'merchant', 6141: 'pair', 6142: 'sleep', 6143: 'unmistakable', 6144: 'bans', 6145: 'craze', 6146: 'denial', 6147: 'frankenfood', 6148: 'herbal', 6149: 'outright', 6150: 'specter', 6151: 'vaccine', 6152: 'away', 6153: 'getty', 6154: 'sees', 6155: 'hype', 6156: 'dialogue', 6157: 'harlem', 6158: 'thelma', 6159: '185', 6160: 'aurumque', 6161: 'choir', 6162: 'hundreds', 6163: 'illustration', 6164: 'individually', 6165: 'lux', 6166: 'merges', 6167: 'posted', 6168: 'recorded', 6169: 'spans', 6170: 'tracks', 6171: 'voices', 6172: 'whitacre', 6173: '90', 6174: 'bioluminescence', 6175: 'brights', 6176: 'undersea', 6177: 'dose', 6178: 'fatal', 6179: 'homeopathic', 6180: 'indictment', 6181: 'kicking', 6182: 'psychics', 6183: 'randi', 6184: 'sleeping', 6185: 'takers', 6186: 'throws', 6187: 'availability', 6188: 'balagadde', 6189: 'chip', 6190: 'diagnostic', 6191: 'frederick', 6192: 'match', 6193: 'miniaturizing', 6194: 'multiply', 6195: 'saharan', 6196: 'sub', 6197: 'average', 6198: 'beat', 6199: 'tallest', 6200: 'tape', 6201: 'tower', 6202: 'yard', 6203: 'ahmad', 6204: 'check', 6205: 'email', 6206: 'handwritten', 6207: 'issue', 6208: 'mayor', 6209: 'monthly', 6210: 'omar', 6211: 'empowerment', 6212: 'infinite', 6213: 'kavita', 6214: 'preserving', 6215: 'ramdas', 6216: 'traditions', 6217: 'walk', 6218: 'alpha', 6219: 'computational', 6220: 'lesser', 6221: 'manipulated', 6222: 'mathematica', 6223: 'processed', 6224: 'searched', 6225: 'wolfram', 6226: 'atlantic', 6227: 'crossed', 6228: 'leg', 6229: 'quit', 6230: 'rower', 6231: 'roz', 6232: 'urgently', 6233: 'chisels', 6234: 'exactly', 6235: 'cheek', 6236: 'metric', 6237: 'optimum', 6238: 'ratings', 6239: 'sebastian', 6240: 'statistical', 6241: 'tedtalks', 6242: 'tongue', 6243: 'unconvincing', 6244: 'wernicke', 6245: 'alleviating', 6246: 'clark', 6247: 'duflo', 6248: 'esther', 6249: 'guesswork', 6250: 'hurt', 6251: 'lack', 6252: 'medal', 6253: 'raises', 6254: 'randomized', 6255: 'testing', 6256: 'apple', 6257: 'inspirational', 6258: 'luther', 6259: 'sinek', 6260: 'ecologist', 6261: 'indicators', 6262: 'jeremy', 6263: 'overfished', 6264: 'overheated', 6265: 'anil', 6266: 'gain', 6267: 'recognition', 6268: 'unsung', 6269: 'evocative', 6270: 'lifeboat', 6271: 'members', 6272: 'premieres', 6273: 'restored', 6274: 'write', 6275: 'christakis', 6276: 'embedded', 6277: 'location', 6278: 'gizmo', 6279: 'mosquito', 6280: 'remind', 6281: 'rolls', 6282: 'sinks', 6283: 'tackle', 6284: 'zapping', 6285: 'balanced', 6286: 'enric', 6287: 'pristine', 6288: 'sala', 6289: 'classroom', 6290: 'classwork', 6291: 'curriculum', 6292: 'excel', 6293: 'exercises', 6294: 'formulating', 6295: 'meyer', 6296: 'paint', 6297: 'prompt', 6298: 'robbing', 6299: 'tested', 6300: 'ask', 6301: 'forced', 6302: 'frog', 6303: 'lie', 6304: 'reproduction', 6305: '1972', 6306: 'clip', 6307: 'frankl', 6308: 'gift', 6309: 'psychiatrist', 6310: 'viktor', 6311: 'angiogenesis', 6312: 'cut', 6313: 'foods', 6314: 'li', 6315: 'preventing', 6316: 'supply', 6317: 'tumor', 6318: 'arguments', 6319: 'carnivorous', 6320: 'suggestion', 6321: 'veg', 6322: 'vegetarian', 6323: 'weekday', 6324: 'boersma', 6325: 'dee', 6326: 'frontlines', 6327: 'penguin', 6328: 'penguins', 6329: 'sentinels', 6330: 'february', 6331: 'focuses', 6332: 'inevitable', 6333: 'perils', 6334: 'achievement', 6335: 'announcement', 6336: 'fully', 6337: 'marks', 6338: 'reproducing', 6339: 'flourish', 6340: 'personalized', 6341: 'standardized', 6342: 'barely', 6343: 'blakley', 6344: 'copyright', 6345: 'grip', 6346: 'johanna', 6347: 'bombers', 6348: 'camp', 6349: 'chinoy', 6350: 'graduates', 6351: 'intercut', 6352: 'obaid', 6353: 'propaganda', 6354: 'sharmeen', 6355: 'suicide', 6356: 'taliban', 6357: 'terrifying', 6358: 'berkley', 6359: 'distribution', 6360: 'threats', 6361: '1983', 6362: 'debut', 6363: 'european', 6364: 'hunger', 6365: 'monday', 6366: 'sophie', 6367: 'considered', 6368: 'democrats', 6369: 'opposite', 6370: 'remix', 6371: 'republican', 6372: 'adviser', 6373: 'chi', 6374: 'cyberspace', 6375: 'popping', 6376: 'speak', 6377: 'tai', 6378: 'underkoffler', 6379: 'horror', 6380: 'shoots', 6381: 'shots', 6382: 'skerry', 6383: '4chan', 6384: 'anonymity', 6385: 'hack', 6386: 'imageboard', 6387: 'incident', 6388: 'launched', 6389: 'mainstream', 6390: 'managed', 6391: 'subculture', 6392: 'uncensored', 6393: 'exploratory', 6394: 'lhc', 6395: 'powering', 6396: 'dreamed', 6397: 'goldberg', 6398: 'labyrinthine', 6399: 'pass', 6400: 'rube', 6401: 'sadowsky', 6402: 'sensation', 6403: 'shall', 6404: 'court', 6405: 'inc', 6406: 'ingredient', 6407: 'pga', 6408: 'refresher', 6409: 'shamefully', 6410: 'sparring', 6411: 'supreme', 6412: 'v', 6413: 'kasaona', 6414: 'namibia', 6415: 'nearby', 6416: 'protect', 6417: 'villagers', 6418: 'fixes', 6419: 'obscuring', 6420: 'cons', 6421: 'environmentalists', 6422: 'jacobson', 6423: 'pros', 6424: 'reconsidering', 6425: 'z', 6426: 'arena', 6427: 'byrne', 6428: 'cbgb', 6429: 'context', 6430: 'drumming', 6431: 'grew', 6432: 'operas', 6433: 'outdoor', 6434: 'pushed', 6435: 'venue', 6436: 'wagnerian', 6437: 'went', 6438: 'abductions', 6439: 'boils', 6440: 'dowsing', 6441: 'rods', 6442: 'trouble', 6443: 'creators', 6444: 'holders', 6445: 'wins', 6446: 'miles', 6447: 'tyack', 6448: 'whales', 6449: 'wonder', 6450: 'woods', 6451: 'bored', 6452: 'classes', 6453: 'herold', 6454: 'odds', 6455: 'parenting', 6456: 'peers', 6457: 'ananda', 6458: 'indian', 6459: 'jayant', 6460: 'renowned', 6461: 'shankar', 6462: 'conley', 6463: 'count', 6464: 'dotcom', 6465: 'hotelier', 6466: 'bantjes', 6467: 'delicate', 6468: 'diagrams', 6469: 'heresy', 6470: 'illustrations', 6471: 'individuality', 6472: 'marian', 6473: 'signature', 6474: 'storefronts', 6475: 'throwing', 6476: 'valentines', 6477: 'disruptive', 6478: 'informal', 6479: 'kibera', 6480: 'rio', 6481: 'aditi', 6482: 'developmental', 6483: 'diagnoses', 6484: 'disorders', 6485: 'eeg', 6486: 'mistaken', 6487: 'observing', 6488: 'revealed', 6489: 'shankardass', 6490: 'ahem', 6491: 'blocks', 6492: 'bricks', 6493: 'cad', 6494: 'cooperman', 6495: 'grownup', 6496: 'hillel', 6497: 'industrious', 6498: 'lego', 6499: 'mainstay', 6500: 'mature', 6501: 'obsession', 6502: 'oddball', 6503: 'playtime', 6504: 'busy', 6505: 'cooperative', 6506: 'cycles', 6507: 'editing', 6508: 'lolcats', 6509: 'posting', 6510: 'surplus', 6511: 'dunham', 6512: 'ellen', 6513: 'inhabited', 6514: 'lots', 6515: 'malls', 6516: 'parking', 6517: 'rehabilitated', 6518: 'suburbs', 6519: 'wetlands', 6520: 'chain', 6521: 'consumers', 6522: 'contamination', 6523: 'mislabeled', 6524: 'palumbi', 6525: 'toxins', 6526: 'tricked', 6527: 'unsafe', 6528: 'coordinating', 6529: 'emmart', 6530: 'facilities', 6531: 'programmers', 6532: 'visualization', 6533: 'abodes', 6534: 'mitchell', 6535: 'organic', 6536: '1984', 6537: 'benoit', 6538: 'discussed', 6539: 'mandelbrot', 6540: 'mathematics', 6541: 'order', 6542: 'roughness', 6543: 'unknowably', 6544: 'bags', 6545: 'coin', 6546: 'epidemics', 6547: 'gustafson', 6548: 'inequalities', 6549: 'launches', 6550: 'sides', 6551: 'conservation', 6552: 'dynamic', 6553: 'inmates', 6554: 'partnership', 6555: 'prisons', 6556: 'washington', 6557: 'cannes', 6558: 'paradoxical', 6559: 'boiling', 6560: 'deepwater', 6561: 'examination', 6562: 'gulf', 6563: 'horizon', 6564: 'safina', 6565: 'situation', 6566: 'stretch', 6567: 'tedxoilspill', 6568: 'unfolded', 6569: 'mating', 6570: 'meeting', 6571: 'ridley', 6572: 'blogger', 6573: 'ethan', 6574: 'mainly', 6575: 'strategies', 6576: 'zuckerman', 6577: 'elif', 6578: 'identity', 6579: 'leap', 6580: 'shafak', 6581: 'widens', 6582: 'accomplished', 6583: 'airstrike', 6584: 'assange', 6585: 'authorities', 6586: 'baghdad', 6587: 'classified', 6588: 'includes', 6589: 'operates', 6590: 'posts', 6591: 'questioning', 6592: 'reportedly', 6593: 'sought', 6594: 'wikileaks', 6595: '99', 6596: 'allah', 6597: 'attributes', 6598: 'confronting', 6599: 'extremism', 6600: 'islam', 6601: 'league', 6602: 'messages', 6603: 'mutawa', 6604: 'naif', 6605: 'named', 6606: 'reinforce', 6607: 'smash', 6608: 'stereotypes', 6609: 'teaming', 6610: '706', 6611: 'candidates', 6612: 'characteristics', 6613: 'colleagues', 6614: 'dimitar', 6615: 'further', 6616: 'geochemical', 6617: 'origin', 6618: 'preliminary', 6619: 'sasselov', 6620: 'someday', 6621: 'applications', 6622: 'brainwaves', 6623: 'concentration', 6624: 'electronics', 6625: 'le', 6626: 'arthritis', 6627: 'grind', 6628: 'joints', 6629: 'novel', 6630: 'remedy', 6631: 'shortfall', 6632: 'sidestep', 6633: 'transplants', 6634: 'attitudes', 6635: 'coke', 6636: 'iyengar', 6637: 'pepsi', 6638: 'sheena', 6639: 'trivial', 6640: 'uncovered', 6641: 'beaches', 6642: 'dispersant', 6643: 'overseers', 6644: 'pumping', 6645: 'shaw', 6646: 'shores', 6647: 'slick', 6648: 'sparing', 6649: 'endowed', 6650: 'graduation', 6651: 'lifetime', 6652: 'princeton', 6653: 'reflected', 6654: 'def', 6655: 'delaney', 6656: 'explosion', 6657: 'oceanographer', 6658: 'sensors', 6659: 'sparking', 6660: 'irrationality', 6661: 'monkeynomics', 6662: 'relatives', 6663: 'santos', 6664: 'silly', 6665: '5300', 6666: 'altitude', 6667: 'began', 6668: 'dip', 6669: 'himalayas', 6670: 'imja', 6671: 'lake', 6672: 'pumori', 6673: 'swam', 6674: 'swimming', 6675: 'vowed', 6676: 'consumption', 6677: 'duke', 6678: 'jason', 6679: 'outgrown', 6680: 'rivals', 6681: 'roundtables', 6682: 'shelves', 6683: 'wwf', 6684: 'investigates', 6685: 'oppression', 6686: 'sheryl', 6687: 'shock', 6688: 'wudunn', 6689: '24', 6690: '38', 6691: 'administers', 6692: 'contentious', 6693: 'equality', 6694: 'lawmakers', 6695: 'marriages', 6696: 'recognizes', 6697: 'rejected', 6698: 'savino', 6699: 'senator', 6700: 'anticipated', 6701: 'hotly', 6702: 'impressionable', 6703: 'kinect', 6704: 'learns', 6705: 'listens', 6706: 'milo', 6707: 'molyneux', 6708: 'recognizing', 6709: 'responding', 6710: 'watches', 6711: '\"),', 6712: 'audiences', 6713: 'axis', 6714: 'bolitics', 6715: 'comedians', 6716: 'comedy', 6717: 'east', 6718: 'jamil', 6719: 'laughing', 6720: 'laughs', 6721: 'respecting', 6722: 'wardeh', 6723: 'iranian', 6724: 'jobrani', 6725: 'maz', 6726: 'riffs', 6727: 'trusted', 6728: 'dynamics', 6729: 'graded', 6730: 'hour', 6731: 'layer', 6732: 'priebatsch', 6733: 'ready', 6734: 'reshape', 6735: 'reshaping', 6736: 'steering', 6737: 'glut', 6738: 'mccandless', 6739: 'status', 6740: 'tease', 6741: 'antarctica', 6742: 'drilling', 6743: 'extract', 6744: 'hardy', 6745: 'hotz', 6746: 'ten', 6747: 'thousand', 6748: 'wais', 6749: 'animate', 6750: 'bestselling', 6751: 'rifkin', 6752: 'rsa', 6753: 'lagoon', 6754: 'shark', 6755: 'sherman', 6756: 'strip', 6757: 'toomey', 6758: 'wry', 6759: 'distract', 6760: 'margonelli', 6761: 'mexico', 6762: 'month', 6763: 'moratoriums', 6764: 'ousters', 6765: 'spill', 6766: 'unrestrained', 6767: 'wean', 6768: 'bedfellows', 6769: 'cobley', 6770: 'heisenberg', 6771: 'principle', 6772: 'theories', 6773: 'thermodynamics', 6774: 'uncertainty', 6775: 'hpi', 6776: 'index', 6777: 'measure', 6778: 'nic', 6779: 'rank', 6780: 'resource', 6781: 'statistician', 6782: 'johan', 6783: 'rockstrom', 6784: 'strained', 6785: 'buddhism', 6786: 'dewar', 6787: 'holiness', 6788: 'karmapa', 6789: 'reincarnation', 6790: 'revered', 6791: 'tibetan', 6792: 'translated', 6793: 'tyler', 6794: '1920s', 6795: 'ambitions', 6796: 'hitting', 6797: 'stretching', 6798: 'agriculture', 6799: 'coast', 6800: 'continuously', 6801: 'forest', 6802: 'lived', 6803: 'organisms', 6804: 'sussman', 6805: 'tobago', 6806: 'underground', 6807: 'greatest', 6808: 'italy', 6809: 'revolutionize', 6810: 'saw', 6811: 'supervised', 6812: 'tackles', 6813: 'alwar', 6814: 'balasubramaniam', 6815: 'conceal', 6816: 'installations', 6817: 'sensations', 6818: 'carne', 6819: 'corps', 6820: 'diplomacy', 6821: 'diplomatic', 6822: 'relations', 6823: 'unrecognized', 6824: 'welcomes', 6825: 'compete', 6826: 'primal', 6827: 'fix', 6828: 'gel', 6829: 'poorly', 6830: 'acidification', 6831: 'baselines', 6832: 'corals', 6833: 'fixing', 6834: 'hunts', 6835: 'seabeds', 6836: 'sheets', 6837: 'tracking', 6838: 'accelerated', 6839: 'chapter', 6840: 'cycle', 6841: 'fueling', 6842: 'openness', 6843: 'organizations', 6844: 'tap', 6845: 'balancing', 6846: 'eight', 6847: 'examining', 6848: 'gamble', 6849: 'internal', 6850: 'jessa', 6851: 'recommended', 6852: 'substantial', 6853: 'colleague', 6854: 'h1n1', 6855: 'hot', 6856: 'investigating', 6857: 'basque', 6858: 'cranks', 6859: 'fiddle', 6860: 'gurdy', 6861: 'hurdy', 6862: 'melody', 6863: 'phillips', 6864: 'seldom', 6865: 'wheel', 6866: '05049', 6867: 'afterlife', 6868: 'bullets', 6869: 'christien', 6870: 'meindertsma', 6871: 'pig', 6872: 'pork', 6873: 'eureka', 6874: 'hunch', 6875: 'slow', 6876: 'velocity', 6877: 'besser', 6878: 'enlisted', 6879: 'mothers2mothers', 6880: 'prevalent', 6881: 'scarcer', 6882: 'annie', 6883: 'desperate', 6884: 'lennox', 6885: 'majority', 6886: 'mandela', 6887: 'nelson', 6888: 'sing', 6889: 'delightfully', 6890: 'fabian', 6891: 'handset', 6892: 'hemmert', 6893: 'imagines', 6894: 'nonvisually', 6895: 'weight', 6896: 'costing', 6897: 'earbuds', 6898: 'gnawing', 6899: 'soften', 6900: 'sonic', 6901: 'birdwatcher', 6902: 'birkhead', 6903: 'dug', 6904: 'entertained', 6905: 'journals', 6906: 'lore', 6907: 'medieval', 6908: 'ornithology', 6909: 'perennial', 6910: 'analyze', 6911: 'gadgets', 6912: 'gloriously', 6913: 'intro', 6914: 'mood', 6915: 'pastime', 6916: 'wolf', 6917: 'connectome', 6918: 'genome', 6919: 'massively', 6920: 'neuron', 6921: 'seung', 6922: 'counseling', 6923: 'county', 6924: 'despair', 6925: 'healing', 6926: 'inge', 6927: 'jungian', 6928: 'missmahl', 6929: 'promoting', 6930: 'psychiatrists', 6931: 'psychosocial', 6932: 'visited', 6933: 'wounds', 6934: '1970s', 6935: 'condom', 6936: 'condoms', 6937: 'lot', 6938: 'mechai', 6939: 'raise', 6940: 'retells', 6941: 'thailand', 6942: 'viravaidya', 6943: 'bayer', 6944: 'eben', 6945: 'packaging', 6946: 'plasma', 6947: 'protects', 6948: 'recipe', 6949: 'screens', 6950: 'inequity', 6951: 'piercing', 6952: 'athletes', 6953: 'barbara', 6954: 'fits', 6955: 'predators', 6956: 'transponders', 6957: 'tuna', 6958: 'unprecedented', 6959: 'blots', 6960: 'lighting', 6961: 'costly', 6962: 'frightening', 6963: 'kramer', 6964: 'stacey', 6965: 'traumatic', 6966: 'unwanted', 6967: 'intelligent', 6968: 'mancuso', 6969: 'maximizing', 6970: 'oddly', 6971: 'stefano', 6972: 'coca', 6973: 'cola', 6974: 'corporations', 6975: 'distributing', 6976: 'distributors', 6977: 'ensures', 6978: 'melinda', 6979: 'nonprofits', 6980: 'sanitation', 6981: 'vaccinations', 6982: 'aidg', 6983: 'bomb', 6984: 'brick', 6985: 'builders', 6986: 'haas', 6987: 'january', 6988: 'quake', 6989: 'rebuilds', 6990: 'ticking', 6991: 'addresses', 6992: 'combining', 6993: 'gardens', 6994: 'hydrant', 6995: 'jeremijenko', 6996: 'planting', 6997: 'tadpoles', 6998: 'walking', 6999: 'woes', 7000: 'express', 7001: 'harder', 7002: 'invited', 7003: 'nourishing', 7004: 'zany', 7005: 'bullying', 7006: 'councilman', 7007: 'fort', 7008: 'gay', 7009: 'harassment', 7010: 'intensely', 7011: 'targets', 7012: 'teen', 7013: 'texas', 7014: 'attitude', 7015: 'coins', 7016: 'jackley', 7017: 'jar', 7018: 'jessica', 7019: 'kiva', 7020: 'microloans', 7021: 'gut', 7022: 'heribert', 7023: 'hundred', 7024: 'intestines', 7025: 'watzke', 7026: 'cohen', 7027: 'dianna', 7028: 'gyre', 7029: 'chappatte', 7030: 'gaza', 7031: 'humble', 7032: 'illuminate', 7033: 'lebanon', 7034: 'pencil', 7035: 'punchlines', 7036: '\"(', 7037: '1988', 7038: 'flowers', 7039: 'mashelkar', 7040: 'prosthetics', 7041: 'ra', 7042: 'ultra', 7043: 'nye', 7044: 'adage', 7045: 'barton', 7046: 'desperately', 7047: 'harming', 7048: 'mom', 7049: 'overfishing', 7050: 'seafood', 7051: 'seaver', 7052: 'vegetables', 7053: 'avoiding', 7054: 'bug', 7055: 'chemicals', 7056: 'pest', 7057: 'shimon', 7058: 'steinberg', 7059: 'lufkin', 7060: 'matreyek', 7061: 'meditative', 7062: 'mileece', 7063: 'mirah', 7064: 'miwa', 7065: 'outer', 7066: 'oxygen', 7067: 'projections', 7068: 'aspects', 7069: 'chatfield', 7070: 'countless', 7071: 'dole', 7072: 'gameplay', 7073: 'imaginary', 7074: 'questing', 7075: 'treasures', 7076: 'tuned', 7077: 'bismark', 7078: 'fraud', 7079: 'miscounting', 7080: 'verifiable', 7081: 'vote', 7082: 'voting', 7083: 'area', 7084: 'kiribati', 7085: 'protected', 7086: 'republic', 7087: 'sealife', 7088: 'backward', 7089: 'flies', 7090: 'fruit', 7091: 'gero', 7092: 'manipulating', 7093: 'miesenboeck', 7094: 'percieve', 7095: 'reengineer', 7096: 'task', 7097: 'add', 7098: 'becomes', 7099: 'innovator', 7100: 'looping', 7101: 'winds', 7102: 'xylophone', 7103: 'bertie', 7104: 'carolina', 7105: 'engages', 7106: 'h', 7107: 'moved', 7108: 'pilloton', 7109: 'schoolers', 7110: 'decreased', 7111: 'ethnic', 7112: 'extracts', 7113: 'institutional', 7114: 'ireland', 7115: 'liberia', 7116: 'northern', 7117: 'timor', 7118: 'weapons', 7119: 'wolff', 7120: 'aaron', 7121: 'appalling', 7122: 'compelled', 7123: 'huey', 7124: 'ignored', 7125: 'intertwine', 7126: 'lakota', 7127: 'refocus', 7128: 'reservation', 7129: 'ridge', 7130: 'auret', 7131: 'chains', 7132: 'fair', 7133: 'fla', 7134: 'frontier', 7135: 'globalized', 7136: 'heerden', 7137: 'labor', 7138: 'berlow', 7139: 'distills', 7140: 'faced', 7141: 'infographic', 7142: 'overwhelmed', 7143: 'overwhelming', 7144: 'calculation', 7145: 'conrad', 7146: 'creations', 7147: 'irrelevant', 7148: 'lose', 7149: 'programming', 7150: 'tedious', 7151: 'beholder', 7152: 'collaborates', 7153: 'denis', 7154: 'dutton', 7155: 'avid', 7156: 'biker', 7157: 'difficulties', 7158: 'israel', 7159: 'juvenile', 7160: 'rabinovitz', 7161: 'raphael', 7162: 'riding', 7163: 'schocken', 7164: 'successes', 7165: 'bamboo', 7166: 'campus', 7167: 'centerpiece', 7168: 'freestanding', 7169: 'garden', 7170: 'spiraling', 7171: '64', 7172: 'dumping', 7173: 'gjerde', 7174: 'kristina', 7175: 'lawyers', 7176: 'policymaking', 7177: 'pr', 7178: 'trawling', 7179: 'concussion', 7180: 'gorgens', 7181: 'helmets', 7182: 'neuropsychologist', 7183: 'pitch', 7184: 'backline', 7185: 'frontline', 7186: 'salbi', 7187: 'zainab', 7188: 'fried', 7189: 'main', 7190: 'ms', 7191: 'suggestions', 7192: 'reclaimed', 7193: 'recycled', 7194: 'baehr', 7195: 'birke', 7196: 'event', 7197: 'farms', 7198: 'localize', 7199: 'picturesque', 7200: 'rosy', 7201: 'tedx', 7202: 'agreement', 7203: 'situations', 7204: 'ury', 7205: 'appetizing', 7206: 'caterpillars', 7207: 'delicacies', 7208: 'dicke', 7209: 'flavor', 7210: 'foodies', 7211: 'friendliness', 7212: 'locusts', 7213: 'marcel', 7214: 'nutrition', 7215: 'apopo', 7216: 'bart', 7217: 'civilians', 7218: 'clearing', 7219: 'landmines', 7220: 'litter', 7221: 'maim', 7222: 'mines', 7223: 'phase', 7224: 'rats', 7225: 'sniff', 7226: 'unsuspecting', 7227: 'weetjens', 7228: 'composting', 7229: 'dawson', 7230: 'drastically', 7231: 'engines', 7232: 'kitchen', 7233: 'potts', 7234: 'recycling', 7235: 'restaurant', 7236: 'wasted', 7237: 'applying', 7238: 'audur', 7239: 'feminine', 7240: 'halla', 7241: 'iceland', 7242: 'storm', 7243: 'tedwomen', 7244: 'tómasdóttir', 7245: 'disrespect', 7246: 'drummed', 7247: 'mentality', 7248: 'mistreat', 7249: 'porter', 7250: 'bedi', 7251: 'police', 7252: 'prevention', 7253: 'resume', 7254: 'toughest', 7255: 'centric', 7256: 'hanna', 7257: 'probably', 7258: 'rosin', 7259: 'societal', 7260: 'surpassing', 7261: 'laufenberg', 7262: 'alike', 7263: 'babble', 7264: 'expose', 7265: 'griscom', 7266: 'nonparents', 7267: 'publishers', 7268: 'tag', 7269: 'volkman', 7270: 'botsman', 7271: 'swaptree', 7272: 'websites', 7273: 'adhd', 7274: 'drop', 7275: 'rising', 7276: 'stake', 7277: 'beverly', 7278: 'cats', 7279: 'dereck', 7280: 'filming', 7281: 'joubert', 7282: 'leopards', 7283: 'lions', 7284: 'majestic', 7285: 'photographing', 7286: 'aiming', 7287: 'coo', 7288: 'percentage', 7289: 'professions', 7290: 'sandberg', 7291: 'belong', 7292: 'brené', 7293: 'empathize', 7294: 'sent', 7295: 'choosing', 7296: 'collaborator', 7297: 'kenneth', 7298: 'sharpe', 7299: 'wisely', 7300: 'arianna', 7301: 'awaken', 7302: 'bragging', 7303: 'deficits', 7304: 'huffington', 7305: 'debunking', 7306: 'expected', 7307: 'flexibility', 7308: 'grace', 7309: 'hazleton', 7310: 'holy', 7311: 'identified', 7312: 'islamic', 7313: 'koran', 7314: 'lesley', 7315: 'muslim', 7316: 'sat', 7317: 'scholarship', 7318: 'tourist', 7319: 'wasn', 7320: 'improvisation', 7321: 'limb', 7322: 'rappers', 7323: 'wondered', 7324: 'breast', 7325: 'dense', 7326: 'detection', 7327: 'mammograms', 7328: 'physicists', 7329: 'rhodes', 7330: 'pasricha', 7331: 'pleasures', 7332: 'refills', 7333: 'savors', 7334: 'jody', 7335: 'razor', 7336: 'amber', 7337: 'clicking', 7338: 'conquer', 7339: 'cyborg', 7340: 'external', 7341: 'homo', 7342: 'phones', 7343: 'rely', 7344: 'remember', 7345: 'sapiens', 7346: 'secondary', 7347: 'staring', 7348: 'attempting', 7349: 'deriving', 7350: 'frankly', 7351: 'mining', 7352: 'ore', 7353: 'scratch', 7354: 'thwaites', 7355: 'toaster', 7356: 'angry', 7357: 'divisive', 7358: 'elevate', 7359: 'harnessed', 7360: 'mystic', 7361: 'tension', 7362: 'threatens', 7363: '”)', 7364: 'ali', 7365: 'carr', 7366: 'chellman', 7367: 'entertain', 7368: 'tuning', 7369: 'addicted', 7370: 'afterward', 7371: 'backup', 7372: 'boat', 7373: 'bp', 7374: 'catastrophic', 7375: 'mess', 7376: 'naomi', 7377: 'dick', 7378: 'fueled', 7379: 'lung', 7380: 'operatic', 7381: 'said', 7382: 'soprano', 7383: 'tillemann', 7384: 'transplant', 7385: 'unwavering', 7386: 'ho', 7387: 'throw', 7388: 'throwaway', 7389: 'anders', 7390: 'autopsies', 7391: 'imagery', 7392: 'sounding', 7393: 'ynnerman', 7394: 'cmu', 7395: 'feedback', 7396: 'gathers', 7397: 'heather', 7398: 'knight', 7399: 'liners', 7400: 'ramakrishna', 7401: 'rattle', 7402: 'responds', 7403: 'robotic', 7404: 'satkin', 7405: 'varun', 7406: 'jacques', 7407: 'phenomenal', 7408: 'puzzles', 7409: 'goetz', 7410: 'cartoons', 7411: 'empower', 7412: 'liza', 7413: 'portfolio', 7414: 'ariel', 7415: 'dictum', 7416: 'garten', 7417: 'relaxation', 7418: 'stress', 7419: 'thyself', 7420: 'advise', 7421: 'asked', 7422: 'closest', 7423: 'dads', 7424: 'daughters', 7425: 'feiler', 7426: 'lifetimes', 7427: 'twin', 7428: 'agent', 7429: 'bundled', 7430: 'kate', 7431: 'legendarily', 7432: 'mutual', 7433: 'orff', 7434: 'oyster', 7435: 'oysters', 7436: 'slurp', 7437: 'sunk', 7438: 'tecture', 7439: 'arduinos', 7440: 'dale', 7441: 'diy', 7442: 'dougherty', 7443: 'habit', 7444: 'magazine', 7445: 'motorcity', 7446: 'printers', 7447: 'publisher', 7448: 'tinker', 7449: 'changes', 7450: 'demographics', 7451: 'outgrows', 7452: 'outnumber', 7453: 'marathoner', 7454: 'mcdougall', 7455: 'spur', 7456: 'tribe', 7457: ')\"', 7458: 'blown', 7459: 'clustered', 7460: 'hammad', 7461: 'meditations', 7462: 'suheir', 7463: 'unexploded', 7464: 'employer', 7465: 'encouragement', 7466: 'ideal', 7467: 'marsh', 7468: 'nigel', 7469: 'stirring', 7470: 'breazeal', 7471: 'rooms', 7472: 'wonders', 7473: 'abdi', 7474: 'clinic', 7475: 'deqo', 7476: 'hawa', 7477: 'mohamed', 7478: 'saints', 7479: 'somalia', 7480: 'efficiency', 7481: 'loops', 7482: 'pawlyn', 7483: 'belle', 7484: 'chatrou', 7485: 'eleonora', 7486: 'fête', 7487: 'geert', 7488: 'honhoff', 7489: 'whistler', 7490: 'attainable', 7491: 'deconstructs', 7492: 'fallen', 7493: 'krista', 7494: 'reserved', 7495: 'saintly', 7496: 'sappy', 7497: 'tedprize', 7498: 'term', 7499: 'tippett', 7500: 'kuhl', 7501: 'carry', 7502: 'immersed', 7503: 'boldly', 7504: 'either', 7505: 'enabled', 7506: 'gansky', 7507: 'meshy', 7508: 'peer', 7509: 'rental', 7510: 'albright', 7511: 'bluntly', 7512: 'madeleine', 7513: 'paley', 7514: 'pat', 7515: 'secretary', 7516: 'ceos', 7517: 'democratizing', 7518: 'expertise', 7519: 'experts', 7520: 'hertz', 7521: 'limiting', 7522: 'noreena', 7523: 'relying', 7524: 'shop', 7525: 'staff', 7526: 'surgeons', 7527: '13', 7528: 'badly', 7529: 'commissioning', 7530: 'disfigured', 7531: 'disturbing', 7532: 'hide', 7533: 'hutchison', 7534: 'iain', 7535: 'injured', 7536: 'maxillofacial', 7537: 'severely', 7538: 'shown', 7539: 'surgical', 7540: 'burned', 7541: 'dies', 7542: 'lindsey', 7543: 'danny', 7544: 'hillis', 7545: 'proteins', 7546: 'proteomics', 7547: 'ahn', 7548: 'angella', 7549: 'astor', 7550: 'balakrishnan', 7551: 'breathe', 7552: 'bright', 7553: 'lucia', 7554: 'maria', 7555: 'musicmaking', 7556: 'oblivion', 7557: 'piazzolla', 7558: 'poppy', 7559: 'sisters', 7560: 'skylife', 7561: 'slinky', 7562: 'trio', 7563: 'democratic', 7564: 'egypt', 7565: 'jazeera', 7566: 'khanfar', 7567: 'libya', 7568: 'sweeps', 7569: 'tunisia', 7570: 'wadah', 7571: 'audacious', 7572: 'canvases', 7573: 'french', 7574: 'jr', 7575: 'pasting', 7576: 'ted2011', 7577: 'egyptians', 7578: 'ghonim', 7579: 'jumpstart', 7580: 'memorializing', 7581: 'months', 7582: 'regime', 7583: 'showed', 7584: 'stronger', 7585: 'tedxcairo', 7586: 'victim', 7587: 'wael', 7588: 'accounting', 7589: 'budgets', 7590: 'disguise', 7591: 'financing', 7592: 'losing', 7593: 'pensions', 7594: 'riddled', 7595: 'weighted', 7596: 'worsening', 7597: '2011', 7598: 'bladder', 7599: 'kidney', 7600: 'luke', 7601: 'massella', 7602: 'output', 7603: 'printer', 7604: 'received', 7605: 'transplantable', 7606: 'courtney', 7607: 'define', 7608: 'loaded', 7609: 'paradoxes', 7610: 'perennially', 7611: 'academy', 7612: 'curricula', 7613: 'flipping', 7614: 'homework', 7615: 'khan', 7616: 'lectures', 7617: 'offering', 7618: 'salman', 7619: 'script', 7620: 'structured', 7621: 'deb', 7622: 'exceptions', 7623: 'gaaaa', 7624: 'infant', 7625: 'parsed', 7626: 'slowly', 7627: 'videocameras', 7628: 'wanted', 7629: 'beer', 7630: 'creek', 7631: 'drying', 7632: 'fates', 7633: 'harmon', 7634: 'intertwined', 7635: 'mechanism', 7636: 'pear', 7637: 'prickly', 7638: 'usage', 7639: 'conscious', 7640: 'separate', 7641: 'unpacks', 7642: 'bang', 7643: 'composition', 7644: 'expanding', 7645: 'janna', 7646: 'silent', 7647: 'soundwalk', 7648: 'spacetime', 7649: 'firefighter', 7650: 'heroism', 7651: 'volunteer', 7652: 'darkness', 7653: 'der', 7654: 'heide', 7655: 'paying', 7656: 'rogier', 7657: 'eyed', 7658: 'gonna', 7659: 'hiroshima', 7660: 'metamorphosis', 7661: 'ovations', 7662: 'soaking', 7663: 'teenager', 7664: 'gapminder', 7665: 'intellectual', 7666: 'pops', 7667: 'wash', 7668: 'washing', 7669: 'behncke', 7670: 'bonobos', 7671: 'constantly', 7672: 'cousins', 7673: 'indeed', 7674: 'izquierdo', 7675: 'bioethicist', 7676: 'mice', 7677: 'wolpe', 7678: '200', 7679: 'bender', 7680: 'berkeley', 7681: 'bionics', 7682: 'elegs', 7683: 'exoskeletons', 7684: 'eythor', 7685: 'hulc', 7686: 'ons', 7687: 'tiring', 7688: 'wheelchair', 7689: 'aria', 7690: 'cage', 7691: 'claron', 7692: 'invites', 7693: 'mcfadden', 7694: 'singing', 7695: 'spontaneous', 7696: 'longtime', 7697: 'toefl', 7698: 'translating', 7699: 'correct', 7700: 'cyber', 7701: 'final', 7702: 'forensics', 7703: 'guess', 7704: 'langner', 7705: 'loomed', 7706: 'posed', 7707: 'ralph', 7708: 'sophistication', 7709: 'stuxnet', 7710: 'target', 7711: 'warhead', 7712: 'worm', 7713: 'adrian', 7714: 'astonishment', 7715: 'basil', 7716: 'convincingly', 7717: 'gallops', 7718: 'handspring', 7719: 'horse', 7720: 'hyena', 7721: 'joey', 7722: 'kohler', 7723: 'onto', 7724: 'paw', 7725: 'puppet', 7726: 'puppeteers', 7727: 'puppets', 7728: 'trots', 7729: 'wonderfully', 7730: 'darpa', 7731: 'driverless', 7732: 'motoring', 7733: 'test', 7734: 'thrun', 7735: '!).', 7736: '052', 7737: 'madly', 7738: 'premiered', 7739: 'singers', 7740: 'annmarie', 7741: 'circuit', 7742: 'dough', 7743: 'homemade', 7744: 'leds', 7745: 'spinning', 7746: 'zippy', 7747: 'addressing', 7748: 'mcchrystal', 7749: 'stanley', 7750: 'chade', 7751: 'jolly', 7752: 'meng', 7753: 'influential', 7754: 'sponsored', 7755: 'sponsorship', 7756: 'spurlock', 7757: 'whom', 7758: 'blink', 7759: 'circumstance', 7760: 'collaborators', 7761: 'ebeling', 7762: 'graffiti', 7763: 'mick', 7764: 'nerve', 7765: 'tedactive', 7766: 'tempt', 7767: 'toe', 7768: 'casey', 7769: 'perceptions', 7770: 'revelation', 7771: 'spoilers', 7772: 'browne', 7773: '\":', 7774: 'angle', 7775: 'christian', 7776: 'enlightening', 7777: 'slim', 7778: 'timeline', 7779: 'apathy', 7780: 'meslin', 7781: 'zoning', 7782: 'chaz', 7783: 'ebert', 7784: 'wife', 7785: 'blueprints', 7786: 'fabrication', 7787: 'harvester', 7788: 'instruction', 7789: 'jakubowski', 7790: 'marcin', 7791: 'sourcing', 7792: 'sustaining', 7793: 'tractor', 7794: 'wikis', 7795: 'concern', 7796: 'lim', 7797: 'liver', 7798: 'livers', 7799: 'transplanting', 7800: 'americans', 7801: 'approve', 7802: 'dare', 7803: 'insurgent', 7804: 'iraqi', 7805: 'methodical', 7806: 'richards', 7807: 'admitting', 7808: 'embracing', 7809: 'fallibility', 7810: 'kathryn', 7811: 'schulz', 7812: 'wrongologist', 7813: '4th', 7814: 'board', 7815: 'graders', 7816: 'plywood', 7817: 'schoolkids', 7818: 'x5', 7819: 'ananthaswamy', 7820: 'detectors', 7821: '1549', 7822: 'crash', 7823: 'elias', 7824: 'landed', 7825: 'plane', 7826: 'publicly', 7827: 'ric', 7828: 'seat', 7829: 'evolve', 7830: 'faster', 7831: 'fineberg', 7832: 'neo', 7833: 'airport', 7834: 'neglecting', 7835: 'probable', 7836: 'risks', 7837: 'schneier', 7838: 'abalone', 7839: 'angela', 7840: 'batteries', 7841: 'belcher', 7842: 'construct', 7843: 'nanoscale', 7844: 'performing', 7845: 'selecting', 7846: 'shell', 7847: 'structures', 7848: 'developer', 7849: 'ipad', 7850: 'matas', 7851: 'sequel', 7852: 'swipeable', 7853: 'visualizations', 7854: 'arvind', 7855: 'broaden', 7856: 'consequence', 7857: 'eli', 7858: 'exposed', 7859: 'pariser', 7860: 'tailor', 7861: 'tastes', 7862: 'unintended', 7863: 'worldview', 7864: '2001', 7865: 'aicha', 7866: 'hoping', 7867: 'killed', 7868: 'loss', 7869: 'moms', 7870: 'moussaoui', 7871: 'phyllis', 7872: 'rodriguez', 7873: 'sentence', 7874: 'september', 7875: 'serving', 7876: 'unthinkable', 7877: 'wafi', 7878: 'zacarias', 7879: 'carlo', 7880: 'caught', 7881: 'passive', 7882: 'pulls', 7883: 'ratti', 7884: 'senseable', 7885: 'clothing', 7886: 'drawback', 7887: 'fabric', 7888: 'kombucha', 7889: 'leather', 7890: 'minor', 7891: 'suzanne', 7892: 'vegetable', 7893: 'carroll', 7894: 'cosmologist', 7895: 'honeybee', 7896: 'louie', 7897: 'pollination', 7898: 'pollinators', 7899: 'primary', 7900: 'schwartzberg', 7901: 'vanishing', 7902: 'wings', 7903: 'antarctic', 7904: 'feared', 7905: 'leopard', 7906: 'nicklen', 7907: 'seal', 7908: 'wonderlands', 7909: 'bounds', 7910: 'fiorenzo', 7911: 'items', 7912: 'leaps', 7913: 'omenetto', 7914: 'silk', 7915: 'transmitting', 7916: 'contagious', 7917: 'evolutionarily', 7918: 'facial', 7919: 'flex', 7920: 'gutman', 7921: 'measurable', 7922: 'overall', 7923: 'predictor', 7924: 'raft', 7925: 'smile', 7926: 'smiling', 7927: 'amit', 7928: 'artwork', 7929: 'museums', 7930: 'sood', 7931: 'leonard', 7932: 'pals', 7933: 'susskind', 7934: 'unconventional', 7935: 'activate', 7936: 'analogs', 7937: 'boyden', 7938: 'implants', 7939: 'inserting', 7940: 'neural', 7941: 'optic', 7942: 'ptsd', 7943: 'selectively', 7944: 'bridge', 7945: 'bus', 7946: 'cathedral', 7947: 'celebration', 7948: 'heatherwick', 7949: 'pavilion', 7950: 'remakes', 7951: 'station', 7952: 'cases', 7953: 'elliot', 7954: 'krane', 7955: 'nightmare', 7956: 'sprained', 7957: 'symptom', 7958: 'wrist', 7959: 'glimmering', 7960: 'hunting', 7961: 'shoes', 7962: 'terry', 7963: 'tying', 7964: 'edit', 7965: 'forgets', 7966: 'silence', 7967: 'twirlr', 7968: 'airline', 7969: 'cash', 7970: 'customizes', 7971: 'downtown', 7972: 'drawings', 7973: 'flights', 7974: 'koblin', 7975: 'sourced', 7976: 'tracing', 7977: 'wilderness', 7978: 'aylward', 7979: 'forever', 7980: 'polio', 7981: 'snuff', 7982: 'exile', 7983: 'neshat', 7984: 'paradox', 7985: 'shirin', 7986: 'unable', 7987: 'akyol', 7988: 'articles', 7989: 'faith', 7990: 'focused', 7991: 'mustafa', 7992: 'seclusion', 7993: 'halvorsen', 7994: 'hiccup', 7995: 'mid', 7996: 'passacaglia', 7997: 'roman', 7998: 'stradivarius', 7999: 'viola', 8000: 'false', 8001: 'karaoke', 8002: 'managing', 8003: 'mclaren', 8004: 'messiness', 8005: 'pistols', 8006: 'independently', 8007: 'laser', 8008: 'proximity', 8009: 'rangefinders', 8010: 'route', 8011: 'apply', 8012: 'customizations', 8013: 'unconscious', 8014: 'according', 8015: 'blurred', 8016: 'connell', 8017: 'distinction', 8018: 'mechanics', 8019: 'object', 8020: 'provably', 8021: 'quantum', 8022: 'unaided', 8023: 'arrington', 8024: 'clothes', 8025: 'jessi', 8026: 'rainbow', 8027: 'thrift', 8028: 'undies', 8029: 'damon', 8030: 'horowitz', 8031: 'remaking', 8032: '\".', 8033: 'ancestral', 8034: 'chickenosaurus', 8035: 'chickens', 8036: 'descendants', 8037: 'extraordinarily', 8038: 'fossils', 8039: 'genetically', 8040: 'horner', 8041: 'intact', 8042: 'jack', 8043: 'reactivate', 8044: 'reconstruct', 8045: 'tails', 8046: 'teeth', 8047: 'tissues', 8048: 'billowing', 8049: 'echelman', 8050: 'flowing', 8051: 'janet', 8052: 'transporting', 8053: 'unorthodox', 8054: 'favor', 8055: 'honduras', 8056: 'unveiled', 8057: 'anatomical', 8058: 'conjoined', 8059: 'distinctions', 8060: 'dreger', 8061: 'fate', 8062: 'fuzzy', 8063: 'intersexed', 8064: 'male', 8065: 'observation', 8066: 'twins', 8067: '://', 8068: 'appear', 8069: 'attempts', 8070: 'http', 8071: 'jd', 8072: 'locked', 8073: 'schramm', 8074: 'tedyou', 8075: 'wsnry9c', 8076: 'bedside', 8077: 'innovations', 8078: 'bending', 8079: 'brush', 8080: 'drawn', 8081: 'haired', 8082: 'hembrey', 8083: 'invent', 8084: 'shea', 8085: 'bulgaria', 8086: 'fights', 8087: 'infected', 8088: 'keil', 8089: 'reinventing', 8090: 'return', 8091: 'revitalize', 8092: 'camille', 8093: 'chunks', 8094: 'iceberg', 8095: 'icebergs', 8096: 'seaman', 8097: 'ashanti', 8098: 'auditions', 8099: 'beatjazz', 8100: 'beats', 8101: 'controllers', 8102: 'handheld', 8103: 'locking', 8104: 'mouthpiece', 8105: 'onyx', 8106: 'batsry', 8107: 'beiser', 8108: 'copies', 8109: 'counterpoint', 8110: 'etude', 8111: 'irit', 8112: 'maya', 8113: 'morrison', 8114: 'reich', 8115: 'segues', 8116: 'ford', 8117: 'grandfather', 8118: 'gridlock', 8119: 'guy', 8120: 'mobility', 8121: 'motor', 8122: 'linguistic', 8123: 'numerical', 8124: 'perceiving', 8125: 'synesthesia', 8126: 'tammet', 8127: 'woven', 8128: 'cared', 8129: 'jok', 8130: 'privilege', 8131: 'returning', 8132: 'sheltered', 8133: 'harger', 8134: 'noises', 8135: 'pulsars', 8136: 'rays', 8137: 'stars', 8138: 'weird', 8139: 'bipolar', 8140: 'craziness', 8141: 'manic', 8142: 'medicating', 8143: 'skillness', 8144: 'walters', 8145: 'carlos', 8146: 'confronts', 8147: 'emiliano', 8148: 'gortari', 8149: 'mexican', 8150: 'salinas', 8151: 'spanish', 8152: 'subtitles', 8153: '4000', 8154: 'computation', 8155: 'crossword', 8156: 'decipher', 8157: 'enlisting', 8158: 'indus', 8159: 'rajesh', 8160: 'debronkart', 8161: 'saved', 8162: 'abandoned', 8163: 'activism', 8164: 'elevated', 8165: 'hammond', 8166: 'railroad', 8167: 'suggested', 8168: 'tear', 8169: 'achieving', 8170: 'cutts', 8171: 'lighthearted', 8172: 'meant', 8173: 'neat', 8174: 'cookbook', 8175: 'cooked', 8176: 'geek', 8177: 'magisterial', 8178: 'modernist', 8179: 'photographic', 8180: 'sections', 8181: 'attract', 8182: 'elaborate', 8183: 'flowering', 8184: 'landing', 8185: 'mimicking', 8186: 'quarter', 8187: 'shining', 8188: 'traps', 8189: 'ultraviolet', 8190: 'accident', 8191: 'coma', 8192: 'mentally', 8193: 'physically', 8194: 'artificially', 8195: 'copying', 8196: 'tandon', 8197: 'accountability', 8198: 'carta', 8199: 'headed', 8200: 'mackinnon', 8201: 'magna', 8202: 'grassroots', 8203: 'islamist', 8204: 'maajid', 8205: 'nationalism', 8206: 'nawaz', 8207: 'transnational', 8208: 'xenophobia', 8209: 'error', 8210: 'harford', 8211: 'randomness', 8212: 'trial', 8213: 'continues', 8214: 'nadia', 8215: 'partners', 8216: 'sakkaf', 8217: 'turmoil', 8218: 'yemen', 8219: 'annoyance', 8220: 'espionage', 8221: 'hyppönen', 8222: 'mikko', 8223: 'distinct', 8224: 'otherness', 8225: 'thandie', 8226: 'algorithms', 8227: 'depend', 8228: 'movies', 8229: 'prices', 8230: 'slavin', 8231: 'tactics', 8232: 'festo', 8233: 'fischer', 8234: 'flapping', 8235: 'lightweight', 8236: 'markus', 8237: 'modeled', 8238: 'none', 8239: 'seagull', 8240: 'smartbird', 8241: 'until', 8242: 'bosnia', 8243: 'humility', 8244: 'interventions', 8245: 'mp', 8246: 'warlords', 8247: 'worked', 8248: 'deduced', 8249: 'geoffrey', 8250: 'govern', 8251: 'laws', 8252: 'bloom', 8253: 'essentialists', 8254: 'forgery', 8255: 'illusion', 8256: 'hungry', 8257: 'josette', 8258: 'sheeran', 8259: 'starvation', 8260: 'weapon', 8261: 'louder', 8262: 'tune', 8263: 'ostrow', 8264: 'personality', 8265: 'tweets', 8266: 'bulb', 8267: 'cellular', 8268: 'flickering', 8269: 'harald', 8270: 'transmit', 8271: 'pagel', 8272: 'mechanical', 8273: 'microbes', 8274: 'outdoors', 8275: 'pathogens', 8276: 'rid', 8277: 'ventilation', 8278: 'disconnection', 8279: 'physicality', 8280: 'expand', 8281: 'neighborhood', 8282: 'denapoli', 8283: 'dyan', 8284: 'rescue', 8285: 'triumphant', 8286: '21', 8287: 'crazy', 8288: 'gilley', 8289: 'dimming', 8290: 'habitable', 8291: 'kepler', 8292: 'lucianne', 8293: 'passes', 8294: 'walkowicz', 8295: 'ipods', 8296: 'lies', 8297: 'marco', 8298: 'tempest', 8299: 'affected', 8300: 'aware', 8301: 'consciously', 8302: 'shortsighted', 8303: 'finger', 8304: 'mated', 8305: 'neanderthal', 8306: 'neanderthals', 8307: 'proof', 8308: 'pääbo', 8309: 'svante', 8310: 'bacha', 8311: 'barrier', 8312: 'brazilian', 8313: 'budrus', 8314: 'groves', 8315: 'nonviolent', 8316: 'olive', 8317: 'palestine', 8318: 'palestinian', 8319: 'protest', 8320: 'assembling', 8321: 'skylar', 8322: 'skyscraper', 8323: 'strand', 8324: 'tibbits', 8325: 'zips', 8326: 'halifax', 8327: 'hospice', 8328: 'joan', 8329: 'roshi', 8330: 'appreciated', 8331: 'foresee', 8332: 'innovate', 8333: 'intentional', 8334: 'tenner', 8335: 'adolfo', 8336: 'ii', 8337: 'kaminsky', 8338: 'arose', 8339: 'chemistry', 8340: 'cronin', 8341: 'existed', 8342: 'inorganic', 8343: 'molecules', 8344: 'authoritarian', 8345: 'compares', 8346: 'holding', 8347: 'yasheng', 8348: 'coders', 8349: 'cybersecurity', 8350: 'investigator', 8351: 'investments', 8352: 'malicious', 8353: 'profiles', 8354: 'underworld', 8355: '\",', 8356: 'glacier', 8357: 'hartman', 8358: 'hat', 8359: 'suit', 8360: 'insurance', 8361: 'resnick', 8362: 'sequencing', 8363: 'lauren', 8364: 'television', 8365: 'zalaznick', 8366: 'acumen', 8367: 'dichter', 8368: 'generosity', 8369: 'nextgen', 8370: 'sasha', 8371: 'ferguson', 8372: 'killer', 8373: 'niall', 8374: 'promote', 8375: 'prosperity', 8376: 'shareable', 8377: 'stability', 8378: '500', 8379: 'addicting', 8380: 'aiden', 8381: 'baptiste', 8382: 'database', 8383: 'erez', 8384: 'jean', 8385: 'lieberman', 8386: 'michel', 8387: 'ngram', 8388: 'agencies', 8389: 'flooded', 8390: 'lockwood', 8391: 'marketer', 8392: 'nsfw', 8393: 'reformed', 8394: 'upends', 8395: 'cancers', 8396: 'devil', 8397: 'infecting', 8398: 'killing', 8399: 'murchison', 8400: 'tasmanian', 8401: 'taz', 8402: 'unlike', 8403: 'virulent', 8404: 'comprehension', 8405: 'doodlers', 8406: 'doodling', 8407: 'embarrassed', 8408: 'pad', 8409: 'sketching', 8410: 'sunni', 8411: 'exam', 8412: 'fashioned', 8413: 'physician', 8414: 'verghese', 8415: 'teams', 8416: 'jarreth', 8417: 'merz', 8418: 'swiss', 8419: 'blindingly', 8420: 'distorted', 8421: 'epidemiologist', 8422: 'goldacre', 8423: 'pharmaceutical', 8424: 'reports', 8425: 'accompanist', 8426: 'danielle', 8427: 'flirty', 8428: 'giuditta', 8429: 'heiss', 8430: 'ingrid', 8431: 'kiss', 8432: 'küssen', 8433: 'lehár', 8434: 'lippen', 8435: 'meine', 8436: 'niese', 8437: 'sie', 8438: 'slightly', 8439: 'surgenor', 8440: 'alert', 8441: 'injustice', 8442: 'lan', 8443: 'microblogs', 8444: 'oprah', 8445: 'yang', 8446: 'adami', 8447: 'biomarker', 8448: 'christoph', 8449: 'preconceptions', 8450: 'replicating', 8451: 'ceo', 8452: 'pixar', 8453: 'setbacks', 8454: 'biddle', 8455: 'frustrated', 8456: 'metals', 8457: 'recycle', 8458: 'sorting', 8459: 'ekhayelitsha', 8460: 'ensemble', 8461: 'hazlewood', 8462: 'paraorchestra', 8463: 'division', 8464: 'gopnik', 8465: 'exhibit', 8466: 'seymour', 8467: '1990', 8468: 'connectivity', 8469: 'late', 8470: 'proposed', 8471: 'ritchie', 8472: 'deception', 8473: 'hotspots', 8474: 'lied', 8475: 'liespotting', 8476: 'manners', 8477: 'pamela', 8478: 'trained', 8479: 'burial', 8480: 'gobbling', 8481: 'greener', 8482: 'jae', 8483: 'mushrooms', 8484: 'provocation', 8485: 'rhim', 8486: 'seeded', 8487: 'strangest', 8488: 'artisans', 8489: 'barefoot', 8490: 'bunker', 8491: 'dentists', 8492: 'illiterate', 8493: 'rajasthan', 8494: 'breakthroughs', 8495: 'justin', 8496: 'normal', 8497: 'windowpanes', 8498: 'avert', 8499: 'cyberattacks', 8500: 'dams', 8501: 'goldstein', 8502: 'grids', 8503: 'hazard', 8504: 'amanda', 8505: 'kitts', 8506: 'kuiken', 8507: 'physiatrist', 8508: 'todd', 8509: 'embody', 8510: 'miebach', 8511: 'nathalie', 8512: 'scores', 8513: 'storms', 8514: 'weather', 8515: 'apart', 8516: 'inequality', 8517: 'instinctively', 8518: 'lifespan', 8519: 'wilkinson', 8520: 'halves', 8521: 'mcgilchrist', 8522: 'bombsight', 8523: 'norden', 8524: 'bradner', 8525: 'jq1', 8526: 'mailed', 8527: 'patenting', 8528: 'reaping', 8529: 'béatrice', 8530: 'coron', 8531: 'heavens', 8532: 'hells', 8533: 'scissors', 8534: 'slices', 8535: 'snips', 8536: 'striding', 8537: 'tyvek', 8538: 'agents', 8539: 'elahi', 8540: 'fbi', 8541: 'morally', 8542: 'neuroeconomist', 8543: 'oxytocin', 8544: 'stable', 8545: 'zak', 8546: 'automotive', 8547: 'cracked', 8548: 'dietrich', 8549: 'flipped', 8550: 'mracek', 8551: 'premise', 8552: 'wolpert', 8553: 'illusionist', 8554: 'jaunty', 8555: 'sleight', 8556: 'stick', 8557: 'storytelling', 8558: 'bystanders', 8559: 'investigative', 8560: 'journalism', 8561: 'murders', 8562: 'pieced', 8563: 'unexplained', 8564: 'unsolved', 8565: 'martins', 8566: 'overly', 8567: 'portuguese', 8568: 'sandra', 8569: 'separates', 8570: 'spot', 8571: 'blobs', 8572: 'experimental', 8573: 'hanczyc', 8574: 'occurred', 8575: 'protocells', 8576: 'aparna', 8577: 'emails', 8578: 'humorous', 8579: 'interactions', 8580: 'pors', 8581: 'sends', 8582: 'soren', 8583: 'typewriter', 8584: 'heritage', 8585: 'kacyra', 8586: 'monuments', 8587: 'neglect', 8588: 'scan', 8589: 'scanning', 8590: 'allan', 8591: 'annual', 8592: 'charlie', 8593: 'ghostbusters', 8594: 'seventy', 8595: 'storefront', 8596: 'subway', 8597: 'synchronized', 8598: 'windows', 8599: 'mcnamee', 8600: 'sacrificed', 8601: 'enable', 8602: 'nielsen', 8603: 'alexander', 8604: 'conception', 8605: 'tsiaras', 8606: 'alps', 8607: 'canyon', 8608: 'jetman', 8609: 'rossy', 8610: 'rudder', 8611: 'strapped', 8612: 'thrill', 8613: 'wing', 8614: 'bustin', 8615: 'developers', 8616: 'jeiber', 8617: 'mole', 8618: 'olds', 8619: 'suarez', 8620: 'whack', 8621: 'controls', 8622: 'elegans', 8623: 'kenyon', 8624: 'mutation', 8625: 'pointing', 8626: 'significantly', 8627: 'youthful', 8628: 'awe', 8629: 'grumpy', 8630: 'ince', 8631: 'monologue', 8632: 'ruin', 8633: 'gabe', 8634: 'productive', 8635: 'solvers', 8636: 'tasking', 8637: 'zichermann', 8638: 'activists', 8639: 'warne', 8640: 'asteroids', 8641: 'plait', 8642: 'yipes', 8643: 'balances', 8644: 'ballbot', 8645: 'droid', 8646: 'fankhauser', 8647: 'gracefully', 8648: 'judge', 8649: 'péter', 8650: 'rezero', 8651: 'sphere', 8652: 'lothar', 8653: 'meggendorfer', 8654: 'sabia', 8655: 'apartment', 8656: 'arriving', 8657: 'britta', 8658: 'discarded', 8659: 'distributed', 8660: 'optimal', 8661: 'riley', 8662: 'variations', 8663: '\"!).', 8664: 'competitor', 8665: 'draw', 8666: 'knee', 8667: 'obstacles', 8668: 'pro', 8669: 'purdy', 8670: 'snowboarder', 8671: 'quentin', 8672: 'san', 8673: 'lilt', 8674: 'murphy', 8675: 'quiz', 8676: 'womb', 8677: 'bohannon', 8678: 'choreographed', 8679: 'label', 8680: 'modest', 8681: 'cochlear', 8682: 'implantation', 8683: 'regret', 8684: 'regrets', 8685: 'tattoo', 8686: 'continents', 8687: 'dodson', 8688: 'leslie', 8689: 'narratives', 8690: 'ngos', 8691: 'representing', 8692: 'zone', 8693: 'ballerina', 8694: 'princess', 8695: 'stunned', 8696: '2000', 8697: 'milosevic', 8698: 'popovic', 8699: 'resistance', 8700: 'serbia', 8701: 'srdja', 8702: 'accurately', 8703: 'captcha', 8704: 'digitize', 8705: 'duolingo', 8706: 'luis', 8707: 'purposing', 8708: 'typed', 8709: 'von', 8710: 'cheryl', 8711: 'flexible', 8712: 'hayashi', 8713: 'spider', 8714: 'super', 8715: 'cancerous', 8716: 'fibroids', 8717: 'growths', 8718: 'knives', 8719: 'lesions', 8720: 'medan', 8721: 'mri', 8722: 'ultrasound', 8723: 'uterine', 8724: 'yoav', 8725: 'appropriately', 8726: 'improvisational', 8727: 'mistake', 8728: 'stefon', 8729: 'customized', 8730: 'klaus', 8731: 'stadlmann', 8732: 'analyzes', 8733: 'damberger', 8734: 'missteps', 8735: 'scrutinize', 8736: 'sector', 8737: 'bulaj', 8738: 'monika', 8739: 'conveniently', 8740: 'marker', 8741: 'nguyen', 8742: 'quyen', 8743: 'textbooks', 8744: 'tumors', 8745: 'assessing', 8746: 'assets', 8747: 'pavan', 8748: 'sukhdev', 8749: 'cantu', 8750: 'chicago', 8751: 'cook', 8752: 'homaro', 8753: 'intent', 8754: 'moto', 8755: 'roche', 8756: 'tripping', 8757: 'drunk', 8758: 'pierson', 8759: 'ramona', 8760: 'recovery', 8761: 'doiron', 8762: 'medications', 8763: 'pogge', 8764: 'sad', 8765: 'sold', 8766: 'vaccines', 8767: 'damasio', 8768: 'marvelous', 8769: 'regain', 8770: 'direct', 8771: 'hooking', 8772: 'nirenberg', 8773: 'flossing', 8774: 'skip', 8775: 'judicial', 8776: 'prisoners', 8777: 'tortured', 8778: 'tse', 8779: 'active', 8780: 'alberto', 8781: 'cairo', 8782: 'stay', 8783: 'bicycle', 8784: 'helmet', 8785: 'shopping', 8786: 'sunscreen', 8787: 'wearing', 8788: 'added', 8789: 'expectancy', 8790: 'fonda', 8791: 'footnote', 8792: 'ashdown', 8793: 'paddy', 8794: 'summarized', 8795: 'garvis', 8796: 'borkin', 8797: 'nebula', 8798: 'cowen', 8799: 'describe', 8800: 'hodge', 8801: 'prizes', 8802: 'shah', 8803: 'shree', 8804: 'swept', 8805: 'diverge', 8806: 'gahr', 8807: 'jonas', 8808: 'radicals', 8809: 'støre', 8810: 'terrorists', 8811: 'animations', 8812: 'berry', 8813: 'observe', 8814: 'unseeable', 8815: 'aung', 8816: 'kyi', 8817: 'morley', 8818: 'suu', 8819: 'tedxwomen', 8820: 'sorensen', 8821: 'thorium', 8822: 'disability', 8823: 'gifted', 8824: 'prodigiously', 8825: 'canary', 8826: 'delay', 8827: 'drink', 8828: 'luthra', 8829: 'safety', 8830: 'sonaar', 8831: 'adopt', 8832: 'atheism', 8833: 'incorporates', 8834: 'respectfully', 8835: 'satisfy', 8836: 'transcendence', 8837: 'blindly', 8838: 'cybercrime', 8839: 'hypponen', 8840: 'privacy', 8841: 'consume', 8842: 'defend', 8843: 'manifesto', 8844: 'passively', 8845: 'pipa', 8846: 'proper', 8847: 'sopa', 8848: '700', 8849: 'freeze', 8850: 'costas', 8851: 'devoid', 8852: 'repetition', 8853: 'rickard', 8854: 'ugliest', 8855: 'algae', 8856: 'arable', 8857: 'bilal', 8858: 'biofuels', 8859: 'bomani', 8860: 'equals', 8861: 'produces', 8862: 'salt', 8863: 'siliconvalley', 8864: 'tedxnasa', 8865: 'wasting', 8866: 'baggini', 8867: 'entirely', 8868: '2012', 8869: 'commonplace', 8870: 'harouni', 8871: 'printing', 8872: 'cuba', 8873: 'florida', 8874: 'nyad', 8875: 'precious', 8876: 'thirty', 8877: 'unbroken', 8878: 'goldman', 8879: 'shame', 8880: 'factories', 8881: 'firms', 8882: 'gayle', 8883: 'lemmon', 8884: 'loans', 8885: 'micro', 8886: 'tzemach', 8887: 'atop', 8888: 'blows', 8889: 'chimney', 8890: 'luxurious', 8891: 'processing', 8892: 'rings', 8893: 'slope', 8894: 'smoke', 8895: 'mountz', 8896: 'packages', 8897: 'purchases', 8898: 'warehouse', 8899: 'armies', 8900: 'bloodshed', 8901: 'netherlands', 8902: 'uhm', 8903: 'approved', 8904: 'chemotherapy', 8905: 'doyle', 8906: 'interrupt', 8907: 'radiation', 8908: 'achor', 8909: 'backwards', 8910: 'inspires', 8911: 'shawn', 8912: 'anesthesia', 8913: 'erica', 8914: 'frenkel', 8915: 'lights', 8916: 'procedures', 8917: 'stops', 8918: 'tragedies', 8919: 'accelerating', 8920: 'dated', 8921: 'consummate', 8922: 'degruy', 8923: 'excitement', 8924: 'fears', 8925: 'intimately', 8926: 'aleph', 8927: 'empowers', 8928: 'excluded', 8929: 'molinari', 8930: 'duarte', 8931: 'listeners', 8932: 'burgess', 8933: 'direction', 8934: 'mechanisms', 8935: 'parked', 8936: 'civilian', 8937: 'crowds', 8938: 'ethics', 8939: 'hazards', 8940: 'insidious', 8941: 'lethal', 8942: 'pepper', 8943: 'spray', 8944: 'tasers', 8945: 'filmmakers', 8946: 'mayassa', 8947: 'patron', 8948: 'qatar', 8949: 'sheikha', 8950: 'storytellers', 8951: 'dinosaurs', 8952: 'iconoclastic', 8953: 'johansson', 8954: 'photoshop', 8955: 'plausible', 8956: 'wizard', 8957: 'dudley', 8958: 'realizing', 8959: 'usually', 8960: 'automatic', 8961: 'disqualification', 8962: 'nolan', 8963: 'translation', 8964: 'amphibians', 8965: 'atrazine', 8966: 'chaffer', 8967: 'hayes', 8968: 'herbicide', 8969: 'jagessar', 8970: 'pregnant', 8971: 'studied', 8972: 'tyrone', 8973: 'unborn', 8974: 'jenna', 8975: 'mccarthy', 8976: 'tip', 8977: 'andrews', 8978: 'inara', 8979: 'lovely', 8980: 'tree', 8981: 'aeds', 8982: 'atm', 8983: 'crowdsourced', 8984: 'defibrillator', 8985: 'engelen', 8986: 'lucien', 8987: 'smartphone', 8988: 'berrow', 8989: 'exceptional', 8990: 'extinct', 8991: 'irish', 8992: 'conneally', 8993: 'disastrous', 8994: 'humanitarian', 8995: 'tedxrc2', 8996: 'alberta', 8997: 'devastation', 8998: 'garth', 8999: 'lenz', 9000: 'sands', 9001: 'tar', 9002: 'tedxvictoria', 9003: 'ruining', 9004: '2600', 9005: 'akkadian', 9006: 'culturalism', 9007: 'cuneiform', 9008: 'cylinder', 9009: 'cyrus', 9010: 'damaged', 9011: 'enthralling', 9012: 'macgregor', 9013: 'symbol', 9014: 'tolerance', 9015: 'bliss', 9016: 'translate', 9017: 'khoya', 9018: 'shilo', 9019: 'shiv', 9020: 'stopped', 9021: 'storybook', 9022: 'suleman', 9023: 'benartzi', 9024: 'retirement', 9025: 'shlomo', 9026: 'fleeing', 9027: 'sister', 9028: 'vietnam', 9029: 'avi', 9030: 'compromising', 9031: 'hackers', 9032: 'rubin', 9033: 'favoritism', 9034: 'jeffrey', 9035: 'kluger', 9036: 'rivalry', 9037: 'sibling', 9038: 'allocca', 9039: 'manager', 9040: 'tedyouth', 9041: 'census', 9042: 'snelgrove', 9043: 'baseline', 9044: 'decreasing', 9045: 'downward', 9046: 'pauly', 9047: 'readjusting', 9048: '.”', 9049: 'loom', 9050: 'surely', 9051: 'ted2012', 9052: 'gilding', 9053: 'livable', 9054: 'agile', 9055: 'disasters', 9056: 'hoc', 9057: 'kumar', 9058: 'penn', 9059: 'quadrotors', 9060: 'surveying', 9061: 'swarm', 9062: 'vijay', 9063: 'abilities', 9064: 'cain', 9065: 'encouraged', 9066: 'introvert', 9067: 'introverts', 9068: 'outgoing', 9069: 'prized', 9070: 'shameful', 9071: 'appearances', 9072: 'bryan', 9073: 'cameo', 9074: 'candor', 9075: 'imbalance', 9076: 'incarcerated', 9077: 'parks', 9078: 'persuasiveness', 9079: 'racial', 9080: 'rosa', 9081: 'stevenson', 9082: 'talked', 9083: 'unexamined', 9084: 'stanton', 9085: 'hansen', 9086: 'involvement', 9087: 'cheaply', 9088: 'coder', 9089: 'pahlka', 9090: 'permissionless', 9091: 'colin', 9092: 'robertson', 9093: 'injecting', 9094: 'kelli', 9095: 'shatters', 9096: 'absurd', 9097: 'excuses', 9098: 'punches', 9099: 'cockroach', 9100: 'deliver', 9101: 'dissecting', 9102: 'gage', 9103: 'impulses', 9104: 'receive', 9105: 'universes', 9106: 'remains', 9107: 'trenches', 9108: 'tropical', 9109: '1849', 9110: 'bc', 9111: 'circumference', 9112: 'eratosthenes', 9113: 'fizeau', 9114: 'hippolyte', 9115: 'measurement', 9116: 'attempt', 9117: 'actual', 9118: 'entertainment', 9119: 'lobbyists', 9120: 'reid', 9121: 'tm', 9122: 'shine', 9123: 'unspoken', 9124: 'fabulous', 9125: 'macho', 9126: 'printed', 9127: 'unabashedly', 9128: 'inefficient', 9129: 'notions', 9130: 'portions', 9131: 'raymond', 9132: 'tedxportofspain', 9133: '150', 9134: 'alternative', 9135: 'boone', 9136: 'consumes', 9137: 'pickens', 9138: 'tycoon', 9139: 'bairey', 9140: 'missed', 9141: 'noel', 9142: 'symptoms', 9143: 'garage', 9144: 'artistic', 9145: 'channel', 9146: 'collins', 9147: 'depth', 9148: 'included', 9149: 'sundance', 9150: 'abstract', 9151: 'graphing', 9152: 'jer', 9153: 'tedxvancouver', 9154: 'thorp', 9155: 'intubated', 9156: 'occupy', 9157: 'blackboard', 9158: 'blowing', 9159: 'donald', 9160: 'sadoway', 9161: 'storage', 9162: 'advanced', 9163: 'agency', 9164: 'dugan', 9165: 'hummingbird', 9166: 'regina', 9167: 'gbowee', 9168: 'greatness', 9169: 'leymah', 9170: 'ayah', 9171: 'bdeir', 9172: 'interchangeable', 9173: 'legos', 9174: 'littlebits', 9175: 'snapping', 9176: 'entertains', 9177: 'haitians', 9178: 'lightbulbs', 9179: 'schnitzer', 9180: 'sell', 9181: 'tedxpittsburgh', 9182: 'falkvinge', 9183: 'parliaments', 9184: 'pirate', 9185: 'tedxobserver', 9186: 'astoundingly', 9187: 'mesmerizingly', 9188: 'microscopic', 9189: 'opened', 9190: 'videography', 9191: 'personas', 9192: 'redefining', 9193: 'sherry', 9194: 'turkle', 9195: 'chee', 9196: 'cover', 9197: 'curated', 9198: 'funniest', 9199: 'kidd', 9200: 'pearlman', 9201: 'choi', 9202: 'dissect', 9203: 'stretcher', 9204: 'lucy', 9205: 'mcrae', 9206: 'merge', 9207: 'recreate', 9208: 'robyn', 9209: 'swallowed', 9210: 'sweat', 9211: 'carvens', 9212: 'lissaint', 9213: 'destruction', 9214: 'foley', 9215: 'skyrocketing', 9216: 'terraculture', 9217: 'postcards', 9218: 'postsecret', 9219: 'fairness', 9220: 'mammals', 9221: 'paid', 9222: 'primates', 9223: 'reciprocity', 9224: 'unequally', 9225: 'waal', 9226: 'contraception', 9227: 'ensuring', 9228: 'examine', 9229: 'lend', 9230: 'tedxchange', 9231: 'aorta', 9232: 'boiler', 9233: 'golesworthy', 9234: 'piping', 9235: 'plumbing', 9236: 'tal', 9237: 'abigail', 9238: 'picked', 9239: 'touring', 9240: 'washburn', 9241: 'atul', 9242: 'cowboys', 9243: 'fewer', 9244: 'gawande', 9245: 'pit', 9246: '\"...', 9247: 'fark', 9248: 'frivolous', 9249: 'lawsuit', 9250: 'nutty', 9251: 'patent', 9252: 'patents', 9253: 'releases', 9254: 'captures', 9255: 'essence', 9256: 'genealogy', 9257: 'interplay', 9258: 'spanning', 9259: 'stream', 9260: 'carstensen', 9261: 'lifespans', 9262: 'achaeological', 9263: 'christina', 9264: 'dental', 9265: 'fossilized', 9266: 'hominids', 9267: 'microbial', 9268: 'plaque', 9269: 'warinner', 9270: 'multiverse', 9271: 'unanswered', 9272: 'norton', 9273: 'tedxcambridge', 9274: 'bergmann', 9275: 'blueberry', 9276: 'football', 9277: 'metaphors', 9278: 'stadium', 9279: 'visceral', 9280: 'janeiro', 9281: 'paes', 9282: 'sprawling', 9283: 'upgrades', 9284: 'advocacy', 9285: 'lublin', 9286: 'teenagers', 9287: 'text', 9288: 'towel', 9289: 'towels', 9290: 'effectiveness', 9291: 'magnitude', 9292: 'romero', 9293: 'addition', 9294: 'dc', 9295: 'hirshhorn', 9296: 'welcoming', 9297: 'cheaper', 9298: 'congress', 9299: 'filmed', 9300: 'integrating', 9301: 'sectors', 9302: 'trillion', 9303: 'crafting', 9304: 'margolin', 9305: 'mesmerized', 9306: 'raindrops', 9307: 'reuben', 9308: 'collusion', 9309: 'cookies', 9310: 'firefox', 9311: 'kovacs', 9312: 'lightbeam', 9313: 'surf', 9314: 'update', 9315: 'reframing', 9316: 'tedxathens', 9317: 'conversations', 9318: 'fifteen', 9319: 'gevinson', 9320: 'richly', 9321: 'rookie', 9322: 'tavi', 9323: 'tedxteen', 9324: 'teenage', 9325: 'unapologetically', 9326: 'uncertain', 9327: 'albinism', 9328: 'appearance', 9329: 'empowering', 9330: 'flash', 9331: 'guidotti', 9332: 'tedxphoenix', 9333: 'notation', 9334: 'tilson', 9335: 'written', 9336: 'jp', 9337: 'rangaswami', 9338: 'sxswi', 9339: 'bat', 9340: 'feeds', 9341: 'lipped', 9342: 'nectar', 9343: 'tube', 9344: '!),', 9345: 'foer', 9346: 'memorize', 9347: 'palace', 9348: '404', 9349: 'nobody', 9350: 'oops', 9351: 'pages', 9352: 'bowen', 9353: 'easier', 9354: 'marketable', 9355: 'imaginative', 9356: 'instincts', 9357: 'knols', 9358: 'limburger', 9359: 'beneficial', 9360: 'sharot', 9361: 'tali', 9362: 'deadliness', 9363: 'digitized', 9364: 'chosen', 9365: 'confidence', 9366: 'creatives', 9367: 'schoonover', 9368: 'pasted', 9369: 'posters', 9370: 'decided', 9371: 'exo', 9372: 'inexpensive', 9373: 'mcdaniel', 9374: 'obsessed', 9375: 'persistent', 9376: 'reaction', 9377: 'tedxaustin', 9378: 'willing', 9379: 'apologies', 9380: 'garren', 9381: 'glitches', 9382: 'maintain', 9383: 'melissa', 9384: 'teaspoon', 9385: 'tedxmonterey', 9386: 'unseeably', 9387: 'doha', 9388: 'fertility', 9389: 'religions', 9390: 'tedxsummit', 9391: 'petit', 9392: 'somewhere', 9393: 'tightrope', 9394: 'towers', 9395: 'criminalize', 9396: 'forceful', 9397: 'stigma', 9398: 'boxes', 9399: 'crosses', 9400: 'genres', 9401: 'reggie', 9402: 'unplug', 9403: 'watts', 9404: 'limitations', 9405: 'mackay', 9406: 'renewables', 9407: 'ingrain', 9408: 'tedxberkeley', 9409: 'accelerator', 9410: 'archimedes', 9411: 'byzantine', 9412: 'containing', 9413: 'erased', 9414: 'manuscript', 9415: 'painted', 9416: 'palimpsest', 9417: 'prayer', 9418: 'writings', 9419: 'dalia', 9420: 'egyptian', 9421: 'mogahed', 9422: 'pollster', 9423: 'deterding', 9424: 'morality', 9425: 'visions', 9426: 'acrobatics', 9427: 'fx', 9428: 'quixotic', 9429: 'bets', 9430: 'cup', 9431: 'extraterrestrial', 9432: 'ours', 9433: 'probability', 9434: 'shostak', 9435: 'twenty', 9436: 'bartenders', 9437: 'birch', 9438: 'fractured', 9439: 'id', 9440: 'identification', 9441: 'pin', 9442: 'retailers', 9443: 'thieves', 9444: 'upgrade', 9445: 'amount', 9446: 'erection', 9447: 'mammalian', 9448: 'tremendous', 9449: 'brine', 9450: 'damian', 9451: 'desalinating', 9452: 'minerals', 9453: 'munching', 9454: 'palin', 9455: 'salty', 9456: '.)</', 9457: '>(', 9458: 'em', 9459: 'resident', 9460: 'ami', 9461: 'disorder', 9462: 'engagement', 9463: 'gauge', 9464: 'klin', 9465: 'reliably', 9466: 'tedxpeachtree', 9467: 'catalogue', 9468: 'designing', 9469: 'wheels', 9470: 'base', 9471: 'elite', 9472: 'onie', 9473: 'prescribe', 9474: 'winter', 9475: 'beeban', 9476: 'boyz', 9477: 'filmclub', 9478: 'hood', 9479: 'invokes', 9480: 'kidron', 9481: 'milan', 9482: 'worldviews', 9483: 'archaeology', 9484: 'parcak', 9485: 'satellite', 9486: 'absurdity', 9487: 'agenda', 9488: 'granderson', 9489: 'lz', 9490: 'parent', 9491: 'fostering', 9492: 'godfather', 9493: 'mullen', 9494: 'prolific', 9495: 'sake', 9496: 'skateboarding', 9497: 'skaters', 9498: 'skating', 9499: 'incomplete', 9500: 'kamerick', 9501: 'megan', 9502: 'reporters', 9503: 'tedxabq', 9504: 'underrepresents', 9505: 'biographies', 9506: 'dow', 9507: 'murder', 9508: 'penalty', 9509: 'prevents', 9510: 'ivan', 9511: 'oransky', 9512: 'preconditions', 9513: 'preposterous', 9514: 'reuters', 9515: 'alternating', 9516: 'nikola', 9517: 'projection', 9518: 'tesla', 9519: '175', 9520: 'attended', 9521: 'norvig', 9522: 'situ', 9523: 'webcast', 9524: 'concert', 9525: 'kessling', 9526: 'tantamount', 9527: 'uncomfortably', 9528: 'wolfgang', 9529: 'jpl', 9530: 'rotate', 9531: 'hub', 9532: 'management', 9533: 'nirmalya', 9534: 'outsource', 9535: 'overseas', 9536: 'astrochimp', 9537: 'britannica', 9538: 'chimborazo', 9539: 'encyclopaedia', 9540: 'farthest', 9541: 'ham', 9542: 'prompted', 9543: 'publication', 9544: 'resurrects', 9545: 'arduino', 9546: 'banzi', 9547: 'coolest', 9548: 'gear', 9549: 'massimo', 9550: 'microcontroller', 9551: 'permission', 9552: 'bathed', 9553: 'generations', 9554: 'tapscott', 9555: 'transparent', 9556: 'clearly', 9557: 'compassionately', 9558: 'elyn', 9559: 'honestly', 9560: 'joke', 9561: 'okay', 9562: 'saks', 9563: 'schizophrenia', 9564: 'totally', 9565: '70', 9566: 'almog', 9567: 'astronomy', 9568: 'aviv', 9569: 'azoulay', 9570: 'boaz', 9571: 'deutscher', 9572: 'disk', 9573: 'float', 9574: 'frictionlessly', 9575: 'inch', 9576: 'levitate', 9577: 'magnetic', 9578: 'mishael', 9579: 'prof', 9580: 'rail', 9581: 'superconductivity', 9582: 'superconductor', 9583: 'tc', 9584: 'tel', 9585: 'alanna', 9586: 'arrive', 9587: 'concrete', 9588: 'shaikh', 9589: 'cesar', 9590: 'harada', 9591: 'maneuverable', 9592: 'opted', 9593: 'orleans', 9594: 'soak', 9595: 'tracts', 9596: 'guitarists', 9597: 'percussive', 9598: 'riaz', 9599: 'usman', 9600: 'bedridden', 9601: 'dove', 9602: 'resilience', 9603: 'suicidal', 9604: 'superbetter', 9605: 'eisen', 9606: 'microbiologist', 9607: 'sick', 9608: 'gained', 9609: 'gerdes', 9610: 'mph', 9611: 'professional', 9612: 'racing', 9613: 'goodman', 9614: 'grave', 9615: 'clue', 9616: 'digression', 9617: 'ficklin', 9618: 'skatepark', 9619: 'dots', 9620: 'forecasts', 9621: 'geolocation', 9622: 'humphreys', 9623: 'millimeter', 9624: 'possessions', 9625: 'sinister', 9626: 'barcia', 9627: 'blenders', 9628: 'colombo', 9629: 'friendships', 9630: 'jars', 9631: 'suitcases', 9632: 'automatically', 9633: 'bissell', 9634: 'microenvironment', 9635: 'mina', 9636: 'prevailing', 9637: 'proved', 9638: 'pursued', 9639: 'approaches', 9640: 'deadline', 9641: 'drummond', 9642: 'laid', 9643: 'baba', 9644: 'ceding', 9645: 'auras', 9646: 'aurasma', 9647: 'mills', 9648: 'overlaying', 9649: 'roukaerts', 9650: 'seamlessly', 9651: 'tamara', 9652: 'attached', 9653: 'audible', 9654: 'frequencies', 9655: 'grayscale', 9656: 'harbisson', 9657: '1830s', 9658: '30s', 9659: 'ada', 9660: 'analytical', 9661: 'babbage', 9662: 'byron', 9663: 'cumming', 9664: 'lord', 9665: 'lovelace', 9666: 'steam', 9667: 'adept', 9668: 'alarm', 9669: 'crafts', 9670: 'flashlight', 9671: 'lunchbox', 9672: 'melded', 9673: 'mouse', 9674: 'shops', 9675: 'thirds', 9676: 'triage', 9677: 'venkatraman', 9678: 'vinay', 9679: 'admiral', 9680: 'fans', 9681: 'navy', 9682: 'private', 9683: 'stavridis', 9684: '35', 9685: '830', 9686: 'detailed', 9687: 'germany', 9688: 'malte', 9689: 'requests', 9690: 'spitz', 9691: 'blushing', 9692: 'chevalier', 9693: 'earring', 9694: 'tracy', 9695: 'corners', 9696: 'femto', 9697: 'ramesh', 9698: 'raskar', 9699: 'visualizes', 9700: 'architectural', 9701: 'buildable', 9702: 'draft', 9703: 'facets', 9704: 'hansmeyer', 9705: 'beekeeping', 9706: 'mysteriously', 9707: 'rapidly', 9708: 'amputee', 9709: 'assignment', 9710: 'duley', 9711: 'giles', 9712: 'horrific', 9713: 'landmine', 9714: 'marginalized', 9715: 'triple', 9716: 'aka', 9717: 'beijing', 9718: 'jing', 9719: 'microbloggers', 9720: 'servers', 9721: 'zhao', 9722: 'greenery', 9723: 'ritz', 9724: 'cofounded', 9725: 'coursera', 9726: 'courses', 9727: 'daphne', 9728: 'enticing', 9729: 'keystroke', 9730: 'koller', 9731: 'ng', 9732: 'pool', 9733: 'universities', 9734: 'becci', 9735: 'japanese', 9736: 'loved', 9737: 'manson', 9738: 'recruited', 9739: 'retoucher', 9740: 'wreckage', 9741: 'applebaum', 9742: 'composing', 9743: 'concerto', 9744: 'florist', 9745: 'junk', 9746: 'algorithm', 9747: 'analogies', 9748: 'forecast', 9749: 'fry', 9750: 'hannah', 9751: 'phenomena', 9752: 'prey', 9753: 'riot', 9754: 'bully', 9755: 'deal', 9756: 'elworthy', 9757: 'evokes', 9758: 'gandhi', 9759: 'historical', 9760: 'mahatma', 9761: 'nonviolence', 9762: 'philosophies', 9763: 'protests', 9764: 'scilla', 9765: 'thug', 9766: 'chambers', 9767: 'counterintuitively', 9768: 'disagree', 9769: 'disagreement', 9770: 'echo', 9771: 'heffernan', 9772: 'applied', 9773: 'causing', 9774: 'max', 9775: 'objective', 9776: 'weakness', 9777: 'communal', 9778: 'pam', 9779: 'plots', 9780: 'tedsalon', 9781: 'warhurst', 9782: 'borrow', 9783: 'dylan', 9784: 'kirby', 9785: '27', 9786: 'bricklayers', 9787: 'enslaved', 9788: 'hauntingly', 9789: 'kristine', 9790: 'nepal', 9791: 'souls', 9792: 'unbearably', 9793: '\"?)', 9794: 'etymologist', 9795: 'forsyth', 9796: 'politicians', 9797: 'arguably', 9798: 'krastev', 9799: 'aspect', 9800: 'caitria', 9801: 'donations', 9802: 'freak', 9803: 'hometown', 9804: 'neill', 9805: 'prepared', 9806: 'sympathy', 9807: 'tornado', 9808: 'window', 9809: 'definitive', 9810: 'divides', 9811: 'gray', 9812: 'illuminates', 9813: 'psychopath', 9814: 'ronson', 9815: 'sane', 9816: 'accolades', 9817: 'incubator', 9818: 'newborns', 9819: 'prestero', 9820: 'timothy', 9821: 'apollo', 9822: 'enhancing', 9823: 'hugo', 9824: 'legato', 9825: 'trump', 9826: 'chaotic', 9827: 'hawkers', 9828: 'pushcart', 9829: 'scope', 9830: 'stalls', 9831: 'unlicensed', 9832: 'brute', 9833: 'catching', 9834: 'identifying', 9835: 'sankar', 9836: 'shyam', 9837: 'antony', 9838: 'exterior', 9839: 'gormley', 9840: 'interior', 9841: 'biofuel', 9842: 'enclosures', 9843: 'membrane', 9844: 'offshore', 9845: 'omega', 9846: 'pods', 9847: 'trent', 9848: 'wastewater', 9849: 'apartments', 9850: 'kent', 9851: 'larson', 9852: 'overcrowding', 9853: 'abhors', 9854: 'clarity', 9855: 'edited', 9856: 'eyewitnesses', 9857: 'fraser', 9858: 'misspoke', 9859: 'misstatement', 9860: 'shooting', 9861: 'sunset', 9862: 'vacuum', 9863: '450', 9864: 'patel', 9865: 'untreated', 9866: 'vikram', 9867: 'wealthy', 9868: 'chang', 9869: 'megacities', 9870: 'migrate', 9871: 'ongoing', 9872: 'advocates', 9873: 'curing', 9874: 'individualized', 9875: 'particular', 9876: 'pluripotent', 9877: 'solomon', 9878: 'targeted', 9879: 'testbeds', 9880: 'choreographer', 9881: 'communicates', 9882: 'mcgregor', 9883: 'phrases', 9884: 'unscripted', 9885: 'wayne', 9886: 'beth', 9887: 'bureaucracies', 9888: 'cto', 9889: 'deputy', 9890: 'noveck', 9891: 'writable', 9892: 'appealing', 9893: 'inedible', 9894: 'tristram', 9895: 'adolescents', 9896: 'blakemore', 9897: 'cortex', 9898: 'impulsive', 9899: 'jayne', 9900: 'prefrontal', 9901: 'acoustics', 9902: 'classrooms', 9903: 'continually', 9904: 'stressed', 9905: 'blum', 9906: 'cables', 9907: 'chewed', 9908: 'knocked', 9909: 'offline', 9910: 'squirrel', 9911: 'wondering', 9912: 'bandi', 9913: 'bloody', 9914: 'console', 9915: 'mbubi', 9916: 'refugee', 9917: 'tantalum', 9918: 'tied', 9919: 'gavagan', 9920: 'gratitude', 9921: 'knots', 9922: 'med', 9923: 'practicing', 9924: 'sitting', 9925: 'washed', 9926: 'airbnb', 9927: 'currency', 9928: 'reputation', 9929: 'taskrabbit', 9930: 'ain', 9931: 'mcafee', 9932: 'required', 9933: 'functional', 9934: 'hamsters', 9935: 'montague', 9936: 'democracies', 9937: 'divergent', 9938: 'flood', 9939: 'github', 9940: 'hosting', 9941: 'oftentimes', 9942: 'rousing', 9943: 'impassioned', 9944: 'inconclusive', 9945: 'instances', 9946: 'misleading', 9947: 'arabic', 9948: 'bahia', 9949: 'shehab', 9950: 'spraying', 9951: 'streets', 9952: 'aris', 9953: 'dublin', 9954: 'schematics', 9955: 'venetikidis', 9956: 'arroyo', 9957: 'drought', 9958: 'flooding', 9959: 'vicki', 9960: 'confident', 9961: 'cuddy', 9962: 'posing', 9963: 'posture', 9964: 'referenced', 9965: 'reproducibility', 9966: 'robustness', 9967: 'conventional', 9968: 'fails', 9969: 'credibility', 9970: 'mccue', 9971: 'recruits', 9972: 'weaken', 9973: 'grades', 9974: 'jumped', 9975: 'mooc', 9976: 'nisan', 9977: 'noam', 9978: 'simulators', 9979: 'specifications', 9980: 'campbell', 9981: 'curating', 9982: 'curation', 9983: 'displaying', 9984: 'mcqueen', 9985: 'placing', 9986: 'tapestries', 9987: 'chatter', 9988: 'impetus', 9989: 'leberecht', 9990: 'recommit', 9991: 'tightly', 9992: 'concluding', 9993: 'garner', 9994: 'ruby', 9995: 'wax', 9996: '):', 9997: 'marshall', 9998: 'presenting', 9999: 'anghiari', 10000: 'layers', 10001: 'maurizio', 10002: 'seracini', 10003: 'eddie', 10004: 'obeng', 10005: 'anonymously', 10006: 'limit', 10007: 'slowing', 10008: 'strict', 10009: 'wave', 10010: 'wilbanks', 10011: 'article', 10012: 'blackawton', 10013: 'classmates', 10014: 'participate', 10015: 'reviewed', 10016: 'schoolchildren', 10017: 'seconded', 10018: 'toole', 10019: 'upon', 10020: 'accountable', 10021: 'brooke', 10022: 'expenses', 10023: 'held', 10024: 'parliamentary', 10025: 'platforms', 10026: 'scandal', 10027: 'merkley', 10028: 'mozilla', 10029: 'popcorn', 10030: 'remixing', 10031: 'borderless', 10032: 'delta', 10033: 'ghemawat', 10034: 'hyperconnected', 10035: 'pankaj', 10036: 'conservatism', 10037: 'correlation', 10038: 'equipped', 10039: 'feces', 10040: 'pizarro', 10041: 'sensitivity', 10042: 'unpleasant', 10043: 'adopted', 10044: 'cinderella', 10045: 'fostered', 10046: 'lemn', 10047: 'literature', 10048: 'moses', 10049: 'orphaned', 10050: 'parentless', 10051: 'pasts', 10052: 'sissay', 10053: 'bimetals', 10054: 'ceiling', 10055: 'floor', 10056: 'responsively', 10057: 'shade', 10058: 'sung', 10059: 'thermo', 10060: 'ventilate', 10061: 'calendar', 10062: 'correspond', 10063: 'deals', 10064: 'glitch', 10065: 'goggles', 10066: 'seasons', 10067: 'straps', 10068: 'weaving', 10069: '84', 10070: 'meanwhile', 10071: 'curbing', 10072: 'guidelines', 10073: 'pradhan', 10074: 'sanjay', 10075: 'bats', 10076: 'characterized', 10077: 'creepy', 10078: 'emma', 10079: 'teeling', 10080: 'zoologist', 10081: '126', 10082: 'bar', 10083: 'garone', 10084: 'impressive', 10085: 'moustache', 10086: 'moustaches', 10087: 'movember', 10088: 'november', 10089: 'prostate', 10090: 'autistic', 10091: 'jegede', 10092: 'app', 10093: 'gather', 10094: 'happiest', 10095: 'killingsworth', 10096: 'wanders', 10097: '92', 10098: 'havoc', 10099: 'jake', 10100: 'rubicon', 10101: 'veterans', 10102: 'wood', 10103: 'wreak', 10104: 'amusement', 10105: 'candy', 10106: 'flower', 10107: 'grains', 10108: 'greenberg', 10109: 'photographed', 10110: 'spires', 10111: 'stamens', 10112: 'alternate', 10113: 'charges', 10114: 'georgette', 10115: 'gravely', 10116: 'irreparable', 10117: 'mulheir', 10118: 'orphanages', 10119: 'supporting', 10120: 'dating', 10121: 'dishonesty', 10122: 'fudged', 10123: 'permanence', 10124: 'profile', 10125: 'searchability', 10126: 'burstein', 10127: 'julie', 10128: 'meyerowitz', 10129: 'mira', 10130: 'nair', 10131: 'serra', 10132: 'arunachalam', 10133: 'bangalore', 10134: 'muruganantham', 10135: 'sanitary', 10136: 'brencher', 10137: 'felt', 10138: 'letters', 10139: 'rushes', 10140: 'buechley', 10141: 'leah', 10142: 'sketch', 10143: 'australian', 10144: 'binder', 10145: 'boundary', 10146: 'broadway', 10147: 'festivals', 10148: 'lawns', 10149: 'locals', 10150: 'bavelier', 10151: 'fascinatingly', 10152: 'shooter', 10153: 'accessibility', 10154: 'amos', 10155: 'blaze', 10156: 'guides', 10157: 'mud', 10158: '16', 10159: 'bluegrass', 10160: 'jonny', 10161: 'mizzone', 10162: 'robbie', 10163: 'tommy', 10164: 'vivacity', 10165: 'benedictine', 10166: 'grateful', 10167: 'rast', 10168: 'serves', 10169: 'steindl', 10170: '___', 10171: 'chalkboard', 10172: 'fill', 10173: 'ernesto', 10174: 'intentioned', 10175: 'naïve', 10176: 'sirolli', 10177: 'congestion', 10178: 'jams', 10179: 'nudging', 10180: 'unfortunate', 10181: 'bike', 10182: 'hoped', 10183: 'olympic', 10184: 'shepherd', 10185: 'skier', 10186: 'truck', 10187: 'collectors', 10188: 'munir', 10189: 'raptor', 10190: 'virani', 10191: 'vultures', 10192: 'cardini', 10193: 'gasp', 10194: 'meal', 10195: 'monotasking', 10196: 'multitasking', 10197: 'paolo', 10198: 'uploading', 10199: 'appropriated', 10200: 'ghosh', 10201: 'jihad', 10202: 'bath', 10203: 'bathe', 10204: 'convenient', 10205: 'drybath', 10206: 'jug', 10207: 'lotion', 10208: 'ludwick', 10209: 'marishane', 10210: 'mile', 10211: 'substituting', 10212: 'boundless', 10213: 'ex', 10214: 'newyork', 10215: 'savvy', 10216: 'chips', 10217: 'extremely', 10218: 'reacts', 10219: 'storing', 10220: 'unpredictably', 10221: 'gaines', 10222: 'grit', 10223: 'infused', 10224: 'jordans', 10225: 'lemon', 10226: 'reciting', 10227: 'reg', 10228: 'rhythm', 10229: 'verses', 10230: 'hoen', 10231: 'medicines', 10232: '864', 10233: 'deluge', 10234: 'doctored', 10235: 'instagram', 10236: 'leaked', 10237: 'legitimate', 10238: 'liberty', 10239: 'markham', 10240: 'sort', 10241: 'statue', 10242: 'syria', 10243: 'verify', 10244: ',”', 10245: 'airplane', 10246: 'hi', 10247: 'kisses', 10248: 'beetle', 10249: 'dung', 10250: 'excrement', 10251: 'grain', 10252: 'excursion', 10253: 'juice', 10254: 'suck', 10255: '?),', 10256: 'buzzcar', 10257: 'entrepreneurship', 10258: 'ownership', 10259: 'rent', 10260: 'crockett', 10261: 'enhancements', 10262: 'molly', 10263: 'neuro', 10264: 'neuroscientific', 10265: 'proclaim', 10266: 'proven', 10267: 'sandwiches', 10268: 'addis', 10269: 'pose', 10270: 'repeated', 10271: 'snapped', 10272: 'stood', 10273: 'treasured', 10274: 'bipartisan', 10275: 'cohost', 10276: 'davidson', 10277: 'disconnect', 10278: 'fiscal', 10279: 'impasse', 10280: 'representatives', 10281: '[', 10282: ']', 10283: 'edry', 10284: 'imminent', 10285: 'iranians', 10286: 'israeli', 10287: 'israelis', 10288: 'responded', 10289: 'ronny', 10290: 'seemed', 10291: 'adrift', 10292: 'cope', 10293: 'directions', 10294: 'essex', 10295: 'fearful', 10296: 'propels', 10297: 'sailor', 10298: 'shipmates', 10299: 'shipwrecked', 10300: 'thompson', 10301: 'whaleship', 10302: '300', 10303: 'carrying', 10304: 'dengue', 10305: 'hadyn', 10306: 'mosquitos', 10307: 'parry', 10308: 'releasing', 10309: 'sterile', 10310: '110', 10311: 'fakery', 10312: 'georges', 10313: 'levy', 10314: 'méliès', 10315: 'seamless', 10316: 'slamming', 10317: 'spaceship', 10318: 'partisan', 10319: 'productively', 10320: 'retreat', 10321: 'shouting', 10322: 'stalemate', 10323: 'supported', 10324: '360', 10325: 'austin', 10326: 'conveys', 10327: 'degrees', 10328: 'drifting', 10329: 'feels', 10330: 'sue', 10331: 'wheeling', 10332: 'jarrett', 10333: 'krosoczka', 10334: 'afford', 10335: 'antiretrovirals', 10336: 'boghuma', 10337: 'kabisen', 10338: 'ticket', 10339: 'titanji', 10340: 'absolutely', 10341: 'incense', 10342: 'mindful', 10343: 'mindfulness', 10344: 'puddicombe', 10345: 'refreshing', 10346: 'uncomfortable', 10347: 'diva', 10348: 'fathers', 10349: 'jail', 10350: 'patton', 10351: 'biotechnology', 10352: 'brooklyn', 10353: 'frankenstein', 10354: 'genspace', 10355: 'jorgensen', 10356: 'admits', 10357: 'lottery', 10358: 'seductive', 10359: 'tall', 10360: 'underwear', 10361: '”:', 10362: 'australians', 10363: 'confer', 10364: 'dermatologist', 10365: 'nitric', 10366: 'oxide', 10367: 'reserves', 10368: 'scots', 10369: 'transmitter', 10370: 'vitamin', 10371: 'weller', 10372: 'absorb', 10373: 'defeating', 10374: 'instantly', 10375: 'manly', 10376: 'stokes', 10377: 'villain', 10378: 'battleground', 10379: 'bombed', 10380: 'di', 10381: 'giovanni', 10382: 'powell', 10383: 'invasive', 10384: 'laparoscopic', 10385: 'minimally', 10386: 'schwaitzberg', 10387: 'translator', 10388: 'videoconferencing', 10389: 'abused', 10390: 'domestic', 10391: 'misconceptions', 10392: 'routinely', 10393: 'steiner', 10394: 'employers', 10395: 'rowan', 10396: 'slivers', 10397: 'wingham', 10398: 'coding', 10399: 'mitch', 10400: 'whizzes', 10401: 'assign', 10402: 'discrimination', 10403: 'io', 10404: 'lgbtq', 10405: 'sexuality', 10406: 'tillett', 10407: 'attiya', 10408: 'fahad', 10409: 'sunshine', 10410: 'beating', 10411: 'commands', 10412: 'soul', 10413: 'soulpancake', 10414: 'competition', 10415: 'dictator', 10416: 'dominance', 10417: 'ensured', 10418: 'exclusion', 10419: 'gaddafi', 10420: 'gridlocked', 10421: 'langhi', 10422: 'libyans', 10423: 'rage', 10424: 'representation', 10425: 'topple', 10426: 'tried', 10427: 'zahra', 10428: 'zipper', 10429: 'demonstrations', 10430: 'devastated', 10431: 'dewitt', 10432: 'ditch', 10433: 'ecstatic', 10434: 'hated', 10435: 'jargon', 10436: 'collect', 10437: 'kuriyama', 10438: 'inks', 10439: 'albania', 10440: 'curb', 10441: 'edi', 10442: 'instilled', 10443: 'pride', 10444: 'rama', 10445: 'tirana', 10446: 'basij', 10447: 'brave', 10448: 'rasikh', 10449: 'remain', 10450: 'shabana', 10451: 'asphalt', 10452: 'healed', 10453: 'heating', 10454: 'induction', 10455: 'paved', 10456: 'porous', 10457: 'schlangen', 10458: 'flows', 10459: 'glattfelder', 10460: 'sum', 10461: 'vulnerable', 10462: 'committed', 10463: 'conflicting', 10464: 'eloquence', 10465: 'erotic', 10466: 'perel', 10467: 'ha', 10468: 'urge', 10469: '2014', 10470: 'exoskeleton', 10471: 'japan', 10472: 'kicked', 10473: 'miguel', 10474: 'monkey', 10475: 'nicolelis', 10476: 'quadraplegic', 10477: 'correlate', 10478: 'economists', 10479: 'linguists', 10480: 'rain', 10481: 'strongly', 10482: 'afra', 10483: 'amassed', 10484: 'continued', 10485: 'earmarked', 10486: 'haunted', 10487: 'trinidad', 10488: 'andreas', 10489: 'outperform', 10490: 'pisa', 10491: 'ranks', 10492: 'schleicher', 10493: 'stacks', 10494: 'dickinson', 10495: 'encourage', 10496: 'punishments', 10497: 'aldebaran', 10498: 'choreographs', 10499: 'emotive', 10500: 'france', 10501: 'maisonnier', 10502: 'nao', 10503: 'tedxconcorde', 10504: 'mentoring', 10505: 'ted2013', 10506: 'granholm', 10507: 'bride', 10508: 'palmer', 10509: 'descend', 10510: 'desertification', 10511: 'fancy', 10512: 'grasslands', 10513: 'grazing', 10514: 'savory', 10515: 'stopping', 10516: 'architeuthis', 10517: 'capture', 10518: 'elusive', 10519: 'predator', 10520: 'squid', 10521: 'teamwork', 10522: 'bys', 10523: 'curbs', 10524: 'defiance', 10525: 'finley', 10526: 'medians', 10527: 'thrus', 10528: '125', 10529: 'circumcision', 10530: 'continuing', 10531: 'destiny', 10532: 'kakenya', 10533: 'maasai', 10534: 'ntaiya', 10535: 'passage', 10536: 'rite', 10537: 'undergo', 10538: 'accompaniment', 10539: 'animators', 10540: 'backstory', 10541: 'captivated', 10542: 'epperson', 10543: 'koyczan', 10544: 'pulse', 10545: 'reprise', 10546: 'shane', 10547: '…', 10548: 'accomplishments', 10549: 'charities', 10550: 'equating', 10551: 'frugality', 10552: 'fundraiser', 10553: 'pallotta', 10554: 'rewarded', 10555: 'rewarding', 10556: 'bunch', 10557: 'neurobiologist', 10558: 'psychiatric', 10559: 'cougar', 10560: 'pigeon', 10561: 'campaigning', 10562: 'embraces', 10563: 'momentum', 10564: 'catarina', 10565: 'exists', 10566: 'jelly', 10567: 'mota', 10568: 'opaque', 10569: 'switch', 10570: 'clarion', 10571: 'crashes', 10572: 'elon', 10573: 'leasing', 10574: 'marketed', 10575: 'musk', 10576: 'paypal', 10577: 'reusable', 10578: 'rocket', 10579: 'sits', 10580: 'spacex', 10581: '90s', 10582: 'escaped', 10583: 'hyeonseo', 10584: 'korea', 10585: 'reminder', 10586: '250', 10587: '32', 10588: 'choirs', 10589: 'cloudburst', 10590: 'colleges', 10591: 'octavio', 10592: 'paz', 10593: 'skype', 10594: 'spliced', 10595: 'bounces', 10596: 'coating', 10597: 'kicker', 10598: 'repellent', 10599: 'shield', 10600: 'umbrella', 10601: 'cattle', 10602: 'frequent', 10603: 'lion', 10604: 'safely', 10605: 'scare', 10606: 'turere', 10607: 'bonus', 10608: 'camerer', 10609: 'chimpanzees', 10610: 'cooperating', 10611: 'cavity', 10612: 'haptics', 10613: 'leverage', 10614: 'telltale', 10615: '.]', 10616: 'afternoon', 10617: 'descriptions', 10618: 'duck', 10619: 'kees', 10620: 'moeliker', 10621: 'ornithologists', 10622: 'slammed', 10623: 'commutes', 10624: 'frustrations', 10625: 'gasoline', 10626: 'radius', 10627: 'skateboard', 10628: 'souped', 10629: 'vehicle', 10630: 'congressional', 10631: 'cry', 10632: 'dependence', 10633: 'funding', 10634: 'rallying', 10635: 'tiniest', 10636: 'weakens', 10637: '4d', 10638: 'contract', 10639: 'cube', 10640: 'dimension', 10641: 'folds', 10642: 'fourth', 10643: 'pipe', 10644: 'ibm', 10645: 'jennings', 10646: 'jeopardy', 10647: 'keeper', 10648: 'streak', 10649: 'trivia', 10650: 'baltimore', 10651: 'hrabowski', 10652: 'latino', 10653: 'learners', 10654: 'marched', 10655: 'maryland', 10656: 'pillars', 10657: 'represented', 10658: 'umbc', 10659: 'keller', 10660: 'programmable', 10661: 'rinaudo', 10662: 'romo', 10663: 'motivates', 10664: 'specialist', 10665: 'suggest', 10666: '1812', 10667: 'breakfast', 10668: 'coined', 10669: 'inquiry', 10670: 'introduced', 10671: 'philosophers', 10672: 'snyder', 10673: '2013', 10674: 'loo', 10675: 'poo', 10676: 'toilet', 10677: 'unmentionable', 10678: 'untold', 10679: '63', 10680: 'avenue', 10681: 'insel', 10682: 'hemiplegic', 10683: 'prager', 10684: 'returned', 10685: 'andres', 10686: 'dial', 10687: 'dysfunction', 10688: 'electrodes', 10689: 'eroded', 10690: 'lozano', 10691: 'shaking', 10692: 'stimulation', 10693: 'thermostat', 10694: 'closet', 10695: 'nothin', 10696: 'pull', 10697: 'struggled', 10698: 'yo', 10699: '”?', 10700: 'linguistically', 10701: 'mcwhorter', 10702: 'posits', 10703: 'brynjolfsson', 10704: 'debt', 10705: 'detailing', 10706: 'opposing', 10707: 'period', 10708: 'stasis', 10709: 'viewpoint', 10710: 'witnessing', 10711: 'indefinitely', 10712: 'pains', 10713: 'postponed', 10714: 'radically', 10715: 'reorganized', 10716: 'teammates', 10717: 'seemingly', 10718: 'stevens', 10719: 'vsauce', 10720: 'weigh', 10721: 'calculate', 10722: 'doors', 10723: 'healey', 10724: 'lock', 10725: 'predictive', 10726: 'safest', 10727: 'nilofer', 10728: 'excited', 10729: 'fission', 10730: 'modular', 10731: 'reactors', 10732: 'returns', 10733: 'beautifully', 10734: 'decay', 10735: 'genesis', 10736: 'phd', 10737: 'salgado', 10738: 'sebastião', 10739: 'anonymous', 10740: 'greeks', 10741: 'permanent', 10742: 'tattoos', 10743: 'warhol', 10744: '.\\'\"', 10745: 'rita', 10746: 'altruistic', 10747: 'argued', 10748: 'bartik', 10749: 'educated', 10750: 'macro', 10751: 'preschool', 10752: 'chineasy', 10753: 'foreigners', 10754: 'shaolan', 10755: 'coaching', 10756: 'satisfactory', 10757: 'cultivate', 10758: 'jolt', 10759: 'musallam', 10760: 'pseudo', 10761: 'ramsey', 10762: 'spark', 10763: 'angeles', 10764: 'arredondo', 10765: 'gang', 10766: 'los', 10767: 'ranking', 10768: 'adolescence', 10769: 'masculinity', 10770: 'mimicked', 10771: 'advocate', 10772: 'clinging', 10773: 'dares', 10774: 'consulting', 10775: 'duckworth', 10776: 'iq', 10777: 'separating', 10778: 'seventh', 10779: 'youngest', 10780: '20s', 10781: 'adulthood', 10782: 'defining', 10783: 'meg', 10784: 'twentysomethings', 10785: 'barricading', 10786: 'bezaitis', 10787: 'mediated', 10788: 'strangeness', 10789: 'unfamiliar', 10790: 'aims', 10791: 'background', 10792: 'bolin', 10793: 'disappear', 10794: 'dissolving', 10795: 'liu', 10796: 'clicker', 10797: 'hacking', 10798: 'ketchup', 10799: 'makey', 10800: 'messiest', 10801: 'pizza', 10802: 'codenamed', 10803: 'hunched', 10804: 'impulse', 10805: 'practicality', 10806: 'limitation', 10807: 'pointillist', 10808: 'transcend', 10809: 'tremor', 10810: 'unruly', 10811: 'johnston', 10812: 'judy', 10813: 'macdonald', 10814: 'solemn', 10815: 'alastair', 10816: 'commission', 10817: 'parvin', 10818: 'wikihouse', 10819: 'fell', 10820: 'hae', 10821: 'halls', 10822: 'ji', 10823: 'lofty', 10824: 'needn', 10825: 'acquisition', 10826: 'announced', 10827: 'broke', 10828: 'delighted', 10829: 'establish', 10830: 'galleries', 10831: 'hell', 10832: 'insightful', 10833: 'preconceived', 10834: 'definitions', 10835: 'intrinsically', 10836: 'katz', 10837: 'manhood', 10838: 'unacceptable', 10839: 'beasts', 10840: 'furry', 10841: 'hendrik', 10842: 'mammoth', 10843: 'poinar', 10844: 'woolly', 10845: 'adjusted', 10846: 'bu', 10847: ')?', 10848: 'abled', 10849: 'acceptance', 10850: 'unconditional', 10851: 'laskey', 10852: 'neighbor', 10853: 'quirk', 10854: 'wiser', 10855: 'anas', 10856: 'aremeyaw', 10857: 'grisly', 10858: 'investigations', 10859: '28', 10860: 'communicating', 10861: 'denise', 10862: 'herzing', 10863: 'pod', 10864: 'spotted', 10865: 'avril', 10866: 'canadian', 10867: 'constraints', 10868: 'et', 10869: 'logistical', 10870: 'overcame', 10871: 'various', 10872: 'villeneuve', 10873: 'droids', 10874: 'drones', 10875: 'quadcopters', 10876: 'quads', 10877: 'raffaello', 10878: 'bargain', 10879: 'greece', 10880: 'papandreou', 10881: 'ai', 10882: 'automated', 10883: 'dystopian', 10884: 'scenario', 10885: 'arabia', 10886: 'forbidden', 10887: 'manal', 10888: 'saudi', 10889: 'sharif', 10890: 'didier', 10891: 'observatory', 10892: 'plotted', 10893: 'sornette', 10894: 'unpredictable', 10895: 'unstable', 10896: 'blackouts', 10897: 'brck', 10898: 'challenging', 10899: 'cofounder', 10900: 'hookups', 10901: 'rotich', 10902: 'spotty', 10903: 'begun', 10904: '1985', 10905: 'australia', 10906: 'healthabitat', 10907: 'pholeros', 10908: 'sparky', 10909: 'chasing', 10910: 'tumult', 10911: 'accounts', 10912: 'bedrock', 10913: 'biography', 10914: 'fundamentalism', 10915: 'struck', 10916: 'amputation', 10917: 'attia', 10918: 'contempt', 10919: 'overweight', 10920: 'precursors', 10921: 'dissects', 10922: 'longstanding', 10923: 'mankoff', 10924: 'proclaimed', 10925: 'publishes', 10926: 'receives', 10927: 'archer', 10928: 'brooding', 10929: 'eggs', 10930: 'gastric', 10931: 'incubate', 10932: 'swallows', 10933: 'thylacine', 10934: 'tiger', 10935: 'baxter', 10936: 'mundane', 10937: 'replace', 10938: 'retirees', 10939: 'scaremongers', 10940: 'swells', 10941: 'eventually', 10942: 'progresses', 10943: 'gappy', 10944: 'hotmail', 10945: 'imperfect', 10946: 'input', 10947: 'palmpilot', 10948: 'selanikio', 10949: 'tramp', 10950: 'altogether', 10951: 'dissolve', 10952: 'inducing', 10953: 'jinha', 10954: 'manipulate', 10955: 'penetrates', 10956: 'spacetop', 10957: 'thinner', 10958: 'earl', 10959: 'forth', 10960: 'jersey', 10961: 'nonetheless', 10962: 'scruggs', 10963: 'siblings', 10964: 'springsteen', 10965: 'charmian', 10966: 'gooch', 10967: 'mansions', 10968: 'official', 10969: 'salary', 10970: 'sportscars', 10971: 'trackers', 10972: 'cerf', 10973: 'elephants', 10974: 'expanded', 10975: 'panel', 10976: 'reiss', 10977: 'sentient', 10978: 'vint', 10979: '16th', 10980: '85', 10981: 'andraka', 10982: 'birthday', 10983: 'enjoyment', 10984: 'etc', 10985: 'loser', 10986: 'scoring', 10987: 'vernacchio', 10988: '45', 10989: 'altered', 10990: 'anemone', 10991: 'beaver', 10992: 'chirping', 10993: 'grunting', 10994: 'krause', 10995: 'larvae', 10996: 'mourning', 10997: 'soundscapes', 10998: 'symphonies', 10999: 'admire', 11000: 'exotic', 11001: 'finest', 11002: 'gavin', 11003: 'pinney', 11004: 'pretor', 11005: 'treadmill', 11006: 'iyer', 11007: 'pico', 11008: '12th', 11009: 'biodegrade', 11010: 'grade', 11011: 'jeanny', 11012: 'miranda', 11013: 'phthalates', 11014: 'plasticizer', 11015: 'wang', 11016: 'yao', 11017: 'beatboxer', 11018: 'impersonations', 11019: 'instrumental', 11020: 'mouthful', 11021: 'slings', 11022: 'thum', 11023: 'objections', 11024: 'searle', 11025: 'simulation', 11026: 'systematically', 11027: 'boards', 11028: 'combine', 11029: 'conductive', 11030: 'decks', 11031: 'dj', 11032: 'drumkit', 11033: 'herder', 11034: '?”', 11035: 'angelo', 11036: 'fedeli', 11037: 'grappled', 11038: 'mario', 11039: 'perinatal', 11040: 'roberto', 11041: 'currencies', 11042: 'illegal', 11043: 'kemp', 11044: 'nike', 11045: 'tide', 11046: 'trustworthy', 11047: 'wallet', 11048: 'asylum', 11049: 'chernobyl', 11050: 'joys', 11051: 'luna', 11052: 'penny', 11053: 'shelter', 11054: 'tania', 11055: 'ukraine', 11056: 'bastian', 11057: 'generative', 11058: 'schaefer', 11059: 'speculative', 11060: '207', 11061: 'ambucycles', 11062: 'arrived', 11063: 'arrives', 11064: 'brutal', 11065: 'dash', 11066: 'emt', 11067: 'emts', 11068: 'fleet', 11069: 'hatzlah', 11070: 'jerusalem', 11071: 'stuck', 11072: 'candidly', 11073: 'controversy', 11074: 'frida', 11075: 'strives', 11076: 'taymor', 11077: 'tensions', 11078: 'manen', 11079: 'rigorous', 11080: 'beardyman', 11081: 'buzzing', 11082: 'conjure', 11083: 'crying', 11084: 'effortlessly', 11085: 'imaginable', 11086: 'misses', 11087: 'opponents', 11088: 'graph', 11089: 'jinsop', 11090: 'multisensory', 11091: 'smell', 11092: 'alphabets', 11093: 'embodied', 11094: 'glyph', 11095: 'legacy', 11096: 'mafundikwa', 11097: 'saki', 11098: 'sankofa', 11099: 'summed', 11100: 'symbolic', 11101: 'symbols', 11102: 'antagonistic', 11103: 'dictatorial', 11104: 'drugged', 11105: 'eleanor', 11106: 'heading', 11107: 'hospitalized', 11108: 'initially', 11109: 'innocuous', 11110: 'longden', 11111: 'narrators', 11112: 'chopsticks', 11113: 'ockelford', 11114: 'paravicini', 11115: 'prematurely', 11116: 'ripped', 11117: 'rulebook', 11118: 'benefield', 11119: 'gayla', 11120: 'mortality', 11121: 'willful', 11122: 'ban', 11123: 'buzzword', 11124: 'cardboard', 11125: 'ecologically', 11126: 'shigeru', 11127: 'temporary', 11128: 'busts', 11129: 'circadian', 11130: 'amusing', 11131: 'beam', 11132: 'essentially', 11133: 'ramirez', 11134: 'tinged', 11135: 'xu', 11136: '26', 11137: 'beirut', 11138: 'believed', 11139: 'gunshot', 11140: 'khalil', 11141: 'marathon', 11142: 'digits', 11143: 'mathematicians', 11144: 'primes', 11145: 'enemy', 11146: 'forehead', 11147: 'quicken', 11148: 'reduction', 11149: 'advancing', 11150: 'chrystia', 11151: 'freeland', 11152: 'glimmer', 11153: 'plutocracy', 11154: 'plutocrats', 11155: 'alexa', 11156: 'chairs', 11157: 'mask', 11158: 'meade', 11159: 'milk', 11160: 'mimics', 11161: 'outlandish', 11162: 'selects', 11163: '1995', 11164: 'aggressive', 11165: 'healthful', 11166: 'monbiot', 11167: 'surrounded', 11168: 'wilder', 11169: 'wolves', 11170: 'yellowstone', 11171: 'collapsed', 11172: 'memorial', 11173: '1948', 11174: 'academic', 11175: 'mccallum', 11176: 'progression', 11177: 'voracious', 11178: 'welcome', 11179: '1600s', 11180: 'eradication', 11181: 'nadel', 11182: 'sonia', 11183: 'buffet', 11184: 'clueless', 11185: 'flaws', 11186: 'hailed', 11187: 'owner', 11188: 'pickpocket', 11189: 'quirks', 11190: 'shoulder', 11191: 'steals', 11192: 'swipe', 11193: 'cybercriminals', 11194: 'exploit', 11195: 'lyne', 11196: 'malware', 11197: 'nsa', 11198: 'snoops', 11199: 'taps', 11200: 'trusting', 11201: 'weak', 11202: 'colony', 11203: 'coordinated', 11204: 'crops', 11205: 'honeybees', 11206: 'interacting', 11207: 'marla', 11208: 'masse', 11209: 'pollinate', 11210: 'spivak', 11211: 'thrived', 11212: 'stimulating', 11213: 'andras', 11214: 'biofabricating', 11215: 'civilized', 11216: 'dairy', 11217: 'forgacs', 11218: 'hamburgers', 11219: 'handbags', 11220: 'herd', 11221: 'maintaining', 11222: 'toll', 11223: 'unsustainable', 11224: 'federal', 11225: 'homeboys', 11226: 'mayors', 11227: 'pressing', 11228: 'turf', 11229: 'loftus', 11230: 'precisely', 11231: 'farting', 11232: 'firestein', 11233: 'practiced', 11234: 'misdirected', 11235: 'onora', 11236: 'suggesting', 11237: 'flynn', 11238: 'breel', 11239: 'captain', 11240: 'depressed', 11241: 'goliath', 11242: 'mighty', 11243: 'shorthand', 11244: 'sling', 11245: 'transcended', 11246: 'underdog', 11247: 'victory', 11248: 'births', 11249: 'funerals', 11250: 'gatherings', 11251: 'indonesia', 11252: 'knit', 11253: 'raucous', 11254: 'swazey', 11255: 'tana', 11256: 'toraja', 11257: 'weddings', 11258: 'attracted', 11259: 'crickets', 11260: 'dates', 11261: 'frustrating', 11262: 'liked', 11263: 'luck', 11264: 'spreadsheet', 11265: 'webb', 11266: 'crystals', 11267: 'oefner', 11268: 'psychedelic', 11269: 'whiskey', 11270: '1969', 11271: 'aldrin', 11272: 'leapt', 11273: 'mankind', 11274: 'pontin', 11275: 'biased', 11276: 'drifted', 11277: 'sale', 11278: 'boroughs', 11279: 'buses', 11280: 'commissioner', 11281: 'janette', 11282: 'pedestrian', 11283: 'reshaped', 11284: 'sadik', 11285: 'alliance', 11286: 'existentially', 11287: 'feuding', 11288: 'informative', 11289: 'parsi', 11290: 'rhetoric', 11291: 'strategic', 11292: 'tense', 11293: 'trita', 11294: 'gun', 11295: 'reversed', 11296: 'slutkin', 11297: '1930s', 11298: 'aptly', 11299: 'broadcast', 11300: 'experimentation', 11301: 'fitzgerald', 11302: 'belching', 11303: 'speck', 11304: 'urbanist', 11305: 'walkable', 11306: 'husband', 11307: 'warrant', 11308: 'baan', 11309: 'caracas', 11310: 'iwan', 11311: 'torre', 11312: 'unfinished', 11313: 'acquisti', 11314: 'alessandro', 11315: 'stranger', 11316: 'accent', 11317: 'hetain', 11318: 'rau', 11319: 'yuyu', 11320: 'cotton', 11321: 'ikea', 11322: 'internally', 11323: 'megastore', 11324: 'officer', 11325: 'panels', 11326: 'sprouted', 11327: 'stocked', 11328: 'sooner', 11329: 'steady', 11330: 'grim', 11331: 'jealousy', 11332: 'loneliness', 11333: 'longevity', 11334: 'parul', 11335: 'scours', 11336: 'sehgal', 11337: 'boson', 11338: 'gian', 11339: 'giudice', 11340: 'higgs', 11341: 'surprises', 11342: 'ababa', 11343: 'champions', 11344: 'commissioned', 11345: 'mall', 11346: 'multistory', 11347: 'panicked', 11348: 'requiring', 11349: 'tons', 11350: 'vilalta', 11351: 'wasteful', 11352: 'xavier', 11353: 'dispel', 11354: 'hunkering', 11355: 'mariana', 11356: 'mazzucato', 11357: 'revolutionaries', 11358: 'shapers', 11359: 'chock', 11360: 'element', 11361: 'fertilizers', 11362: 'hijri', 11363: 'mushroom', 11364: 'phosphorus', 11365: 'abha', 11366: 'blacked', 11367: 'dawesar', 11368: 'fixated', 11369: 'sandy', 11370: 'scrounging', 11371: 'defied', 11372: 'grandmas', 11373: 'homeland', 11374: 'relocate', 11375: 'rival', 11376: 'bows', 11377: 'crafted', 11378: 'dong', 11379: 'jang', 11380: 'jungle', 11381: 'seoul', 11382: 'woo', 11383: 'canales', 11384: 'carnage', 11385: 'complicit', 11386: 'faceless', 11387: 'goons', 11388: 'ignorant', 11389: 'mindlessly', 11390: 'rodrigo', 11391: 'unflinching', 11392: 'yale', 11393: 'brooms', 11394: 'cleans', 11395: 'nagle', 11396: 'operated', 11397: 'residents', 11398: 'statistic', 11399: 'cord', 11400: 'courtine', 11401: 'grégoire', 11402: 'paralysis', 11403: 'pathways', 11404: 'rat', 11405: 'sever', 11406: 'spinal', 11407: 'stairs', 11408: 'blanket', 11409: 'bolded', 11410: 'entity', 11411: 'foreigner', 11412: 'highlighted', 11413: 'rant', 11414: 'surveillance', 11415: 'suspected', 11416: 'underlined', 11417: 'wrongdoing', 11418: 'fibonacci', 11419: 'logical', 11420: 'capitalism', 11421: 'dambisa', 11422: 'ideals', 11423: 'laurels', 11424: 'luxury', 11425: 'moyo', 11426: 'contrasts', 11427: 'downey', 11428: 'francisco', 11429: 'heavily', 11430: 'mogadishu', 11431: 'terrorist', 11432: 'unemployed', 11433: 'continuous', 11434: 'guessing', 11435: 'outcomes', 11436: 'proving', 11437: 'replacement', 11438: 'stakes', 11439: 'multiplayer', 11440: 'thumb', 11441: 'wrestling', 11442: 'forests', 11443: 'koh', 11444: 'lian', 11445: 'persuasive', 11446: 'rainforests', 11447: 'thermal', 11448: 'asner', 11449: 'kaleidoscopic', 11450: 'lasers', 11451: 'meticulous', 11452: 'spectrometer', 11453: 'chad', 11454: 'drone', 11455: 'evans', 11456: 'quadrotor', 11457: 'stroll', 11458: 'telepresence', 11459: 'tweaked', 11460: 'matternet', 11461: 'raptopoulos', 11462: 'season', 11463: 'wherever', 11464: 'amorphous', 11465: 'doolittle', 11466: 'irony', 11467: 'isolated', 11468: 'lacking', 11469: 'oriented', 11470: 'picnic', 11471: 'bizarrely', 11472: 'cap', 11473: 'cerebral', 11474: 'curiously', 11475: 'detective', 11476: 'herculano', 11477: 'houzel', 11478: 'soup', 11479: 'suzana', 11480: 'interfaith', 11481: 'eccles', 11482: 'handsomely', 11483: 'initiatives', 11484: 'investors', 11485: 'sentences', 11486: 'toby', 11487: 'explained', 11488: 'geraldine', 11489: 'hamilton', 11490: 'relatively', 11491: 'correctness', 11492: 'fox', 11493: 'kohn', 11494: 'lesbian', 11495: 'profanity', 11496: 'progressive', 11497: 'pundit', 11498: 'sally', 11499: 'lovers', 11500: 'teamed', 11501: 'bogotá', 11502: 'colombian', 11503: 'enrique', 11504: 'peñalosa', 11505: 'boyd', 11506: 'defined', 11507: 'embodiment', 11508: 'generous', 11509: 'hearted', 11510: 'interrelatedness', 11511: 'varty', 11512: 'award', 11513: 'burkina', 11514: 'degree', 11515: 'diébédo', 11516: 'faso', 11517: 'gando', 11518: 'kéré', 11519: 'reap', 11520: 'annually', 11521: 'blues', 11522: 'brent', 11523: 'cartaya', 11524: 'dragon', 11525: 'eddy', 11526: 'glows', 11527: 'greens', 11528: 'minotaur', 11529: 'morph', 11530: 'oregon', 11531: 'tunnels', 11532: 'inevitability', 11533: 'resist', 11534: 'container', 11535: 'ports', 11536: 'ship', 11537: 'shipping', 11538: 'underpinning', 11539: 'bankrupt', 11540: 'crumbling', 11541: 'detroit', 11542: 'planner', 11543: 'powerhouse', 11544: 'toni', 11545: 'annunziata', 11546: 'serviced', 11547: 'battled', 11548: 'seep', 11549: 'vitality', 11550: 'amputees', 11551: 'donaldson', 11552: 'earn', 11553: 'fortunate', 11554: 'remotion', 11555: 'monopoly', 11556: 'piff', 11557: 'rigged', 11558: 'sobering', 11559: 'achieved', 11560: 'hallucinating', 11561: 'stung', 11562: 'cornett', 11563: 'interlocking', 11564: 'kilos', 11565: 'midsized', 11566: 'obese', 11567: 'okc', 11568: 'oklahoma', 11569: 'town', 11570: 'adventures', 11571: 'announces', 11572: 'maysoon', 11573: 'palsy', 11574: 'philanthropist', 11575: 'shakira', 11576: 'zayid', 11577: 'cherish', 11578: 'talhouk', 11579: 'tongues', 11580: 'mitigating', 11581: 'stein', 11582: 'untested', 11583: 'aamodt', 11584: 'dieting', 11585: 'harm', 11586: 'intuitively', 11587: 'frederic', 11588: 'geographical', 11589: 'kilometers', 11590: 'geotagged', 11591: 'holladay', 11592: 'listener', 11593: 'segments', 11594: 'corporation', 11595: 'harish', 11596: 'manwani', 11597: 'responsibly', 11598: 'sheet', 11599: 'unilever', 11600: 'biomedical', 11601: 'centimeter', 11602: 'fraction', 11603: 'kendall', 11604: 'nanopatch', 11605: 'needle', 11606: 'painlessly', 11607: 'shortcomings', 11608: 'sixty', 11609: 'terrified', 11610: 'tiers', 11611: 'candlesticks', 11612: 'frilly', 11613: 'inherited', 11614: 'ladies', 11615: 'renaissance', 11616: 'syson', 11617: 'transcendent', 11618: 'vases', 11619: 'bots', 11620: 'jam', 11621: 'reactive', 11622: 'bedrooms', 11623: 'emergence', 11624: 'norms', 11625: 'repression', 11626: 'lumping', 11627: 'sexes', 11628: 'startlingly', 11629: '>.)', 11630: 'disengaged', 11631: 'dizzyingly', 11632: 'employees', 11633: 'interdependencies', 11634: 'morieux', 11635: 'obsolete', 11636: 'rabbit', 11637: 'blurs', 11638: 'conquered', 11639: 'eaten', 11640: 'fright', 11641: 'hijacking', 11642: 'kicks', 11643: 'kowan', 11644: 'mic', 11645: 'palms', 11646: 'tuesday', 11647: 'tuneful', 11648: 'agarwal', 11649: 'anant', 11650: 'blended', 11651: 'disappointing', 11652: 'edx', 11653: 'moocs', 11654: 'supplement', 11655: 'analytics', 11656: 'anne', 11657: 'attorney', 11658: 'milgram', 11659: 'bake', 11660: 'gender', 11661: 'hasbro', 11662: 'incorporate', 11663: 'mckenna', 11664: 'neutral', 11665: 'petition', 11666: 'pope', 11667: 'powerless', 11668: 'purple', 11669: 'scheme', 11670: 'younger', 11671: 'adapt', 11672: 'arise', 11673: 'collectively', 11674: 'meerkats', 11675: 'nicolas', 11676: 'perony', 11677: 'terriers', 11678: 'esta', 11679: 'lobbied', 11680: 'mused', 11681: 'outlawing', 11682: 'polaroid', 11683: 'soler', 11684: 'sweeping', 11685: 'berkenstock', 11686: 'cruz', 11687: 'explosive', 11688: 'impoverished', 11689: 'intensifying', 11690: 'scarcity', 11691: 'teddy', 11692: 'tijuana', 11693: 'widening', 11694: '=', 11695: 'sτ', 11696: 'wissner', 11697: '∇', 11698: 'cartoony', 11699: 'certainly', 11700: 'informed', 11701: 'puttnam', 11702: 'acaroglu', 11703: 'bag', 11704: 'ease', 11705: 'leyla', 11706: 'opting', 11707: 'governance', 11708: 'mcknett', 11709: 'incongruous', 11710: 'rupal', 11711: 'voiceless', 11712: 'aglio', 11713: 'dall', 11714: 'reflection', 11715: 'tenderness', 11716: 'grafted', 11717: 'harnesses', 11718: 'operation', 11719: 'quantities', 11720: 'regenerate', 11721: 'regeneration', 11722: 'regrow', 11723: 'typical', 11724: 'wherein', 11725: 'chiefs', 11726: 'nose', 11727: 'roselinde', 11728: 'torres', 11729: 'omnivores', 11730: 'paired', 11731: 'permeates', 11732: 'promiscuous', 11733: 'sexually', 11734: 'unrealistic', 11735: 'beckham', 11736: 'experienced', 11737: 'hardship', 11738: 'chandran', 11739: 'degenerative', 11740: 'gehrig', 11741: 'lou', 11742: 'siddharthan', 11743: 'bracy', 11744: 'civically', 11745: 'honolulu', 11746: 'mischief', 11747: 'oakland', 11748: 'subversion', 11749: 'ensure', 11750: 'inflation', 11751: 'metcalfe', 11752: 'risking', 11753: 'clusters', 11754: 'galaxy', 11755: 'intel', 11756: 'annette', 11757: 'economies', 11758: 'heuser', 11759: 'rating', 11760: 'reformer', 11761: 'wield', 11762: 'jepsen', 11763: 'meshes', 11764: 'underlies', 11765: 'invalid', 11766: 'beneath', 11767: 'capacity', 11768: 'monitoring', 11769: 'soghoian', 11770: 'unsettling', 11771: 'bars', 11772: 'collectible', 11773: 'dispenses', 11774: 'extracted', 11775: 'increases', 11776: 'packaged', 11777: 'sodas', 11778: 'vending', 11779: 'vial', 11780: 'doll', 11781: 'folded', 11782: 'manu', 11783: 'prakash', 11784: 'punched', 11785: 'swan', 11786: 'ajit', 11787: 'freespeech', 11788: 'narayanan', 11789: 'nonverbal', 11790: 'relate', 11791: 'sketched', 11792: 'expands', 11793: 'marie', 11794: 'mores', 11795: 'slaughter', 11796: 'frontiers', 11797: 'reconsider', 11798: 'shapshak', 11799: 'simplest', 11800: 'smartest', 11801: 'sms', 11802: 'statuses', 11803: 'updating', 11804: 'bondar', 11805: 'carin', 11806: 'explicit', 11807: 'dialog', 11808: 'gradually', 11809: 'newberger', 11810: 'persuaded', 11811: 'reasoned', 11812: 'socratic', 11813: 'unfold', 11814: 'criminals', 11815: 'psychopaths', 11816: 'rehabilitate', 11817: 'reisel', 11818: 'warehousing', 11819: 'appearing', 11820: 'snowden', 11821: 'ted2014', 11822: 'colonel', 11823: 'hadfield', 11824: 'retired', 11825: 'scary', 11826: 'dealers', 11827: 'nefarious', 11828: 'owns', 11829: 'shroud', 11830: 'ledgett', 11831: 'balloons', 11832: 'bikeways', 11833: 'autonomy', 11834: 'malala', 11835: 'pakistani', 11836: 'yousafzai', 11837: 'ziauddin', 11838: 'bran', 11839: 'equivalent', 11840: 'ferren', 11841: 'masterpiece', 11842: 'pantheon', 11843: 'bidding', 11844: 'parasites', 11845: 'yong', 11846: '240', 11847: 'del', 11848: 'stalking', 11849: 'trolling', 11850: 'adrianne', 11851: 'ballroom', 11852: 'biomechatronics', 11853: 'bionic', 11854: 'bombing', 11855: 'haslet', 11856: 'herr', 11857: 'hugh', 11858: 'bikini', 11859: 'geena', 11860: 'rocero', 11861: 'bursting', 11862: 'speakers', 11863: 'improvised', 11864: 'inflationary', 11865: 'march', 11866: 'munroe', 11867: 'randall', 11868: 'smoking', 11869: 'xkcd', 11870: '1993', 11871: 'couple', 11872: 'failures', 11873: 'curly', 11874: 'fries', 11875: 'golbeck', 11876: 'likes', 11877: 'rightful', 11878: 'convinced', 11879: 'stranglehold', 11880: 'swartz', 11881: 'behaviorist', 11882: 'burden', 11883: 'crowded', 11884: 'pocket', 11885: 'promenades', 11886: 'waterfront', 11887: 'banter', 11888: 'barbershop', 11889: 'clan', 11890: 'emdin', 11891: 'enthrall', 11892: 'gza', 11893: 'l', 11894: 'rap', 11895: 'sunday', 11896: 'tang', 11897: 'wu', 11898: 'imperceptible', 11899: 'lapses', 11900: 'speeds', 11901: 'titled', 11902: 'comfortable', 11903: 'sengeh', 11904: 'weren', 11905: 'congresswoman', 11906: 'constituents', 11907: 'flew', 11908: 'gabby', 11909: 'giffords', 11910: 'tucson', 11911: '.\")', 11912: 'craves', 11913: 'eulogy', 11914: 'résumé', 11915: 'soloveitchik', 11916: 'achievable', 11917: 'anxiety', 11918: 'bookstore', 11919: 'colored', 11920: 'kinder', 11921: 'monument', 11922: 'parenthood', 11923: 'section', 11924: 'awkward', 11925: 'hormone', 11926: 'minors', 11927: 'overnight', 11928: 'puberty', 11929: 'spack', 11930: 'staving', 11931: 'teens', 11932: 'trans', 11933: 'transgender', 11934: 'equipment', 11935: 'fifth', 11936: 'kasdin', 11937: 'km', 11938: 'petal', 11939: 'positioned', 11940: 'starshade', 11941: 'centennial', 11942: 'font', 11943: 'georgia', 11944: 'pixel', 11945: 'typefaces', 11946: 'typography', 11947: 'verdana', 11948: 'total', 11949: 'crushing', 11950: 'laberge', 11951: 'temperatures', 11952: 'deter', 11953: 'hamish', 11954: 'mail', 11955: 'mistaking', 11956: 'nourishment', 11957: 'statistically', 11958: 'swimmer', 11959: 'wetsuit', 11960: 'patten', 11961: 'typing', 11962: \",'\", 11963: 'diner', 11964: 'disorienting', 11965: 'pray', 11966: 'regardless', 11967: 'rejection', 11968: 'unpublished', 11969: 'waitress', 11970: 'factual', 11971: 'surround', 11972: 'wendy', 11973: 'achievements', 11974: 'athletic', 11975: 'congratulation', 11976: 'epstein', 11977: 'gotten', 11978: 'lay', 11979: 'sporting', 11980: 'bastawrous', 11981: 'bulky', 11982: 'endlessly', 11983: 'schmidt', 11984: 'latina', 11985: 'laugh', 11986: 'loud', 11987: 'outspoken', 11988: 'supplied', 11989: 'swaps', 11990: 'wardrobe', 11991: 'conversational', 11992: 'hiring', 11993: 'hobson', 11994: 'mellody', 11995: 'particularly', 11996: 'subject', 11997: 'touchy', 11998: 'stagecraft', 11999: 'counterproductive', 12000: 'lifeblood', 12001: 'misguided', 12002: 'operations', 12003: 'qaeda', 12004: 'waged', 12005: '?\")', 12006: 'circuitous', 12007: 'shhh', 12008: 'doug', 12009: 'nostalgia', 12010: 'omelette', 12011: 'reimagined', 12012: 'scramble', 12013: 'wholesale', 12014: 'banking', 12015: 'firsthand', 12016: 'liar', 12017: 'regulator', 12018: 'happily', 12019: 'swat', 12020: 'topics', 12021: 'tropics', 12022: 'briggs', 12023: 'gate', 12024: 'listened', 12025: 'patrolled', 12026: 'sergeant', 12027: 'strangely', 12028: 'armpits', 12029: 'attraction', 12030: 'conclusive', 12031: 'confirming', 12032: 'mates', 12033: 'pheromone', 12034: 'pheromones', 12035: 'smells', 12036: 'unlocks', 12037: 'wyatt', 12038: 'avalanche', 12039: 'beware', 12040: 'fixation', 12041: 'overflows', 12042: 'pouring', 12043: 'references', 12044: 'staffers', 12045: 'uneven', 12046: 'fisheries', 12047: 'hungriest', 12048: 'jackie', 12049: 'savitz', 12050: 'downright', 12051: 'forge', 12052: 'hardships', 12053: 'inward', 12054: 'coaches', 12055: 'kluwe', 12056: 'nfl', 12057: 'punter', 12058: '\"—', 12059: 'joined', 12060: 'paratrooper', 12061: 'repeat', 12062: 'sufficient', 12063: 'wes', 12064: 'heavy', 12065: 'junger', 12066: 'korengal', 12067: 'outpost', 12068: 'restrepo', 12069: '1902', 12070: 'mooallem', 12071: 'plush', 12072: 'roosevelt', 12073: 'spared', 12074: 'theodore', 12075: 'bathrooms', 12076: 'boxcars', 12077: 'cahana', 12078: 'kitra', 12079: 'margins', 12080: 'nomads', 12081: 'photojournalist', 12082: 'vagabond', 12083: 'decode', 12084: 'dodge', 12085: 'genetics', 12086: 'bout', 12087: 'channeling', 12088: 'confessional', 12089: 'drudgery', 12090: 'nasty', 12091: 'shipyard', 12092: 'sting', 12093: 'stretched', 12094: 'mammal', 12095: 'neocortex', 12096: 'walnut', 12097: 'mistakenly', 12098: 'literary', 12099: 'gymnastic', 12100: 'maneuvers', 12101: 'stabilize', 12102: 'dispels', 12103: 'lgbt', 12104: 'overlaps', 12105: 'propel', 12106: 'richen', 12107: 'yoruba', 12108: 'noble', 12109: 'porn', 12110: 'stella', 12111: 'elazari', 12112: 'exposing', 12113: 'keren', 12114: 'vulnerabilities', 12115: 'wielding', 12116: 'arrested', 12117: 'branded', 12118: 'shootings', 12119: 'tribune', 12120: 'alon', 12121: 'uri', 12122: 'cousin', 12123: 'distantly', 12124: 'removed', 12125: 'reunion', 12126: 'appiah', 12127: 'kwame', 12128: ',’', 12129: 'adorkable', 12130: 'curzan', 12131: 'decides', 12132: 'defriend', 12133: 'dictionaries', 12134: 'hangry', 12135: 'slang', 12136: '‘', 12137: '?!', 12138: 'agonizingly', 12139: 'ruth', 12140: ';”', 12141: 'articulate', 12142: 'essay', 12143: 'flavors', 12144: 'jamila', 12145: 'lyiscott', 12146: 'orator', 12147: 'represents', 12148: 'tongued', 12149: 'tri', 12150: 'companions', 12151: 'humbling', 12152: 'jailed', 12153: 'pistol', 12154: 'senghor', 12155: 'shaka', 12156: 'temper', 12157: '123456', 12158: 'compromise', 12159: 'cranor', 12160: 'lorrie', 12161: 'password', 12162: 'passwords', 12163: 'secured', 12164: 'oreskes', 12165: 'ought', 12166: 'bleeps', 12167: 'blips', 12168: 'bowl', 12169: 'coded', 12170: 'ge', 12171: 'binary', 12172: 'chunk', 12173: 'contents', 12174: 'domas', 12175: 'nighters', 12176: 'beetles', 12177: 'females', 12178: 'firefly', 12179: 'footnotes', 12180: 'sara', 12181: 'sparks', 12182: 'vampire', 12183: 'advisor', 12184: 'anholt', 12185: 'lending', 12186: 'operate', 12187: 'outwardly', 12188: 'stayed', 12189: 'bias', 12190: 'biases', 12191: 'prejudice', 12192: 'internment', 12193: 'patriotism', 12194: 'takei', 12195: 'futuristic', 12196: 'ist', 12197: 'ito', 12198: 'joi', 12199: 'skips', 12200: '1980s', 12201: 'foresaw', 12202: 'scoffed', 12203: 'distracting', 12204: 'guilt', 12205: 'inadequacy', 12206: 'pangs', 12207: 'renata', 12208: 'salecl', 12209: 'bennoune', 12210: 'humanize', 12211: 'karima', 12212: 'refusing', 12213: 'kwong', 12214: 'nerdy', 12215: 'chalmers', 12216: '….', 12217: 'begg', 12218: 'damaging', 12219: 'nikolai', 12220: 'puncture', 12221: 'surgeries', 12222: 'trocar', 12223: 'aisles', 12224: 'bioluminescent', 12225: 'chieh', 12226: 'perusing', 12227: 'shih', 12228: 'taiwan', 12229: 'tentacles', 12230: 'unfurl', 12231: 'eukaryotic', 12232: 'microorganism', 12233: 'moist', 12234: 'mold', 12235: 'physarum', 12236: 'polycephalum', 12237: 'slime', 12238: 'prompts', 12239: 'administration', 12240: 'diploma', 12241: 'exams', 12242: 'fees', 12243: 'reshef', 12244: 'tuition', 12245: 'buttons', 12246: 'improvements', 12247: 'outrage', 12248: 'positively', 12249: 'subtlest', 12250: 'tweaks', 12251: 'viewed', 12252: '1989', 12253: 'berlin', 12254: 'german', 12255: 'hubertus', 12256: 'knabe', 12257: 'masterminded', 12258: 'spied', 12259: 'spying', 12260: 'stasi', 12261: 'uniquely', 12262: 'hypotheses', 12263: 'iwasa', 12264: 'combination', 12265: 'copes', 12266: 'impediment', 12267: 'premier', 12268: 'songwriters', 12269: 'stutter', 12270: 'tricking', 12271: 'breed', 12272: 'competitive', 12273: 'heartrate', 12274: 'monitors', 12275: 'talithia', 12276: 'hanauer', 12277: 'resembling', 12278: 'unrepentant', 12279: '.’', 12280: 'controlling', 12281: 'corrections', 12282: 'pacholke', 12283: 'civics', 12284: 'disproportionate', 12285: 'clint', 12286: 'courage', 12287: 'bubbles', 12288: 'centralizing', 12289: 'corporate', 12290: 'eroding', 12291: 'neutrality', 12292: 'threaten', 12293: '1950s', 12294: 'aziza', 12295: 'chaouni', 12296: 'fez', 12297: 'glory', 12298: 'mazelike', 12299: 'medina', 12300: 'morocco', 12301: 'remained', 12302: 'sewage', 12303: 'succumbed', 12304: 'cafeteria', 12305: 'undercover', 12306: 'braitman', 12307: 'compulsive', 12308: 'destructive', 12309: 'sadness', 12310: 'bosnian', 12311: 'exhumed', 12312: 'gafic', 12313: 'graves', 12314: 'identities', 12315: 'item', 12316: 'sarajevo', 12317: 'ziyah', 12318: '́', 12319: '́,', 12320: 'apocalyptic', 12321: 'emptied', 12322: 'existential', 12323: 'possibly', 12324: 'wipe', 12325: 'continental', 12326: 'goslinga', 12327: 'syngenta', 12328: 'meera', 12329: 'taboo', 12330: 'vijayann', 12331: 'clicks', 12332: 'inciting', 12333: 'giza', 12334: 'pyramid', 12335: 'shargaa', 12336: '71', 12337: 'passionately', 12338: 'wrinkles', 12339: 'planted', 12340: 'sharma', 12341: 'shubhendu', 12342: 'england', 12343: 'forgiveness', 12344: 'immigrant', 12345: 'jamaican', 12346: 'navigating', 12347: 'dogma', 12348: 'ebrahim', 12349: 'hate', 12350: 'barasch', 12351: 'directs', 12352: 'greenspace', 12353: 'lowline', 12354: 'trolley', 12355: 'ola', 12356: 'pointer', 12357: 'bakhtiozina', 12358: 'poke', 12359: 'russia', 12360: 'uldus', 12361: 'ill', 12362: 'manchanda', 12363: 'rishi', 12364: 'stressful', 12365: 'upstream', 12366: 'connolly', 12367: 'moods', 12368: 'skies', 12369: 'doorway', 12370: 'escapes', 12371: 'fictional', 12372: 'mac', 12373: 'reichental', 12374: 'sneakers', 12375: '600', 12376: 'donato', 12377: 'lungs', 12378: 'nobre', 12379: 'averting', 12380: 'payoff', 12381: 'stern', 12382: 'cukier', 12383: 'critiques', 12384: 'denied', 12385: 'eman', 12386: 'mohammed', 12387: 'photojournalists', 12388: 'shunned', 12389: 'reilly', 12390: 'technician', 12391: '1967', 12392: '67', 12393: 'densely', 12394: 'monolithic', 12395: 'permeate', 12396: 'poops', 12397: 'reyes', 12398: 'colantuono', 12399: 'grads', 12400: 'midcareer', 12401: 'plainly', 12402: 'takeaways', 12403: 'audacity', 12404: 'gail', 12405: 'havana', 12406: 'latin', 12407: 'physicians', 12408: 'trains', 12409: 'components', 12410: 'kanwisher', 12411: 'machinery', 12412: 'specialized', 12413: 'baroque', 12414: 'bercken', 12415: 'daria', 12416: 'den', 12417: 'frideric', 12418: 'handel', 12419: 'ignite', 12420: 'sailing', 12421: 'conclude', 12422: 'piketty', 12423: 'alcohol', 12424: 'averages', 12425: 'disrupt', 12426: 'esteem', 12427: 'meaghan', 12428: 'ugly', 12429: 'argentina', 12430: 'legislative', 12431: 'mancini', 12432: 'pia', 12433: '135', 12434: '413', 12435: 'dilip', 12436: 'migrants', 12437: 'ratha', 12438: 'receiving', 12439: 'regulatory', 12440: 'remittances', 12441: 'stifled', 12442: 'extensive', 12443: 'files', 12444: 'glenn', 12445: 'greenwald', 12446: 'revelations', 12447: 'importantly', 12448: 'nutrients', 12449: 'myriam', 12450: 'pneumonia', 12451: 'sickness', 12452: 'sidibe', 12453: 'soap', 12454: 'soapy', 12455: 'jorge', 12456: 'noninvasive', 12457: 'soto', 12458: 'technologists', 12459: '65', 12460: 'displaced', 12461: 'fleming', 12462: 'forcefully', 12463: 'refugees', 12464: 'syrian', 12465: 'anew', 12466: 'documented', 12467: 'ronnie', 12468: 'seeming', 12469: 'shatter', 12470: 'somber', 12471: 'suffered', 12472: 'counting', 12473: 'etlinger', 12474: 'interpretation', 12475: 'botswana', 12476: 'eighteen', 12477: 'fred', 12478: 'gambia', 12479: 'swaniker', 12480: 'zimbabwe', 12481: '1963', 12482: '31', 12483: 'aquarius', 12484: 'cousteau', 12485: 'fabien', 12486: 'wondrous', 12487: 'abrahams', 12488: 'boosting', 12489: 'ig', 12490: 'silliness', 12491: 'splitting', 12492: 'deserves', 12493: 'justness', 12494: 'kimberley', 12495: 'litigator', 12496: 'motley', 12497: 'protection', 12498: 'fotokite', 12499: 'lupashin', 12500: 'sergei', 12501: 'uavs', 12502: 'metaphorical', 12503: 'reconnect', 12504: 'skins', 12505: 'chaplain', 12506: 'debra', 12507: 'jarvis', 12508: 'static', 12509: 'heimans', 12510: 'kickstarter', 12511: 'uber', 12512: 'alessandra', 12513: 'checked', 12514: 'orofino', 12515: 'solidarity', 12516: 'ameenah', 12517: 'apples', 12518: 'baobab', 12519: 'baume', 12520: 'benjoin', 12521: 'fakim', 12522: 'gurib', 12523: 'ile', 12524: 'islands', 12525: 'plate', 12526: 'kare', 12527: 'shy', 12528: 'shyness', 12529: 'alejandro', 12530: 'aravena', 12531: 'chile', 12532: 'favelas', 12533: 'units', 12534: 'barbecue', 12535: 'dre', 12536: 'jeroen', 12537: 'koolhaas', 12538: 'philadelphia', 12539: 'urhahn', 12540: 'finite', 12541: 'laxminarayan', 12542: 'lifesaving', 12543: 'purposes', 12544: 'ramanan', 12545: 'handed', 12546: 'occurs', 12547: 'reordering', 12548: 'tablets', 12549: 'heartless', 12550: 'nadelmann', 12551: 'reformist', 12552: 'regulation', 12553: 'incompatible', 12554: 'leana', 12555: 'spokesman', 12556: 'wen', 12557: 'ayahuasca', 12558: 'backpack', 12559: 'beyoncé', 12560: 'chechnya', 12561: 'icon', 12562: 'naná', 12563: 'peru', 12564: 'sufi', 12565: 'vasconcelos', 12566: 'vincent', 12567: 'whoa', 12568: 'grady', 12569: 'meetings', 12570: 'overcrowded', 12571: 'plaguing', 12572: 'centimeters', 12573: 'cluster', 12574: 'readily', 12575: 'res', 12576: 'revolutionized', 12577: 'bucket', 12578: 'frates', 12579: 'bleeding', 12580: 'landolina', 12581: 'stitches', 12582: 'afraid', 12583: 'brash', 12584: 'rosie', 12585: 'testament', 12586: 'uniqueness', 12587: 'eagle', 12588: 'endangering', 12589: 'ethnobotanist', 12590: 'harpy', 12591: 'irreplaceable', 12592: 'jaguar', 12593: 'medicinal', 12594: 'plotkin', 12595: 'repository', 12596: 'shamans', 12597: 'uncontacted', 12598: 'balcetis', 12599: 'fitness', 12600: 'demands', 12601: 'distraction', 12602: 'nowhere', 12603: 'stillness', 12604: 'teases', 12605: 'abuses', 12606: 'oren', 12607: 'publicizes', 12608: 'verifies', 12609: 'videre', 12610: 'yakobovich', 12611: '1912', 12612: '800', 12613: 'falcon', 12614: 'hubris', 12615: '”-', 12616: '2030', 12617: 'borders', 12618: 'rainer', 12619: 'seekers', 12620: 'strack', 12621: 'natterson', 12622: 'veterinarian', 12623: 'aakash', 12624: 'ars', 12625: 'dyslexic', 12626: 'electronica', 12627: 'futurelab', 12628: 'murmur', 12629: 'ode', 12630: 'odedra', 12631: 'fighters', 12632: 'jose', 12633: 'sokoloff', 12634: 'anastasia', 12635: 'lind', 12636: 'maidan', 12637: 'mourn', 12638: 'stark', 12639: 'ferry', 12640: 'fishing', 12641: 'hellum', 12642: 'norwegian', 12643: 'rapt', 12644: 'aggregate', 12645: 'crump', 12646: 'innocuously', 12647: 'placed', 12648: 'unsexy', 12649: 'cliques', 12650: 'clubs', 12651: 'dwellers', 12652: 'troy', 12653: 'visualizing', 12654: 'acknowledge', 12655: 'missouri', 12656: 'myers', 12657: 'staten', 12658: 'subconscious', 12659: 'vernā', 12660: 'carol', 12661: 'dweck', 12662: 'mindset', 12663: 'researches', 12664: 'broadcasting', 12665: 'experimented', 12666: 'livestreaming', 12667: 'paulo', 12668: 'são', 12669: 'teargassed', 12670: 'torturra', 12671: 'unedited', 12672: 'carroça', 12673: 'carts', 12674: 'catadores', 12675: 'enter', 12676: 'mundano', 12677: 'pimp', 12678: 'recyclables', 12679: 'roam', 12680: 'cheerleads', 12681: 'compounding', 12682: 'existing', 12683: 'expressing', 12684: 'nay', 12685: 'verbing', 12686: 'amplifying', 12687: 'bouncing', 12688: 'heartbeat', 12689: 'rubinstein', 12690: 'wow', 12691: 'asha', 12692: 'pooping', 12693: 'undervalued', 12694: 'vos', 12695: 'daniele', 12696: 'quercia', 12697: 'wander', 12698: 'aziz', 12699: 'erode', 12700: 'palestinians', 12701: 'visiting', 12702: 'anthropology', 12703: 'forensic', 12704: 'fredy', 12705: 'guatemala', 12706: 'peccerelli', 12707: '1990s', 12708: 'azevedo', 12709: 'catches', 12710: 'deforestation', 12711: 'losses', 12712: 'slogan', 12713: 'spurred', 12714: 'tasso', 12715: 'frugal', 12716: 'jugaad', 12717: 'navi', 12718: 'peppering', 12719: 'radjou', 12720: '2041', 12721: 'exploitation', 12722: 'pivotal', 12723: 'pleads', 12724: 'poles', 12725: 'preservation', 12726: 'treaty', 12727: 'aleppo', 12728: 'bamako', 12729: 'ineffective', 12730: 'muggah', 12731: 'unemployment', 12732: 'unrest', 12733: 'argentinian', 12734: 'cristina', 12735: 'domenech', 12736: 'inmate', 12737: 'altruism', 12738: 'bergbreiter', 12739: 'crawlies', 12740: 'helpers', 12741: 'robust', 12742: 'teeny', 12743: 'collaborate', 12744: 'disproportionately', 12745: 'madiath', 12746: 'ripple', 12747: 'stinking', 12748: 'toilets', 12749: 'bailey', 12750: 'judgment', 12751: 'morgana', 12752: 'paralyzing', 12753: 'utters', 12754: 'autesserre', 12755: 'hopelessly', 12756: 'locally', 12757: 'severine', 12758: 'unsolvably', 12759: 'circumsizing', 12760: 'clitoris', 12761: 'deserved', 12762: 'gbla', 12763: 'genital', 12764: 'khadija', 12765: 'leonean', 12766: 'mutilation', 12767: 'stifling', 12768: 'bassam', 12769: 'butcher', 12770: 'halal', 12771: 'humanness', 12772: 'mosques', 12773: 'tariq', 12774: 'thread', 12775: 'unites', 12776: 'gezi', 12777: 'tufekci', 12778: 'zeynep', 12779: 'ebola', 12780: 'succeeding', 12781: 'ambridge', 12782: 'dis', 12783: 'toast', 12784: 'acto', 12785: 'dettmer', 12786: 'outdated', 12787: 'butterflies', 12788: 'butterfly', 12789: 'jaap', 12790: 'monarch', 12791: 'offspring', 12792: 'parasite', 12793: 'roode', 12794: 'ricardo', 12795: 'semler', 12796: 'vacation', 12797: 'aunt', 12798: 'caregivers', 12799: 'dementia', 12800: 'hugely', 12801: 'shinozuka', 12802: 'wandering', 12803: 'cakewalk', 12804: 'mate', 12805: 'verified', 12806: 'diligence', 12807: 'hygiene', 12808: 'ish', 12809: 'nagging', 12810: 'winch', 12811: 'burke', 12812: 'nadine', 12813: 'pediatric', 12814: 'pediatrician', 12815: 'tangible', 12816: 'unfolds', 12817: 'boushnak', 12818: 'husbands', 12819: 'literacy', 12820: 'mothers', 12821: 'schoolgirls', 12822: 'valued', 12823: 'vary', 12824: 'commander', 12825: 'inhabiting', 12826: 'vermeulen', 12827: 'echoes', 12828: 'grandchildren', 12829: 'lengths', 12830: 'racism', 12831: 'sr', 12832: 'gene', 12833: 'unexplored', 12834: 'brohi', 12835: 'deemed', 12836: 'khalida', 12837: 'killings', 12838: 'pakistan', 12839: 'resolved', 12840: 'contained', 12841: 'immunity', 12842: 'infection', 12843: 'libster', 12844: 'relies', 12845: 'romina', 12846: 'vaccinated', 12847: 'crunching', 12848: 'reflecting', 12849: 'release', 12850: 'wellington', 12851: 'giraffe', 12852: 'guimarães', 12853: 'helder', 12854: '!!', 12855: 'ebooks', 12856: 'gosier', 12857: 'hooray', 12858: 'techonomics', 12859: 'trickle', 12860: 'chainsaw', 12861: 'chirps', 12862: 'cicadas', 12863: 'gibbons', 12864: 'loggers', 12865: 'topher', 12866: 'baker', 12867: 'lorn', 12868: 'default', 12869: 'encryption', 12870: 'hassle', 12871: 'install', 12872: 'postcard', 12873: 'yen', 12874: 'carvalho', 12875: 'cushy', 12876: 'guns', 12877: 'homicidal', 12878: 'ilona', 12879: 'quo', 12880: 'szabó', 12881: 'delle', 12882: 'financier', 12883: 'microfinance', 12884: 'pan', 12885: 'romanticized', 12886: 'sangu', 12887: 'disconnected', 12888: 'kushner', 12889: 'confinement', 12890: 'frequently', 12891: 'ismael', 12892: 'jails', 12893: 'nazario', 12894: 'rikers', 12895: 'solitary', 12896: 'subjected', 12897: 'shimpei', 12898: 'squashed', 12899: 'takahashi', 12900: 'designated', 12901: 'linda', 12902: '317', 12903: 'bed', 12904: 'captors', 12905: 'chained', 12906: 'chamber', 12907: 'cochetel', 12908: 'hostage', 12909: 'lyricism', 12910: 'tripled', 12911: 'consensus', 12912: 'deluca', 12913: 'fluctuate', 12914: 'hormones', 12915: 'persisted', 12916: 'pms', 12917: 'premenstrual', 12918: 'reproductive', 12919: 'constrained', 12920: 'eagleman', 12921: 'sensory', 12922: 'trillionth', 12923: 'vest', 12924: '2d', 12925: 'desimone', 12926: 'ted2015', 12927: 'humiliation', 12928: 'instantaneously', 12929: 'lewinsky', 12930: 'monica', 12931: 'shaming', 12932: 'sport', 12933: 'fei', 12934: 'attacker', 12935: 'giridharadas', 12936: 'mart', 12937: 'reconciliation', 12938: 'shattered', 12939: 'interviewing', 12940: 'isay', 12941: 'mattered', 12942: 'storycorps', 12943: 'catalyst', 12944: 'fervent', 12945: 'hubs', 12946: 'miniature', 12947: 'sorry', 12948: 'theaster', 12949: 'versailles', 12950: 'dame', 12951: 'millionaires', 12952: 'shirley', 12953: 'upended', 12954: 'cemeteries', 12955: 'bounce', 12956: 'echolocation', 12957: 'flashes', 12958: 'kish', 12959: 'surfaces', 12960: 'ambition', 12961: 'inevitably', 12962: 'rudd', 12963: 'vantage', 12964: 'boniface', 12965: 'heckle', 12966: 'mwangi', 12967: 'avoided', 12968: 'hindsight', 12969: 'selfless', 12970: 'bel', 12971: 'fruition', 12972: 'pesce', 12973: 'cabezón', 12974: 'sáenz', 12975: 'theorems', 12976: 'wracked', 12977: 'uneasy', 12978: '67p', 12979: 'calculations', 12980: 'churyumov', 12981: 'comet', 12982: 'gerasimenko', 12983: 'philae', 12984: 'probe', 12985: 'rosetta', 12986: 'barat', 12987: 'batoor', 12988: 'hazara', 12989: 'smuggler', 12990: 'tidal', 12991: '83', 12992: 'caste', 12993: 'kailash', 12994: 'satyarthi', 12995: 'sprang', 12996: 'climb', 12997: 'cutest', 12998: 'kindergarten', 12999: 'santa', 13000: 'takaharu', 13001: 'tezuka', 13002: 'tokyo', 13003: 'hedge', 13004: 'offensive', 13005: 'tudor', 13006: 'andes', 13007: 'approximates', 13008: 'cabrol', 13009: 'lakes', 13010: 'scorched', 13011: 'decrease', 13012: 'haugen', 13013: 'hyperactive', 13014: 'introduce', 13015: 'isler', 13016: 'jedidah', 13017: 'trillions', 13018: 'arcade', 13019: 'collaborations', 13020: 'enchant', 13021: 'kanye', 13022: 'popupmag', 13023: 'popupmagazine', 13024: 'confusing', 13025: 'crystallized', 13026: 'furious', 13027: '97', 13028: 'carnivore', 13029: 'hunted', 13030: 'ibrahim', 13031: 'moroccan', 13032: 'nizar', 13033: 'spinosaurus', 13034: 'overtake', 13035: 'parlor', 13036: 'cracking', 13037: 'laughter', 13038: 'somebody', 13039: 'backgrounds', 13040: 'funneled', 13041: 'goffman', 13042: 'handcuffs', 13043: 'infractions', 13044: 'troubled', 13045: 'advance', 13046: 'hawaiian', 13047: 'improvement', 13048: 'isolate', 13049: 'papaya', 13050: 'prolonged', 13051: 'ronald', 13052: 'abe', 13053: 'vibrations', 13054: 'curtain', 13055: 'somi', 13056: 'danino', 13057: 'edible', 13058: 'exploits', 13059: 'probiotic', 13060: 'quorum', 13061: 'capsized', 13062: 'landes', 13063: 'mcclure', 13064: 'murden', 13065: 'rowing', 13066: 'tori', 13067: '*', 13068: 'beehive', 13069: 'magik', 13070: 'mite', 13071: 'moose', 13072: 'preys', 13073: 'varma', 13074: 'bathroom', 13075: 'convention', 13076: 'curve', 13077: 'elora', 13078: 'enigmatic', 13079: 'exquisitely', 13080: 'immersive', 13081: 'flag', 13082: 'flags', 13083: 'terribly', 13084: 'vexillology', 13085: 'angel', 13086: 'chorus', 13087: 'fairly', 13088: 'imprisoned', 13089: 'muncy', 13090: 'parole', 13091: 'sentenced', 13092: 'limitless', 13093: 'martine', 13094: 'rothblatt', 13095: 'sirius', 13096: 'xm', 13097: 'cosmin', 13098: 'crystal', 13099: 'instructions', 13100: 'mihaiu', 13101: 'capabilities', 13102: 'duty', 13103: 'legally', 13104: 'persons', 13105: 'semantics', 13106: 'affairs', 13107: 'betrayal', 13108: 'cheated', 13109: 'infidelity', 13110: 'longing', 13111: 'therapist', 13112: 'burkard', 13113: 'choppiest', 13114: 'coldest', 13115: 'crusade', 13116: 'pursuing', 13117: 'surfed', 13118: 'bewildered', 13119: 'preach', 13120: 'abdel', 13121: 'empathetic', 13122: 'initial', 13123: 'magied', 13124: 'speaker', 13125: 'yassmin', 13126: 'exoplanets', 13127: 'orbiting', 13128: 'seager', 13129: 'chukchi', 13130: 'gorgeously', 13131: 'siberia', 13132: 'incubated', 13133: 'ranked', 13134: 'startups', 13135: 'succeeded', 13136: 'breezy', 13137: 'nest', 13138: 'noticing', 13139: 'aaronson', 13140: 'breeds', 13141: 'exploiting', 13142: 'isis', 13143: 'shabaab', 13144: 'trevor', 13145: 'cliatt', 13146: 'labeled', 13147: 'palpable', 13148: 'persistently', 13149: 'principal', 13150: 'wayman', 13151: 'grapple', 13152: 'peril', 13153: 'seek', 13154: 'suki', 13155: '2016', 13156: 'bachelor', 13157: 'escort', 13158: 'homemaker', 13159: 'nun', 13160: 'perspectives', 13161: 'plugs', 13162: 'ponders', 13163: 'answered', 13164: 'meanings', 13165: 'mokobe', 13166: 'poured', 13167: 'absent', 13168: 'corresponding', 13169: 'kaliouby', 13170: 'matches', 13171: 'rana', 13172: 'cohesion', 13173: 'observes', 13174: 'superchicken', 13175: '1944', 13176: '1975', 13177: '68', 13178: 'asperger', 13179: 'austrian', 13180: 'pediatricians', 13181: 'psychologists', 13182: 'shrouded', 13183: 'silberman', 13184: 'steep', 13185: 'braddock', 13186: 'frazier', 13187: 'lately', 13188: 'latoya', 13189: 'pennsylvania', 13190: 'posterchild', 13191: 'revitalization', 13192: 'rustbelt', 13193: 'toxicity', 13194: 'dad', 13195: 'delights', 13196: 'thelonious', 13197: 'acknowledging', 13198: 'dubbed', 13199: 'feminist', 13200: 'hollow', 13201: 'perfection', 13202: 'rang', 13203: 'roxane', 13204: 'skewers', 13205: 'advantages', 13206: 'afforded', 13207: 'maryn', 13208: 'penicillin', 13209: 'squandered', 13210: 'reliable', 13211: 'remove', 13212: 'urmson', 13213: 'circled', 13214: 'circular', 13215: 'linear', 13216: 'damn', 13217: 'manifestations', 13218: 'mistreatment', 13219: 'resolve', 13220: 'bonica', 13221: 'latif', 13222: 'nasser', 13223: 'wrestler', 13224: 'rapport', 13225: 'warriors', 13226: 'basketball', 13227: 'contact', 13228: 'maheswaran', 13229: 'rajiv', 13230: 'spatio', 13231: 'temporal', 13232: 'banda', 13233: 'bylaw', 13234: 'initiation', 13235: 'malawi', 13236: 'reached', 13237: 'refused', 13238: 'addiction', 13239: 'addictions', 13240: 'addicts', 13241: 'cocaine', 13242: 'hari', 13243: 'johann', 13244: 'unearthed', 13245: 'integrity', 13246: 'pulled', 13247: 'bargains', 13248: 'exploited', 13249: 'flourishes', 13250: 'manicure', 13251: 'noy', 13252: 'thrupkaew', 13253: 'trafficking', 13254: 'unlimited', 13255: 'abortion', 13256: 'nor', 13257: 'politicized', 13258: 'alec', 13259: 'couples', 13260: 'extremes', 13261: 'las', 13262: 'locale', 13263: 'soth', 13264: 'unwound', 13265: 'valentine', 13266: 'vegas', 13267: 'hacked', 13268: 'iaconesi', 13269: 'salvatore', 13270: 'waits', 13271: 'marlene', 13272: 'zuk', 13273: 'baying', 13274: 'behaving', 13275: 'commenters', 13276: 'mob', 13277: 'ruined', 13278: 'alaa', 13279: 'independence', 13280: 'murabit', 13281: 'rebellious', 13282: 'refreshingly', 13283: 'spirt', 13284: 'tenets', 13285: 'dominate', 13286: 'harari', 13287: 'insignificant', 13288: 'minding', 13289: 'yuval', 13290: 'benedetta', 13291: 'berti', 13292: 'filling', 13293: 'hamas', 13294: 'hezbollah', 13295: 'portion', 13296: 'multicultural', 13297: 'usa', 13298: 'whitest', 13299: 'whitopia', 13300: 'casualties', 13301: 'crossfire', 13302: 'memorialized', 13303: 'uncounted', 13304: 'medication', 13305: 'mthunzi', 13306: 'painless', 13307: 'patience', 13308: 'swallowing', 13309: 'alix', 13310: 'darn', 13311: 'impair', 13312: 'branches', 13313: 'dynasties', 13314: 'infographics', 13315: 'lima', 13316: 'manuel', 13317: 'coray', 13318: 'wyss', 13319: 'backdoors', 13320: 'landline', 13321: 'messaging', 13322: 'resisting', 13323: 'disarming', 13324: 'dustin', 13325: 'idiosyncratic', 13326: 'yellin', 13327: 'khalili', 13328: 'spooky', 13329: 'weirder', 13330: 'unbalanced', 13331: 'crawl', 13332: 'tunnel', 13333: 'collaboratively', 13334: 'flexibly', 13335: 'metrics', 13336: 'overload', 13337: 'tables', 13338: 'freedman', 13339: 'gmt', 13340: 'magellan', 13341: 'peering', 13342: 'allies', 13343: 'enlist', 13344: 'heforshe', 13345: 'nyamayaro', 13346: 'accessed', 13347: 'bartlett', 13348: 'browser', 13349: 'illicit', 13350: 'codes', 13351: 'cryptographer', 13352: 'scholars', 13353: 'simons', 13354: '235', 13355: 'balloon', 13356: 'donned', 13357: 'eustace', 13358: 'jumps', 13359: 'october', 13360: 'spacesuit', 13361: 'cogs', 13362: 'ignores', 13363: 'intangible', 13364: 'paycheck', 13365: 'bj', 13366: 'dignified', 13367: 'palliative', 13368: 'savor', 13369: 'billie', 13370: 'riggs', 13371: 'tennis', 13372: 'aside', 13373: 'establishment', 13374: 'retreats', 13375: 'rothkopf', 13376: 'birdsong', 13377: 'mia', 13378: 'kimmel', 13379: 'catron', 13380: 'len', 13381: 'mandy', 13382: 'dinsmore', 13383: 'joyful', 13384: 'fierce', 13385: 'rebuilding', 13386: 'sakena', 13387: 'yacoobi', 13388: 'beheadings', 13389: 'executions', 13390: 'frances', 13391: 'unfair', 13392: 'distilled', 13393: 'meditating', 13394: 'classification', 13395: 'samuel', 13396: 'selasi', 13397: 'taiye', 13398: 'everglades', 13399: 'hindrance', 13400: 'neglected', 13401: 'swamp', 13402: 'swamps', 13403: 'contracting', 13404: 'freed', 13405: 'pistorius', 13406: 'twelve', 13407: 'emilie', 13408: 'multipotentialites', 13409: 'wapnick', 13410: 'greenhouse', 13411: 'hottest', 13412: 'larkin', 13413: 'trading', 13414: 'mukherjee', 13415: 'siddhartha', 13416: 'additive', 13417: 'microorganisms', 13418: 'neri', 13419: 'oxman', 13420: 'associated', 13421: 'formation', 13422: 'increasing', 13423: 'neurogenesis', 13424: 'sandrine', 13425: 'thuret', 13426: 'applause', 13427: 'intentions', 13428: 'teitur', 13429: 'agreed', 13430: 'halt', 13431: 'orchard', 13432: 'swarms', 13433: 'yields', 13434: 'alyson', 13435: 'ambien', 13436: 'aspirin', 13437: 'ashore', 13438: 'christiansen', 13439: 'dagbladet', 13440: 'fjellberg', 13441: 'identical', 13442: 'tomm', 13443: 'wetsuits', 13444: 'emphatic', 13445: 'hadero', 13446: 'lid', 13447: 'meklit', 13448: 'soundscape', 13449: 'communications', 13450: 'hugging', 13451: 'willpotter', 13452: 'cas9', 13453: 'crispr', 13454: 'doudna', 13455: 'edits', 13456: 'pause', 13457: 'coexist', 13458: 'lightbulb', 13459: 'richer', 13460: 'switching', 13461: 'uglow', 13462: 'astronauts', 13463: 'francesco', 13464: 'geologist', 13465: 'isolation', 13466: 'sauro', 13467: 'tepuis', 13468: 'cottam', 13469: 'eligible', 13470: 'hilary', 13471: 'supportive', 13472: 'supposed', 13473: 'harbour', 13474: 'instills', 13475: 'christine', 13476: 'similarities', 13477: 'solely', 13478: 'amid', 13479: 'antennas', 13480: 'discontent', 13481: 'district', 13482: 'embassy', 13483: 'gchq', 13484: 'jud', 13485: 'mathias', 13486: 'spies', 13487: 'subversive', 13488: 'wachter', 13489: 'attacked', 13490: 'clouded', 13491: 'cortisol', 13492: 'inhibiting', 13493: 'levitin', 13494: 'millennia', 13495: 'mortem', 13496: 'dosomething', 13497: 'handle', 13498: 'nationwide', 13499: 'texted', 13500: 'overloaded', 13501: 'ships', 13502: 'although', 13503: 'industrializing', 13504: 'medici', 13505: 'nocturnal', 13506: 'patrícia', 13507: 'roams', 13508: 'tapir', 13509: 'bridging', 13510: 'shelf', 13511: 'transmits', 13512: 'fuses', 13513: 'genre', 13514: 'neck', 13515: 'paintbrush', 13516: 'dazols', 13517: 'jenni', 13518: 'supergays', 13519: 'arbiters', 13520: 'ekström', 13521: 'eradicate', 13522: 'humanities', 13523: 'impossibility', 13524: 'strengthen', 13525: 'unbiased', 13526: 'chelsea', 13527: 'destroy', 13528: 'institutionalized', 13529: 'lds', 13530: 'leaks', 13531: 'liberate', 13532: 'orthodox', 13533: 'sabbath', 13534: 'shields', 13535: 'subjugate', 13536: 'acquaintance', 13537: 'april', 13538: 'battlefields', 13539: 'correspondent', 13540: 'mari', 13541: 'phantom', 13542: 'probing', 13543: 'psychosis', 13544: 'risked', 13545: 'smashed', 13546: 'troops', 13547: 'void', 13548: 'appetite', 13549: 'campless', 13550: 'dominates', 13551: 'insatiable', 13552: 'luber', 13553: 'sneakerhead', 13554: 'tastemakers', 13555: 'unregulated', 13556: 'nonny', 13557: 'peña', 13558: 'anote', 13559: 'debated', 13560: 'imperiled', 13561: 'legislated', 13562: 'lying', 13563: 'tong', 13564: 'albatrosses', 13565: 'span', 13566: 'codified', 13567: 'genevieve', 13568: 'geometric', 13569: 'hallmark', 13570: 'markings', 13571: 'petzinger', 13572: 'scrawled', 13573: 'uniformity', 13574: 'anglophiles', 13575: 'authors', 13576: 'blindspot', 13577: 'bookshelf', 13578: 'gems', 13579: 'multitude', 13580: 'readtheworld', 13581: 'urging', 13582: 'candidate', 13583: 'contender', 13584: 'difficulty', 13585: 'hartley', 13586: 'hire', 13587: 'persist', 13588: 'scrapper', 13589: 'underestimated', 13590: 'abramović', 13591: 'boldest', 13592: 'marina', 13593: 'bleaching', 13594: 'invertebrates', 13595: 'marhaver', 13596: 'poppyseed', 13597: 'horrible', 13598: 'motherhood', 13599: 'shortall', 13600: 'spreading', 13601: 'asakawa', 13602: 'chieko', 13603: 'fourteen', 13604: 'description', 13605: 'freediver', 13606: 'freediving', 13607: 'guillaume', 13608: 'meter', 13609: 'néry', 13610: 'astrophysics', 13611: 'dreamt', 13612: 'danit', 13613: 'downloadable', 13614: 'peleg', 13615: 'printable', 13616: 'wear', 13617: 'airflow', 13618: 'airplanes', 13619: 'cabin', 13620: 'fin', 13621: 'laden', 13622: 'passengers', 13623: 'pathogen', 13624: 'redirects', 13625: 'simulations', 13626: 'sneeze', 13627: 'sneezes', 13628: 'battles', 13629: 'duo', 13630: 'nicole', 13631: 'sessions', 13632: 'livelihoods', 13633: 'salmon', 13634: 'messed', 13635: 'stellar', 13636: 'cemetery', 13637: 'contradictory', 13638: 'hosted', 13639: 'lily', 13640: 'tomlin', 13641: 'antónio', 13642: 'giussani', 13643: 'guterres', 13644: 'multilateral', 13645: 'recruiting', 13646: 'resettle', 13647: 'bijou', 13648: 'draconian', 13649: 'fertile', 13650: 'radicalization', 13651: 'recruitment', 13652: 'ripe', 13653: 'commentaries', 13654: 'crustaceans', 13655: 'decaires', 13656: 'exhibition', 13657: 'lifeless', 13658: 'muse', 13659: 'sacredness', 13660: 'subsumed', 13661: 'transient', 13662: 'fame', 13663: 'fulfilling', 13664: 'waldinger', 13665: 'brainier', 13666: 'netflix', 13667: 'aomawa', 13668: 'atmospheres', 13669: 'classically', 13670: 'contradictions', 13671: 'aquifers', 13672: 'depleted', 13673: 'groundwater', 13674: 'reservoirs', 13675: 'sedlak', 13676: 'withstanding', 13677: 'delete', 13678: 'deposit', 13679: 'encrusted', 13680: 'inboxes', 13681: 'marooned', 13682: 'offered', 13683: 'procedure', 13684: 'reply', 13685: 'spammer', 13686: 'suspicious', 13687: 'unclaimed', 13688: 'veitch', 13689: 'derail', 13690: 'callousness', 13691: 'coldness', 13692: 'dehumanized', 13693: 'departments', 13694: 'instituted', 13695: 'invested', 13696: 'lowering', 13697: 'lt', 13698: 'melvin', 13699: 'protectors', 13700: 'reforms', 13701: 'civility', 13702: 'crowdsourcing', 13703: 'polarized', 13704: 'spilled', 13705: 'cinema', 13706: 'hierarchy', 13707: 'ole', 13708: 'scheeren', 13709: 'twisted', 13710: 'archaeologists', 13711: 'biologists', 13712: 'climatologists', 13713: 'coursing', 13714: 'diver', 13715: 'heinerth', 13716: 'inhabit', 13717: 'drier', 13718: 'farrant', 13719: 'resurrection', 13720: 'sharper', 13721: 'achenyo', 13722: 'clogs', 13723: 'disrupting', 13724: 'harmless', 13725: 'hyacinth', 13726: 'idachaba', 13727: 'interrupting', 13728: 'schooling', 13729: 'scourge', 13730: 'weed', 13731: 'weeds', 13732: 'chapel', 13733: 'depiction', 13734: 'iconography', 13735: 'lev', 13736: 'michelangelo', 13737: 'sistine', 13738: 'belongs', 13739: 'cannibalizing', 13740: 'keynesian', 13741: 'libertarian', 13742: 'marxist', 13743: 'varoufakis', 13744: 'yanis', 13745: 'biofluorescent', 13746: 'dim', 13747: 'glow', 13748: 'gruber', 13749: 'meters', 13750: 'seahorses', 13751: 'sharks', 13752: 'turtles', 13753: 'aclu', 13754: 'harmed', 13755: 'patentable', 13756: 'patented', 13757: 'simoncelli', 13758: 'auke', 13759: 'automata', 13760: 'biorobots', 13761: 'fieldwork', 13762: 'handling', 13763: 'ijspeert', 13764: '2018', 13765: 'abandon', 13766: 'aspiring', 13767: 'cleanups', 13768: 'dioxins', 13769: 'governor', 13770: 'indestructible', 13771: 'melati', 13772: 'petitions', 13773: 'piles', 13774: 'pollute', 13775: 'reckless', 13776: 'suffocating', 13777: 'thrown', 13778: 'wijsen', 13779: 'liukas', 13780: 'lovelaces', 13781: 'syntax', 13782: 'tinkered', 13783: 'andrés', 13784: 'geoscientist', 13785: 'ruzo', 13786: 'brewer', 13787: 'judson', 13788: 'overeating', 13789: 'snack', 13790: 'tactic', 13791: 'attacking', 13792: 'halting', 13793: 'illuminated', 13794: 'mutated', 13795: 'pardis', 13796: 'sabeti', 13797: 'unity', 13798: 'wrought', 13799: 'ambassador', 13800: 'camaraderie', 13801: 'disabilities', 13802: 'fosters', 13803: 'olympics', 13804: 'unchanged', 13805: 'blend', 13806: 'dimmer', 13807: 'dogmatic', 13808: 'ills', 13809: 'instability', 13810: 'rises', 13811: 'stagnates', 13812: 'deformable', 13813: 'fingers', 13814: 'follmer', 13815: 'prototypes', 13816: 'wristband', 13817: 'classics', 13818: 'deciphering', 13819: 'heyworth', 13820: 'manuscripts', 13821: 'rewrite', 13822: 'spectral', 13823: 'textual', 13824: 'aquaculture', 13825: 'echoing', 13826: 'farmed', 13827: 'plates', 13828: 'refuse', 13829: 'velings', 13830: 'affirm', 13831: 'dorothy', 13832: 'lingering', 13833: 'roberts', 13834: 'shortcut', 13835: 'adaptable', 13836: 'bloch', 13837: 'cultured', 13838: 'doublecortin', 13839: 'inability', 13840: 'jocelyne', 13841: 'lesioned', 13842: 'neurosurgeon', 13843: 'strokes', 13844: 'traumas', 13845: 'amazed', 13846: 'brevity', 13847: 'celeste', 13848: 'converse', 13849: 'headlee', 13850: 'hinges', 13851: 'besides', 13852: 'hum', 13853: 'rhimes', 13854: 'shonda', 13855: 'whisper', 13856: 'anomaly', 13857: 'collided', 13858: 'detected', 13859: 'detector', 13860: 'explode', 13861: 'inexorably', 13862: 'ligo', 13863: 'observed', 13864: 'pumped', 13865: 'roiling', 13866: 'spiral', 13867: 'unthinkably', 13868: 'aesthetic', 13869: 'ambivalent', 13870: 'dazzled', 13871: 'disturbance', 13872: 'dreamy', 13873: 'hover', 13874: 'orientation', 13875: 'propeller', 13876: 'swirling', 13877: 'brainwashed', 13878: 'oppressed', 13879: 'polarizing', 13880: 'audrey', 13881: 'bassett', 13882: 'equity', 13883: 'inequities', 13884: 'rally', 13885: 'structural', 13886: 'witnessed', 13887: 'coyote', 13888: 'grapples', 13889: 'harassed', 13890: 'neatly', 13891: 'pee', 13892: 'poetically', 13893: 'questioned', 13894: 'restrooms', 13895: 'coexistence', 13896: 'dashing', 13897: 'manta', 13898: 'peschak', 13899: 'respectful', 13900: 'seascapes', 13901: 'somersaulting', 13902: 'swarming', 13903: 'bombs', 13904: 'decorating', 13905: 'hydrants', 13906: 'magda', 13907: 'possess', 13908: 'relatable', 13909: 'sayeg', 13910: 'textile', 13911: 'transforms', 13912: 'unassuming', 13913: 'yarn', 13914: 'altman', 13915: 'queries', 13916: 'russ', 13917: 'aspirations', 13918: 'betts', 13919: 'immediate', 13920: 'journeys', 13921: 'migration', 13922: 'pathetic', 13923: 'carpooling', 13924: 'commuters', 13925: 'dioxide', 13926: 'kalanick', 13927: 'rides', 13928: 'travis', 13929: 'uberpool', 13930: 'charge', 13931: 'imperfection', 13932: 'reshma', 13933: 'saujani', 13934: 'socialize', 13935: 'growers', 13936: 'harper', 13937: 'indoors', 13938: 'nutrient', 13939: 'slopes', 13940: 'centered', 13941: 'mileha', 13942: 'soneji', 13943: 'bhutan', 13944: 'pledged', 13945: 'tobgay', 13946: 'tshering', 13947: 'firmly', 13948: 'gerald', 13949: 'saviors', 13950: '123', 13951: 'bet', 13952: 'gebbia', 13953: 'nights', 13954: 'separation', 13955: 'binges', 13956: 'bouts', 13957: 'procrastinating', 13958: 'procrastination', 13959: 'callisto', 13960: 'concerns', 13961: 'confidentially', 13962: 'deterrent', 13963: 'ladd', 13964: 'rapists', 13965: 'survivors', 13966: 'violating', 13967: 'ghastly', 13968: 'ideology', 13969: 'polarization', 13970: 'gribetz', 13971: 'holograms', 13972: 'meron', 13973: 'meta', 13974: 'senses', 13975: 'surroundings', 13976: 'commits', 13977: 'extent', 13978: 'foss', 13979: 'prosecute', 13980: 'prosecutor', 13981: 'saddling', 13982: 'suffolk', 13983: 'wrath', 13984: 'championing', 13985: 'fishman', 13986: 'internship', 13987: 'reentry', 13988: 'relaunchers', 13989: 'workforce', 13990: 'adapted', 13991: 'camels', 13992: 'humps', 13993: 'pbs', 13994: 'pegged', 13995: 'radiolab', 13996: 'accessing', 13997: 'mohutsiwa', 13998: 'siyanda', 13999: 'violently', 14000: 'fanciful', 14001: 'hololens', 14002: 'kipman', 14003: 'angélica', 14004: 'dass', 14005: 'humanæ', 14006: 'untrue', 14007: 'yellow', 14008: ',\\'\"', 14009: 'appeal', 14010: 'brady', 14011: 'checks', 14012: 'approaching', 14013: 'augmenting', 14014: 'nip', 14015: 'surviving', 14016: 'withstand', 14017: 'haanaes', 14018: 'knut', 14019: 'perfecting', 14020: 'reinvent', 14021: 'organizational', 14022: 'originals', 14023: 'dyck', 14024: 'haley', 14025: 'immigrants', 14026: 'connectography', 14027: 'geography', 14028: 'geopolitical', 14029: 'maxim', 14030: 'overcoming', 14031: 'reimagine', 14032: 'rivalries', 14033: 'feinberg', 14034: 'interweaves', 14035: 'nemo', 14036: '8462852', 14037: 'boyajian', 14038: 'investigated', 14039: 'kic', 14040: 'megastructure', 14041: 'perplexing', 14042: 'tabetha', 14043: 'leak', 14044: 'panama', 14045: 'git', 14046: 'kernel', 14047: 'linus', 14048: 'pothole', 14049: 'torvalds', 14050: 'demanding', 14051: 'foremost', 14052: 'galvanizing', 14053: 'mobilizes', 14054: 'considers', 14055: 'spacefaring', 14056: 'defeat', 14057: 'hundredth', 14058: 'mode', 14059: 'nanoparticle', 14060: 'superweapon', 14061: 'astro', 14062: 'coupled', 14063: 'formerly', 14064: 'moonshot', 14065: 'teller', 14066: 'comma', 14067: 'critics', 14068: 'distinctive', 14069: 'maniac', 14070: 'shortstop', 14071: 'sternness', 14072: 'unfounded', 14073: '195', 14074: 'christiana', 14075: 'cop', 14076: 'figueres', 14077: 'reacted', 14078: 'skepticism', 14079: 'tapped', 14080: 'joyce', 14081: 'mailer', 14082: 'oates', 14083: 'quotations', 14084: 'writers', 14085: 'accelerates', 14086: 'altering', 14087: 'breeding', 14088: 'depended', 14089: 'hybridizing', 14090: 'purposefully', 14091: 'comfortably', 14092: 'customs', 14093: 'inflict', 14094: 'menstruation', 14095: 'periods', 14096: 'restrictive', 14097: '77', 14098: 'contemplate', 14099: 'cracks', 14100: 'dreadnoughtus', 14101: 'geological', 14102: 'jumbo', 14103: 'lacovara', 14104: 'sauropod', 14105: 'unearthing', 14106: 'inventure', 14107: 'loan', 14108: 'purchasing', 14109: 'score', 14110: 'shivani', 14111: 'siroya', 14112: 'britney', 14113: 'dubois', 14114: 'spears', 14115: 'ameera', 14116: 'fixer', 14117: 'harouda', 14118: 'hears', 14119: 'shells', 14120: 'issuing', 14121: 'monetary', 14122: 'wonky', 14123: 'personalize', 14124: 'predicting', 14125: 'riccardo', 14126: 'sabatini', 14127: 'anencephaly', 14128: 'donate', 14129: 'grieving', 14130: 'blackbeard', 14131: 'buckminster', 14132: 'florence', 14133: 'fuller', 14134: 'nightingale', 14135: 'rawsthorn', 14136: 'renegades', 14137: 'visionaries', 14138: 'colonized', 14139: 'hologram', 14140: 'pilar', 14141: 'populated', 14142: 'bodekaer', 14143: 'gaming', 14144: 'gods', 14145: 'guarantee', 14146: 'mosquitoes', 14147: 'resulting', 14148: 'zika', 14149: 'aligned', 14150: 'hasson', 14151: 'biggers', 14152: 'conceptual', 14153: 'sanford', 14154: 'bhatia', 14155: 'bioengineer', 14156: 'multidisciplinary', 14157: 'sangeeta', 14158: 'screening', 14159: 'kang', 14160: 'liars', 14161: 'physiologically', 14162: 'delivering', 14163: 'indolfi', 14164: 'alienating', 14165: 'battlefield', 14166: 'bitterly', 14167: 'closeness', 14168: 'est', 14169: 'vets', 14170: 'juno', 14171: 'legalize', 14172: 'legislate', 14173: 'opinion', 14174: 'amendment', 14175: 'concise', 14176: 'publish', 14177: 'timm', 14178: 'whistleblowers', 14179: 'lidia', 14180: 'misfit', 14181: 'patchwork', 14182: 'recollection', 14183: 'wayward', 14184: 'yuknavitch', 14185: 'introspection', 14186: 'investigate', 14187: 'mariano', 14188: 'quantitative', 14189: 'sigman', 14190: 'cresting', 14191: 'flux', 14192: 'foam', 14193: 'forman', 14194: 'glassy', 14195: 'tranquility', 14196: 'turbulence', 14197: 'zaria', 14198: 'ravenell', 14199: 'awakens', 14200: 'batman', 14201: 'galactic', 14202: 'perez', 14203: 'rifle', 14204: 'desmond', 14205: 'hellmann', 14206: 'transmission', 14207: 'nutt', 14208: 'therefore', 14209: 'foolishness', 14210: 'jeffersons', 14211: 'lear', 14212: 'primetime', 14213: 'sitcoms', 14214: 'underrepresented', 14215: 'capitan', 14216: 'continuum', 14217: 'serengeti', 14218: 'tournelle', 14219: 'watering', 14220: 'wilkes', 14221: 'yosemite', 14222: 'cédric', 14223: 'explanations', 14224: 'inaccessible', 14225: 'villani', 14226: 'collections', 14227: 'cyril', 14228: 'diagne', 14229: 'residence', 14230: 'cares', 14231: 'hseuh', 14232: 'prospects', 14233: 'zodiac', 14234: 'earnings', 14235: 'graduating', 14236: 'sajay', 14237: 'skyrocketed', 14238: '!,', 14239: 'encountered', 14240: 'farsad', 14241: 'haters', 14242: 'mta', 14243: 'muslims', 14244: 'negin', 14245: 'poop', 14246: 'undercut', 14247: 'uproarious', 14248: 'acre', 14249: 'believing', 14250: 'youn', 14251: 'albert', 14252: 'condemning', 14253: 'conduct', 14254: 'raqib', 14255: 'tyranny', 14256: 'augment', 14257: 'biohacker', 14258: 'cellulose', 14259: 'pelling', 14260: 'headphones', 14261: 'mckenzie', 14262: 'medium', 14263: 'stubbert', 14264: 'vr', 14265: 'distracted', 14266: 'pings', 14267: 'tristan', 14268: 'ashes', 14269: 'bombings', 14270: 'gill', 14271: 'hicks', 14272: 'july', 14273: 'advocating', 14274: 'democratize', 14275: 'descent', 14276: 'disparities', 14277: 'immerse', 14278: 'keolu', 14279: 'ninety', 14280: 'unrepresented', 14281: 'additional', 14282: 'bansal', 14283: 'chats', 14284: 'forged', 14285: 'haryana', 14286: 'seema', 14287: 'straightforward', 14288: 'extroverts', 14289: 'interested', 14290: 'malleable', 14291: 'hulme', 14292: 'indicator', 14293: 'curves', 14294: 'diaz', 14295: 'gamma', 14296: 'inclusive', 14297: 'merced', 14298: 'regained', 14299: 'revelatory', 14300: 'sonification', 14301: 'wanda', 14302: 'agüera', 14303: 'categorization', 14304: 'collages', 14305: 'hallucinatory', 14306: 'nets', 14307: 'defending', 14308: 'galef', 14309: 'interweaved', 14310: 'mindsets', 14311: 'opinions', 14312: 'prone', 14313: 'scout', 14314: 'steadfast', 14315: 'yearn', 14316: 'adaptations', 14317: 'chakrabarty', 14318: 'dwelling', 14319: 'prosanta', 14320: 'subterranean', 14321: 'cavitt', 14322: 'detention', 14323: 'marley', 14324: 'rehabilitation', 14325: 'chooses', 14326: 'enclaves', 14327: 'homs', 14328: 'marwa', 14329: 'sabouni', 14330: 'tolerant', 14331: 'brexit', 14332: 'disillusionment', 14333: 'embarrassingly', 14334: 'unaware', 14335: 'crushed', 14336: 'mocking', 14337: 'safwat', 14338: 'saleem', 14339: 'voiceovers', 14340: 'elise', 14341: 'norm', 14342: 'stumble', 14343: 'counterparts', 14344: 'dhabi', 14345: 'hoteit', 14346: 'juggle', 14347: 'leila', 14348: 'priorities', 14349: 'responsibilities', 14350: 'rigidity', 14351: 'tenacity', 14352: 'admirable', 14353: 'digging', 14354: 'edges', 14355: 'haseltine', 14356: 'speculation', 14357: 'marris', 14358: 'patches', 14359: 'untended', 14360: 'untouched', 14361: 'biodiverse', 14362: 'biomass', 14363: 'flung', 14364: 'kickstart', 14365: 'con', 14366: 'cosplay', 14367: 'costume', 14368: 'costumes', 14369: 'cream', 14370: 'wore', 14371: 'rediscovered', 14372: 'calligraphy', 14373: 'manshiyat', 14374: 'mural', 14375: 'naser', 14376: 'divulged', 14377: 'fonseca', 14378: 'gerard', 14379: 'mossack', 14380: 'panamanian', 14381: 'ryle', 14382: 'biomolecules', 14383: 'diapers', 14384: 'enlarge', 14385: 'epilepsy', 14386: 'magnify', 14387: 'neuroengineer', 14388: 'polymers', 14389: 'swell', 14390: 'astounding', 14391: 'distances', 14392: 'harmonious', 14393: 'simard', 14394: 'diagnosing', 14395: 'essays', 14396: 'grading', 14397: 'executives', 14398: 'lasts', 14399: 'reeves', 14400: 'shrinking', 14401: 'squeamishness', 14402: 'fluke', 14403: 'pleasantly', 14404: 'venus', 14405: 'araya', 14406: 'costa', 14407: 'rica', 14408: 'archaeological', 14409: 'archaeologist', 14410: 'globalxplorer', 14411: 'looters', 14412: 'machu', 14413: 'nazca', 14414: 'picchu', 14415: 'airy', 14416: 'chides', 14417: 'clashing', 14418: 'cling', 14419: 'confesses', 14420: 'exclusionary', 14421: 'futurism', 14422: 'idealistic', 14423: 'ignoring', 14424: 'populist', 14425: 'rejects', 14426: 'revolts', 14427: 'gonzalo', 14428: 'sincere', 14429: 'tournament', 14430: 'vilariño', 14431: 'warmth', 14432: 'employment', 14433: 'macroeconomic', 14434: 'olivier', 14435: 'scalabre', 14436: 'ihrig', 14437: 'navigates', 14438: 'overlooks', 14439: 'pathology', 14440: 'pharmacology', 14441: 'condone', 14442: 'submunitions', 14443: 'blockchain', 14444: 'clarification', 14445: 'demystifying', 14446: 'innermost', 14447: 'vanessa', 14448: 'campaigns', 14449: 'merchandise', 14450: 'superhero', 14451: 'superheroes', 14452: 'discomfort', 14453: 'genuine', 14454: 'interruptions', 14455: 'kio', 14456: 'theirs', 14457: 'riskier', 14458: 'tackling', 14459: 'tepperman', 14460: 'ensued', 14461: 'hijinks', 14462: 'inbox', 14463: 'unsubscribe', 14464: 'whimsy', 14465: 'grasped', 14466: 'sal', 14467: 'camarillo', 14468: 'bolivian', 14469: 'cardiologist', 14470: 'franz', 14471: 'freudenthal', 14472: 'mends', 14473: 'bitcoin', 14474: 'bureaus', 14475: 'cryptocurrencies', 14476: 'ethereum', 14477: 'narula', 14478: 'neha', 14479: 'removing', 14480: 'freshmen', 14481: 'haims', 14482: 'loading', 14483: 'lythcott', 14484: 'micromanaging', 14485: 'desirable', 14486: 'shellenberger', 14487: 'considering', 14488: 'holistic', 14489: 'donating', 14490: 'agrees', 14491: 'election', 14492: 'speechwriter', 14493: 'burkus', 14494: 'compare', 14495: 'salaries', 14496: 'brighter', 14497: 'brownsville', 14498: 'envision', 14499: 'lopez', 14500: 'mott', 14501: 'oasis', 14502: 'underserved', 14503: 'kraves', 14504: 'modifying', 14505: 'shoebox', 14506: 'appeals', 14507: 'censor', 14508: 'demagoguery', 14509: 'destroying', 14510: 'doubling', 14511: 'extremists', 14512: 'divorce', 14513: 'heroin', 14514: 'hopelessness', 14515: 'ohio', 14516: 'rust', 14517: 'vance', 14518: 'affirmation', 14519: 'dances', 14520: 'retain', 14521: 'fleas', 14522: 'harnessing', 14523: 'nanobiotechnologist', 14524: 'oded', 14525: 'sequoia', 14526: 'shoseyov', 14527: 'strongest', 14528: 'scared', 14529: 'superhuman', 14530: 'superintelligent', 14531: 'slower', 14532: 'stays', 14533: 'embryo', 14534: 'wooly', 14535: 'bhojwani', 14536: 'elect', 14537: 'immigration', 14538: 'sayu', 14539: 'tapestry', 14540: 'zerda', 14541: 'accept', 14542: 'introspective', 14543: 'lidsky', 14544: 'yielded', 14545: 'rainn', 14546: 'alluring', 14547: 'bother', 14548: 'columbia', 14549: 'linguist', 14550: '#', 14551: 'blaming', 14552: 'ione', 14553: 'notguilty', 14554: 'keen', 14555: 'professes', 14556: 'afflicted', 14557: 'haunts', 14558: 'servicemen', 14559: 'silences', 14560: 'adapting', 14561: 'exhausting', 14562: 'hemerling', 14563: 'imperatives', 14564: 'invigorating', 14565: 'reorganization', 14566: 'alida', 14567: 'captivate', 14568: 'command', 14569: 'copp', 14570: 'esmail', 14571: 'foxtrot', 14572: 'perpetuate', 14573: 'waltz', 14574: 'bioelectronics', 14575: 'cautionary', 14576: 'improves', 14577: 'subjective', 14578: 'techno', 14579: 'tighter', 14580: 'brutality', 14581: 'goodness', 14582: 'hatred', 14583: 'jihadist', 14584: 'manwar', 14585: 'participated', 14586: 'virtuous', 14587: 'fledgling', 14588: 'neave', 14589: 'philippa', 14590: 'detachable', 14591: 'flowed', 14592: 'kabbaj', 14593: 'taxis', 14594: 'transit', 14595: 'veins', 14596: 'wanis', 14597: 'americanization', 14598: 'bremmer', 14599: 'alyssa', 14600: 'canvas', 14601: 'monks', 14602: 'fake', 14603: 'frantzolas', 14604: 'tasos', 14605: 'giddens', 14606: 'infirmary', 14607: 'joins', 14608: 'popularized', 14609: 'rhiannon', 14610: 'romani', 14611: 'spiking', 14612: 'blow', 14613: 'drinkwater', 14614: 'entices', 14615: 'marked', 14616: 'runways', 14617: 'sydney', 14618: 'unapologetic', 14619: 'android', 14620: 'gaze', 14621: 'glaring', 14622: 'taste', 14623: 'disparity', 14624: 'kandice', 14625: 'lunches', 14626: 'sumner', 14627: 'wealthier', 14628: 'mallory', 14629: 'soldner', 14630: 'admittedly', 14631: 'humanism', 14632: 'bischoff', 14633: 'bowie', 14634: 'deceiving', 14635: 'inimitable', 14636: 'jherek', 14637: 'oddity', 14638: 'vice', 14639: 'ran', 14640: 'tone', 14641: 'allyship', 14642: 'barakat', 14643: 'bigotry', 14644: 'deah', 14645: 'dispute', 14646: 'hateful', 14647: 'murdered', 14648: 'perpetrator', 14649: 'razan', 14650: 'unquestioned', 14651: 'yusor', 14652: 'divisions', 14653: 'morals', 14654: 'fawn', 14655: 'nontraditional', 14656: 'qiu', 14657: 'workshops', 14658: 'garcia', 14659: 'immensely', 14660: 'crenshaw', 14661: 'intersectionality', 14662: 'kimberlé', 14663: 'bettina', 14664: 'centralized', 14665: 'decentralized', 14666: 'eliminate', 14667: 'exchanging', 14668: 'explainer', 14669: 'facilitate', 14670: 'hello', 14671: 'warburg', 14672: 'brimming', 14673: 'rios', 14674: 'upbringings', 14675: 'victor', 14676: 'antonsen', 14677: 'formulas', 14678: 'gateways', 14679: 'slight', 14680: 'disarmingly', 14681: 'mobilize', 14682: 'sandi', 14683: 'toksvig', 14684: 'neuroengineering', 14685: 'ranges', 14686: 'assert', 14687: 'galinsky', 14688: 'sage', 14689: 'economically', 14690: 'lassiter', 14691: 'stubbornly', 14692: 'talker', 14693: 'painful', 14694: 'sharpen', 14695: 'dorling', 14696: 'geographer', 14697: 'atlanta', 14698: 'beltline', 14699: 'gravel', 14700: 'rallied', 14701: 'assistant', 14702: 'exaggerated', 14703: 'melodramas', 14704: 'overdramatic', 14705: 'telenovelas', 14706: 'cis', 14707: 'inclusivity', 14708: 'katrin', 14709: 'tiq', 14710: 'breathtakingly', 14711: 'gateway', 14712: 'orbit', 14713: 'orbital', 14714: 'panek', 14715: 'burger', 14716: 'desensitized', 14717: 'jia', 14718: 'jiang', 14719: 'refill', 14720: 'requesting', 14721: 'baring', 14722: 'defensiveness', 14723: 'frayed', 14724: 'responder', 14725: 'provoost', 14726: 'sperm', 14727: 'surrogate', 14728: 'veerle', 14729: 'exception', 14730: 'humbly', 14731: 'revision', 14732: 'unknowns', 14733: 'penchant', 14734: 'raindrop', 14735: 'steer', 14736: 'accidental', 14737: 'brachman', 14738: 'serendipitous', 14739: 'attain', 14740: 'authentically', 14741: 'dena', 14742: 'guarantees', 14743: 'markers', 14744: 'prestige', 14745: 'simmons', 14746: '168', 14747: 'commitments', 14748: 'overestimate', 14749: 'underestimating', 14750: 'vanderkam', 14751: 'autor', 14752: 'proportion', 14753: 'chinaka', 14754: 'grief', 14755: 'shards', 14756: 'anjali', 14757: 'helium', 14758: 'tripathi', 14759: 'brous', 14760: 'numbing', 14761: 'pessimism', 14762: 'revitalized', 14763: 'sharon', 14764: 'beacham', 14765: 'spatial', 14766: 'givers', 14767: 'matchers', 14768: 'personalities', 14769: '2045', 14770: 'disarmament', 14771: 'dropped', 14772: 'erika', 14773: 'nagasaki', 14774: 'ridding', 14775: 'diets', 14776: 'empty', 14777: 'kass', 14778: 'policymaker', 14779: 'bare', 14780: 'jawed', 14781: 'pregnancy', 14782: 'sofia', 14783: 'wessel', 14784: 'ache', 14785: 'burn', 14786: 'swoon', 14787: 'circuits', 14788: 'compel', 14789: 'enabling', 14790: 'nanomaterials', 14791: 'nanotubes', 14792: 'shrink', 14793: 'transistors', 14794: 'tulevski', 14795: 'bricklin', 14796: 'codeveloped', 14797: 'daydreams', 14798: 'tangled', 14799: 'transformational', 14800: 'visicalc', 14801: 'alvarado', 14802: 'interrogate', 14803: 'sliver', 14804: 'sánchez', 14805: 'tends', 14806: 'confused', 14807: 'msimang', 14808: 'sisonke', 14809: 'spotlights', 14810: 'brea', 14811: 'debilitating', 14812: 'encephalomyelitis', 14813: 'fatigue', 14814: 'impairs', 14815: 'myalgic', 14816: 'progressively', 14817: 'rustling', 14818: 'unbearable', 14819: 'ashley', 14820: 'judd', 14821: 'legislators', 14822: 'terrorized', 14823: 'carboniferous', 14824: 'parsons', 14825: 'soda', 14826: 'tasting', 14827: 'trippy', 14828: 'ideological', 14829: 'robb', 14830: 'willer', 14831: 'embryos', 14832: 'estimates', 14833: 'knoepfler', 14834: 'modified', 14835: 'readies', 14836: 'unforeseeable', 14837: 'breeze', 14838: 'hearth', 14839: 'jeanne', 14840: 'barlow', 14841: 'insufficiency', 14842: 'netted', 14843: 'whopping', 14844: 'afghan', 14845: 'deeyah', 14846: 'unearths', 14847: 'deepika', 14848: 'grandparents', 14849: 'kurup', 14850: 'purify', 14851: 'enthusiasm', 14852: 'excavated', 14853: 'inheritance', 14854: 'thousandth', 14855: 'mismatch', 14856: 'briceño', 14857: 'hobbies', 14858: 'columbine', 14859: 'excavating', 14860: 'jarring', 14861: 'klebold', 14862: 'massacre', 14863: 'murdering', 14864: 'shooters', 14865: 'comical', 14866: 'manages', 14867: 'martian', 14868: 'nagin', 14869: 'accomplish', 14870: 'conti', 14871: 'maurice', 14872: 'chronology', 14873: 'elva', 14874: 'invite', 14875: 'omnipresent', 14876: 'parted', 14877: 'raped', 14878: 'romance', 14879: 'thordis', 14880: 'thordisandtom', 14881: 'biomarkers', 14882: 'exosomes', 14883: 'nanobiotechnology', 14884: 'highways', 14885: 'lane', 14886: 'lanes', 14887: 'lined', 14888: 'oases', 14889: 'sprawl', 14890: 'walkability', 14891: 'aala', 14892: 'khani', 14893: 'buffer', 14894: 'doula', 14895: 'miriam', 14896: 'prenatal', 14897: 'pérez', 14898: 'zoila', 14899: 'flamenco', 14900: 'furiously', 14901: 'gabriela', 14902: 'soundmaker', 14903: 'adele', 14904: 'hasinoff', 14905: 'problematic', 14906: 'responses', 14907: 'scandalous', 14908: 'sexting', 14909: 'violation', 14910: 'consistent', 14911: 'inundated', 14912: 'lara', 14913: 'sensationalist', 14914: 'setrakian', 14915: 'bail', 14916: 'debtors', 14917: 'dudani', 14918: 'punish', 14919: 'salil', 14920: 'tickets', 14921: 'unpaid', 14922: 'allays', 14923: 'anxieties', 14924: 'booch', 14925: 'spawns', 14926: 'unfeeling', 14927: 'dialogues', 14928: 'disruption', 14929: 'divisiveness', 14930: 'escalating', 14931: 'brittney', 14932: 'historically', 14933: 'algal', 14934: 'biodegradable', 14935: 'blooms', 14936: 'bot', 14937: 'generates', 14938: 'neutralize', 14939: 'precursor', 14940: 'rossiter', 14941: 'slicks', 14942: 'wayua', 14943: 'fare', 14944: 'males', 14945: 'portrayals', 14946: 'portrays', 14947: 'stacy', 14948: 'ani', 14949: 'lipstick', 14950: 'selfie', 14951: 'smelfie', 14952: 'swift', 14953: 'wedged', 14954: 'wonderings', 14955: 'crowdsource', 14956: 'geotag', 14957: 'kirschner', 14958: 'litterati', 14959: 'gleaned', 14960: 'immortalized', 14961: 'narayan', 14962: 'obituaries', 14963: 'scrambled', 14964: 'facility', 14965: 'goodbye', 14966: 'hull', 14967: 'kathy', 14968: 'terminally', 14969: 'highs', 14970: 'lows', 14971: 'pemberton', 14972: 'rollercoaster', 14973: 'carrie', 14974: 'ghosts', 14975: 'paranormal', 14976: 'warn', 14977: 'demonizing', 14978: 'exult', 14979: 'phelps', 14980: 'roper', 14981: 'successfully', 14982: 'clamber', 14983: 'gutsy', 14984: 'knees', 14985: 'paraglider', 14986: 'scrape', 14987: 'acclaimed', 14988: 'critically', 14989: 'jude', 14990: 'skew', 14991: 'buolamwini', 14992: 'hadn', 14993: 'tones', 14994: 'koenig', 14995: 'lachesism', 14996: 'latch', 14997: 'sonder', 14998: 'unarticulated', 14999: 'unknowable', 15000: 'caitlin', 15001: 'doughty', 15002: 'funeral', 15003: 'recomposting', 15004: 'catalog', 15005: 'nugent', 15006: 'numerous', 15007: 'interviewed', 15008: 'orenstein', 15009: 'orgasm', 15010: 'peggy', 15011: 'devote', 15012: 'evolves', 15013: 'galperin', 15014: 'karina', 15015: 'memorizing', 15016: 'clarinet', 15017: 'convergence', 15018: 'drums', 15019: 'grammy', 15020: 'roma', 15021: 'turceasca', 15022: 'consumerism', 15023: 'monoliths', 15024: 'reproductions', 15025: 'weinstock', 15026: 'michele', 15027: 'sullivan', 15028: 'bourdeaux', 15029: 'destroys', 15030: 'utilities', 15031: 'anybody', 15032: 'chalabi', 15033: 'ashton', 15034: 'cofer', 15035: 'disposable', 15036: 'landfill', 15037: 'packing', 15038: 'peanuts', 15039: 'styrofoam', 15040: 'hinde', 15041: 'immunofactors', 15042: 'katie', 15043: 'neurodevelopment', 15044: 'safeguards', 15045: 'tomatoes', 15046: 'botticelli', 15047: 'epigenetics', 15048: 'reprogram', 15049: 'szyf', 15050: 'adventurous', 15051: 'bryce', 15052: 'dessner', 15053: 'dulcimer', 15054: 'hypnotic', 15055: 'percussion', 15056: 'sō', 15057: 'toolkit', 15058: 'emi', 15059: 'emtithal', 15060: 'genocide', 15061: 'mahmoud', 15062: 'sorrow', 15063: 'consultant', 15064: 'excellence', 15065: 'helpful', 15066: 'learnings', 15067: 'carlson', 15068: 'gospel', 15069: 'gretchen', 15070: 'higginsen', 15071: 'op', 15072: 'vy', 15073: 'bouman', 15074: 'casts', 15075: 'sucking', 15076: 'ventures', 15077: 'bortnik', 15078: 'grooming', 15079: 'predation', 15080: 'sebastián', 15081: 'dismantle', 15082: 'implicit', 15083: 'residential', 15084: 'segregation', 15085: 'giorgia', 15086: 'lupi', 15087: 'nuance', 15088: 'reconnected', 15089: 'uncountable', 15090: 'ari', 15091: 'gains', 15092: 'wallach', 15093: 'jeopardize', 15094: 'aed', 15095: 'arrest', 15096: 'cardiac', 15097: 'chewbacca', 15098: 'jedi', 15099: 'shave', 15100: 'yoda', 15101: 'bai', 15102: 'hygienic', 15103: 'midwives', 15104: 'purse', 15105: 'zubaida', 15106: 'fairer', 15107: 'truer', 15108: 'bahá', 15109: 'hariri', 15110: 'illumination', 15111: 'iridescent', 15112: 'sacred', 15113: 'secular', 15114: 'siamak', 15115: 'í', 15116: 'spectrums', 15117: 'bedtime', 15118: 'coping', 15119: 'resulted', 15120: 'casarett', 15121: 'dispensary', 15122: 'marijuana', 15123: 'tired', 15124: 'stocks', 15125: 'boko', 15126: 'bringbackourgirls', 15127: 'busari', 15128: 'chibok', 15129: 'delaying', 15130: 'epitomized', 15131: 'haram', 15132: 'hoax', 15133: 'kidnapped', 15134: 'contaminated', 15135: 'dedicate', 15136: 'flint', 15137: 'michigan', 15138: 'currently', 15139: 'prevail', 15140: 'vatican', 15141: 'accidentally', 15142: 'serena', 15143: 'superstar', 15144: 'titles', 15145: 'genova', 15146: 'deliberate', 15147: 'deniers', 15148: 'distortion', 15149: 'lipstadt', 15150: 'relative', 15151: 'dastardly', 15152: 'galante', 15153: 'geopolitics', 15154: 'vernacular', 15155: 'abouelnaga', 15156: 'karim', 15157: 'slump', 15158: 'nurses', 15159: 'timescales', 15160: 'drexler', 15161: 'décima', 15162: 'judío', 15163: 'milonga', 15164: 'moro', 15165: 'groans', 15166: 'lowers', 15167: 'sonically', 15168: 'stafford', 15169: 'arc', 15170: 'peddle', 15171: 'rukh', 15172: 'compatible', 15173: 'takeover', 15174: 'kalanithi', 15175: 'deadlocked', 15176: 'dividends', 15177: 'domino', 15178: 'equitable', 15179: 'halstead', 15180: 'insurmountable', 15181: 'clinician', 15182: 'deprive', 15183: 'snapchat', 15184: 'troxel', 15185: 'dixon', 15186: 'garrison', 15187: 'girltrek', 15188: 'healthiest', 15189: 'lacing', 15190: 'prioritize', 15191: 'bregman', 15192: 'guaranteed', 15193: 'rutger', 15194: 'homebound', 15195: 'sitawa', 15196: 'wafula', 15197: '14th', 15198: '2017', 15199: 'ambrogio', 15200: 'lorenzetti', 15201: 'striking', 15202: 'fedoroff', 15203: 'multiplying', 15204: 'proposing', 15205: 'constructing', 15206: 'kulash', 15207: 'drastic', 15208: 'impacting', 15209: 'mcgrath', 15210: 'triona', 15211: '1997', 15212: 'chess', 15213: 'garry', 15214: 'grandest', 15215: 'kasparov', 15216: 'courts', 15217: 'discard', 15218: 'irrelevance', 15219: 'marlon', 15220: 'mentorship', 15221: 'penpal', 15222: 'peterson', 15223: 'twenties', 15224: 'modernize', 15225: 'panjabi', 15226: 'raj', 15227: 'ballads', 15228: 'lonesome', 15229: 'pours', 15230: 'tharp', 15231: 'waterboy', 15232: 'bierut', 15233: 'embarking', 15234: 'librarians', 15235: 'libraries', 15236: 'readers', 15237: 'lynch', 15238: 'cropping', 15239: 'exteriors', 15240: 'guangzhou', 15241: 'houston', 15242: 'shiny', 15243: 'carina', 15244: 'morillo', 15245: 'mehdi', 15246: 'ordikhani', 15247: 'seyedlar', 15248: '61', 15249: 'affirming', 15250: 'characteristic', 15251: 'lamott', 15252: 'nuances', 15253: 'browning', 15254: 'leans', 15255: 'deceased', 15256: 'decomposition', 15257: 'embalmed', 15258: 'katrina', 15259: 'recomposition', 15260: 'spade', 15261: 'elasticum', 15262: 'establishing', 15263: 'knockout', 15264: 'mandates', 15265: 'midnight', 15266: 'pseudoxanthoma', 15267: 'pxe', 15268: 'awoo', 15269: 'betta', 15270: 'electro', 15271: 'lemme', 15272: 'sofi', 15273: 'tukker', 15274: 'upbeat', 15275: 'anab', 15276: 'determines', 15277: 'jain', 15278: 'patrol', 15279: 'miliband', 15280: '105', 15281: 'acutely', 15282: 'inhibits', 15283: 'practically', 15284: 'shoe', 15285: 'sinéad', 15286: 'sizes', 15287: 'cheyenne', 15288: 'cochrane', 15289: 'hairstyle', 15290: 'straightening', 15291: 'texture', 15292: 'accredited', 15293: 'jordanian', 15294: 'luma', 15295: 'mufleh', 15296: 'centrifuge', 15297: 'cents', 15298: 'paperfuge', 15299: 'tracker', 15300: 'electrifying', 15301: 'infamously', 15302: 'midway', 15303: 'ramos', 15304: 'bulldoze', 15305: 'carve', 15306: 'deltas', 15307: 'deposited', 15308: 'hajek', 15309: 'sustainably', 15310: 'tablet', 15311: 'marvel', 15312: 'demystifies', 15313: 'oracles', 15314: 'pitfalls', 15315: 'thick', 15316: 'tricia', 15317: 'unquantifiable', 15318: 'constitution', 15319: 'constitutional', 15320: 'factionalism', 15321: 'madison', 15322: 'parties', 15323: 'partisanship', 15324: 'ties', 15325: 'correction', 15326: 'entitled', 15327: 'hates', 15328: 'impairment', 15329: 'partially', 15330: 'prefers', 15331: 'cohousing', 15332: 'recurrence', 15333: 'autoplays', 15334: 'handful', 15335: 'notifications', 15336: 'snapstreaks', 15337: 'kidneys', 15338: 'physiologist', 15339: 'pluznick', 15340: 'gallop', 15341: 'handles', 15342: 'raibert', 15343: 'spotmini', 15344: 'upright', 15345: 'hals', 15346: 'kaphar', 15347: 'replica', 15348: 'titus', 15349: 'workshop', 15350: 'wrestle', 15351: 'betancourt', 15352: 'farc', 15353: 'perpetual', 15354: 'ravaged', 15355: 'sustained', 15356: 'elegantly', 15357: 'françoise', 15358: 'mascot', 15359: 'mouly', 15360: 'retrospective', 15361: 'riff', 15362: 'sensibility', 15363: 'tilley', 15364: 'redmon', 15365: 'yolo', 15366: 'zebras', 15367: 'augments', 15368: 'humanistic', 15369: 'replacing', 15370: 'siri', 15371: 'turbocharging', 15372: 'anjan', 15373: 'chatterjee', 15374: 'configurations', 15375: 'excite', 15376: 'acceptable', 15377: 'ageism', 15378: 'applewhite', 15379: 'cured', 15380: 'dread', 15381: 'august', 15382: 'baron', 15383: 'chases', 15384: 'corona', 15385: 'eclipse', 15386: 'owe', 15387: 'raced', 15388: 'spectacle', 15389: 'umbraphile', 15390: 'boogz', 15391: 'buck', 15392: 'lil', 15393: 'thy', 15394: 'tormented', 15395: 'adversarial', 15396: 'alchemists', 15397: 'behold', 15398: 'cheeks', 15399: 'disinfect', 15400: 'exterminate', 15401: 'madden', 15402: 'sanitize', 15403: 'sofa', 15404: 'autopilot', 15405: 'laundry', 15406: 'manoush', 15407: 'spacing', 15408: 'zomorodi', 15409: 'innocent', 15410: 'wrongfully', 15411: 'conte', 15412: 'patreon', 15413: 'payment', 15414: 'calthorpe', 15415: 'connectedness', 15416: 'albuquerque', 15417: 'citywide', 15418: 'centenarians', 15419: 'disposition', 15420: 'gluten', 15421: 'islanders', 15422: 'mainland', 15423: 'sardinia', 15424: 'sunny', 15425: 'anika', 15426: 'paulson', 15427: 'agendas', 15428: 'cathy', 15429: 'dilemmas', 15430: 'iyad', 15431: 'offs', 15432: 'pedestrians', 15433: 'rahwan', 15434: 'camino', 15435: 'compostela', 15436: 'hike', 15437: 'niece', 15438: 'santiago', 15439: 'whyte', 15440: 'copied', 15441: 'ems', 15442: 'emulate', 15443: 'retire', 15444: 'ruled', 15445: 'bertozzi', 15446: 'coated', 15447: 'detects', 15448: 'sugars', 15449: 'laolu', 15450: 'mythology', 15451: 'ori', 15452: 'senbanjo', 15453: 'enjoying', 15454: 'fruits', 15455: 'niki', 15456: 'okuk', 15457: 'organize', 15458: 'resiliency', 15459: 'afrobubblegum', 15460: 'introducing', 15461: 'kahiu', 15462: 'unserious', 15463: 'wanuri', 15464: 'donors', 15465: 'orphanage', 15466: 'separated', 15467: 'tara', 15468: 'winkler', 15469: 'entrance', 15470: 'matriculating', 15471: 'todai', 15472: 'counsel', 15473: 'granick', 15474: 'antiquities', 15475: 'coughenour', 15476: 'photogrammetry', 15477: 'reconstructions', 15478: 'safeguard', 15479: 'belonging', 15480: 'bhatt', 15481: 'chetan', 15482: 'daan', 15483: 'eindhoven', 15484: 'reinterpreted', 15485: 'roosegaarde', 15486: 'smog', 15487: 'starry', 15488: 'countering', 15489: 'deliberately', 15490: 'radicalized', 15491: 'saltman', 15492: 'sociopaths', 15493: 'algorithmic', 15494: 'coworkers', 15495: 'dalio', 15496: 'meritocracy', 15497: 'aerocene', 15498: 'playgrounds', 15499: 'saraceno', 15500: 'terrestrial', 15501: 'tomás', 15502: 'expansive', 15503: 'adegbeye', 15504: 'coastal', 15505: 'compels', 15506: 'dubai', 15507: 'grabs', 15508: 'lagos', 15509: 'megacity', 15510: 'olutimehin', 15511: 'arledge', 15512: 'chose', 15513: 'hostility', 15514: 'lauran', 15515: 'quattromani', 15516: 'esfahani', 15517: 'slippery', 15518: 'wagner', 15519: 'cultivation', 15520: 'fonio', 15521: 'nutritious', 15522: 'pierre', 15523: 'quinoa', 15524: 'senegal', 15525: 'thiam', 15526: 'augie', 15527: 'disappeared', 15528: 'logistics', 15529: 'picado', 15530: 'protectionism', 15531: 'buttered', 15532: 'czerski', 15533: 'fizzy', 15534: 'raisins', 15535: 'dressed', 15536: 'mzesane', 15537: 'sethembile', 15538: 'statues', 15539: 'doppelgangers', 15540: 'intake', 15541: 'jun', 15542: 'fe', 15543: 'locus', 15544: 'mi', 15545: 'olu', 15546: 'ta', 15547: 'wo', 15548: '̀', 15549: '̣́', 15550: 'absence', 15551: 'deportation', 15552: 'deported', 15553: 'geraldino', 15554: 'outward', 15555: 'picks', 15556: 'removal', 15557: 'ripples', 15558: 'wreaks', 15559: 'arid', 15560: 'armando', 15561: 'astrobiologist', 15562: 'atacama', 15563: 'azua', 15564: 'bustos', 15565: 'rainfall', 15566: 'constellations', 15567: 'displayed', 15568: 'nagpal', 15569: 'radhika', 15570: 'disagrees', 15571: 'lucius25', 15572: 'lurker', 15573: 'supremacist', 15574: 'karoliina', 15575: 'korppoo', 15576: 'skylines', 15577: 'undeniable'}\n"
     ]
    }
   ],
   "source": [
    "print(corpora_dict.id2token)"
   ]
  },
  {
   "cell_type": "code",
   "execution_count": 17,
   "metadata": {
    "ExecuteTime": {
     "end_time": "2023-11-30T18:38:14.321919Z",
     "start_time": "2023-11-30T18:38:14.314562Z"
    },
    "_uuid": "2f9059cb81d72f448b89772835cfe6b869ee0fd4",
    "tags": []
   },
   "outputs": [
    {
     "data": {
      "text/plain": [
       "15578"
      ]
     },
     "execution_count": 17,
     "metadata": {},
     "output_type": "execute_result"
    }
   ],
   "source": [
    "len(corpora_dict)"
   ]
  },
  {
   "cell_type": "code",
   "execution_count": 20,
   "metadata": {
    "ExecuteTime": {
     "end_time": "2023-11-30T18:38:16.850039Z",
     "start_time": "2023-11-30T18:38:16.831301Z"
    },
    "_uuid": "4bc3c398f27d20d355fe96ef7d5824d6d5c62f86",
    "tags": []
   },
   "outputs": [
    {
     "name": "stdout",
     "output_type": "stream",
     "text": [
      "[(45, 1), (74, 1), (903, 1), (3286, 1), (3753, 1), (5202, 1), (9495, 1)]\n",
      "in of save ! trees ecology sake "
     ]
    }
   ],
   "source": [
    "new_doc = \"Save trees in sake of ecology!\"\n",
    "new_vec = corpora_dict.doc2bow(tokenizer.tokenize(new_doc.lower()))\n",
    "print(new_vec)\n",
    "\n",
    "for word_id, _ in new_vec:\n",
    "    print(corpora_dict.id2token[word_id], end=' ')"
   ]
  },
  {
   "cell_type": "code",
   "execution_count": 21,
   "metadata": {
    "ExecuteTime": {
     "end_time": "2023-11-30T18:38:18.384736Z",
     "start_time": "2023-11-30T18:38:18.265351Z"
    },
    "_uuid": "cb52d4c599b817a6df74284cd61a2bf6a18dde45",
    "tags": []
   },
   "outputs": [],
   "source": [
    "corpus = [corpora_dict.doc2bow(text) for text in descriptions]"
   ]
  },
  {
   "cell_type": "code",
   "execution_count": 22,
   "metadata": {
    "ExecuteTime": {
     "end_time": "2023-11-30T18:38:18.990027Z",
     "start_time": "2023-11-30T18:38:18.972018Z"
    },
    "_uuid": "04a98c8019149a5c0e1fac589c27774117fa4541",
    "tags": []
   },
   "outputs": [
    {
     "name": "stdout",
     "output_type": "stream",
     "text": [
      "[(0, 1), (1, 1), (2, 1), (3, 2), (4, 1), (5, 1), (6, 1), (7, 1), (8, 1), (9, 1), (10, 1), (11, 1), (12, 1), (13, 1), (14, 1), (15, 1), (16, 1), (17, 1), (18, 1), (19, 1), (20, 1), (21, 1), (22, 1)]\n"
     ]
    }
   ],
   "source": [
    "print(corpus[0])"
   ]
  },
  {
   "cell_type": "markdown",
   "metadata": {
    "_uuid": "1c0abe0e03103f0f17b65b6d229a2e27ab575d07"
   },
   "source": [
    "## BoW search machine"
   ]
  },
  {
   "cell_type": "code",
   "execution_count": 23,
   "metadata": {
    "ExecuteTime": {
     "end_time": "2023-11-30T18:38:20.839641Z",
     "start_time": "2023-11-30T18:38:20.827582Z"
    },
    "_uuid": "c0c80314152c964ca81bd170fb12a3579b62441f",
    "tags": []
   },
   "outputs": [],
   "source": [
    "from gensim import similarities"
   ]
  },
  {
   "cell_type": "code",
   "execution_count": 24,
   "metadata": {
    "ExecuteTime": {
     "end_time": "2023-11-30T18:38:21.741123Z",
     "start_time": "2023-11-30T18:38:21.599652Z"
    },
    "_uuid": "d787e23138e532934ce78ca4d1ea5e7c9fd92b6c",
    "tags": []
   },
   "outputs": [],
   "source": [
    "index_bow = similarities.SparseMatrixSimilarity(corpus, num_features=len(corpora_dict))"
   ]
  },
  {
   "cell_type": "code",
   "execution_count": 25,
   "metadata": {
    "ExecuteTime": {
     "end_time": "2023-11-30T18:38:22.553886Z",
     "start_time": "2023-11-30T18:38:22.534939Z"
    },
    "_uuid": "12d2a6afec55f9f77099e795a54a65b7f9dcc897",
    "tags": []
   },
   "outputs": [],
   "source": [
    "def search(index, query, top_n=5, prints=False):\n",
    "    \"\"\"\n",
    "    This function searches the most similar texts to the query.\n",
    "        :param index: gensim.similarities object\n",
    "        :param query: a string\n",
    "        :param top_n: how many variants it returns\n",
    "        :param prints: if True returns the results, otherwise prints the results\n",
    "        :returns: a list of tuples (matched_document_index, similarity_value)\n",
    "    \"\"\"\n",
    "    # getting a BoW vector\n",
    "    bow_vec = corpora_dict.doc2bow(query.lower().split())\n",
    "    similarities = index[bow_vec]  # get similarities between the query and all index documents\n",
    "    similarities = [(x, i) for i, x in enumerate(similarities)]\n",
    "    similarities.sort(key=lambda elem: -elem[0])  # sorting by similarity_value in decreasing order\n",
    "    res = []\n",
    "    if prints:\n",
    "        print(f\"{query}\\n\")\n",
    "    for result in similarities[:top_n]:\n",
    "        if prints:\n",
    "            print(f\"{data['description'][result[1]]} \\t {result[0]}\\n\")\n",
    "        else:\n",
    "            res.append((result[1], result[0]))\n",
    "    if not prints:\n",
    "        return res"
   ]
  },
  {
   "cell_type": "code",
   "execution_count": 26,
   "metadata": {
    "ExecuteTime": {
     "end_time": "2023-11-30T18:38:23.382162Z",
     "start_time": "2023-11-30T18:38:23.347396Z"
    },
    "_uuid": "ef188d0a63b33943fa35101a3b607db151eb7b76",
    "tags": []
   },
   "outputs": [
    {
     "name": "stdout",
     "output_type": "stream",
     "text": [
      "education system\n",
      "\n",
      "Sir Ken Robinson makes an entertaining and profoundly moving case for creating an education system that nurtures (rather than undermines) creativity. \t 0.2773500978946686\n",
      "\n",
      "Why, why, why does our education system look so similar to the way it did 50 years ago? Millions of students were failing then, as they are now -- and it’s because we’re clinging to a business model that clearly doesn’t work. Education advocate Geoffrey Canada dares the system to look at the data, think about the customers and make systematic shifts in order to help greater numbers of kids excel.  \t 0.23408228158950806\n",
      "\n",
      "Britta Riley wanted to grow her own food (in her tiny apartment). So she and her friends developed a system for growing plants in discarded plastic bottles -- researching, testing and tweaking the system using social media, trying many variations at once and quickly arriving at the optimal system. Call it distributed DIY. And the results? Delicious. \t 0.20507577061653137\n",
      "\n",
      "In 2006, open-learning visionary Richard Baraniuk explains the vision behind Connexions (now called OpenStax), an open-source, online education system. It cuts out the textbook, allowing teachers to share and modify course materials freely, anywhere in the world. \t 0.1632993072271347\n",
      "\n",
      "Bennington president Liz Coleman delivers a call-to-arms for radical reform in higher education. Bucking the trend to push students toward increasingly narrow areas of study, she proposes a truly cross-disciplinary education -- one that dynamically combines all areas of study to address the great problems of our day. \t 0.15161961317062378\n",
      "\n"
     ]
    }
   ],
   "source": [
    "search(index_bow, \"education system\", prints=True)"
   ]
  },
  {
   "cell_type": "code",
   "execution_count": 27,
   "metadata": {
    "ExecuteTime": {
     "end_time": "2023-11-30T18:38:23.899252Z",
     "start_time": "2023-11-30T18:38:23.890519Z"
    },
    "_uuid": "14a68e281042688475858584c62c0ad5f0a955b2",
    "tags": []
   },
   "outputs": [
    {
     "name": "stdout",
     "output_type": "stream",
     "text": [
      "healthy food\n",
      "\n",
      "Josette Sheeran, the head of the UN's World Food Program, talks about why, in a world with enough food for everyone, people still go hungry, still die of starvation, still use food as a weapon of war. Her vision: \"Food is one issue that cannot be solved person by person. We have to stand together.\" \t 0.24618297815322876\n",
      "\n",
      "Economist Eleni Gabre-Madhin outlines her ambitious vision to found the first commodities market in Ethiopia. Her plan would create wealth, minimize risk for farmers and turn the world's largest recipient of food aid into a regional food basket. \t 0.19425715506076813\n",
      "\n",
      "What if we could grow delicious, nutrient-dense food, indoors anywhere in the world? Caleb Harper, director of the Open Agriculture Initiative at the MIT Media Lab, wants to change the food system by connecting growers with technology. Get to know Harper's \"food computers\" and catch a glimpse of what the future of farming might look like. \t 0.1912730187177658\n",
      "\n",
      "Homaro Cantu and Ben Roche come from Moto, a Chicago restaurant that plays with new ways to cook and eat food. But beyond the fun and flavor-tripping, there's a serious intent: Can we use new food technology for good? \t 0.17960529029369354\n",
      "\n",
      "Western countries throw out nearly half of their food, not because it’s inedible -- but because it doesn’t look appealing. Tristram Stuart delves into the shocking data of wasted food, calling for a more responsible use of global resources. \t 0.17541159689426422\n",
      "\n"
     ]
    }
   ],
   "source": [
    "search(index_bow, \"healthy food\", prints=True)"
   ]
  },
  {
   "cell_type": "code",
   "execution_count": 28,
   "metadata": {
    "ExecuteTime": {
     "end_time": "2023-11-30T18:38:26.201605Z",
     "start_time": "2023-11-30T18:38:26.175003Z"
    },
    "_uuid": "c5a0b324bc85e0fd779b0f83004c8784a6dea1a4",
    "tags": []
   },
   "outputs": [
    {
     "name": "stdout",
     "output_type": "stream",
     "text": [
      "Majora Carter: Greening the ghetto\n",
      "\n",
      "Gerard Ryle led the international team that divulged the Panama Papers, the 11.5 million leaked documents from 40 years of activity of the Panamanian law firm Mossack Fonseca that have offered an unprecedented glimpse into the scope and methods of the secretive world of offshore finance. Hear the story behind the biggest collaborative journalism project in history. \t 0.4815434217453003\n",
      "\n",
      "Why is there something rather than nothing? Why does so much interesting stuff exist in the universe? Particle physicist Harry Cliff works on the Large Hadron Collider at CERN, and he has some potentially bad news for people who seek answers to these questions. Despite the best efforts of scientists (and the help of the biggest machine on the planet), we may never be able to explain all the weird features of nature. Is this the end of physics? Learn more in this fascinating talk about the latest research into the secret structure of the universe. \t 0.4796227812767029\n",
      "\n",
      "Does science ruin the magic of life? In this grumpy but charming monologue, Robin Ince makes the argument against. The more we learn about the astonishing behavior of the universe -- the more we stand in awe. \t 0.4714045226573944\n",
      "\n",
      "Even as the Deepwater Horizon tragedy unfolded, Carl Safina took the stage at TEDxOilSpill to share what the facts were known at the time. In a blood-boiling cross-examination, he suggests that the consequences will stretch far beyond the Gulf -- and many so-called solutions are making the situation worse. \t 0.4656330645084381\n",
      "\n",
      "The second deadliest day in the history of Mount Everest climbs happened in 1996 -- and Ken Kamler was the only doctor on the mountain that day. He shares the incredible story of the climbers' battle to save lives in extreme conditions, and uses brain imaging technology to map the medical miracle of one man who survived roughly 36 hours buried in the snow. \t 0.46188023686408997\n",
      "\n"
     ]
    }
   ],
   "source": [
    "search(index_bow, \"Majora Carter: Greening the ghetto\", prints=True)"
   ]
  },
  {
   "cell_type": "code",
   "execution_count": 29,
   "metadata": {
    "ExecuteTime": {
     "end_time": "2023-11-30T18:54:11.463792Z",
     "start_time": "2023-11-30T18:54:01.788082Z"
    },
    "tags": []
   },
   "outputs": [
    {
     "name": "stdin",
     "output_type": "stream",
     "text": [
      "Enter a search term:  commodities market\n"
     ]
    },
    {
     "name": "stdout",
     "output_type": "stream",
     "text": [
      "commodities market\n",
      "\n",
      "Economist Eleni Gabre-Madhin outlines her ambitious vision to found the first commodities market in Ethiopia. Her plan would create wealth, minimize risk for farmers and turn the world's largest recipient of food aid into a regional food basket. \t 0.19425715506076813\n",
      "\n",
      "Josh Luber is a \"sneakerhead,\" a collector of rare or limited sneakers. With their insatiable appetite for exclusive sneakers, these tastemakers drive marketing and create hype for the brands they love, specifically Nike, which absolutely dominates the multi-billion dollar secondary market for sneakers. Luber's company, Campless, collects data about this market and analyzes it for collectors and investors. In this talk, he takes us on a journey into this complicated, unregulated market and imagines how it could be a model for a stock market for commerce. \t 0.1792442798614502\n",
      "\n",
      "In this short, image-packed talk, Marisa Fick-Jordan talks about how a village of traditional Zulu wire weavers built a worldwide market for their dazzling work. \t 0.11470786482095718\n",
      "\n",
      "In the past three decades, says Michael Sandel, the US has drifted from a market economy to a market society; it's fair to say that an American's experience of shared civic life depends on how much money they have. (Three key examples: access to education, access to justice, political influence.) In a talk and audience discussion, Sandel asks us to think honestly on this question: In our current democracy, is too much for sale? \t 0.10690449923276901\n",
      "\n",
      "With streams and rivers drying up because of over-usage, Rob Harmon talks about a clever market mechanism to bring back the water. Farmers and beer companies find their fates intertwined in the century-old tale of Prickly Pear Creek. \t 0.09534624963998795\n",
      "\n"
     ]
    }
   ],
   "source": [
    "user_input = input(\"Enter a search term: \")\n",
    "search(index_bow,user_input, prints=True)"
   ]
  },
  {
   "cell_type": "markdown",
   "metadata": {
    "_uuid": "d4bca77a04c3c963406059fcd87792fc9606beec"
   },
   "source": [
    "On the next step, we will make more 'smart' model, TF-IDF model. "
   ]
  },
  {
   "cell_type": "markdown",
   "metadata": {
    "_uuid": "f802fb8bd95a2419071c012b466d72b21b9b5b2d"
   },
   "source": [
    "## TF-IDF model"
   ]
  },
  {
   "cell_type": "code",
   "execution_count": 30,
   "metadata": {
    "ExecuteTime": {
     "end_time": "2023-11-30T18:38:28.078156Z",
     "start_time": "2023-11-30T18:38:28.065190Z"
    },
    "_uuid": "48c4d368fb6f29b753b05c30749c99f3a2ae2815",
    "tags": []
   },
   "outputs": [],
   "source": [
    "from gensim.models import TfidfModel"
   ]
  },
  {
   "cell_type": "code",
   "execution_count": 31,
   "metadata": {
    "ExecuteTime": {
     "end_time": "2023-11-30T18:38:28.717252Z",
     "start_time": "2023-11-30T18:38:28.650171Z"
    },
    "_uuid": "7f1cd55499a22e1dc52dde0e613bed88c0301e25",
    "tags": []
   },
   "outputs": [],
   "source": [
    "model_tfidf = TfidfModel(corpus)"
   ]
  },
  {
   "cell_type": "code",
   "execution_count": 32,
   "metadata": {
    "ExecuteTime": {
     "end_time": "2023-11-30T18:38:29.169563Z",
     "start_time": "2023-11-30T18:38:29.162881Z"
    },
    "_uuid": "75187c2381ff2c1da5c779f048800144b8d18040",
    "tags": []
   },
   "outputs": [],
   "source": [
    "vector = model_tfidf[corpus[0]]"
   ]
  },
  {
   "cell_type": "code",
   "execution_count": 33,
   "metadata": {
    "ExecuteTime": {
     "end_time": "2023-11-30T18:38:29.700123Z",
     "start_time": "2023-11-30T18:38:29.692051Z"
    },
    "_uuid": "aa7b016726f470cf582434c83f823d6048a6603c",
    "tags": []
   },
   "outputs": [
    {
     "name": "stdout",
     "output_type": "stream",
     "text": [
      "[(0, 0.09299275762489155), (1, 0.12836378471303087), (2, 0.0008798968518018828), (3, 0.15022705068092762), (4, 0.007414799937318232), (5, 0.16199524894912434), (6, 0.19094991000449393), (7, 0.20857662068134003), (8, 0.19535287961090125), (9, 0.24291182356031873), (10, 0.04847664877446286), (11, 0.27895934998103994), (12, 0.13463955775566674), (13, 0.1728352297760312), (14, 0.37099656456126073), (15, 0.3054279299315049), (16, 0.21012750624544083), (17, 0.27895934998103994), (18, 0.286250333690558), (19, 0.1773431889305629), (20, 0.12383038981063735), (21, 0.038036314311951196), (22, 0.37099656456126073)]\n"
     ]
    }
   ],
   "source": [
    "print(vector)"
   ]
  },
  {
   "cell_type": "code",
   "execution_count": 34,
   "metadata": {
    "ExecuteTime": {
     "end_time": "2023-11-30T18:38:30.602771Z",
     "start_time": "2023-11-30T18:38:30.590366Z"
    },
    "_uuid": "cd96856c23f5617b89bec22e3d049e802420e03e",
    "tags": []
   },
   "outputs": [],
   "source": [
    "corpus_tfidf = model_tfidf[corpus]"
   ]
  },
  {
   "cell_type": "code",
   "execution_count": 35,
   "metadata": {
    "ExecuteTime": {
     "end_time": "2023-11-30T18:38:31.446162Z",
     "start_time": "2023-11-30T18:38:31.113010Z"
    },
    "_uuid": "7c737923358fefe1fd63bc2de8a1fa777c8957cd",
    "tags": []
   },
   "outputs": [],
   "source": [
    "index_tfidf = similarities.SparseMatrixSimilarity(corpus_tfidf, num_features=len(corpora_dict))"
   ]
  },
  {
   "cell_type": "code",
   "execution_count": 36,
   "metadata": {
    "ExecuteTime": {
     "end_time": "2023-11-30T18:38:31.974541Z",
     "start_time": "2023-11-30T18:38:31.959581Z"
    },
    "_uuid": "3e3d5b0fcf376c93079dd2a56d29fb785b7885be",
    "tags": []
   },
   "outputs": [
    {
     "name": "stdout",
     "output_type": "stream",
     "text": [
      "Majora Carter: Greening the ghetto\n",
      "\n",
      "The future of green is local. Majora Carter tells three inspiring stories of people who are saving their own communities while saving the planet. \t 0.2743656039237976\n",
      "\n",
      "In an emotionally charged talk, MacArthur-winning activist Majora Carter details her fight for environmental justice in the South Bronx -- and shows how minority neighborhoods suffer most from flawed urban policy. \t 0.20010948181152344\n",
      "\n",
      "Why is there something rather than nothing? Why does so much interesting stuff exist in the universe? Particle physicist Harry Cliff works on the Large Hadron Collider at CERN, and he has some potentially bad news for people who seek answers to these questions. Despite the best efforts of scientists (and the help of the biggest machine on the planet), we may never be able to explain all the weird features of nature. Is this the end of physics? Learn more in this fascinating talk about the latest research into the secret structure of the universe. \t 0.02896978333592415\n",
      "\n",
      "Americanization and globalization have basically been the same thing for the last several generations. But the US's view of the world -- and the world's view of the US -- is changing. In a fast-paced tour of the current state of international politics, Ian Bremmer discusses the challenges of a world where no single country or alliance can meet the challenges of global leadership and asks if the US is ready to lead by example, not by force. \t 0.028755271807312965\n",
      "\n",
      "Taryn Simon captures the essence of vast, generation-spanning stories by photographing the descendants of people at the center of the narrative. In this riveting talk she shows a stream of these stories from all over the world, investigating the nature of genealogy and the way our lives are shaped by the interplay of many different forces. \t 0.026013506576418877\n",
      "\n"
     ]
    }
   ],
   "source": [
    "search(index_tfidf, \"Majora Carter: Greening the ghetto\", prints=True)"
   ]
  },
  {
   "cell_type": "markdown",
   "metadata": {
    "_uuid": "d07d7c7e4a17ce3287ea40e57d28076e3aa9d5bb"
   },
   "source": [
    "Much better! Now that we have Majora Carter talks in the top of the results. How many talks did she have?"
   ]
  },
  {
   "cell_type": "code",
   "execution_count": 37,
   "metadata": {
    "ExecuteTime": {
     "end_time": "2023-11-30T18:38:33.255175Z",
     "start_time": "2023-11-30T18:38:33.233201Z"
    },
    "_uuid": "4f1082afd9d9f9b4f82bef3c1f9198f0ed2a92b8",
    "tags": []
   },
   "outputs": [
    {
     "data": {
      "text/html": [
       "<div>\n",
       "<style scoped>\n",
       "    .dataframe tbody tr th:only-of-type {\n",
       "        vertical-align: middle;\n",
       "    }\n",
       "\n",
       "    .dataframe tbody tr th {\n",
       "        vertical-align: top;\n",
       "    }\n",
       "\n",
       "    .dataframe thead th {\n",
       "        text-align: right;\n",
       "    }\n",
       "</style>\n",
       "<table border=\"1\" class=\"dataframe\">\n",
       "  <thead>\n",
       "    <tr style=\"text-align: right;\">\n",
       "      <th></th>\n",
       "      <th>description</th>\n",
       "      <th>main_speaker</th>\n",
       "      <th>name</th>\n",
       "    </tr>\n",
       "  </thead>\n",
       "  <tbody>\n",
       "    <tr>\n",
       "      <th>3</th>\n",
       "      <td>In an emotionally charged talk, MacArthur-winn...</td>\n",
       "      <td>Majora Carter</td>\n",
       "      <td>Majora Carter: Greening the ghetto</td>\n",
       "    </tr>\n",
       "    <tr>\n",
       "      <th>836</th>\n",
       "      <td>The future of green is local. Majora Carter te...</td>\n",
       "      <td>Majora Carter</td>\n",
       "      <td>Majora Carter: 3 stories of local eco-entrepre...</td>\n",
       "    </tr>\n",
       "  </tbody>\n",
       "</table>\n",
       "</div>"
      ],
      "text/plain": [
       "                                           description   main_speaker  \\\n",
       "3    In an emotionally charged talk, MacArthur-winn...  Majora Carter   \n",
       "836  The future of green is local. Majora Carter te...  Majora Carter   \n",
       "\n",
       "                                                  name  \n",
       "3                   Majora Carter: Greening the ghetto  \n",
       "836  Majora Carter: 3 stories of local eco-entrepre...  "
      ]
     },
     "execution_count": 37,
     "metadata": {},
     "output_type": "execute_result"
    }
   ],
   "source": [
    "data[data[\"main_speaker\"] == \"Majora Carter\"]"
   ]
  },
  {
   "cell_type": "markdown",
   "metadata": {
    "_uuid": "3adf22c12c7157d4455886922179dea327fa4f66"
   },
   "source": [
    "Now, it's time to use dense vectors instead of sparse ones."
   ]
  },
  {
   "cell_type": "markdown",
   "metadata": {
    "_uuid": "5c5269d7be3717876d7bee207c127eb5ad94bf93"
   },
   "source": [
    "## Doing SVD / LSA with your own hands\n",
    "\n",
    "This approach has a lot of names but it's main idea is quite simple: we try to approximate out source matrix by matrix of a lower rank. In this task, we will use original BoW matrix."
   ]
  },
  {
   "cell_type": "code",
   "execution_count": 38,
   "metadata": {
    "ExecuteTime": {
     "end_time": "2023-11-30T18:38:35.376413Z",
     "start_time": "2023-11-30T18:38:35.369406Z"
    },
    "_uuid": "b50f1c84f9c13475c14ecfef5dadc7f4a855b9dd",
    "tags": []
   },
   "outputs": [],
   "source": [
    "from scipy.sparse import coo_matrix"
   ]
  },
  {
   "cell_type": "code",
   "execution_count": 39,
   "metadata": {
    "ExecuteTime": {
     "end_time": "2023-11-30T18:38:36.143414Z",
     "start_time": "2023-11-30T18:38:35.993325Z"
    },
    "_uuid": "13e0ec70ac07e68b6a6ea00bcba15b4960175b10",
    "tags": []
   },
   "outputs": [],
   "source": [
    "i_inds = []\n",
    "j_inds = []\n",
    "data_ij_values = []\n",
    "\n",
    "for i_ind, sparse_doc in enumerate(corpus):\n",
    "    for j_ind, data_ij in sparse_doc:\n",
    "        i_inds.append(i_ind)\n",
    "        j_inds.append(j_ind)\n",
    "        data_ij_values.append(data_ij)\n",
    "sparse_corpus = coo_matrix((data_ij_values, (i_inds, j_inds)))\n",
    "full_corpus = sparse_corpus.toarray()"
   ]
  },
  {
   "cell_type": "markdown",
   "metadata": {
    "_uuid": "7a3c2c318ad1bcefafb3f2fe69332620153fa042"
   },
   "source": [
    "sparse_corpus and full_corpus are matrices with sizes $N_{documents} \\times V$ where $V = len(vocabulary)$"
   ]
  },
  {
   "cell_type": "code",
   "execution_count": 40,
   "metadata": {
    "ExecuteTime": {
     "end_time": "2023-11-30T18:38:37.158306Z",
     "start_time": "2023-11-30T18:38:37.152321Z"
    },
    "_uuid": "2fd42af241411955891727a92b65d7408e2554b4",
    "tags": []
   },
   "outputs": [
    {
     "data": {
      "text/plain": [
       "<2550x15578 sparse matrix of type '<class 'numpy.int64'>'\n",
       "\twith 125289 stored elements in COOrdinate format>"
      ]
     },
     "execution_count": 40,
     "metadata": {},
     "output_type": "execute_result"
    }
   ],
   "source": [
    "sparse_corpus"
   ]
  },
  {
   "cell_type": "code",
   "execution_count": 41,
   "metadata": {
    "ExecuteTime": {
     "end_time": "2023-11-30T18:38:37.702013Z",
     "start_time": "2023-11-30T18:38:37.692928Z"
    },
    "_uuid": "86c76fbe20a51ad8dd23fe116af1ede94c2e2ab4",
    "tags": []
   },
   "outputs": [
    {
     "data": {
      "text/plain": [
       "array([[1, 1, 1, ..., 0, 0, 0],\n",
       "       [0, 0, 1, ..., 0, 0, 0],\n",
       "       [0, 0, 2, ..., 0, 0, 0],\n",
       "       ...,\n",
       "       [0, 0, 2, ..., 0, 0, 0],\n",
       "       [0, 0, 5, ..., 0, 0, 0],\n",
       "       [0, 0, 3, ..., 1, 1, 1]])"
      ]
     },
     "execution_count": 41,
     "metadata": {},
     "output_type": "execute_result"
    }
   ],
   "source": [
    "full_corpus"
   ]
  },
  {
   "cell_type": "markdown",
   "metadata": {
    "_uuid": "9e16a6f6e0cf54f1fa157079a2aae4b005d0579a"
   },
   "source": []
  },
  {
   "cell_type": "markdown",
   "metadata": {
    "_uuid": "217a4a380aa5efccab34a00e85b6e25ce30bba97"
   },
   "source": [
    "We want to work with words as rows, so we have to transpose the matrix."
   ]
  },
  {
   "cell_type": "code",
   "execution_count": 42,
   "metadata": {
    "ExecuteTime": {
     "end_time": "2023-11-30T18:38:39.207065Z",
     "start_time": "2023-11-30T18:38:39.203076Z"
    },
    "_uuid": "c8a8c16e31047713add4ee91b83b05de85e77efe",
    "tags": []
   },
   "outputs": [],
   "source": [
    "import numpy as np\n",
    "import scipy.linalg as la"
   ]
  },
  {
   "cell_type": "code",
   "execution_count": 43,
   "metadata": {
    "ExecuteTime": {
     "end_time": "2023-11-30T18:38:39.786509Z",
     "start_time": "2023-11-30T18:38:39.781523Z"
    },
    "_uuid": "d29f87356b1eeea7458b202befad1fd8dc2fb5f6",
    "tags": []
   },
   "outputs": [],
   "source": [
    "full_corpus = full_corpus.T"
   ]
  },
  {
   "cell_type": "code",
   "execution_count": 44,
   "metadata": {
    "ExecuteTime": {
     "end_time": "2023-11-30T18:41:02.567301Z",
     "start_time": "2023-11-30T18:38:40.316112Z"
    },
    "_uuid": "bcc6b5d4904114c6f61ca4b941192598c40d6c99",
    "tags": []
   },
   "outputs": [],
   "source": [
    "U, s, Vt = la.svd(full_corpus)"
   ]
  },
  {
   "cell_type": "code",
   "execution_count": 45,
   "metadata": {
    "ExecuteTime": {
     "end_time": "2023-11-30T18:41:02.586906Z",
     "start_time": "2023-11-30T18:41:02.573052Z"
    },
    "_uuid": "784c0dfb25f526a8b47943f0aeeb597370d7a44d",
    "tags": []
   },
   "outputs": [
    {
     "name": "stdout",
     "output_type": "stream",
     "text": [
      "(15578, 15578) (2550,) (2550, 2550)\n"
     ]
    }
   ],
   "source": [
    "print(U.shape, s.shape, Vt.shape)"
   ]
  },
  {
   "cell_type": "markdown",
   "metadata": {
    "_uuid": "8755024bd90d5c3d64f09cb3c98bcabaad550956"
   },
   "source": [
    "Now we can choose how many singular values (s) we will take to approximate an original matrix."
   ]
  },
  {
   "cell_type": "code",
   "execution_count": 46,
   "metadata": {
    "ExecuteTime": {
     "end_time": "2023-11-30T18:41:03.968509Z",
     "start_time": "2023-11-30T18:41:02.591914Z"
    },
    "_uuid": "21c76a0b1229c67f54bb1b258c427eae6e8d7502",
    "tags": []
   },
   "outputs": [],
   "source": [
    "import matplotlib\n",
    "import matplotlib.pyplot as plt\n",
    "%matplotlib inline"
   ]
  },
  {
   "cell_type": "code",
   "execution_count": 43,
   "metadata": {
    "ExecuteTime": {
     "end_time": "2023-11-30T18:41:04.236113Z",
     "start_time": "2023-11-30T18:41:03.972499Z"
    },
    "_uuid": "5b072bae8d1e4d2fd4e577deda6dd7445a746b0d"
   },
   "outputs": [
    {
     "data": {
      "text/plain": [
       "[<matplotlib.lines.Line2D at 0x1f56ed27ee0>]"
      ]
     },
     "execution_count": 43,
     "metadata": {},
     "output_type": "execute_result"
    },
    {
     "data": {
      "image/png": "[encoded data removed]",
      "text/plain": [
       "<Figure size 1152x720 with 1 Axes>"
      ]
     },
     "metadata": {
      "needs_background": "light"
     },
     "output_type": "display_data"
    }
   ],
   "source": [
    "plt.figure(figsize=(16,10))\n",
    "plt.plot(np.arange(1, s.shape[0] + 1), s, label=\"singular values\")"
   ]
  },
  {
   "cell_type": "code",
   "execution_count": 44,
   "metadata": {
    "ExecuteTime": {
     "end_time": "2023-11-30T18:41:04.251588Z",
     "start_time": "2023-11-30T18:41:04.238020Z"
    },
    "_uuid": "dde44b1843aecd941cbc6528576b5c95df2a4d85"
   },
   "outputs": [],
   "source": [
    "rank_svd = 250\n",
    "\n",
    "U_trunced = U[:, :rank_svd]\n",
    "s_trunced = s[:rank_svd]\n",
    "Vt_trunced = Vt[:rank_svd, :]"
   ]
  },
  {
   "cell_type": "code",
   "execution_count": 45,
   "metadata": {
    "ExecuteTime": {
     "end_time": "2023-11-30T18:41:04.267360Z",
     "start_time": "2023-11-30T18:41:04.253398Z"
    },
    "_uuid": "220a3536a602131b275c124087c5e2c3ff330a1e"
   },
   "outputs": [
    {
     "name": "stdout",
     "output_type": "stream",
     "text": [
      "(15578, 250) (250,) (250, 2550)\n"
     ]
    }
   ],
   "source": [
    "print(U_trunced.shape, s_trunced.shape, Vt_trunced.shape)"
   ]
  },
  {
   "cell_type": "code",
   "execution_count": 46,
   "metadata": {
    "ExecuteTime": {
     "end_time": "2023-11-30T18:41:04.657998Z",
     "start_time": "2023-11-30T18:41:04.269356Z"
    },
    "_uuid": "1fe5c8423163373df82beeeb1b97bd4083a06967"
   },
   "outputs": [],
   "source": [
    "corpus_lsa = U_trunced.dot(np.diag(s_trunced)).dot(Vt_trunced)"
   ]
  },
  {
   "cell_type": "code",
   "execution_count": 47,
   "metadata": {
    "ExecuteTime": {
     "end_time": "2023-11-30T18:41:04.672960Z",
     "start_time": "2023-11-30T18:41:04.660992Z"
    },
    "_uuid": "b7dc108251403c1e4286f414585146adbe2119f9"
   },
   "outputs": [
    {
     "data": {
      "text/plain": [
       "(15578, 2550)"
      ]
     },
     "execution_count": 47,
     "metadata": {},
     "output_type": "execute_result"
    }
   ],
   "source": [
    "corpus_lsa.shape"
   ]
  },
  {
   "cell_type": "code",
   "execution_count": 48,
   "metadata": {
    "ExecuteTime": {
     "end_time": "2023-11-30T18:41:04.704530Z",
     "start_time": "2023-11-30T18:41:04.676951Z"
    },
    "_uuid": "b391f7091a8d198747e32d396a729da1f3780b2b"
   },
   "outputs": [
    {
     "data": {
      "text/plain": [
       "array([ 1.03995075,  0.01802104,  0.03189391, ..., -0.01736051,\n",
       "       -0.03181163, -0.09552215])"
      ]
     },
     "execution_count": 48,
     "metadata": {},
     "output_type": "execute_result"
    }
   ],
   "source": [
    "corpus_lsa[0]"
   ]
  },
  {
   "cell_type": "markdown",
   "metadata": {
    "_uuid": "34dc631c6901fba0b084c2dd8b7e2d01212e5e31"
   },
   "source": [
    "Here you can run experiments on word similarity measurement."
   ]
  },
  {
   "cell_type": "code",
   "execution_count": 49,
   "metadata": {
    "ExecuteTime": {
     "end_time": "2023-11-30T18:41:04.719834Z",
     "start_time": "2023-11-30T18:41:04.710859Z"
    },
    "_uuid": "913cde9e37e6d6754c10728837cdcb11f48e5b93"
   },
   "outputs": [],
   "source": [
    "corpus_lsa = corpus_lsa.T"
   ]
  },
  {
   "cell_type": "code",
   "execution_count": 50,
   "metadata": {
    "ExecuteTime": {
     "end_time": "2023-11-30T18:41:05.393330Z",
     "start_time": "2023-11-30T18:41:04.722826Z"
    },
    "_uuid": "12aba77c840974bad1d1df0cbc4cbcc9b3c61f4b"
   },
   "outputs": [],
   "source": [
    "index_lsa_bow = similarities.MatrixSimilarity(corpus_lsa, num_features=len(corpora_dict))"
   ]
  },
  {
   "cell_type": "code",
   "execution_count": 51,
   "metadata": {
    "ExecuteTime": {
     "end_time": "2023-11-30T18:41:05.423250Z",
     "start_time": "2023-11-30T18:41:05.396323Z"
    },
    "_uuid": "658136e4f37573e60f47fb61d4ddd59459df2765"
   },
   "outputs": [
    {
     "name": "stdout",
     "output_type": "stream",
     "text": [
      "healthy food\n",
      "\n",
      "Josette Sheeran, the head of the UN's World Food Program, talks about why, in a world with enough food for everyone, people still go hungry, still die of starvation, still use food as a weapon of war. Her vision: \"Food is one issue that cannot be solved person by person. We have to stand together.\" \t 2.3478331565856934\n",
      "\n",
      "We're headed towards a global food crisis: Nearly 3 billion people depend on the ocean for food, and at our current rate we already take more fish from the ocean than it can naturally replace. In this fact-packed, eye-opening talk, entrepreneur and conservationist Mike Velings proposes a solution: Aquaculture, or fish farming. \"We must start using the ocean as farmers instead of hunters,\" he says, echoing Jacques Cousteau. \"The day will come where people will demand farmed fish on their plates that's farmed well and farmed healthy -- and refuse anything less.\" \t 2.002673387527466\n",
      "\n",
      "What if we could grow delicious, nutrient-dense food, indoors anywhere in the world? Caleb Harper, director of the Open Agriculture Initiative at the MIT Media Lab, wants to change the food system by connecting growers with technology. Get to know Harper's \"food computers\" and catch a glimpse of what the future of farming might look like. \t 1.711147665977478\n",
      "\n",
      "What if you could know exactly how food or medication would impact your health -- before you put it in your body? Genomics researcher Jun Wang is working to develop digital doppelgangers for real people; they start with genetic code, but they'll also factor in other kinds of data as well, from food intake to sleep to data collected by a \"smart toilet.\" With all of this valuable information, Wang hopes to create an engine that will change the way we think about health, both on an individual level and as a collective. \t 1.3555715084075928\n",
      "\n",
      "If you've been in a restaurant kitchen, you've seen how much food, water and energy can be wasted there. Chef Arthur Potts-Dawson shares his very personal vision for drastically reducing restaurant, and supermarket, waste -- creating recycling, composting, sustainable engines for good (and good food). \t 1.2914543151855469\n",
      "\n"
     ]
    }
   ],
   "source": [
    "search(index_lsa_bow, \"healthy food\", prints=True)"
   ]
  },
  {
   "cell_type": "code",
   "execution_count": 71,
   "metadata": {
    "ExecuteTime": {
     "end_time": "2023-11-30T18:49:44.352756Z",
     "start_time": "2023-11-30T18:49:33.472072Z"
    },
    "_uuid": "3d9a8489c0a0353c73c98be060fe7b0379d6c254"
   },
   "outputs": [
    {
     "name": "stdout",
     "output_type": "stream",
     "text": [
      "Enter a search term: healthy food\n",
      "healthy food\n",
      "\n",
      "Josette Sheeran, the head of the UN's World Food Program, talks about why, in a world with enough food for everyone, people still go hungry, still die of starvation, still use food as a weapon of war. Her vision: \"Food is one issue that cannot be solved person by person. We have to stand together.\" \t 2.3478331565856934\n",
      "\n",
      "We're headed towards a global food crisis: Nearly 3 billion people depend on the ocean for food, and at our current rate we already take more fish from the ocean than it can naturally replace. In this fact-packed, eye-opening talk, entrepreneur and conservationist Mike Velings proposes a solution: Aquaculture, or fish farming. \"We must start using the ocean as farmers instead of hunters,\" he says, echoing Jacques Cousteau. \"The day will come where people will demand farmed fish on their plates that's farmed well and farmed healthy -- and refuse anything less.\" \t 2.002673387527466\n",
      "\n",
      "What if we could grow delicious, nutrient-dense food, indoors anywhere in the world? Caleb Harper, director of the Open Agriculture Initiative at the MIT Media Lab, wants to change the food system by connecting growers with technology. Get to know Harper's \"food computers\" and catch a glimpse of what the future of farming might look like. \t 1.711147665977478\n",
      "\n",
      "What if you could know exactly how food or medication would impact your health -- before you put it in your body? Genomics researcher Jun Wang is working to develop digital doppelgangers for real people; they start with genetic code, but they'll also factor in other kinds of data as well, from food intake to sleep to data collected by a \"smart toilet.\" With all of this valuable information, Wang hopes to create an engine that will change the way we think about health, both on an individual level and as a collective. \t 1.3555715084075928\n",
      "\n",
      "If you've been in a restaurant kitchen, you've seen how much food, water and energy can be wasted there. Chef Arthur Potts-Dawson shares his very personal vision for drastically reducing restaurant, and supermarket, waste -- creating recycling, composting, sustainable engines for good (and good food). \t 1.2914543151855469\n",
      "\n"
     ]
    }
   ],
   "source": [
    "user_input = input(\"Enter a search term: \")\n",
    "search(index_lsa_bow, user_input, prints=True)"
   ]
  },
  {
   "cell_type": "markdown",
   "metadata": {
    "_uuid": "56cc9843ff07527dde102c56b4676a514954afed"
   },
   "source": [
    "## LSI\n",
    "It is almost the same that we did in the previous section but this time we will used a built-in function."
   ]
  },
  {
   "cell_type": "code",
   "execution_count": 52,
   "metadata": {
    "ExecuteTime": {
     "end_time": "2023-11-30T18:41:05.438427Z",
     "start_time": "2023-11-30T18:41:05.426476Z"
    },
    "_uuid": "57a7810b1e4e650c81da7f7d4ab36e96dcd9a57c"
   },
   "outputs": [],
   "source": [
    "from gensim.models import LsiModel"
   ]
  },
  {
   "cell_type": "code",
   "execution_count": 53,
   "metadata": {
    "ExecuteTime": {
     "end_time": "2023-11-30T18:41:08.741221Z",
     "start_time": "2023-11-30T18:41:05.441203Z"
    },
    "_uuid": "ec820ff98f2bfc017f399e29f471b71221dbfc06"
   },
   "outputs": [],
   "source": [
    "model_lsi = LsiModel(corpus, id2word=corpora_dict.id2token, num_topics=rank_svd)"
   ]
  },
  {
   "cell_type": "code",
   "execution_count": 54,
   "metadata": {
    "ExecuteTime": {
     "end_time": "2023-11-30T18:41:08.772354Z",
     "start_time": "2023-11-30T18:41:08.744214Z"
    },
    "_uuid": "695231a77bdc5bddde79050b97a9bfd7c9d9704b"
   },
   "outputs": [
    {
     "data": {
      "text/plain": [
       "[(0,\n",
       "  '0.496*\",\" + 0.399*\"the\" + 0.362*\".\" + 0.294*\"and\" + 0.249*\"to\" + 0.249*\"of\" + 0.248*\"a\" + 0.177*\"in\" + 0.133*\"\\'\" + 0.104*\"-\"'),\n",
       " (1,\n",
       "  '0.747*\"the\" + -0.511*\",\" + 0.326*\"of\" + -0.185*\"a\" + -0.096*\"to\" + -0.057*\"and\" + -0.047*\"you\" + 0.046*\"world\" + -0.037*\"it\" + -0.033*\".\"'),\n",
       " (2,\n",
       "  '0.610*\",\" + -0.434*\"a\" + -0.423*\"to\" + -0.219*\"\\'\" + 0.202*\"the\" + -0.200*\".\" + -0.146*\"s\" + -0.138*\"it\" + -0.124*\"that\" + -0.085*\"you\"'),\n",
       " (3,\n",
       "  '0.667*\"a\" + -0.476*\"to\" + 0.380*\"of\" + -0.193*\"\\'\" + -0.187*\"we\" + -0.122*\"and\" + -0.093*\"s\" + 0.091*\"-\" + -0.090*\"the\" + -0.075*\"it\"'),\n",
       " (4,\n",
       "  '-0.773*\"and\" + 0.411*\"to\" + 0.256*\",\" + 0.207*\"the\" + -0.160*\"--\" + -0.134*\".\" + 0.133*\"a\" + -0.092*\"we\" + -0.065*\"\\'\" + -0.057*\"of\"')]"
      ]
     },
     "execution_count": 54,
     "metadata": {},
     "output_type": "execute_result"
    }
   ],
   "source": [
    "model_lsi.print_topics(5)"
   ]
  },
  {
   "cell_type": "code",
   "execution_count": 55,
   "metadata": {
    "ExecuteTime": {
     "end_time": "2023-11-30T18:41:08.928935Z",
     "start_time": "2023-11-30T18:41:08.775315Z"
    },
    "_uuid": "01451a8582d7a3a6a66a2f543c7fe3971e94a6d2"
   },
   "outputs": [
    {
     "name": "stdout",
     "output_type": "stream",
     "text": [
      "0 311.6703883126428 311.6703883126432 True\n",
      "1 82.94899425936731 82.94899426708986 True\n",
      "2 69.36921765072327 69.36921769710966 True\n",
      "3 66.90975051616148 66.90975056924222 True\n",
      "4 59.81155551131721 59.811555643567665 True\n",
      "5 56.78171889946999 56.78171918222426 True\n",
      "6 53.36609540012866 53.36609586356714 True\n",
      "7 50.137380640686004 50.137381330991296 True\n",
      "8 49.56390438671626 49.56390533763482 True\n",
      "9 48.25687804936494 48.25687902549712 True\n",
      "10 47.21979132797014 47.21979309810494 True\n",
      "11 45.364008716104465 45.36401024444081 True\n",
      "12 42.23883412834961 42.2388377105918 True\n",
      "13 39.165315322049736 39.16532145635363 True\n",
      "14 37.85028313111785 37.850290938387026 True\n",
      "15 37.45446090268479 37.45447118818266 True\n",
      "16 36.518755137850995 36.51876924988066 True\n",
      "17 35.07795791127512 35.07797338006836 True\n",
      "18 34.5755085709678 34.575527441122844 True\n",
      "19 32.77990913591005 32.77993280848549 True\n",
      "20 31.597164419502626 31.59721415475853 True\n",
      "21 30.766097467774998 30.76616001724742 True\n",
      "22 30.216258668156936 30.216312849564577 True\n",
      "23 30.137744231531077 30.137795801945707 True\n",
      "24 29.91785591643821 29.91792010106152 True\n",
      "25 29.2572151786127 29.257307043666998 True\n",
      "26 28.693207655155778 28.693333285685 True\n",
      "27 28.27226630488214 28.27237793165794 True\n",
      "28 27.550619460652268 27.55075772715733 True\n",
      "29 27.21671107200935 27.21685592076427 True\n",
      "30 26.62288355332845 26.62303610959093 True\n",
      "31 26.03708580548121 26.037364127472085 False\n",
      "32 25.783939421413162 25.78421225059116 False\n",
      "33 25.562193557927515 25.56250616886128 False\n",
      "34 25.44596539351992 25.44618506235762 True\n",
      "35 25.00380508285873 25.00421170726721 False\n",
      "36 24.76913015641362 24.76942764103203 False\n",
      "37 23.843712137471226 23.84417841085903 False\n",
      "38 23.752850300126635 23.753602341260933 False\n",
      "39 23.378309569704456 23.378965258656848 False\n",
      "40 23.0331160431285 23.033950729666287 False\n",
      "41 22.869321180127976 22.870072505851205 False\n",
      "42 22.14547767276215 22.146306771923886 False\n",
      "43 21.968801409812027 21.969769510392048 False\n",
      "44 21.70526989506575 21.706608751137484 False\n",
      "45 21.38518509354728 21.38653702254864 False\n",
      "46 21.230045142124624 21.231819949143787 False\n",
      "47 20.925671999556396 20.927153813745306 False\n",
      "48 20.59946484439674 20.601389857390426 False\n",
      "49 20.202869678457034 20.20505155452245 False\n",
      "50 20.085605971141714 20.08787630879341 False\n",
      "51 19.828187509556486 19.83093806360418 False\n",
      "52 19.75445011749285 19.757351751129317 False\n",
      "53 19.656794341245867 19.659538319620182 False\n",
      "54 19.448121514307868 19.450184572098834 False\n",
      "55 19.13699129648592 19.13998265440167 False\n",
      "56 19.048220576708765 19.052048984463898 False\n",
      "57 18.86501409645866 18.8691014212237 False\n",
      "58 18.700348499263466 18.704441404777235 False\n",
      "59 18.638756654354548 18.645297804705336 False\n",
      "60 18.51566260678165 18.52060843739803 False\n",
      "61 18.35760180125664 18.362526281384042 False\n",
      "62 18.145109215759483 18.150309064945823 False\n",
      "63 17.994950780521357 18.000721533439755 False\n",
      "64 17.85534893110993 17.862128636615143 False\n",
      "65 17.74872855212321 17.75620866712037 False\n",
      "66 17.43842946915706 17.44671056398333 False\n",
      "67 17.386925515628384 17.394345479686617 False\n",
      "68 17.32369266654055 17.331137657637004 False\n",
      "69 17.1563671098752 17.164499746460745 False\n",
      "70 17.039081506867035 17.04744838475095 False\n",
      "71 16.900354627630982 16.91063664110138 False\n",
      "72 16.807018158303677 16.81727003768944 False\n",
      "73 16.679373501679812 16.69162076362521 False\n",
      "74 16.656097209543173 16.666058684779788 False\n",
      "75 16.507053330502895 16.519942655427933 False\n",
      "76 16.403165688760275 16.417365382114134 False\n",
      "77 16.362033763216488 16.375116434790876 False\n",
      "78 16.306583677457994 16.318606755408414 False\n",
      "79 16.157515418987188 16.17003210404812 False\n",
      "80 16.04010720794629 16.056766110953944 False\n",
      "81 15.908790494229606 15.926009557455359 False\n",
      "82 15.836026207878177 15.854270064421987 False\n",
      "83 15.789210028725822 15.810268225941043 False\n",
      "84 15.648106559369653 15.663084912541462 False\n",
      "85 15.58459953689452 15.606552651310103 False\n",
      "86 15.444608126653277 15.46337646816395 False\n",
      "87 15.341724225139615 15.364413821814157 False\n",
      "88 15.336990762834015 15.351593876825074 False\n",
      "89 15.275717903958537 15.298884429139829 False\n",
      "90 15.191031877434863 15.20893697578292 False\n",
      "91 15.073991746861129 15.094247498875381 False\n",
      "92 15.020164369300108 15.043555465180777 False\n",
      "93 14.957408492305417 14.980871151508989 False\n",
      "94 14.83888608327016 14.858819588658772 False\n",
      "95 14.74641567587515 14.782895472995103 False\n",
      "96 14.685044130023702 14.704019849829539 False\n",
      "97 14.60173583795174 14.632559964472097 False\n",
      "98 14.537690374120354 14.570919549462408 False\n",
      "99 14.474711334251198 14.506922701876611 False\n",
      "100 14.441771307680842 14.47224152666212 False\n",
      "101 14.375518486577933 14.411385941875709 False\n",
      "102 14.293169705978872 14.330893409765448 False\n",
      "103 14.174371079002407 14.20787714541344 False\n",
      "104 14.142356274263674 14.179837417827267 False\n",
      "105 14.039853008676486 14.082147017790277 False\n",
      "106 13.980834618382891 14.023396320642005 False\n",
      "107 13.886888353831273 13.93563276011056 False\n",
      "108 13.83333076335034 13.873493887570199 False\n",
      "109 13.735711285890256 13.788437261830536 False\n",
      "110 13.70842311106083 13.758148620105134 False\n",
      "111 13.646505858264234 13.70339687699805 False\n",
      "112 13.582728999698048 13.648956180496143 False\n",
      "113 13.563666647397447 13.614027376962609 False\n",
      "114 13.440882972838482 13.501940209828026 False\n",
      "115 13.359176093606015 13.410614521950434 False\n",
      "116 13.314889649698612 13.386889801305362 False\n",
      "117 13.22604655690337 13.30534397550751 False\n",
      "118 13.193601522442505 13.242871537588481 False\n",
      "119 13.106353703629972 13.158779223500838 False\n",
      "120 13.063869976990286 13.127371117052716 False\n",
      "121 13.048438039613455 13.124249100801544 False\n",
      "122 13.010015780459304 13.09355889035585 False\n",
      "123 12.951362115449593 13.021386102415036 False\n",
      "124 12.913091554186236 12.981835365644615 False\n",
      "125 12.824203971417598 12.897757935226448 False\n",
      "126 12.74898461702615 12.858824464042913 False\n",
      "127 12.74117730524025 12.803571034628884 False\n",
      "128 12.702419902616798 12.774121462482178 False\n",
      "129 12.647629626302754 12.718988768234917 False\n",
      "130 12.60344262707115 12.679247112444385 False\n",
      "131 12.540536121578427 12.628901695448757 False\n",
      "132 12.525921044650573 12.615104741417346 False\n",
      "133 12.459958498324204 12.569456447439475 False\n",
      "134 12.448260525107278 12.527673443212677 False\n",
      "135 12.353132777583669 12.474681598993886 False\n",
      "136 12.336414493454825 12.414810693348977 False\n",
      "137 12.253047348005676 12.363566564891471 False\n",
      "138 12.252661307533375 12.342292328524374 False\n",
      "139 12.158998982073404 12.28069780716446 False\n",
      "140 12.148345503103995 12.251287707079548 False\n",
      "141 12.119293105148042 12.208479603498969 False\n",
      "142 12.081865352015898 12.192872012412284 False\n",
      "143 12.06388160393141 12.175688158046926 False\n",
      "144 12.036223200928859 12.151399967068482 False\n",
      "145 11.98844556852852 12.123604715237404 False\n",
      "146 11.93074515758266 12.065343120899456 False\n",
      "147 11.895579113323416 12.025124824852247 False\n",
      "148 11.879510893372823 12.005998661556127 False\n",
      "149 11.855980636457472 11.988638843795277 False\n",
      "150 11.8153324981033 11.943129124572932 False\n",
      "151 11.795121469756896 11.921352749742995 False\n",
      "152 11.775350859032375 11.915924728248976 False\n",
      "153 11.735719533476566 11.853682946514706 False\n",
      "154 11.675584617185406 11.836284337710163 False\n",
      "155 11.666620045026583 11.803915114782873 False\n",
      "156 11.624708652918518 11.773895474887798 False\n",
      "157 11.588821217158804 11.737268790080595 False\n",
      "158 11.572362243034549 11.702975701582208 False\n",
      "159 11.526293234395485 11.668379445307913 False\n",
      "160 11.500228056654228 11.641655692727495 False\n",
      "161 11.468667188788327 11.61663195049949 False\n",
      "162 11.427346246568105 11.604460012589403 False\n",
      "163 11.410160494083463 11.59825495030142 False\n",
      "164 11.398943342608783 11.559930355825605 False\n",
      "165 11.385920197656151 11.546812248363233 False\n",
      "166 11.351948834405565 11.520319212959347 False\n",
      "167 11.329199800635699 11.50772609890997 False\n",
      "168 11.292700834692733 11.477562781483547 False\n",
      "169 11.257230396760635 11.43718047124092 False\n",
      "170 11.242068582384556 11.41969856633983 False\n",
      "171 11.22541823320071 11.393865815816909 False\n",
      "172 11.16429700732462 11.36462315069141 False\n",
      "173 11.117332001483248 11.309532977675461 False\n",
      "174 11.093578836729908 11.274609916400376 False\n",
      "175 11.066140756147199 11.23695204863565 False\n",
      "176 11.04580564612023 11.228589660375807 False\n",
      "177 11.043931115730107 11.220347960261554 False\n",
      "178 11.009913297647428 11.199106878812856 False\n",
      "179 10.996961571367748 11.176921025271813 False\n",
      "180 10.948410957135756 11.133537155374803 False\n",
      "181 10.918861008770968 11.128330820306923 False\n",
      "182 10.912895142054495 11.114085550093384 False\n",
      "183 10.882880776898713 11.087464472801708 False\n",
      "184 10.86567214162663 11.0627998815355 False\n",
      "185 10.832571277338792 11.038364423453446 False\n",
      "186 10.772174018840762 10.994326749854963 False\n",
      "187 10.765853977377338 10.976547136656537 False\n",
      "188 10.741373552954215 10.957440475890943 False\n",
      "189 10.71634060332353 10.93532915731022 False\n",
      "190 10.681087971932971 10.926207211010288 False\n",
      "191 10.653236516869617 10.899381381075015 False\n",
      "192 10.640919408047507 10.870500073477224 False\n",
      "193 10.608064946875155 10.858907233826358 False\n",
      "194 10.58974588480718 10.841621628785454 False\n",
      "195 10.560998588896998 10.820076200151284 False\n",
      "196 10.540401874070998 10.803322854916242 False\n",
      "197 10.505015143164577 10.789789267409043 False\n",
      "198 10.502034208403831 10.759299919241487 False\n",
      "199 10.463368013800837 10.725639045047613 False\n",
      "200 10.447616566459892 10.705213683504502 False\n",
      "201 10.421867861957061 10.681739030120127 False\n",
      "202 10.401199197904207 10.66821076803415 False\n",
      "203 10.381363167976858 10.642690606787397 False\n",
      "204 10.336729862732135 10.62075197740169 False\n",
      "205 10.309122887585735 10.567272931562885 False\n",
      "206 10.290582447847246 10.559477272057675 False\n",
      "207 10.263117785517336 10.541511409609384 False\n",
      "208 10.242506557539432 10.521260604450159 False\n",
      "209 10.223224272081405 10.50212544367055 False\n",
      "210 10.218678748771012 10.482828535157351 False\n",
      "211 10.174450387244944 10.474639045220524 False\n",
      "212 10.13394321474987 10.461496739413043 False\n",
      "213 10.125874054929092 10.431674915217634 False\n",
      "214 10.105587011644756 10.413228031575978 False\n",
      "215 10.08096612780388 10.39784287406365 False\n",
      "216 10.055325026081572 10.384586320384702 False\n",
      "217 10.033348705086691 10.364535160975587 False\n",
      "218 10.020192406343075 10.328791414929727 False\n",
      "219 10.010286860905037 10.324939919312357 False\n",
      "220 9.997433241065949 10.313838884661363 False\n",
      "221 9.95927996653618 10.291474536341898 False\n",
      "222 9.94332793498272 10.272016866164034 False\n",
      "223 9.914182214167095 10.253367291003304 False\n",
      "224 9.899560835447524 10.228661861023511 False\n",
      "225 9.873789944535435 10.218931265457439 False\n",
      "226 9.850500472475026 10.201760258841151 False\n",
      "227 9.82917065402141 10.18417619445539 False\n",
      "228 9.81233232051574 10.167490588454228 False\n",
      "229 9.79703411599437 10.149352768206219 False\n",
      "230 9.778889201048468 10.142631281110027 False\n",
      "231 9.750866684091394 10.119384365639625 False\n",
      "232 9.74092340583308 10.095270127834892 False\n",
      "233 9.723236264498235 10.091952738474196 False\n",
      "234 9.697751331921427 10.061249183797841 False\n",
      "235 9.664321888170683 10.03694905147912 False\n",
      "236 9.646481114703843 10.025419027201169 False\n",
      "237 9.622091278441061 10.017295953443153 False\n",
      "238 9.606125035120613 10.00347411675552 False\n",
      "239 9.591190215083795 9.985028516248287 False\n",
      "240 9.570949632827645 9.956658363815022 False\n",
      "241 9.553491377352774 9.949513678121086 False\n",
      "242 9.541293121465369 9.937677757181673 False\n",
      "243 9.489208152244565 9.924425432331294 False\n",
      "244 9.459569727265569 9.8929959645003 False\n",
      "245 9.434978365972414 9.87853191916986 False\n",
      "246 9.411928433156207 9.868641481539946 False\n",
      "247 9.395339704964707 9.860562871868085 False\n",
      "248 9.383316385888852 9.841627599926142 False\n",
      "249 9.372672940616493 9.81335040078064 False\n"
     ]
    }
   ],
   "source": [
    "for i in range(rank_svd):\n",
    "    print(i, model_lsi.projection.s[i], s_trunced[i], np.allclose(model_lsi.projection.s[i], s_trunced[i]))"
   ]
  },
  {
   "cell_type": "code",
   "execution_count": 56,
   "metadata": {
    "ExecuteTime": {
     "end_time": "2023-11-30T18:41:08.944935Z",
     "start_time": "2023-11-30T18:41:08.930927Z"
    },
    "_uuid": "15e1af71966215d5fb63a92d0e16a1f090376b9f"
   },
   "outputs": [],
   "source": [
    "corpus_lsi = model_lsi[corpus]"
   ]
  },
  {
   "cell_type": "code",
   "execution_count": 57,
   "metadata": {
    "ExecuteTime": {
     "end_time": "2023-11-30T18:41:08.960849Z",
     "start_time": "2023-11-30T18:41:08.948399Z"
    },
    "_uuid": "255dec7509c583fbdaff2880d11c28cbd51b9f47"
   },
   "outputs": [
    {
     "data": {
      "text/plain": [
       "(2550, 250)"
      ]
     },
     "execution_count": 57,
     "metadata": {},
     "output_type": "execute_result"
    }
   ],
   "source": [
    "len(corpus_lsi), len(corpus_lsi[0])"
   ]
  },
  {
   "cell_type": "code",
   "execution_count": 58,
   "metadata": {
    "ExecuteTime": {
     "end_time": "2023-11-30T18:41:10.156790Z",
     "start_time": "2023-11-30T18:41:08.964807Z"
    },
    "_uuid": "a6862a26bb8eadc526ba24d39758151ea2cdeaa4"
   },
   "outputs": [],
   "source": [
    "index_lsi_bow = similarities.MatrixSimilarity(corpus_lsi, num_features=len(corpora_dict))"
   ]
  },
  {
   "cell_type": "code",
   "execution_count": 59,
   "metadata": {
    "ExecuteTime": {
     "end_time": "2023-11-30T18:41:10.186661Z",
     "start_time": "2023-11-30T18:41:10.158794Z"
    },
    "_uuid": "131a11c78fe84f9642ae715335d65f518077de31"
   },
   "outputs": [
    {
     "name": "stdout",
     "output_type": "stream",
     "text": [
      "education system\n",
      "\n",
      "You might have a 5-year plan, but what about a 200-year plan? Artist Raghava KK has set his eyes on an ultra-long-term horizon; at TEDxSummit, he shows how it helps guide today's choices and tomorrow's goals -- and encourages you to make your own 200-year plan too. \t 0.3953537344932556\n",
      "\n",
      "At a TEDx event, 11-year-old Birke Baehr presents his take on a major source of our food -- far-away and less-than-picturesque industrial farms. Keeping farms out of sight promotes a rosy, unreal picture of big-box agriculture, he argues, as he outlines the case to green and localize food production. \t 0.3906412124633789\n",
      "\n",
      "Jeff Han shows off a cheap, scalable multi-touch and pressure-sensitive computer screen interface that may spell the end of point-and-click. \t 0.36659711599349976\n",
      "\n",
      "Minority Report science adviser and inventor John Underkoffler demos g-speak -- the real-life version of the film's eye-popping, tai chi-meets-cyberspace computer interface. Is this how tomorrow's computers will be controlled? \t 0.3660126030445099\n",
      "\n",
      "What keeps us happy and healthy as we go through life? If you think it's fame and money, you're not alone – but, according to psychiatrist Robert Waldinger, you're mistaken. As the director of a 75-year-old study on adult development, Waldinger has unprecedented access to data on true happiness and satisfaction. In this talk, he shares three important lessons learned from the study as well as some practical, old-as-the-hills wisdom on how to build a fulfilling, long life. \t 0.3505253195762634\n",
      "\n"
     ]
    }
   ],
   "source": [
    "search(index_lsi_bow, \"education system\", prints=True)"
   ]
  },
  {
   "cell_type": "code",
   "execution_count": 60,
   "metadata": {
    "ExecuteTime": {
     "end_time": "2023-11-30T18:41:10.201589Z",
     "start_time": "2023-11-30T18:41:10.188982Z"
    },
    "_uuid": "002ef628ad082b8547192516c1ff48d1ab62694f"
   },
   "outputs": [
    {
     "name": "stdout",
     "output_type": "stream",
     "text": [
      "healthy food\n",
      "\n",
      "Sir Ken Robinson makes an entertaining and profoundly moving case for creating an education system that nurtures (rather than undermines) creativity. \t 0.0\n",
      "\n",
      "With the same humor and humanity he exuded in \"An Inconvenient Truth,\" Al Gore spells out 15 ways that individuals can address climate change immediately, from buying a hybrid to inventing a new, hotter brand name for global warming. \t 0.0\n",
      "\n",
      "New York Times columnist David Pogue takes aim at technology’s worst interface-design offenders, and provides encouraging examples of products that get it right. To funny things up, he bursts into song. \t 0.0\n",
      "\n",
      "In an emotionally charged talk, MacArthur-winning activist Majora Carter details her fight for environmental justice in the South Bronx -- and shows how minority neighborhoods suffer most from flawed urban policy. \t 0.0\n",
      "\n",
      "You've never seen data presented like this. With the drama and urgency of a sportscaster, statistics guru Hans Rosling debunks myths about the so-called \"developing world.\" \t 0.0\n",
      "\n"
     ]
    }
   ],
   "source": [
    "search(index_lsi_bow, \"healthy food\", prints=True)"
   ]
  },
  {
   "cell_type": "code",
   "execution_count": 70,
   "metadata": {
    "ExecuteTime": {
     "end_time": "2023-11-30T18:46:07.504385Z",
     "start_time": "2023-11-30T18:45:56.864806Z"
    }
   },
   "outputs": [
    {
     "name": "stdout",
     "output_type": "stream",
     "text": [
      "Enter a search term: TedX event and education system\n",
      "TedX event and education system\n",
      "\n",
      "Massimo Banzi helped invent the Arduino, a tiny, easy-to-use open-source microcontroller that's inspired thousands of people around the world to make the coolest things they can imagine -- from toys to satellite gear. Because, as he says, \"You don't need anyone's permission to make something great.\" \t 0.3277713656425476\n",
      "\n",
      "Keith Bellows gleefully outlines the engineering marvels of the camel, a vital creature he calls \"the SUV of the desert.\" Though he couldn't bring a live camel to TED, he gets his camera crew as close as humanly possible to a one-ton beast in full rut. \t 0.26872217655181885\n",
      "\n",
      "Designer Yves Behar digs up his creative roots to discuss some of the iconic objects he's created (the Leaf lamp, the Jawbone headset). Then he turns to the witty, surprising, elegant objects he's working on now -- including the \"$100 laptop.\" \t 0.2596761882305145\n",
      "\n",
      "Ed Ulbrich, the digital-effects guru from Digital Domain, explains the Oscar-winning technology that allowed his team to digitally create the older versions of Brad Pitt's face for \"The Curious Case of Benjamin Button.\" \t 0.25903648138046265\n",
      "\n",
      "Raised listening to his dad's old records, Joey Alexander plays a brand of sharp, modern piano jazz that you likely wouldn't expect to hear from a pre-teenager. Listen as the 11-year-old delights the TED crowd with his very special performance of a Thelonious Monk classic. \t 0.25389841198921204\n",
      "\n"
     ]
    }
   ],
   "source": [
    "user_input = input(\"Enter a search term: \")\n",
    "search(index_lsi_bow, user_input, prints=True)"
   ]
  },
  {
   "cell_type": "code",
   "execution_count": null,
   "metadata": {},
   "outputs": [],
   "source": []
  }
 ],
 "metadata": {
  "kaggle": {
   "accelerator": "none",
   "dataSources": [
    {
     "datasetId": 2405,
     "sourceId": 4437,
     "sourceType": "datasetVersion"
    }
   ],
   "dockerImageVersionId": 12783,
   "isGpuEnabled": false,
   "isInternetEnabled": false,
   "language": "python",
   "sourceType": "notebook"
  },
  "kernelspec": {
   "display_name": "Python 3 (ipykernel)",
   "language": "python",
   "name": "python3"
  },
  "language_info": {
   "codemirror_mode": {
    "name": "ipython",
    "version": 3
   },
   "file_extension": ".py",
   "mimetype": "text/x-python",
   "name": "python",
   "nbconvert_exporter": "python",
   "pygments_lexer": "ipython3",
   "version": "3.11.5"
  }
 },
 "nbformat": 4,
 "nbformat_minor": 4
}
